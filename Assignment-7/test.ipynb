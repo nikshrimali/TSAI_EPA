{
 "metadata": {
  "language_info": {
   "codemirror_mode": {
    "name": "ipython",
    "version": 3
   },
   "file_extension": ".py",
   "mimetype": "text/x-python",
   "name": "python",
   "nbconvert_exporter": "python",
   "pygments_lexer": "ipython3",
   "version": "3.7.6-final"
  },
  "orig_nbformat": 2,
  "kernelspec": {
   "name": "python3",
   "display_name": "Python 3"
  }
 },
 "nbformat": 4,
 "nbformat_minor": 2,
 "cells": [
  {
   "cell_type": "code",
   "execution_count": 84,
   "metadata": {},
   "outputs": [],
   "source": [
    "fibb_nos = [0, 1, 2, 3, 5, 8, 21, 34, 55, 89, 144, 233,377, 610, 987, 1597, 2584, 4181, 6765]"
   ]
  },
  {
   "cell_type": "code",
   "execution_count": 136,
   "metadata": {},
   "outputs": [
    {
     "output_type": "execute_result",
     "data": {
      "text/plain": "[5, 9, 13]"
     },
     "metadata": {},
     "execution_count": 136
    }
   ],
   "source": [
    "l1 = [1,2,3,4,5,6]\n",
    "l2 = [2,3,4,5,6,7]\n",
    "def add_even_odd_list(l1,l2):\n",
    "    '''adds 2 iterables a and b such that a is even and b is odd'''\n",
    "    return [a+b for a,b in zip(l1,l2) if a%2==0 and b%2!=0]\n",
    "\n",
    "add_even_odd_list(l1,l2)"
   ]
  },
  {
   "cell_type": "code",
   "execution_count": 149,
   "metadata": {},
   "outputs": [],
   "source": [
    "def strip_vowels(input_str):\n",
    "    '''strips every vowel from a string provided'''\n",
    "    vowels = ['a', 'e', 'i', 'o', ]\n",
    "    return ''.join(list(filter(lambda x: x not in vowels, input_str)))\n",
    "def test_stripvowels():\n",
    "    assert strip_vowels('tsai') =='ts'\n",
    "\n",
    "test_stripvowels()"
   ]
  },
  {
   "cell_type": "code",
   "execution_count": 156,
   "metadata": {},
   "outputs": [
    {
     "output_type": "error",
     "ename": "SyntaxError",
     "evalue": "invalid syntax (<ipython-input-156-50311db3e3de>, line 2)",
     "traceback": [
      "\u001b[1;36m  File \u001b[1;32m\"<ipython-input-156-50311db3e3de>\"\u001b[1;36m, line \u001b[1;32m2\u001b[0m\n\u001b[1;33m    reduce(lambda a,b:a+b if a%2==0, range(5))\u001b[0m\n\u001b[1;37m                                   ^\u001b[0m\n\u001b[1;31mSyntaxError\u001b[0m\u001b[1;31m:\u001b[0m invalid syntax\n"
     ]
    }
   ],
   "source": [
    "from functools import reduce\n",
    "# reduce(lambda a,b:a+b if a%2==0, range(5))"
   ]
  },
  {
   "cell_type": "code",
   "execution_count": 134,
   "metadata": {},
   "outputs": [
    {
     "output_type": "execute_result",
     "data": {
      "text/plain": "False"
     },
     "metadata": {},
     "execution_count": 134
    }
   ],
   "source": [
    "# Concepts of Partial functions\n",
    "def check_fibb(t):\n",
    "    '''A function using only list filter lambda that can tell whether a number is a Fibonacci number or not Using a pre-calculated list to store fab numbers till 10000'''\n",
    "    return list(filter(lambda x: x in fibb_nos, (t,))).count(t) > 0\n",
    "\n",
    "check_fibb(378)\n"
   ]
  },
  {
   "cell_type": "code",
   "execution_count": 118,
   "metadata": {},
   "outputs": [
    {
     "output_type": "execute_result",
     "data": {
      "text/plain": "(2,)"
     },
     "metadata": {},
     "execution_count": 118
    }
   ],
   "source": [
    "(2,)"
   ]
  },
  {
   "cell_type": "code",
   "execution_count": null,
   "metadata": {},
   "outputs": [],
   "source": [
    "'''Using list comprehension (and zip/lambda/etc if required) write an expression that: PTS:100\n",
    "add 2 iterables a and b such that a is even and b is odd'''\n",
    "\n",
    "# get the position of the numbers and if the position is even/odd then add - getattribute\n",
    "\n"
   ]
  },
  {
   "cell_type": "code",
   "execution_count": 66,
   "metadata": {
    "tags": []
   },
   "outputs": [
    {
     "output_type": "stream",
     "name": "stdout",
     "text": "[0, 3, 4, 5]\n"
    }
   ],
   "source": [
    "\n",
    "'''acts like a ReLU function for a 1D array'''\n",
    "l = [0,-1,-2,3,4,5]\n",
    "l = [x for x in l if x >= 0]\n",
    "print(l)\n",
    "\n",
    "'''Sigmoid Function'''\n",
    "[math.log(x) for x in l]\n",
    "\n",
    "'''Shifts all the characters by 5"
   ]
  },
  {
   "cell_type": "code",
   "execution_count": null,
   "metadata": {},
   "outputs": [],
   "source": []
  },
  {
   "cell_type": "code",
   "execution_count": 67,
   "metadata": {},
   "outputs": [
    {
     "output_type": "execute_result",
     "data": {
      "text/plain": "[102, 103, 104]"
     },
     "metadata": {},
     "execution_count": 67
    }
   ],
   "source": [
    "s = 'abc'\n",
    "[ord(n)+5 for n in s] # Boundary condition but also conversion"
   ]
  },
  {
   "cell_type": "code",
   "execution_count": 77,
   "metadata": {},
   "outputs": [],
   "source": [
    "import pandas as pd\n",
    "a = pd.read_csv(r'https://github.com/RobertJGabriel/Google-profanity-words/blob/master/list.txt',sep= '\\n')"
   ]
  },
  {
   "cell_type": "code",
   "execution_count": 82,
   "metadata": {},
   "outputs": [
    {
     "output_type": "display_data",
     "data": {
      "text/plain": "                                     <!DOCTYPE html>\n0                                   <html lang=\"en\">\n1                                             <head>\n2                             <meta charset=\"utf-8\">\n3    <link rel=\"dns-prefetch\" href=\"https://githu...\n4    <link rel=\"dns-prefetch\" href=\"https://avata...\n5    <link rel=\"dns-prefetch\" href=\"https://avata...\n6    <link rel=\"dns-prefetch\" href=\"https://avata...\n7    <link rel=\"dns-prefetch\" href=\"https://avata...\n8    <link rel=\"dns-prefetch\" href=\"https://githu...\n9    <link rel=\"dns-prefetch\" href=\"https://user-...",
      "text/html": "<div>\n<style scoped>\n    .dataframe tbody tr th:only-of-type {\n        vertical-align: middle;\n    }\n\n    .dataframe tbody tr th {\n        vertical-align: top;\n    }\n\n    .dataframe thead th {\n        text-align: right;\n    }\n</style>\n<table border=\"1\" class=\"dataframe\">\n  <thead>\n    <tr style=\"text-align: right;\">\n      <th></th>\n      <th>&lt;!DOCTYPE html&gt;</th>\n    </tr>\n  </thead>\n  <tbody>\n    <tr>\n      <th>0</th>\n      <td>&lt;html lang=\"en\"&gt;</td>\n    </tr>\n    <tr>\n      <th>1</th>\n      <td>&lt;head&gt;</td>\n    </tr>\n    <tr>\n      <th>2</th>\n      <td>&lt;meta charset=\"utf-8\"&gt;</td>\n    </tr>\n    <tr>\n      <th>3</th>\n      <td>&lt;link rel=\"dns-prefetch\" href=\"https://githu...</td>\n    </tr>\n    <tr>\n      <th>4</th>\n      <td>&lt;link rel=\"dns-prefetch\" href=\"https://avata...</td>\n    </tr>\n    <tr>\n      <th>5</th>\n      <td>&lt;link rel=\"dns-prefetch\" href=\"https://avata...</td>\n    </tr>\n    <tr>\n      <th>6</th>\n      <td>&lt;link rel=\"dns-prefetch\" href=\"https://avata...</td>\n    </tr>\n    <tr>\n      <th>7</th>\n      <td>&lt;link rel=\"dns-prefetch\" href=\"https://avata...</td>\n    </tr>\n    <tr>\n      <th>8</th>\n      <td>&lt;link rel=\"dns-prefetch\" href=\"https://githu...</td>\n    </tr>\n    <tr>\n      <th>9</th>\n      <td>&lt;link rel=\"dns-prefetch\" href=\"https://user-...</td>\n    </tr>\n  </tbody>\n</table>\n</div>"
     },
     "metadata": {}
    }
   ],
   "source": [
    "display(a.head(10))"
   ]
  },
  {
   "cell_type": "code",
   "execution_count": null,
   "metadata": {},
   "outputs": [],
   "source": [
    "\n",
    "'''acts like a Sigmoid function for a 1D array'''\n",
    "l = [0,-1,-2,3,4,5]\n",
    "l = [x:-1 for x in l if x < 0]\n",
    "print(l)\n",
    "\n",
    "'''strips every vowel from a string provided (tsai>>t s)'''\n",
    "vowel = ['a', 'e', 'i', 'o', 'u']"
   ]
  },
  {
   "cell_type": "code",
   "execution_count": 44,
   "metadata": {},
   "outputs": [
    {
     "output_type": "execute_result",
     "data": {
      "text/plain": "45"
     },
     "metadata": {},
     "execution_count": 44
    }
   ],
   "source": [
    "from functools import reduce\n",
    "l = [0,1,2,3,4,5,6,7,8,9]\n",
    "reduce(lambda x,y: operator.getitem(l,x)+y if , [0,1,2,3,4,5,6,7,8,9])"
   ]
  },
  {
   "cell_type": "code",
   "execution_count": 47,
   "metadata": {},
   "outputs": [
    {
     "output_type": "execute_result",
     "data": {
      "text/plain": "1"
     },
     "metadata": {},
     "execution_count": 47
    }
   ],
   "source": [
    "import operator\n",
    "operator.getitem(l,1)"
   ]
  },
  {
   "cell_type": "code",
   "execution_count": null,
   "metadata": {},
   "outputs": [],
   "source": [
    "'''find the biggest character in a string (printable ascii characters)'''"
   ]
  },
  {
   "cell_type": "code",
   "execution_count": null,
   "metadata": {},
   "outputs": [],
   "source": [
    "'''adds every 3rd number in a list'''"
   ]
  },
  {
   "cell_type": "code",
   "execution_count": null,
   "metadata": {},
   "outputs": [],
   "source": [
    "'''Using randint, random.choice and list comprehensions, write an expression that generates 15 random KADDAADDDD number plates, where KA is fixed, D stands for a digit, and A stands for Capital alphabets. 10<<DD<<99 & 1000<<DDDD<<9999 PTS:100'''"
   ]
  },
  {
   "cell_type": "code",
   "execution_count": null,
   "metadata": {},
   "outputs": [],
   "source": [
    "'''Write the above again from scratch where KA can be changed to DL, and 1000/9999 ranges can be provided. Now use a partial function such that 1000/9999 are hardcoded, but KA can be provided PTS:100'''"
   ]
  },
  {
   "cell_type": "code",
   "execution_count": 33,
   "metadata": {},
   "outputs": [
    {
     "output_type": "execute_result",
     "data": {
      "text/plain": "5"
     },
     "metadata": {},
     "execution_count": 33
    }
   ],
   "source": []
  }
 ]
}