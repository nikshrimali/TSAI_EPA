{
 "metadata": {
  "language_info": {
   "codemirror_mode": {
    "name": "ipython",
    "version": 3
   },
   "file_extension": ".py",
   "mimetype": "text/x-python",
   "name": "python",
   "nbconvert_exporter": "python",
   "pygments_lexer": "ipython3",
   "version": "3.7.6-final"
  },
  "orig_nbformat": 2,
  "kernelspec": {
   "name": "python3",
   "display_name": "Python 3"
  }
 },
 "nbformat": 4,
 "nbformat_minor": 2,
 "cells": [
  {
   "cell_type": "code",
   "execution_count": 4,
   "metadata": {},
   "outputs": [],
   "source": [
    "fibb_nos = [0, 1, 2, 3, 5, 8, 21, 34, 55, 89, 144, 233,377, 610, 987, 1597, 2584, 4181, 6765]\n",
    "import random"
   ]
  },
  {
   "cell_type": "code",
   "execution_count": 5,
   "metadata": {
    "tags": []
   },
   "outputs": [
    {
     "output_type": "error",
     "ename": "NameError",
     "evalue": "name 'partial' is not defined",
     "traceback": [
      "\u001b[1;31m---------------------------------------------------------------------------\u001b[0m",
      "\u001b[1;31mNameError\u001b[0m                                 Traceback (most recent call last)",
      "\u001b[1;32m<ipython-input-5-f37020b29236>\u001b[0m in \u001b[0;36m<module>\u001b[1;34m\u001b[0m\n\u001b[0;32m     76\u001b[0m     \u001b[1;32mreturn\u001b[0m \u001b[0mf\u001b[0m\u001b[1;33m(\u001b[0m\u001b[0mstate_code\u001b[0m\u001b[1;33m)\u001b[0m\u001b[1;33m\u001b[0m\u001b[1;33m\u001b[0m\u001b[0m\n\u001b[0;32m     77\u001b[0m \u001b[1;33m\u001b[0m\u001b[0m\n\u001b[1;32m---> 78\u001b[1;33m \u001b[0mcall_partial_numplate\u001b[0m\u001b[1;33m(\u001b[0m\u001b[1;34m\"DL\"\u001b[0m\u001b[1;33m)\u001b[0m\u001b[1;33m\u001b[0m\u001b[1;33m\u001b[0m\u001b[0m\n\u001b[0m",
      "\u001b[1;32m<ipython-input-5-f37020b29236>\u001b[0m in \u001b[0;36mcall_partial_numplate\u001b[1;34m(state_code)\u001b[0m\n\u001b[0;32m     73\u001b[0m \u001b[1;33m\u001b[0m\u001b[0m\n\u001b[0;32m     74\u001b[0m \u001b[1;32mdef\u001b[0m \u001b[0mcall_partial_numplate\u001b[0m\u001b[1;33m(\u001b[0m\u001b[0mstate_code\u001b[0m\u001b[1;33m:\u001b[0m\u001b[0mstr\u001b[0m\u001b[1;33m)\u001b[0m\u001b[1;33m->\u001b[0m\u001b[0mlist\u001b[0m\u001b[1;33m:\u001b[0m\u001b[1;33m\u001b[0m\u001b[1;33m\u001b[0m\u001b[0m\n\u001b[1;32m---> 75\u001b[1;33m     \u001b[0mf\u001b[0m \u001b[1;33m=\u001b[0m \u001b[0mpartial\u001b[0m\u001b[1;33m(\u001b[0m\u001b[0mpartial_numplate\u001b[0m\u001b[1;33m,\u001b[0m \u001b[0mrange_start\u001b[0m\u001b[1;33m=\u001b[0m\u001b[1;36m1000\u001b[0m\u001b[1;33m,\u001b[0m \u001b[0mrange_end\u001b[0m\u001b[1;33m=\u001b[0m\u001b[1;36m9999\u001b[0m\u001b[1;33m)\u001b[0m\u001b[1;33m\u001b[0m\u001b[1;33m\u001b[0m\u001b[0m\n\u001b[0m\u001b[0;32m     76\u001b[0m     \u001b[1;32mreturn\u001b[0m \u001b[0mf\u001b[0m\u001b[1;33m(\u001b[0m\u001b[0mstate_code\u001b[0m\u001b[1;33m)\u001b[0m\u001b[1;33m\u001b[0m\u001b[1;33m\u001b[0m\u001b[0m\n\u001b[0;32m     77\u001b[0m \u001b[1;33m\u001b[0m\u001b[0m\n",
      "\u001b[1;31mNameError\u001b[0m: name 'partial' is not defined"
     ]
    }
   ],
   "source": [
    "l1 = [1,2,3,4,5,6]\n",
    "l2 = [2,3,4,5,6,7]\n",
    "def add_even_odd_list(l1,l2):\n",
    "    '''adds 2 iterables a and b such that a is even and b is odd'''\n",
    "    return [a+b for a,b in zip(l1,l2) if a%2==0 and b%2!=0]\n",
    "\n",
    "\n",
    "add_even_odd_list(l1,l2)\n",
    "\n",
    "def strip_vowels(input_str):\n",
    "    '''strips every vowel from a string provided'''\n",
    "    vowels = ['a', 'e', 'i', 'o', 'u', 'A', 'E', 'I', 'O', 'U' ]\n",
    "    return ''.join(list(filter(lambda x: x not in vowels, input_str)))\n",
    "def test_stripvowels():\n",
    "    assert strip_vowels('tsai') =='ts'\n",
    "\n",
    "test_stripvowels()\n",
    "\n",
    "# Concepts of Partial functions\n",
    "def check_fibb(t):\n",
    "    '''A function using only list filter lambda that can tell whether a number is a Fibonacci number or not Using a pre-calculated list to store fab numbers till 10000'''\n",
    "    return list(filter(lambda x: x in fibb_nos, (t,))).count(t) > 0\n",
    "\n",
    "check_fibb(378)\n",
    "\n",
    "\n",
    "def relu_list(input_list:list)->list:\n",
    "    '''acts like a ReLU function for a 1D array'''\n",
    "    return [(lambda x: x if x >= 0 else 0)(x) for x in input_list]\n",
    "    \n",
    "l = [0,-1,-2,3,4,5]\n",
    "relu_list(l)\n",
    "\n",
    "'''Shifts all the characters by 5'''\n",
    "\n",
    "from functools import reduce\n",
    "def getbiggestchar(test):\n",
    "    return reduce(lambda x,y: max(x,y), test)\n",
    "\n",
    "getbiggestchar(\"AacBa\")\n",
    "\n",
    "def sumevenchar(input_list):\n",
    "    '''adds only even numbers in a list'''\n",
    "    return reduce(lambda x,y:x+y, [x for x in input_list if x%2==0])\n",
    "\n",
    "sumevenchar([1,2,3,4,5,6])\n",
    "\n",
    "def add_third_element(input_list:list)->int:\n",
    "    '''adds every 3rd number in a list'''\n",
    "    return reduce(lambda x,y: x+y,[(lambda x:x if (input_list.index(x)+1)%3==0 else 0)(x) for x in input_list])\n",
    "input_list = [3,4,9,2,3,1]\n",
    "\n",
    "add_third_element(input_list)\n",
    "\n",
    "import math\n",
    "def get_sigmoid(input_list:list)->list:\n",
    "    '''acts like a sigmoid function for a 1D array'''\n",
    "    return [(lambda x: 1 if math.log(x) > 0.5 else 0)(x) for x in input_list]\n",
    "\n",
    "get_sigmoid([0.1111,1,2,3,4])\n",
    "\n",
    "\n",
    "def get_numplate()-> list:\n",
    "    '''Using randint, random.choice and list comprehensions, write an expression that generates 15 random KADDAADDDD number plates, where KA is fixed, D stands for a digit, and A stands for Capital alphabets. 10<<DD<<99 & 1000<<DDDD<<9999 PTS:100'''\n",
    "    return [(\"KA\")+ str(random.randint(10,99))+'-'+chr(ord('A')+(random.randint(0,25)))+chr(ord('A')+(random.randint(0,25)))+'-'+str(random.randint(1000,9999)) for _ in range(15)]\n",
    "\n",
    "get_numplate()\n",
    "\n",
    "def partial_numplate(st_code, range_start:int, range_end:int)-> list:\n",
    "    '''Write the above again from scratch where KA can be changed to DL, and 1000/9999 ranges can be provided. Now use a partial function such that 1000/9999 are hardcoded, but KA can be provided'''\n",
    "\n",
    "    return [st_code+ str(random.randint(10,99))+'-'+chr(ord('A')+(random.randint(0,25)))+chr(ord('A')+(random.randint(0,25)))+'-'+str(random.randint(range_start,range_end)) for _ in range(15)]\n",
    "\n",
    "def call_partial_numplate(state_code:str)->list:    \n",
    "    f = partial(partial_numplate, range_start=1000, range_end=9999)\n",
    "    return f(state_code)\n",
    "\n",
    "call_partial_numplate(\"DL\")"
   ]
  },
  {
   "cell_type": "code",
   "execution_count": 298,
   "metadata": {},
   "outputs": [],
   "source": [
    "l1 = [1,2,3,4,5,6]\n",
    "l2 = [2,3,4,5,6,7]\n",
    "\n",
    "add_even_odd_list(l1,l2)\n",
    "\n",
    "def generate_random_list(start, end, in_range):\n",
    "    '''Generates a random list of numbers as between start_index, end_index and range'''\n",
    "    list_gen = []\n",
    "    for _ in range(in_range):\n",
    "        rand_num = random.randint(start, end)\n",
    "        list_gen.append(rand_num)\n",
    "    return list_gen"
   ]
  },
  {
   "cell_type": "code",
   "execution_count": 305,
   "metadata": {},
   "outputs": [
    {
     "output_type": "execute_result",
     "data": {
      "text/plain": "[7, 4, 10, 4, 8, 5, 8, 7, 6, 7, 8, 3, 1, 7, 3, 1, 10, 8, 10, 5]"
     },
     "metadata": {},
     "execution_count": 305
    }
   ],
   "source": [
    "generate_random_list(start=1, end=10, in_range=20)"
   ]
  },
  {
   "cell_type": "code",
   "execution_count": 426,
   "metadata": {
    "tags": []
   },
   "outputs": [],
   "source": [
    "# Checks the addition of random lists\n",
    "\n",
    "def test_add_even_odd_list():\n",
    "    '''Checks implementation of adding 2 iterables a and b such that a is even and b is odd'''\n",
    "    for i in range(1000):\n",
    "        l1 = generate_random_list(start=1, end=10, in_range=20)\n",
    "        l2 = generate_random_list(start=1, end=10, in_range=20)\n",
    "        match_list = []\n",
    "\n",
    "        for i,j in zip(l1,l2):\n",
    "                if i%2==0 and j%2 !=0:\n",
    "                    match_list.append(i+j)\n",
    "        # print('match_list',match_list)\n",
    "        # print('Add_even_odd',add_even_odd_list(l1,l2))\n",
    "\n",
    "        assert match_list == add_even_odd_list(l1,l2), 'Even odd list is not working fine'\n",
    "\n",
    "test_add_even_odd_list()\n",
    "\n",
    "def test_strip_vowels():\n",
    "    '''strips every vowel from a string provided'''\n",
    "    for i in range(1000):\n",
    "        rand_list = (generate_random_list(start=97, end=120, in_range=5))\n",
    "        rand_str = [chr(x) for x in rand_list]\n",
    "        vowels = ['a', 'e', 'i', 'o', 'u', 'A', 'E', 'I', 'O', 'U' ]\n",
    "        non_vowels = []\n",
    "        for i in rand_str:\n",
    "            if i not in vowels:\n",
    "                non_vowels.append(i)\n",
    "\n",
    "        assert strip_vowels(rand_str) == ''.join(non_vowels), \"Strip vowels not working fine\"\n",
    "\n",
    "test_strip_vowels()\n",
    "\n",
    "# check_fibb\n",
    "def test_check_fibb():\n",
    "    for i in range(1000):\n",
    "        rand_int = random.randint(0,1000)\n",
    "        fibb_list = False\n",
    "        if rand_int in fibb_nos:\n",
    "            fibb_list = True\n",
    "\n",
    "        assert check_fibb(rand_int) == fibb_list, \"Check Fibbonacci is working fine\"\n",
    "\n",
    "test_check_fibb()\n",
    "\n",
    "def test_relu_list():\n",
    "    '''Checks implementation of adding 2 iterables a and b such that a is even and b is odd'''\n",
    "    for i in range(1000):\n",
    "        l1 = generate_random_list(start=-10, end=10, in_range=20)\n",
    "\n",
    "        match_list = l1\n",
    "\n",
    "        for index,i in enumerate(l1):\n",
    "                if i<0:\n",
    "                    l1[index] = 0\n",
    "\n",
    "        assert l1 == relu_list(match_list), 'Even odd list is not working fine'\n",
    "\n",
    "test_relu_list()\n",
    "\n",
    "def test_get_sigmoid():\n",
    "    '''Checks implementation of adding 2 iterables a and b such that a is even and b is odd'''\n",
    "    for i in range(1000):\n",
    "        l1 = generate_random_list(start=-10, end=10, in_range=20)\n",
    "        match_list = l1\n",
    "\n",
    "        for index,i in enumerate(l1):\n",
    "\n",
    "                if math.log(i) > 0.5:\n",
    "                    l1[index] = 1\n",
    "                else:\n",
    "                    l1[index] = 0\n",
    "\n",
    "        assert l1 == get_sigmoid(match_list), 'Even odd list is not working fine'\n",
    "\n",
    "test_get_sigmoid()\n",
    "\n",
    "def test_getbiggestchar():\n",
    "    '''Checks implementation of adding 2 iterables a and b such that a is even and b is odd'''\n",
    "    for i in range(1000):\n",
    "        l1 = (generate_random_list(start=97, end=120, in_range=5))\n",
    "        rand_str = [chr(x) for x in l1]\n",
    "        assert chr(sorted(l1,reverse=True)[0]) == getbiggestchar(rand_str)\n",
    "\n",
    "test_getbiggestchar()\n",
    "\n",
    "def test_sumevenchar():\n",
    "    '''adds only even numbers in a list'''\n",
    "    for i in range(1000):\n",
    "        even_sum = 0\n",
    "        l1 = generate_random_list(start=-10, end=10, in_range=20)\n",
    "        for i in l1:\n",
    "            if i%2==0:\n",
    "                even_sum += i\n",
    "        \n",
    "        assert even_sum == sumevenchar(l1)\n",
    "\n",
    "\n",
    "test_sumevenchar()\n",
    "\n",
    "def test_add_third_element()->int:\n",
    "    '''adds every 3rd number in a list'''\n",
    "    for i in range(1000):\n",
    "        third_element_sum = 0\n",
    "        l1 = generate_random_list(start=-10, end=10, in_range=20)\n",
    "        for i in l1:\n",
    "            if (l1.index(i)+1)%3==0:\n",
    "                third_element_sum += i\n",
    "            \n",
    "        \n",
    "        assert third_element_sum == add_third_element(l1)\n",
    "\n",
    "\n",
    "test_add_third_element()\n",
    "\n",
    "def test_get_numplate():\n",
    "    num_plate_list = get_numplate()\n",
    "    assert len(num_plate_list) == 15, \"15 Number plates should be generated\"\n",
    "    for i in num_plate_list:\n",
    "        # Checks it starts with KA\n",
    "        assert 'KA' in str(i)\n",
    "        # Checks the capital letters\n",
    "        assert ([True for x in [ord(x) for x in (i.split('-')[1])] if (x>64 and x <91)].count(True)==2)\n",
    "        # Checks the end numbers are between 1000 and 9999\n",
    "        assert int(i.split('-')[2]) < 9999 and int(i.split('-')[2]) > 1000\n",
    "\n",
    "test_get_numplate()\n",
    "\n",
    "def test_call_partial_numplate():\n",
    "    state_code = \"RJ\"\n",
    "    num_plate_list = call_partial_numplate(\"RJ\")\n",
    "    assert len(num_plate_list) == 15\n",
    "    for i in num_plate_list:\n",
    "        # Checks it starts with KA\n",
    "        assert state_code in str(i), \"Error in state code match\"\n",
    "        # Checks the capital letters\n",
    "        assert ([True for x in [ord(x) for x in (i.split('-')[1])] if (x>64 and x <91)].count(True)==2)\n",
    "        # Checks the end numbers are between 1000 and 9999\n",
    "        assert int(i.split('-')[2]) < 9999 and int(i.split('-')[2]) > 1000\n",
    "\n",
    "test_get_numplate()\n"
   ]
  },
  {
   "cell_type": "code",
   "execution_count": 522,
   "metadata": {
    "tags": []
   },
   "outputs": [],
   "source": [
    "# relu_list\n",
    "\n",
    "def test_call_partial_numplate():\n",
    "    state_code = \"RJ\"\n",
    "    num_plate_list = call_partial_numplate(\"RJ\")\n",
    "    assert len(num_plate_list) == 15\n",
    "    for i in num_plate_list:\n",
    "        # Checks it starts with KA\n",
    "        assert state_code in str(i), \"Error in state code match\"\n",
    "        # Checks the capital letters\n",
    "        assert ([True for x in [ord(x) for x in (i.split('-')[1])] if (x>64 and x <91)].count(True)==2)\n",
    "        # Checks the end numbers are between 1000 and 9999\n",
    "        assert int(i.split('-')[2]) < 9999 and int(i.split('-')[2]) > 1000\n",
    "\n",
    "test_get_numplate()\n"
   ]
  },
  {
   "cell_type": "code",
   "execution_count": null,
   "metadata": {},
   "outputs": [],
   "source": []
  },
  {
   "cell_type": "code",
   "execution_count": 495,
   "metadata": {
    "tags": []
   },
   "outputs": [
    {
     "output_type": "stream",
     "name": "stdout",
     "text": "True\nTrue\nTrue\nTrue\nTrue\nTrue\nTrue\nTrue\nTrue\nTrue\nTrue\nTrue\nTrue\nTrue\nTrue\n"
    }
   ],
   "source": [
    "num_plate_list = get_numplate()\n",
    "for i in num_plate_list:\n",
    "    assert ([True for x in [ord(x) for x in (i.split('-')[1])] if (x>64 and x <91)].count(True)==2)"
   ]
  },
  {
   "cell_type": "code",
   "execution_count": null,
   "metadata": {},
   "outputs": [],
   "source": [
    "def test_get_numplate():\n",
    "    num_plate_list = get_numplate()\n",
    "    for i in num_plate_list:\n",
    "        assert 'KA' in str(i)\n",
    "        print([ord(x) for x in (i.split('-')[1])])\n",
    "\n",
    "        assert [True for x in [ord(x) for x in (i.split('-')[1])] if chr(x)>66 and ord(x)<90]\n",
    "        # assert int(i.split('-')[2]) < 9999 and int(i.split('-')[2]) > 1000"
   ]
  },
  {
   "cell_type": "code",
   "execution_count": 409,
   "metadata": {
    "tags": []
   },
   "outputs": [],
   "source": [
    "# check_fibb\n",
    "def test_check_fibb():\n",
    "    for i in range(1000):\n",
    "        rand_int = random.randint(0,1000)\n",
    "        fibb_list = False\n",
    "        if rand_int in fibb_nos:\n",
    "            fibb_list = True\n",
    "\n",
    "        assert check_fibb(rand_int) == fibb_list, \"Check Fibbonacci is working fine\"\n",
    "\n",
    "test_check_fibb()\n",
    "\n"
   ]
  },
  {
   "cell_type": "code",
   "execution_count": 289,
   "metadata": {
    "tags": []
   },
   "outputs": [
    {
     "output_type": "stream",
     "name": "stdout",
     "text": "[0, -1, -2, 3, 4, 5]\n"
    },
    {
     "output_type": "execute_result",
     "data": {
      "text/plain": "[0, 0, 0, 3, 4, 5]"
     },
     "metadata": {},
     "execution_count": 289
    }
   ],
   "source": [
    "'''acts like a ReLU function for a 1D array'''\n",
    "\n",
    "def relu_list(input_list:list)->list:\n",
    "    '''acts like a ReLU function for a 1D array'''\n",
    "    return [(lambda x: x if x >= 0 else 0)(x) for x in input_list]\n",
    "    \n",
    "l = [0,-1,-2,3,4,5]\n",
    "relu_list(l)"
   ]
  },
  {
   "cell_type": "code",
   "execution_count": 269,
   "metadata": {},
   "outputs": [
    {
     "output_type": "execute_result",
     "data": {
      "text/plain": "0"
     },
     "metadata": {},
     "execution_count": 269
    }
   ],
   "source": [
    "'''adds every 3rd number in a list'''\n",
    "reduce(lambda x,y:x+y, [0 for x in input_list if input_list.index(x) !=3])\n",
    "\n",
    "# sum([(lambda x: x if (input_list.index(x)+1) %3 is 0 else 0)(x) for x in input_list])"
   ]
  },
  {
   "cell_type": "code",
   "execution_count": 538,
   "metadata": {
    "tags": []
   },
   "outputs": [],
   "source": [
    "def test_get_sigmoid():\n",
    "    '''Checks implementation of adding 2 iterables a and b such that a is even and b is odd'''\n",
    "    for i in range(1000):\n",
    "        l1 = [0.1111,1,2,3,4]\n",
    "        match_list = l1\n",
    "\n",
    "        for index,i in enumerate(l1):\n",
    "\n",
    "                if math.log(i) > 0.5:\n",
    "                    l1[index] = 1\n",
    "                else:\n",
    "                    l1[index] = 0\n",
    "\n",
    "        assert l1 == get_sigmoid([0.1111,1,2,3,4]), \"Even odd list is not working fine\"\n",
    "\n",
    "test_get_sigmoid()"
   ]
  },
  {
   "cell_type": "code",
   "execution_count": 529,
   "metadata": {
    "tags": []
   },
   "outputs": [
    {
     "output_type": "execute_result",
     "data": {
      "text/plain": "[0, 0, 1, 1, 1]"
     },
     "metadata": {},
     "execution_count": 529
    }
   ],
   "source": [
    "import math\n",
    "def get_sigmoid(input_list:list)->list:\n",
    "    '''acts like a sigmoid function for a 1D array'''\n",
    "    return [(lambda x: 1 if math.log(x) > 0.5 else 0)(x) for x in input_list]\n",
    "\n",
    "get_sigmoid([0.1111,1,2,3,4])\n"
   ]
  },
  {
   "cell_type": "code",
   "execution_count": 528,
   "metadata": {},
   "outputs": [
    {
     "output_type": "execute_result",
     "data": {
      "text/plain": "[0, 0, 1, 1, 1]"
     },
     "metadata": {},
     "execution_count": 528
    }
   ],
   "source": [
    "def get_sigmoid(input_list:list)->list:\n",
    "    '''acts like a sigmoid function for a 1D array'''\n",
    "    return [(lambda x: 1 if math.log(x) > 0.5 else 0)(x) for x in input_list]\n",
    "\n",
    "get_sigmoid([0.1111,1,2,3,4])"
   ]
  },
  {
   "cell_type": "code",
   "execution_count": 202,
   "metadata": {},
   "outputs": [
    {
     "output_type": "execute_result",
     "data": {
      "text/plain": "['KA93-TQ-8903',\n 'KA20-UJ-1842',\n 'KA30-RH-7550',\n 'KA73-HM-3712',\n 'KA66-RC-9111',\n 'KA23-IL-1032',\n 'KA50-SK-2486',\n 'KA35-WC-9767',\n 'KA13-VV-2111',\n 'KA18-TK-4067',\n 'KA53-YW-5630',\n 'KA86-PZ-6090',\n 'KA61-LE-8495',\n 'KA63-DW-7665',\n 'KA71-RV-2203']"
     },
     "metadata": {},
     "execution_count": 202
    }
   ],
   "source": [
    "import random\n",
    "def get_numplate()-> list:\n",
    "    '''Using randint, random.choice and list comprehensions, write an expression that generates 15 random KADDAADDDD number plates, where KA is fixed, D stands for a digit, and A stands for Capital alphabets. 10<<DD<<99 & 1000<<DDDD<<9999 PTS:100'''\n",
    "    return [(\"KA\")+ str(random.randint(10,99))+'-'+chr(ord('A')+(random.randint(0,25)))+chr(ord('A')+(random.randint(0,25)))+'-'+str(random.randint(1000,9999)) for _ in range(15)]\n",
    "\n",
    "get_numplate()"
   ]
  },
  {
   "cell_type": "code",
   "execution_count": 199,
   "metadata": {},
   "outputs": [
    {
     "output_type": "execute_result",
     "data": {
      "text/plain": "['DL17-TF-6904',\n 'DL80-EN-8069',\n 'DL85-CN-7266',\n 'DL74-XO-5194',\n 'DL53-MH-1914',\n 'DL29-OB-2129',\n 'DL34-WI-4211',\n 'DL79-BK-3087',\n 'DL94-KR-7299',\n 'DL46-RU-6909',\n 'DL25-YZ-8666',\n 'DL36-PB-7052',\n 'DL12-PR-9937',\n 'DL23-VF-9911',\n 'DL71-PG-7092']"
     },
     "metadata": {},
     "execution_count": 199
    }
   ],
   "source": [
    "from functools import partial\n",
    "def partial_numplate(st_code, range_start:int, range_end:int)-> list:\n",
    "    '''Write the above again from scratch where KA can be changed to DL, and 1000/9999 ranges can be provided. Now use a partial function such that 1000/9999 are hardcoded, but KA can be provided'''\n",
    "\n",
    "    return [st_code+ str(random.randint(10,99))+'-'+chr(ord('A')+(random.randint(0,25)))+chr(ord('A')+(random.randint(0,25)))+'-'+str(random.randint(range_start,range_end)) for _ in range(15)]\n",
    "\n",
    "f = partial(partial_numplate, range_start=1000, range_end=9999)\n",
    "f(\"DL\")"
   ]
  },
  {
   "cell_type": "code",
   "execution_count": 219,
   "metadata": {},
   "outputs": [
    {
     "output_type": "execute_result",
     "data": {
      "text/plain": "'bcde'"
     },
     "metadata": {},
     "execution_count": 219
    }
   ],
   "source": [
    "# takes a small character string and shifts all characters by 5 (handle boundary conditions) tsai>>yxfn\n",
    "\n",
    "input_str = 'wxyz'\n",
    "def shift_char(input_str:str)-> str:\n",
    "    '''takes a small character string and shifts all characters by 5 (handle boundary conditions) tsai>>yxfn'''\n",
    "    return ''.join([(lambda x: chr(ord(x)+5) if ord(x) <118 else chr(ord(x)-21))(x) for x in input_str])\n",
    "\n",
    "shift_char(input_str)"
   ]
  },
  {
   "cell_type": "code",
   "execution_count": 550,
   "metadata": {},
   "outputs": [],
   "source": [
    "random_para = '''Her mom had warned her. She had been warned time and again, but she had refused to believe her. She had done everything right and she knew she would be rewarded for doing so with the promotion. So when the promotion was given to her main rival, it not only stung, it threw her belief system into disarray. It was her first big lesson in life, but not the last\n",
    "Greg understood that this situation would make Michael terribly uncomfortable. Michael simply had no idea what was about to come and even though Greg could prevent it from happening, he opted to let it happen. It was quite ironic, really. It was something Greg had said he would never wish upon anyone a million times, yet here he was knowingly letting it happen to one of his best friends. He rationalized that it would ultimately make Michael a better person and that no matter how uncomfortable, everyone should experience racism at least once in their lifetime.\n",
    "There was a time when he would have embraced the change that was coming. In his youth, he sought adventure and the unknown, but that had been years ago. He wished he could go back and learn to find the excitement that came with change but it was useless. That curiosity had long left him to where he had come to loathe anything that put him out of his comfort zone.\n",
    "As she sat watching the world go by, something caught her eye. It wasn't so much its color or shape, but the way it was moving. She squinted to see if she could better understand what it was and where it was going, but it didn't help. As she continued to stare into the distance, she didn't understand why this uneasiness was building inside her body. She felt like she should get up and run. If only she could make out what it was. At that moment, she comprehended what it was and where it was heading, and she knew her life would never be the same'''"
   ]
  },
  {
   "cell_type": "code",
   "execution_count": 552,
   "metadata": {},
   "outputs": [],
   "source": [
    "def check_profane_words(input_para:str)->bool:\n",
    "    '''A list comprehension expression that takes a ~200 word paragraph, and checks whether it has any of the swear words mentioned in '''\n",
    "    input_list = (str(input_para).split(' '))\n",
    "    \n",
    "    a = requests.get('https://raw.githubusercontent.com/RobertJGabriel/Google-profanity-words/master/list.txt')\n",
    "\n",
    "    profane_list = (str(a.content).split('\\\\n'))\n",
    "    return [i == j for i in input_list for j in profane_list].count(True)>0"
   ]
  },
  {
   "cell_type": "code",
   "execution_count": 557,
   "metadata": {
    "tags": []
   },
   "outputs": [
    {
     "output_type": "stream",
     "name": "stdout",
     "text": "Her mom had warned her. She had been warned time and again, but she had refused to believe her. She had done everything right and she knew she would be rewarded for doing so with the promotion. So when the promotion was given to her main rival, it not only stung, it threw her belief system into disarray. It was her first big lesson in life, but not the last\nGreg understood that this situation would make Michael terribly uncomfortable. Michael simply had no idea what was about to come and even though Greg could prevent it from happening, he opted to let it happen. It was quite ironic, really. It was something Greg had said he would never wish upon anyone a million times, yet here he was knowingly letting it happen to one of his best friends. He rationalized that it would ultimately make Michael a better person and that no matter how uncomfortable, everyone should experience racism at least once in their lifetime.\nThere was a time when he would have embraced the change that was coming. In his youth, he sought adventure and the unknown, but that had been years ago. He wished he could go back and learn to find the excitement that came with change but it was useless. That curiosity had long left him to where he had come to loathe anything that put him out of his comfort zone.\nAs she sat watching the world go by, something caught her eye. It wasn't so much its color or shape, but the way it was moving. She squinted to see if she could better understand what it was and where it was going, but it didn't help. As she continued to stare into the distance, she didn't understand why this uneasiness was building inside her body. She felt like she should get up and run. If only she could make out what it was. At that moment, she comprehended what it was and where it was heading, and she knew her life would never be the same xxx\n"
    }
   ],
   "source": [
    "def test_check_profane_words(random_para):\n",
    "    assert check_profane_words(random_para) == False, \"Paragraph is a clean para\"\n",
    "    random_para +=' xxx'\n",
    "    print(random_para)\n",
    "    assert check_profane_words(random_para) == True, \"Paragraph is a un-clean para\"\n",
    "test_check_profane_words(random_para)"
   ]
  }
 ]
}