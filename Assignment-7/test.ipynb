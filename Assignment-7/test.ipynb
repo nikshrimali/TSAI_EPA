{
 "metadata": {
  "language_info": {
   "codemirror_mode": {
    "name": "ipython",
    "version": 3
   },
   "file_extension": ".py",
   "mimetype": "text/x-python",
   "name": "python",
   "nbconvert_exporter": "python",
   "pygments_lexer": "ipython3",
   "version": "3.7.6-final"
  },
  "orig_nbformat": 2,
  "kernelspec": {
   "name": "python3",
   "display_name": "Python 3"
  }
 },
 "nbformat": 4,
 "nbformat_minor": 2,
 "cells": [
  {
   "cell_type": "code",
   "execution_count": 283,
   "metadata": {},
   "outputs": [],
   "source": [
    "fibb_nos = [0, 1, 2, 3, 5, 8, 21, 34, 55, 89, 144, 233,377, 610, 987, 1597, 2584, 4181, 6765]"
   ]
  },
  {
   "cell_type": "code",
   "execution_count": 291,
   "metadata": {
    "tags": []
   },
   "outputs": [
    {
     "output_type": "execute_result",
     "data": {
      "text/plain": "['DL29-NP-9381',\n 'DL46-WW-4421',\n 'DL93-DQ-7358',\n 'DL37-EC-3702',\n 'DL77-EZ-7429',\n 'DL73-XF-2186',\n 'DL14-RX-2253',\n 'DL63-JN-4043',\n 'DL74-GL-3210',\n 'DL38-KV-4538',\n 'DL27-EY-9402',\n 'DL77-CH-8308',\n 'DL55-VY-9233',\n 'DL79-WW-4895',\n 'DL65-AY-6925']"
     },
     "metadata": {},
     "execution_count": 291
    }
   ],
   "source": [
    "l1 = [1,2,3,4,5,6]\n",
    "l2 = [2,3,4,5,6,7]\n",
    "def add_even_odd_list(l1,l2):\n",
    "    '''adds 2 iterables a and b such that a is even and b is odd'''\n",
    "    return [a+b for a,b in zip(l1,l2) if a%2==0 and b%2!=0]\n",
    "\n",
    "add_even_odd_list(l1,l2)\n",
    "\n",
    "def strip_vowels(input_str):\n",
    "    '''strips every vowel from a string provided'''\n",
    "    vowels = ['a', 'e', 'i', 'o', ]\n",
    "    return ''.join(list(filter(lambda x: x not in vowels, input_str)))\n",
    "def test_stripvowels():\n",
    "    assert strip_vowels('tsai') =='ts'\n",
    "\n",
    "test_stripvowels()\n",
    "\n",
    "# Concepts of Partial functions\n",
    "def check_fibb(t):\n",
    "    '''A function using only list filter lambda that can tell whether a number is a Fibonacci number or not Using a pre-calculated list to store fab numbers till 10000'''\n",
    "    return list(filter(lambda x: x in fibb_nos, (t,))).count(t) > 0\n",
    "\n",
    "check_fibb(378)\n",
    "\n",
    "\n",
    "def relu_list(input_list:list)->list:\n",
    "    '''acts like a ReLU function for a 1D array'''\n",
    "    return [(lambda x: x if x >= 0 else 0)(x) for x in input_list]\n",
    "    \n",
    "l = [0,-1,-2,3,4,5]\n",
    "relu_list(l)\n",
    "\n",
    "'''Shifts all the characters by 5'''\n",
    "\n",
    "from functools import reduce\n",
    "def getbiggestchar(test):\n",
    "    return reduce(lambda x,y: max(x,y), test)\n",
    "\n",
    "getbiggestchar(\"AacBa\")\n",
    "\n",
    "def sumevenchar(input_list):\n",
    "    '''adds only even numbers in a list'''\n",
    "    return reduce(lambda x,y:x+y, [x for x in input_list if x%2==0])\n",
    "\n",
    "sumevenchar([1,2,3,4,5,6])\n",
    "\n",
    "def add_third_element(input_list:list)->int:\n",
    "    '''adds every 3rd number in a list'''\n",
    "    return reduce(lambda x,y: x+y,[(lambda x:x if (input_list.index(x)+1)%3==0 else 0)(x) for x in input_list])\n",
    "input_list = [3,4,9,2,3,1]\n",
    "\n",
    "add_third_element(input_list)\n",
    "\n",
    "import math\n",
    "def get_sigmoid(input_list:list)->list:\n",
    "    '''acts like a sigmoid function for a 1D array'''\n",
    "    return [(lambda x: 1 if math.log(x) > 0.5 else 0)(x) for x in input_list]\n",
    "\n",
    "get_sigmoid([0.1111,1,2,3,4])\n",
    "\n",
    "\n",
    "def get_numplate()-> list:\n",
    "    '''Using randint, random.choice and list comprehensions, write an expression that generates 15 random KADDAADDDD number plates, where KA is fixed, D stands for a digit, and A stands for Capital alphabets. 10<<DD<<99 & 1000<<DDDD<<9999 PTS:100'''\n",
    "    return [(\"KA\")+ str(random.randint(10,99))+'-'+chr(ord('A')+(random.randint(0,25)))+chr(ord('A')+(random.randint(0,25)))+'-'+str(random.randint(1000,9999)) for _ in range(15)]\n",
    "\n",
    "get_numplate()\n",
    "\n",
    "def partial_numplate(st_code, range_start:int, range_end:int)-> list:\n",
    "    '''Write the above again from scratch where KA can be changed to DL, and 1000/9999 ranges can be provided. Now use a partial function such that 1000/9999 are hardcoded, but KA can be provided'''\n",
    "\n",
    "    return [st_code+ str(random.randint(10,99))+'-'+chr(ord('A')+(random.randint(0,25)))+chr(ord('A')+(random.randint(0,25)))+'-'+str(random.randint(range_start,range_end)) for _ in range(15)]\n",
    "\n",
    "f = partial(partial_numplate, range_start=1000, range_end=9999)\n",
    "f(\"DL\")"
   ]
  },
  {
   "cell_type": "code",
   "execution_count": 32,
   "metadata": {},
   "outputs": [
    {
     "output_type": "error",
     "ename": "TypeError",
     "evalue": "itemgetter expected 1 arguments, got 2",
     "traceback": [
      "\u001b[1;31m---------------------------------------------------------------------------\u001b[0m",
      "\u001b[1;31mTypeError\u001b[0m                                 Traceback (most recent call last)",
      "\u001b[1;32m<ipython-input-32-a4a90f170ae6>\u001b[0m in \u001b[0;36m<module>\u001b[1;34m\u001b[0m\n\u001b[0;32m      8\u001b[0m     \u001b[1;32mreturn\u001b[0m \u001b[0mreduce\u001b[0m\u001b[1;33m(\u001b[0m\u001b[0moperator\u001b[0m\u001b[1;33m.\u001b[0m\u001b[0mitemgetter\u001b[0m\u001b[1;33m(\u001b[0m\u001b[1;36m0\u001b[0m\u001b[1;33m,\u001b[0m\u001b[1;36m1\u001b[0m\u001b[1;33m,\u001b[0m\u001b[1;36m2\u001b[0m\u001b[1;33m)\u001b[0m\u001b[1;33m,\u001b[0m \u001b[0minput_list\u001b[0m\u001b[1;33m)\u001b[0m\u001b[1;33m\u001b[0m\u001b[1;33m\u001b[0m\u001b[0m\n\u001b[0;32m      9\u001b[0m \u001b[1;33m\u001b[0m\u001b[0m\n\u001b[1;32m---> 10\u001b[1;33m \u001b[0maddthirdnumber\u001b[0m\u001b[1;33m(\u001b[0m\u001b[1;33m[\u001b[0m\u001b[1;36m1\u001b[0m\u001b[1;33m,\u001b[0m\u001b[1;36m2\u001b[0m\u001b[1;33m,\u001b[0m\u001b[1;36m3\u001b[0m\u001b[1;33m,\u001b[0m\u001b[1;36m4\u001b[0m\u001b[1;33m,\u001b[0m\u001b[1;36m5\u001b[0m\u001b[1;33m,\u001b[0m\u001b[1;36m6\u001b[0m\u001b[1;33m]\u001b[0m\u001b[1;33m)\u001b[0m\u001b[1;33m\u001b[0m\u001b[1;33m\u001b[0m\u001b[0m\n\u001b[0m",
      "\u001b[1;32m<ipython-input-32-a4a90f170ae6>\u001b[0m in \u001b[0;36maddthirdnumber\u001b[1;34m(input_list)\u001b[0m\n\u001b[0;32m      6\u001b[0m \u001b[1;32mdef\u001b[0m \u001b[0maddthirdnumber\u001b[0m\u001b[1;33m(\u001b[0m\u001b[0minput_list\u001b[0m\u001b[1;33m)\u001b[0m\u001b[1;33m:\u001b[0m\u001b[1;33m\u001b[0m\u001b[1;33m\u001b[0m\u001b[0m\n\u001b[0;32m      7\u001b[0m     \u001b[1;34m'''adds only even numbers in a list'''\u001b[0m\u001b[1;33m\u001b[0m\u001b[1;33m\u001b[0m\u001b[0m\n\u001b[1;32m----> 8\u001b[1;33m     \u001b[1;32mreturn\u001b[0m \u001b[0mreduce\u001b[0m\u001b[1;33m(\u001b[0m\u001b[0moperator\u001b[0m\u001b[1;33m.\u001b[0m\u001b[0mitemgetter\u001b[0m\u001b[1;33m(\u001b[0m\u001b[1;36m0\u001b[0m\u001b[1;33m,\u001b[0m\u001b[1;36m1\u001b[0m\u001b[1;33m,\u001b[0m\u001b[1;36m2\u001b[0m\u001b[1;33m)\u001b[0m\u001b[1;33m,\u001b[0m \u001b[0minput_list\u001b[0m\u001b[1;33m)\u001b[0m\u001b[1;33m\u001b[0m\u001b[1;33m\u001b[0m\u001b[0m\n\u001b[0m\u001b[0;32m      9\u001b[0m \u001b[1;33m\u001b[0m\u001b[0m\n\u001b[0;32m     10\u001b[0m \u001b[0maddthirdnumber\u001b[0m\u001b[1;33m(\u001b[0m\u001b[1;33m[\u001b[0m\u001b[1;36m1\u001b[0m\u001b[1;33m,\u001b[0m\u001b[1;36m2\u001b[0m\u001b[1;33m,\u001b[0m\u001b[1;36m3\u001b[0m\u001b[1;33m,\u001b[0m\u001b[1;36m4\u001b[0m\u001b[1;33m,\u001b[0m\u001b[1;36m5\u001b[0m\u001b[1;33m,\u001b[0m\u001b[1;36m6\u001b[0m\u001b[1;33m]\u001b[0m\u001b[1;33m)\u001b[0m\u001b[1;33m\u001b[0m\u001b[1;33m\u001b[0m\u001b[0m\n",
      "\u001b[1;31mTypeError\u001b[0m: itemgetter expected 1 arguments, got 2"
     ]
    }
   ],
   "source": [
    "from functools import reduce\n",
    "import math\n",
    "import operator\n",
    "test = 123\n",
    "\n",
    "def addthirdnumber(input_list):\n",
    "    '''adds only even numbers in a list'''\n",
    "    return reduce(operator.itemgetter(0,1,2), input_list)\n",
    "\n",
    "addthirdnumber([1,2,3,4,5,6])"
   ]
  },
  {
   "cell_type": "code",
   "execution_count": 289,
   "metadata": {
    "tags": []
   },
   "outputs": [
    {
     "output_type": "stream",
     "name": "stdout",
     "text": "[0, -1, -2, 3, 4, 5]\n"
    },
    {
     "output_type": "execute_result",
     "data": {
      "text/plain": "[0, 0, 0, 3, 4, 5]"
     },
     "metadata": {},
     "execution_count": 289
    }
   ],
   "source": [
    "'''acts like a ReLU function for a 1D array'''\n",
    "\n",
    "def relu_list(input_list:list)->list:\n",
    "    '''acts like a ReLU function for a 1D array'''\n",
    "    return [(lambda x: x if x >= 0 else 0)(x) for x in input_list]\n",
    "    \n",
    "l = [0,-1,-2,3,4,5]\n",
    "relu_list(l)"
   ]
  },
  {
   "cell_type": "code",
   "execution_count": 269,
   "metadata": {},
   "outputs": [
    {
     "output_type": "execute_result",
     "data": {
      "text/plain": "0"
     },
     "metadata": {},
     "execution_count": 269
    }
   ],
   "source": [
    "'''adds every 3rd number in a list'''\n",
    "reduce(lambda x,y:x+y, [0 for x in input_list if input_list.index(x) !=3])\n",
    "\n",
    "# sum([(lambda x: x if (input_list.index(x)+1) %3 is 0 else 0)(x) for x in input_list])"
   ]
  },
  {
   "cell_type": "code",
   "execution_count": 246,
   "metadata": {
    "tags": []
   },
   "outputs": [
    {
     "output_type": "stream",
     "name": "stdout",
     "text": "False\nFalse\nTrue\nFalse\nFalse\nTrue\n"
    }
   ],
   "source": [
    "for x in input_list:\n",
    "    print((input_list.index(x)+1)%3==0)"
   ]
  },
  {
   "cell_type": "code",
   "execution_count": 281,
   "metadata": {
    "tags": []
   },
   "outputs": [
    {
     "output_type": "execute_result",
     "data": {
      "text/plain": "[0, 0, 1, 1, 1]"
     },
     "metadata": {},
     "execution_count": 281
    }
   ],
   "source": [
    "import math\n",
    "def get_sigmoid(input_list:list)->list:\n",
    "    '''acts like a sigmoid function for a 1D array'''\n",
    "    return [(lambda x: 1 if math.log(x) > 0.5 else 0)(x) for x in input_list]\n",
    "\n",
    "get_sigmoid([0.1111,1,2,3,4])\n"
   ]
  },
  {
   "cell_type": "code",
   "execution_count": 83,
   "metadata": {},
   "outputs": [
    {
     "output_type": "execute_result",
     "data": {
      "text/plain": "0"
     },
     "metadata": {},
     "execution_count": 83
    }
   ],
   "source": [
    "(2+1)%3"
   ]
  },
  {
   "cell_type": "code",
   "execution_count": 202,
   "metadata": {},
   "outputs": [
    {
     "output_type": "execute_result",
     "data": {
      "text/plain": "['KA93-TQ-8903',\n 'KA20-UJ-1842',\n 'KA30-RH-7550',\n 'KA73-HM-3712',\n 'KA66-RC-9111',\n 'KA23-IL-1032',\n 'KA50-SK-2486',\n 'KA35-WC-9767',\n 'KA13-VV-2111',\n 'KA18-TK-4067',\n 'KA53-YW-5630',\n 'KA86-PZ-6090',\n 'KA61-LE-8495',\n 'KA63-DW-7665',\n 'KA71-RV-2203']"
     },
     "metadata": {},
     "execution_count": 202
    }
   ],
   "source": [
    "import random\n",
    "def get_numplate()-> list:\n",
    "    '''Using randint, random.choice and list comprehensions, write an expression that generates 15 random KADDAADDDD number plates, where KA is fixed, D stands for a digit, and A stands for Capital alphabets. 10<<DD<<99 & 1000<<DDDD<<9999 PTS:100'''\n",
    "    return [(\"KA\")+ str(random.randint(10,99))+'-'+chr(ord('A')+(random.randint(0,25)))+chr(ord('A')+(random.randint(0,25)))+'-'+str(random.randint(1000,9999)) for _ in range(15)]\n",
    "\n",
    "get_numplate()"
   ]
  },
  {
   "cell_type": "code",
   "execution_count": 199,
   "metadata": {},
   "outputs": [
    {
     "output_type": "execute_result",
     "data": {
      "text/plain": "['DL17-TF-6904',\n 'DL80-EN-8069',\n 'DL85-CN-7266',\n 'DL74-XO-5194',\n 'DL53-MH-1914',\n 'DL29-OB-2129',\n 'DL34-WI-4211',\n 'DL79-BK-3087',\n 'DL94-KR-7299',\n 'DL46-RU-6909',\n 'DL25-YZ-8666',\n 'DL36-PB-7052',\n 'DL12-PR-9937',\n 'DL23-VF-9911',\n 'DL71-PG-7092']"
     },
     "metadata": {},
     "execution_count": 199
    }
   ],
   "source": [
    "from functools import partial\n",
    "def partial_numplate(st_code, range_start:int, range_end:int)-> list:\n",
    "    '''Write the above again from scratch where KA can be changed to DL, and 1000/9999 ranges can be provided. Now use a partial function such that 1000/9999 are hardcoded, but KA can be provided'''\n",
    "\n",
    "    return [st_code+ str(random.randint(10,99))+'-'+chr(ord('A')+(random.randint(0,25)))+chr(ord('A')+(random.randint(0,25)))+'-'+str(random.randint(range_start,range_end)) for _ in range(15)]\n",
    "\n",
    "f = partial(partial_numplate, range_start=1000, range_end=9999)\n",
    "f(\"DL\")"
   ]
  },
  {
   "cell_type": "code",
   "execution_count": 219,
   "metadata": {},
   "outputs": [
    {
     "output_type": "execute_result",
     "data": {
      "text/plain": "'bcde'"
     },
     "metadata": {},
     "execution_count": 219
    }
   ],
   "source": [
    "# takes a small character string and shifts all characters by 5 (handle boundary conditions) tsai>>yxfn\n",
    "\n",
    "input_str = 'wxyz'\n",
    "def shift_char(input_str:str)-> str:\n",
    "    '''takes a small character string and shifts all characters by 5 (handle boundary conditions) tsai>>yxfn'''\n",
    "    return ''.join([(lambda x: chr(ord(x)+5) if ord(x) <118 else chr(ord(x)-21))(x) for x in input_str])\n",
    "\n",
    "shift_char(input_str)"
   ]
  },
  {
   "cell_type": "code",
   "execution_count": 208,
   "metadata": {},
   "outputs": [
    {
     "output_type": "execute_result",
     "data": {
      "text/plain": "118"
     },
     "metadata": {},
     "execution_count": 208
    }
   ],
   "source": []
  }
 ]
}