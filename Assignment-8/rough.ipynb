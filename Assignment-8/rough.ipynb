{
 "metadata": {
  "language_info": {
   "codemirror_mode": {
    "name": "ipython",
    "version": 3
   },
   "file_extension": ".py",
   "mimetype": "text/x-python",
   "name": "python",
   "nbconvert_exporter": "python",
   "pygments_lexer": "ipython3",
   "version": "3.7.6-final"
  },
  "orig_nbformat": 2,
  "kernelspec": {
   "name": "python_defaultSpec_1600017938187",
   "display_name": "Python 3.7.6 64-bit ('pytorch': conda)"
  }
 },
 "nbformat": 4,
 "nbformat_minor": 2,
 "cells": [
  {
   "cell_type": "code",
   "execution_count": 42,
   "metadata": {
    "tags": []
   },
   "outputs": [
    {
     "output_type": "execute_result",
     "data": {
      "text/plain": "True"
     },
     "metadata": {},
     "execution_count": 42
    }
   ],
   "source": [
    "def check_docstring(func):\n",
    "    '''closure that takes a function and then check whether the function passed has a docstring with more than 50 characters. 50 is stored as a free variable'''\n",
    "    length = 50\n",
    "    doc = (func.__doc__)\n",
    "    \n",
    "    def validate_docstring():\n",
    "        if len(doc.split()) >= length:\n",
    "            return True\n",
    "        else:\n",
    "            return False\n",
    "    return (validate_docstring())\n",
    "    \n",
    "\n",
    "check_docstring(print)"
   ]
  },
  {
   "cell_type": "code",
   "execution_count": 178,
   "metadata": {
    "tags": []
   },
   "outputs": [],
   "source": [
    "def get_next_fibbonacci():\n",
    "    '''Write a closure that gives you the next Fibonacci number'''\n",
    "    n = 1\n",
    "    fibb = n\n",
    "    fibbonacci = 0\n",
    "\n",
    "    def Fibonacci():\n",
    "        nonlocal n\n",
    "        n += 1\n",
    "\n",
    "        if n==1:\n",
    "            fibbonacci = 0\n",
    "        # Second Fibonacci number is 1\n",
    "        elif n==2:\n",
    "            fibbonacci = 1\n",
    "        else:\n",
    "            fibbonacci = get_next_fibbonacci(n-1)+get_next_fibbonacci(n-2)\n",
    "        return n,fibbonacci\n",
    "\n",
    "    return Fibonacci\n",
    "    print(n)\n",
    "    # print(fibbonacci)\n",
    "\n",
    "f1 = get_next_fibbonacci()"
   ]
  },
  {
   "cell_type": "code",
   "execution_count": 181,
   "metadata": {},
   "outputs": [
    {
     "output_type": "error",
     "ename": "TypeError",
     "evalue": "get_next_fibbonacci() takes 0 positional arguments but 1 was given",
     "traceback": [
      "\u001b[1;31m---------------------------------------------------------------------------\u001b[0m",
      "\u001b[1;31mTypeError\u001b[0m                                 Traceback (most recent call last)",
      "\u001b[1;32m<ipython-input-181-b27bf7c7aafe>\u001b[0m in \u001b[0;36m<module>\u001b[1;34m\u001b[0m\n\u001b[1;32m----> 1\u001b[1;33m \u001b[0mf1\u001b[0m\u001b[1;33m(\u001b[0m\u001b[1;33m)\u001b[0m\u001b[1;33m\u001b[0m\u001b[1;33m\u001b[0m\u001b[0m\n\u001b[0m",
      "\u001b[1;32m<ipython-input-178-da877010de4e>\u001b[0m in \u001b[0;36mFibonacci\u001b[1;34m()\u001b[0m\n\u001b[0;32m     15\u001b[0m             \u001b[0mfibbonacci\u001b[0m \u001b[1;33m=\u001b[0m \u001b[1;36m1\u001b[0m\u001b[1;33m\u001b[0m\u001b[1;33m\u001b[0m\u001b[0m\n\u001b[0;32m     16\u001b[0m         \u001b[1;32melse\u001b[0m\u001b[1;33m:\u001b[0m\u001b[1;33m\u001b[0m\u001b[1;33m\u001b[0m\u001b[0m\n\u001b[1;32m---> 17\u001b[1;33m             \u001b[0mfibbonacci\u001b[0m \u001b[1;33m=\u001b[0m \u001b[0mget_next_fibbonacci\u001b[0m\u001b[1;33m(\u001b[0m\u001b[0mn\u001b[0m\u001b[1;33m-\u001b[0m\u001b[1;36m1\u001b[0m\u001b[1;33m)\u001b[0m\u001b[1;33m+\u001b[0m\u001b[0mget_next_fibbonacci\u001b[0m\u001b[1;33m(\u001b[0m\u001b[0mn\u001b[0m\u001b[1;33m-\u001b[0m\u001b[1;36m2\u001b[0m\u001b[1;33m)\u001b[0m\u001b[1;33m\u001b[0m\u001b[1;33m\u001b[0m\u001b[0m\n\u001b[0m\u001b[0;32m     18\u001b[0m         \u001b[1;32mreturn\u001b[0m \u001b[0mn\u001b[0m\u001b[1;33m,\u001b[0m\u001b[0mfibbonacci\u001b[0m\u001b[1;33m\u001b[0m\u001b[1;33m\u001b[0m\u001b[0m\n\u001b[0;32m     19\u001b[0m \u001b[1;33m\u001b[0m\u001b[0m\n",
      "\u001b[1;31mTypeError\u001b[0m: get_next_fibbonacci() takes 0 positional arguments but 1 was given"
     ]
    }
   ],
   "source": [
    "f1()"
   ]
  },
  {
   "cell_type": "code",
   "execution_count": 28,
   "metadata": {},
   "outputs": [
    {
     "output_type": "execute_result",
     "data": {
      "text/plain": "\"print(value, ..., sep=' ', end='\\\\n', file=sys.stdout, flush=False)\\n\\nPrints the values to a stream, or to sys.stdout by default.\\nOptional keyword arguments:\\nfile:  a file-like object (stream); defaults to the current sys.stdout.\\nsep:   string inserted between values, default a space.\\nend:   string appended after the last value, default a newline.\\nflush: whether to forcibly flush the stream.\""
     },
     "metadata": {},
     "execution_count": 28
    }
   ],
   "source": [
    "print.__doc__\n",
    "\n",
    "        # if n<=0:\n",
    "        #     print(\"Incorrect input\")\n",
    "        # # First Fibonacci number is 0\n",
    "        # elif n==1:\n",
    "        #     fibbonacci = 0\n",
    "        # # Second Fibonacci number is 1\n",
    "        # elif n==2:\n",
    "        #     fibbonacci = 1\n",
    "        # else:\n",
    "        #     fibbonacci = Fibonacci(n-1)+Fibonacci(n-2)"
   ]
  }
 ]
}