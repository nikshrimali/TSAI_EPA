{
 "metadata": {
  "language_info": {
   "codemirror_mode": {
    "name": "ipython",
    "version": 3
   },
   "file_extension": ".py",
   "mimetype": "text/x-python",
   "name": "python",
   "nbconvert_exporter": "python",
   "pygments_lexer": "ipython3",
   "version": "3.7.6-final"
  },
  "orig_nbformat": 2,
  "kernelspec": {
   "name": "python_defaultSpec_1600066664740",
   "display_name": "Python 3.7.6 64-bit ('pytorch': conda)"
  }
 },
 "nbformat": 4,
 "nbformat_minor": 2,
 "cells": [
  {
   "cell_type": "code",
   "execution_count": 51,
   "metadata": {
    "tags": []
   },
   "outputs": [],
   "source": [
    "def check_docstring(func):\n",
    "    '''closure that takes a function and then check whether the function passed has a docstring with more than 50 characters. 50 is stored as a free variable'''\n",
    "    length = 50\n",
    "    doc = (func.__doc__)\n",
    "    \n",
    "    def validate_docstring():\n",
    "        if len(doc.split()) >= length:\n",
    "            return True\n",
    "        else:\n",
    "            return False\n",
    "    return validate_docstring\n"
   ]
  },
  {
   "cell_type": "code",
   "execution_count": 57,
   "metadata": {},
   "outputs": [
    {
     "output_type": "execute_result",
     "data": {
      "text/plain": "False"
     },
     "metadata": {},
     "execution_count": 57
    }
   ],
   "source": [
    "check_docstring(check_docstring)()"
   ]
  },
  {
   "cell_type": "code",
   "execution_count": 44,
   "metadata": {
    "tags": []
   },
   "outputs": [
    {
     "output_type": "error",
     "ename": "SyntaxError",
     "evalue": "invalid syntax (<ipython-input-44-d33aa460bade>, line 1)",
     "traceback": [
      "\u001b[1;36m  File \u001b[1;32m\"<ipython-input-44-d33aa460bade>\"\u001b[1;36m, line \u001b[1;32m1\u001b[0m\n\u001b[1;33m    def get_next_fibbonacci()-> def:\u001b[0m\n\u001b[1;37m                                  ^\u001b[0m\n\u001b[1;31mSyntaxError\u001b[0m\u001b[1;31m:\u001b[0m invalid syntax\n"
     ]
    }
   ],
   "source": [
    "def get_next_fibbonacci():\n",
    "    '''Write a closure that gives you the next Fibonacci number'''\n",
    "    index = 1\n",
    "\n",
    "    def Fibonacci(n:int)-> int:\n",
    "        '''Generates nth fibonacci number in the series'''\n",
    "        if n==1:\n",
    "            fibonacci = 0\n",
    "        elif n==2:\n",
    "            fibonacci = 1\n",
    "        else:\n",
    "            fibonacci = Fibonacci(n-1) + Fibonacci(n-2)\n",
    "        return fibonacci\n",
    "\n",
    "    def next_fibonacci():\n",
    "        '''Closure '''\n",
    "        nonlocal index\n",
    "        fibb_no =  Fibonacci(index)\n",
    "        index += 1\n",
    "        return fibb_no\n",
    "    return next_fibonacci\n",
    "\n",
    "f1 = get_next_fibbonacci()"
   ]
  },
  {
   "cell_type": "code",
   "execution_count": 77,
   "metadata": {
    "tags": []
   },
   "outputs": [
    {
     "output_type": "error",
     "ename": "NameError",
     "evalue": "name '__add__' is not defined",
     "traceback": [
      "\u001b[1;31m---------------------------------------------------------------------------\u001b[0m",
      "\u001b[1;31mNameError\u001b[0m                                 Traceback (most recent call last)",
      "\u001b[1;32m<ipython-input-77-80761109de20>\u001b[0m in \u001b[0;36m<module>\u001b[1;34m\u001b[0m\n\u001b[0;32m      1\u001b[0m \u001b[1;31m# def get_func_count():\u001b[0m\u001b[1;33m\u001b[0m\u001b[1;33m\u001b[0m\u001b[1;33m\u001b[0m\u001b[0m\n\u001b[0;32m      2\u001b[0m \u001b[1;31m#     '''- We wrote a closure that counts how many times a function was called. Write a new one that can keep a track of how many times add/mul/div functions were called, and update a global dictionary variable with the counts'''\u001b[0m\u001b[1;33m\u001b[0m\u001b[1;33m\u001b[0m\u001b[1;33m\u001b[0m\u001b[0m\n\u001b[1;32m----> 3\u001b[1;33m \u001b[0mdic_oper\u001b[0m \u001b[1;33m=\u001b[0m \u001b[1;33m{\u001b[0m\u001b[0m__add__\u001b[0m\u001b[1;33m:\u001b[0m\u001b[1;36m0\u001b[0m\u001b[1;33m,\u001b[0m \u001b[0m__mul__\u001b[0m\u001b[1;33m:\u001b[0m\u001b[1;36m0\u001b[0m\u001b[1;33m,\u001b[0m \u001b[0m__div__\u001b[0m\u001b[1;33m:\u001b[0m\u001b[1;36m0\u001b[0m\u001b[1;33m}\u001b[0m\u001b[1;33m\u001b[0m\u001b[1;33m\u001b[0m\u001b[0m\n\u001b[0m\u001b[0;32m      4\u001b[0m \u001b[1;33m\u001b[0m\u001b[0m\n\u001b[0;32m      5\u001b[0m     \u001b[1;31m# def math_oper(*args):\u001b[0m\u001b[1;33m\u001b[0m\u001b[1;33m\u001b[0m\u001b[1;33m\u001b[0m\u001b[0m\n",
      "\u001b[1;31mNameError\u001b[0m: name '__add__' is not defined"
     ]
    }
   ],
   "source": [
    "# def get_func_count():\n",
    "#     '''- We wrote a closure that counts how many times a function was called. Write a new one that can keep a track of how many times add/mul/div functions were called, and update a global dictionary variable with the counts'''\n",
    "dic_oper = {__add__:0, __mul__:0, __div__:0}\n",
    "\n",
    "    # def math_oper(*args):\n",
    "def counter(initial_value = 0):\n",
    "    dic_oper = {\"add\":0, \"mul\":0, \"div\":0}\n",
    "\n",
    "    def inc(increment = 1):\n",
    "        nonlocal initial_value\n",
    "        initial_value += increment\n",
    "        return initial_value\n",
    "    return inc"
   ]
  },
  {
   "cell_type": "code",
   "execution_count": 79,
   "metadata": {},
   "outputs": [],
   "source": [
    "class get_add_count(int):\n",
    "    def __init__():\n",
    "        pass\n",
    "    def __add__(*args):\n",
    "        if [isinstance(int, i) for i in args].count(True) is len(args):\n",
    "            return          \n",
    "        "
   ]
  },
  {
   "cell_type": "code",
   "execution_count": 25,
   "metadata": {},
   "outputs": [],
   "source": [
    "class MathOper():\n",
    "    def __init__(self):\n",
    "        self.args = args\n",
    "\n",
    "    def func_count(self,func):\n",
    "        dic_oper = {\"add\":0, \"mul\":0, \"div\":0}\n",
    "\n",
    "\n",
    "        def inc(func, increment = 1):\n",
    "            nonlocal dic_oper\n",
    "            dic_oper[func] += increment\n",
    "            return dic_oper\n",
    "    \n",
    "    \n",
    "    def __add__(self, other):\n",
    "        # if [isinstance(i, int) for i in args].count(True) is len(args):\n",
    "        if isinstance(other, MathOper):\n",
    "            self.func_count(\"sum\")\n",
    "            sum = 0\n",
    "            return self + other\n",
    "\n",
    "    def __mul__(self, other):\n",
    "        # if [isinstance(i, int) for i in args].count(True) is len(args):\n",
    "        #     self.func_count(\"mul\")\n",
    "        #     mul = 1\n",
    "        #     for i in args:\n",
    "        #         print(i)\n",
    "        #         mul = (mul * i)\n",
    "        #     return mul\n",
    "        if isinstance(other, MathOper):\n",
    "            self.func_count(\"mul\")\n",
    "            mul = 1\n",
    "            return self * other\n",
    "\n",
    "    def __div__(self, other):\n",
    "        # if [isinstance(i, int) for i in args].count(True) is len(args):\n",
    "        #     self.func_count(\"div\")\n",
    "        #     div = 1\n",
    "        #     for i in args:\n",
    "        #         div = (div / i)\n",
    "        #     return div\n",
    "        if isinstance(other, MathOper):\n",
    "            self.func_count(\"div\")\n",
    "            div = 1\n",
    "            return self / other\n",
    "\n",
    "\n",
    "        # print(dic_oper)"
   ]
  },
  {
   "cell_type": "code",
   "execution_count": 29,
   "metadata": {
    "tags": []
   },
   "outputs": [
    {
     "output_type": "error",
     "ename": "TypeError",
     "evalue": "__init__() takes 1 positional argument but 2 were given",
     "traceback": [
      "\u001b[1;31m---------------------------------------------------------------------------\u001b[0m",
      "\u001b[1;31mTypeError\u001b[0m                                 Traceback (most recent call last)",
      "\u001b[1;32m<ipython-input-29-a5cd91132eb7>\u001b[0m in \u001b[0;36m<module>\u001b[1;34m\u001b[0m\n\u001b[1;32m----> 1\u001b[1;33m \u001b[0ma\u001b[0m \u001b[1;33m=\u001b[0m \u001b[0mMathOper\u001b[0m\u001b[1;33m(\u001b[0m\u001b[1;36m1\u001b[0m\u001b[1;33m)\u001b[0m\u001b[1;33m\u001b[0m\u001b[1;33m\u001b[0m\u001b[0m\n\u001b[0m\u001b[0;32m      2\u001b[0m \u001b[0mb\u001b[0m \u001b[1;33m=\u001b[0m \u001b[0mMathOper\u001b[0m\u001b[1;33m(\u001b[0m\u001b[1;36m2\u001b[0m\u001b[1;33m)\u001b[0m\u001b[1;33m\u001b[0m\u001b[1;33m\u001b[0m\u001b[0m\n\u001b[0;32m      3\u001b[0m \u001b[0mprint\u001b[0m\u001b[1;33m(\u001b[0m\u001b[0ma\u001b[0m \u001b[1;33m+\u001b[0m \u001b[0mb\u001b[0m\u001b[1;33m)\u001b[0m \u001b[1;31m#, MathOper.__mul__(1,2), MathOper.__div__(1,3))\u001b[0m\u001b[1;33m\u001b[0m\u001b[1;33m\u001b[0m\u001b[0m\n",
      "\u001b[1;31mTypeError\u001b[0m: __init__() takes 1 positional argument but 2 were given"
     ]
    }
   ],
   "source": [
    "a = MathOper(1)\n",
    "b = MathOper(2)\n",
    "print(a + b) #, MathOper.__mul__(1,2), MathOper.__div__(1,3))"
   ]
  },
  {
   "cell_type": "code",
   "execution_count": 68,
   "metadata": {},
   "outputs": [],
   "source": [
    "def func_count():\n",
    "    '''Closure  that can keep a track of how many times add/mul/div functions were called, and update a global dictionary variable with the counts'''\n",
    "    dic_oper = {\"add\":0, \"mul\":0, \"div\":0}\n",
    "    \n",
    "    def inc(func, param1, param2, increment = 1):\n",
    "        func(param1, param2)\n",
    "        nonlocal dic_oper\n",
    "        dic_oper[func.__name__] += increment\n",
    "        return dic_oper\n",
    "    return inc\n",
    "\n",
    "def add(a:int, b:int):\n",
    "    return a + b\n",
    "\n",
    "def mul(a:int, b:int):\n",
    "    return a * b\n",
    "\n",
    "def div(a:int, b:int):\n",
    "    return a / b"
   ]
  },
  {
   "cell_type": "code",
   "execution_count": 58,
   "metadata": {},
   "outputs": [],
   "source": [
    "f1 = func_count()"
   ]
  },
  {
   "cell_type": "code",
   "execution_count": 71,
   "metadata": {},
   "outputs": [
    {
     "output_type": "execute_result",
     "data": {
      "text/plain": "{'add': 1, 'mul': 1, 'div': 9}"
     },
     "metadata": {},
     "execution_count": 71
    }
   ],
   "source": [
    "f1(div, 2,2)"
   ]
  },
  {
   "cell_type": "code",
   "execution_count": 74,
   "metadata": {},
   "outputs": [],
   "source": [
    "def func_count_dict(dic_oper):\n",
    "    '''Modifies func_count such that now we can pass in different dictionary variables to update different dictionaries'''\n",
    "    \n",
    "    def inc(func, param1, param2, increment = 1):\n",
    "        func(param1, param2)\n",
    "        nonlocal dic_oper\n",
    "        dic_oper[func.__name__] += increment\n",
    "        return dic_oper\n",
    "    return inc\n",
    "\n",
    "def add(a:int, b:int):\n",
    "    return a + b\n",
    "\n",
    "def mul(a:int, b:int):\n",
    "    return a * b\n",
    "\n",
    "def div(a:int, b:int):\n",
    "    return a / b"
   ]
  },
  {
   "cell_type": "code",
   "execution_count": 75,
   "metadata": {},
   "outputs": [
    {
     "output_type": "execute_result",
     "data": {
      "text/plain": "<function __main__.func_count_dict.<locals>.inc(func, param1, param2, increment=1)>"
     },
     "metadata": {},
     "execution_count": 75
    }
   ],
   "source": [
    "func_count_dict({\"add\":0, \"mul\":0, \"div\":0})"
   ]
  },
  {
   "cell_type": "code",
   "execution_count": 1,
   "metadata": {},
   "outputs": [],
   "source": [
    "\n",
    "\n",
    "def get_next_fibbonacci():\n",
    "    '''Write a closure that gives you the next Fibonacci number'''\n",
    "    index = 1\n",
    "\n",
    "    def Fibonacci(n:int)-> int:\n",
    "        '''Generates nth fibonacci number in the series'''\n",
    "        if n==1:\n",
    "            fibonacci = 0\n",
    "        elif n==2:\n",
    "            fibonacci = 1\n",
    "        else:\n",
    "            fibonacci = Fibonacci(n-1) + Fibonacci(n-2)\n",
    "        return fibonacci\n",
    "\n",
    "    def next_fibonacci():\n",
    "        '''Closure '''\n",
    "        nonlocal index\n",
    "        fibb_no =  Fibonacci(index)\n",
    "        index += 1\n",
    "        return fibb_no\n",
    "    return next_fibonacci\n",
    "\n",
    "\n",
    "\n",
    "\n",
    "def check_docstring(func):\n",
    "    '''closure that takes a function and then check whether the function passed has a docstring with more than 50 characters. 50 is stored as a free variable'''\n",
    "    length = 50\n",
    "    doc = (func.__doc__)\n",
    "    \n",
    "    def validate_docstring():\n",
    "        if len(doc.split()) >= length:\n",
    "            return True\n",
    "        else:\n",
    "            return False\n",
    "    return validate_docstring\n",
    "\n",
    "\n",
    "def func_count():\n",
    "    '''Closure  that can keep a track of how many times add/mul/div functions were called, and update a global dictionary variable with the counts'''\n",
    "    dic_oper = {\"add\":0, \"mul\":0, \"div\":0}\n",
    "    \n",
    "    def inc(func, param1, param2, increment = 1):\n",
    "        func(param1, param2)\n",
    "        nonlocal dic_oper\n",
    "        dic_oper[func.__name__] += increment\n",
    "        return dic_oper\n",
    "    return inc\n",
    "\n",
    "def add(a:int, b:int):\n",
    "    return a + b\n",
    "\n",
    "def mul(a:int, b:int):\n",
    "    return a * b\n",
    "\n",
    "def div(a:int, b:int):\n",
    "    return a / b\n",
    "\n",
    "\n",
    "\n",
    "def func_count_dict(dic_oper):\n",
    "    '''Modifies func_count such that now we can pass in different dictionary variables to update different dictionaries'''\n",
    "    \n",
    "    def inc(func, param1, param2, increment = 1):\n",
    "        func(param1, param2)\n",
    "        nonlocal dic_oper\n",
    "        dic_oper[func.__name__] += increment\n",
    "        return dic_oper\n",
    "    return inc\n",
    "\n",
    "def add(a:int, b:int):\n",
    "    return a + b\n",
    "\n",
    "def mul(a:int, b:int):\n",
    "    return a * b\n",
    "\n",
    "def div(a:int, b:int):\n",
    "    return a / b"
   ]
  },
  {
   "cell_type": "code",
   "execution_count": 107,
   "metadata": {
    "tags": []
   },
   "outputs": [],
   "source": [
    "def get_next_fibbonacci():\n",
    "    '''Closure that gives you the next Fibonacci number'''\n",
    "    index = 0\n",
    "\n",
    "    def Fibonacci(n:int)-> int:\n",
    "        '''Generates nth fibonacci number in the series'''\n",
    "        if n<=1:\n",
    "            fibonacci = n\n",
    "        else:\n",
    "            fibonacci = Fibonacci(n-1) + Fibonacci(n-2)\n",
    "        return fibonacci\n",
    "\n",
    "    def next_fibonacci():\n",
    "        '''Increases the index whenever the function is called '''\n",
    "        nonlocal index\n",
    "        fibb_no =  Fibonacci(index)\n",
    "        index += 1\n",
    "        return fibb_no\n",
    "    return next_fibonacci\n",
    "\n",
    "def test_fibonacci():\n",
    "    '''Testcase to check the fibonacci number generator'''\n",
    "    fibb_nos = [ 0, 1, 1, 2, 3, 5, 8, 13,21,34,55,89,144,233,377,610,987,1597,2584,4181,6765]\n",
    "    f1 = get_next_fibbonacci()\n",
    "    for i in range(len(fibb_nos)):\n",
    "        # print(a = f1(),  fibb_nos[i])\n",
    "        assert f1() == fibb_nos[i], \"Fibonaaci not correct\"\n",
    "\n",
    "test_fibonacci()\n",
    "\n",
    "# f1 = get_next_fibbonacci()"
   ]
  },
  {
   "cell_type": "code",
   "execution_count": 114,
   "metadata": {},
   "outputs": [
    {
     "output_type": "execute_result",
     "data": {
      "text/plain": "13"
     },
     "metadata": {},
     "execution_count": 114
    }
   ],
   "source": [
    "f1()"
   ]
  },
  {
   "cell_type": "code",
   "execution_count": 97,
   "metadata": {},
   "outputs": [],
   "source": [
    "def test_check_docstring():\n",
    "    '''Checks working of check_docstring function'''\n",
    "    assert check_docstring(print)() is True, \"Docstring more than 50 chars works\"\n",
    "    assert check_docstring(test_check_docstring)() is False, \"Docstring less than 50 chars works fine\"\n",
    "\n",
    "test_check_docstring()"
   ]
  },
  {
   "cell_type": "code",
   "execution_count": 16,
   "metadata": {
    "tags": []
   },
   "outputs": [
    {
     "output_type": "stream",
     "name": "stdout",
     "text": "{'add': 50, 'mul': 0, 'div': 0}\n"
    }
   ],
   "source": [
    "def test_func_count():\n",
    "    '''tests func_count dict '''\n",
    "    f1 = func_count()\n",
    "    for i in range(50):\n",
    "        count_dict = f1(add, 1,3)\n",
    "    assert count_dict[\"add\"] == 50, \"count dict works fine\"\n",
    "    \n",
    "test_func_count()"
   ]
  },
  {
   "cell_type": "code",
   "execution_count": 33,
   "metadata": {
    "tags": []
   },
   "outputs": [],
   "source": [
    "def test_func_count_dict():\n",
    "    '''tests func_count dict '''\n",
    "    count_dict = {'add': 50, 'mul': 0, 'div': 0}\n",
    "    f1 = func_count_dict(count_dict)\n",
    "    for i in range(50):\n",
    "        count_dict = f1(add, 1,3)\n",
    "\n",
    "    assert count_dict[\"add\"] is 100, \"count dict works fine\"\n",
    "    \n",
    "test_func_count_dict()"
   ]
  }
 ]
}