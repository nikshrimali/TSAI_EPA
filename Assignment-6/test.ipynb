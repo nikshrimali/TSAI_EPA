{
 "metadata": {
  "language_info": {
   "codemirror_mode": {
    "name": "ipython",
    "version": 3
   },
   "file_extension": ".py",
   "mimetype": "text/x-python",
   "name": "python",
   "nbconvert_exporter": "python",
   "pygments_lexer": "ipython3",
   "version": "3.7.6-final"
  },
  "orig_nbformat": 2,
  "kernelspec": {
   "name": "python3",
   "display_name": "Python 3"
  }
 },
 "nbformat": 4,
 "nbformat_minor": 2,
 "cells": [
  {
   "cell_type": "code",
   "execution_count": 27,
   "metadata": {
    "tags": []
   },
   "outputs": [
    {
     "output_type": "execute_result",
     "data": {
      "text/plain": "['spades-2',\n 'spades-3',\n 'spades-4',\n 'spades-5',\n 'spades-6',\n 'spades-7',\n 'spades-8',\n 'spades-9',\n 'spades-10',\n 'spades-jack',\n 'spades-queen',\n 'spades-king',\n 'spades-ace',\n 'clubs-2',\n 'clubs-3',\n 'clubs-4',\n 'clubs-5',\n 'clubs-6',\n 'clubs-7',\n 'clubs-8',\n 'clubs-9',\n 'clubs-10',\n 'clubs-jack',\n 'clubs-queen',\n 'clubs-king',\n 'clubs-ace',\n 'hearts-2',\n 'hearts-3',\n 'hearts-4',\n 'hearts-5',\n 'hearts-6',\n 'hearts-7',\n 'hearts-8',\n 'hearts-9',\n 'hearts-10',\n 'hearts-jack',\n 'hearts-queen',\n 'hearts-king',\n 'hearts-ace',\n 'diamonds-2',\n 'diamonds-3',\n 'diamonds-4',\n 'diamonds-5',\n 'diamonds-6',\n 'diamonds-7',\n 'diamonds-8',\n 'diamonds-9',\n 'diamonds-10',\n 'diamonds-jack',\n 'diamonds-queen',\n 'diamonds-king',\n 'diamonds-ace']"
     },
     "metadata": {},
     "execution_count": 27
    }
   ],
   "source": [
    "#Deck of cards without lambda, zip or map functions\n",
    "def get_my_deck_normally():\n",
    "    deck = []\n",
    "\n",
    "    for i in suits:\n",
    "        for j in vals:\n",
    "            a = i+'-'+j\n",
    "            deck.append(a) #zip(i,j)\n",
    "\n",
    "    # print(deck)\n",
    "    # print(f'Size of the deck is {len(deck)}')\n",
    "    return deck\n",
    "get_my_deck_normally()"
   ]
  },
  {
   "cell_type": "code",
   "execution_count": 2,
   "metadata": {},
   "outputs": [],
   "source": [
    "vals = ['2', '3', '4', '5', '6', '7', '8', '9', '10', 'jack', 'queen', 'king', 'ace']\n",
    "suits = ['spades', 'clubs', 'hearts', 'diamonds']\n"
   ]
  },
  {
   "cell_type": "code",
   "execution_count": 3,
   "metadata": {
    "tags": []
   },
   "outputs": [
    {
     "output_type": "stream",
     "name": "stdout",
     "text": "<map object at 0x000001FAA27E3848>\n('2', 'spades')\n('3', 'clubs')\n('4', 'hearts')\n('5', 'diamonds')\n"
    }
   ],
   "source": [
    "l = map(lambda x,y: (x,y), vals,suits)\n",
    "print(l)\n",
    "for _ in l:\n",
    "    print(_)"
   ]
  },
  {
   "cell_type": "code",
   "execution_count": 4,
   "metadata": {
    "tags": []
   },
   "outputs": [
    {
     "output_type": "execute_result",
     "data": {
      "text/plain": "[('2', 'spades'), ('3', 'clubs'), ('4', 'hearts'), ('5', 'diamonds')]"
     },
     "metadata": {},
     "execution_count": 4
    }
   ],
   "source": [
    "list(map(lambda x,y: (x,y), vals, suits))"
   ]
  },
  {
   "cell_type": "code",
   "execution_count": null,
   "metadata": {},
   "outputs": [],
   "source": [
    "Write a single expression that includes lambda, zip and map functions to select create 52 cards in a deck - 50 pts\n"
   ]
  },
  {
   "cell_type": "code",
   "execution_count": 11,
   "metadata": {},
   "outputs": [
    {
     "output_type": "execute_result",
     "data": {
      "text/plain": "[]"
     },
     "metadata": {},
     "execution_count": 11
    }
   ],
   "source": [
    "[(x,suits[len(suits)-1]) for x in vals[1] if len(suits) > 13]\n"
   ]
  },
  {
   "cell_type": "code",
   "execution_count": 73,
   "metadata": {},
   "outputs": [
    {
     "output_type": "error",
     "ename": "TypeError",
     "evalue": "<lambda>() missing 1 required positional argument: 'y'",
     "traceback": [
      "\u001b[1;31m---------------------------------------------------------------------------\u001b[0m",
      "\u001b[1;31mTypeError\u001b[0m                                 Traceback (most recent call last)",
      "\u001b[1;32m<ipython-input-73-b02b2c61be85>\u001b[0m in \u001b[0;36m<module>\u001b[1;34m\u001b[0m\n\u001b[1;32m----> 1\u001b[1;33m \u001b[0mlist\u001b[0m\u001b[1;33m(\u001b[0m\u001b[0mmap\u001b[0m\u001b[1;33m(\u001b[0m\u001b[1;32mlambda\u001b[0m \u001b[0mx\u001b[0m\u001b[1;33m,\u001b[0m\u001b[0my\u001b[0m\u001b[1;33m:\u001b[0m\u001b[1;33m[\u001b[0m\u001b[0mx\u001b[0m\u001b[1;33m,\u001b[0m\u001b[0my\u001b[0m\u001b[1;33m]\u001b[0m\u001b[1;33m,\u001b[0m \u001b[0mzip\u001b[0m\u001b[1;33m(\u001b[0m\u001b[0mvals\u001b[0m\u001b[1;33m,\u001b[0m \u001b[0msuits\u001b[0m\u001b[1;33m)\u001b[0m\u001b[1;33m)\u001b[0m\u001b[1;33m)\u001b[0m\u001b[1;33m\u001b[0m\u001b[1;33m\u001b[0m\u001b[0m\n\u001b[0m",
      "\u001b[1;31mTypeError\u001b[0m: <lambda>() missing 1 required positional argument: 'y'"
     ]
    }
   ],
   "source": [
    "list(map(lambda x,y:[x,y], zip(vals, suits))"
   ]
  },
  {
   "cell_type": "code",
   "execution_count": 69,
   "metadata": {},
   "outputs": [
    {
     "output_type": "error",
     "ename": "SyntaxError",
     "evalue": "unexpected EOF while parsing (<ipython-input-69-2fee355d9cce>, line 2)",
     "traceback": [
      "\u001b[1;36m  File \u001b[1;32m\"<ipython-input-69-2fee355d9cce>\"\u001b[1;36m, line \u001b[1;32m2\u001b[0m\n\u001b[1;33m    list(map(lambda x: (x,list(map(lambda y: y[0]),vals))\u001b[0m\n\u001b[1;37m                                                         ^\u001b[0m\n\u001b[1;31mSyntaxError\u001b[0m\u001b[1;31m:\u001b[0m unexpected EOF while parsing\n"
     ]
    }
   ],
   "source": [
    "y = suits\n",
    "list(map(lambda x: (x,list(map(lambda y: y[0]),vals))"
   ]
  },
  {
   "cell_type": "code",
   "execution_count": 10,
   "metadata": {
    "tags": []
   },
   "outputs": [
    {
     "output_type": "error",
     "ename": "SyntaxError",
     "evalue": "invalid syntax (<ipython-input-10-e03bef398d53>, line 3)",
     "traceback": [
      "\u001b[1;36m  File \u001b[1;32m\"<ipython-input-10-e03bef398d53>\"\u001b[1;36m, line \u001b[1;32m3\u001b[0m\n\u001b[1;33m    [print x for x in zip(x,y)]\u001b[0m\n\u001b[1;37m           ^\u001b[0m\n\u001b[1;31mSyntaxError\u001b[0m\u001b[1;31m:\u001b[0m invalid syntax\n"
     ]
    }
   ],
   "source": [
    "#Loop 1\n",
    "\n",
    "# Map - Apply transformation to entire list\n",
    "# Lambda - Transformation\n",
    "# Zip - Zip two iterables together\n",
    "\n",
    "# Idea 1 - Filter each element of list and apply transformation\n",
    "\n",
    "# Idea 2 - Get elements one by one and then apply transformation\n",
    "\n",
    "# 1\n",
    "\n",
    "\n",
    "\n"
   ]
  },
  {
   "cell_type": "code",
   "execution_count": 118,
   "metadata": {
    "tags": []
   },
   "outputs": [
    {
     "output_type": "error",
     "ename": "SyntaxError",
     "evalue": "invalid syntax (<ipython-input-118-1537835db3f7>, line 1)",
     "traceback": [
      "\u001b[1;36m  File \u001b[1;32m\"<ipython-input-118-1537835db3f7>\"\u001b[1;36m, line \u001b[1;32m1\u001b[0m\n\u001b[1;33m    [[x,suits[n]] for x in vals n+=n if n < len(suits)]\u001b[0m\n\u001b[1;37m                                ^\u001b[0m\n\u001b[1;31mSyntaxError\u001b[0m\u001b[1;31m:\u001b[0m invalid syntax\n"
     ]
    }
   ],
   "source": [
    "[[x,suits[n]] for x in vals n+=n if n < len(suits)]"
   ]
  },
  {
   "cell_type": "code",
   "execution_count": 119,
   "metadata": {},
   "outputs": [
    {
     "output_type": "error",
     "ename": "SyntaxError",
     "evalue": "invalid syntax (<ipython-input-119-5fa6792ab982>, line 1)",
     "traceback": [
      "\u001b[1;36m  File \u001b[1;32m\"<ipython-input-119-5fa6792ab982>\"\u001b[1;36m, line \u001b[1;32m1\u001b[0m\n\u001b[1;33m    list(map(lambda x: [x+y for x,y in suits,vals], vals))\u001b[0m\n\u001b[1;37m                                            ^\u001b[0m\n\u001b[1;31mSyntaxError\u001b[0m\u001b[1;31m:\u001b[0m invalid syntax\n"
     ]
    }
   ],
   "source": [
    "list(map(lambda x: [x+y for x,y in suits,vals], vals))"
   ]
  },
  {
   "cell_type": "code",
   "execution_count": 164,
   "metadata": {
    "tags": []
   },
   "outputs": [
    {
     "output_type": "stream",
     "name": "stdout",
     "text": "[['2-diamonds', '3-diamonds', '4-diamonds', '5-diamonds', '6-diamonds', '7-diamonds', '8-diamonds', '9-diamonds', '10-diamonds', 'jack-diamonds', 'queen-diamonds', 'king-diamonds', 'ace-diamonds'], ['2-diamonds', '3-diamonds', '4-diamonds', '5-diamonds', '6-diamonds', '7-diamonds', '8-diamonds', '9-diamonds', '10-diamonds', 'jack-diamonds', 'queen-diamonds', 'king-diamonds', 'ace-diamonds'], ['2-diamonds', '3-diamonds', '4-diamonds', '5-diamonds', '6-diamonds', '7-diamonds', '8-diamonds', '9-diamonds', '10-diamonds', 'jack-diamonds', 'queen-diamonds', 'king-diamonds', 'ace-diamonds'], ['2-diamonds', '3-diamonds', '4-diamonds', '5-diamonds', '6-diamonds', '7-diamonds', '8-diamonds', '9-diamonds', '10-diamonds', 'jack-diamonds', 'queen-diamonds', 'king-diamonds', 'ace-diamonds']]\n"
    }
   ],
   "source": [
    "def get_deck_oneline():\n",
    "    return [list(zip(map(lambda x: x+\"-\"+suits[t], vals))) for t in range(4)]\n",
    "\n",
    "\n",
    "# Iterate over another list\n",
    "\n",
    "# lambda x: list(map())\n"
   ]
  },
  {
   "cell_type": "code",
   "execution_count": 248,
   "metadata": {
    "tags": []
   },
   "outputs": [
    {
     "output_type": "error",
     "ename": "NameError",
     "evalue": "name 'vals' is not defined",
     "traceback": [
      "\u001b[1;31m---------------------------------------------------------------------------\u001b[0m",
      "\u001b[1;31mNameError\u001b[0m                                 Traceback (most recent call last)",
      "\u001b[1;32m<ipython-input-248-2dcbcac2619a>\u001b[0m in \u001b[0;36m<module>\u001b[1;34m\u001b[0m\n\u001b[1;32m----> 1\u001b[1;33m \u001b[0ma\u001b[0m\u001b[1;33m=\u001b[0m \u001b[1;33m[\u001b[0m\u001b[0mlist\u001b[0m\u001b[1;33m(\u001b[0m\u001b[0mzip\u001b[0m\u001b[1;33m(\u001b[0m\u001b[0mmap\u001b[0m\u001b[1;33m(\u001b[0m\u001b[1;32mlambda\u001b[0m \u001b[0mx\u001b[0m\u001b[1;33m:\u001b[0m \u001b[0mx\u001b[0m\u001b[1;33m+\u001b[0m\u001b[1;34m\"-\"\u001b[0m\u001b[1;33m+\u001b[0m\u001b[0msuits\u001b[0m\u001b[1;33m[\u001b[0m\u001b[0mt\u001b[0m\u001b[1;33m]\u001b[0m\u001b[1;33m,\u001b[0m \u001b[0mvals\u001b[0m\u001b[1;33m)\u001b[0m\u001b[1;33m)\u001b[0m\u001b[1;33m)\u001b[0m \u001b[1;32mfor\u001b[0m \u001b[0mt\u001b[0m \u001b[1;32min\u001b[0m \u001b[0mrange\u001b[0m\u001b[1;33m(\u001b[0m\u001b[1;36m4\u001b[0m\u001b[1;33m)\u001b[0m\u001b[1;33m]\u001b[0m\u001b[1;33m\u001b[0m\u001b[1;33m\u001b[0m\u001b[0m\n\u001b[0m\u001b[0;32m      2\u001b[0m \u001b[0mprint\u001b[0m\u001b[1;33m(\u001b[0m\u001b[0ma\u001b[0m\u001b[1;33m)\u001b[0m\u001b[1;33m\u001b[0m\u001b[1;33m\u001b[0m\u001b[0m\n",
      "\u001b[1;32m<ipython-input-248-2dcbcac2619a>\u001b[0m in \u001b[0;36m<listcomp>\u001b[1;34m(.0)\u001b[0m\n\u001b[1;32m----> 1\u001b[1;33m \u001b[0ma\u001b[0m\u001b[1;33m=\u001b[0m \u001b[1;33m[\u001b[0m\u001b[0mlist\u001b[0m\u001b[1;33m(\u001b[0m\u001b[0mzip\u001b[0m\u001b[1;33m(\u001b[0m\u001b[0mmap\u001b[0m\u001b[1;33m(\u001b[0m\u001b[1;32mlambda\u001b[0m \u001b[0mx\u001b[0m\u001b[1;33m:\u001b[0m \u001b[0mx\u001b[0m\u001b[1;33m+\u001b[0m\u001b[1;34m\"-\"\u001b[0m\u001b[1;33m+\u001b[0m\u001b[0msuits\u001b[0m\u001b[1;33m[\u001b[0m\u001b[0mt\u001b[0m\u001b[1;33m]\u001b[0m\u001b[1;33m,\u001b[0m \u001b[0mvals\u001b[0m\u001b[1;33m)\u001b[0m\u001b[1;33m)\u001b[0m\u001b[1;33m)\u001b[0m \u001b[1;32mfor\u001b[0m \u001b[0mt\u001b[0m \u001b[1;32min\u001b[0m \u001b[0mrange\u001b[0m\u001b[1;33m(\u001b[0m\u001b[1;36m4\u001b[0m\u001b[1;33m)\u001b[0m\u001b[1;33m]\u001b[0m\u001b[1;33m\u001b[0m\u001b[1;33m\u001b[0m\u001b[0m\n\u001b[0m\u001b[0;32m      2\u001b[0m \u001b[0mprint\u001b[0m\u001b[1;33m(\u001b[0m\u001b[0ma\u001b[0m\u001b[1;33m)\u001b[0m\u001b[1;33m\u001b[0m\u001b[1;33m\u001b[0m\u001b[0m\n",
      "\u001b[1;31mNameError\u001b[0m: name 'vals' is not defined"
     ]
    }
   ],
   "source": [
    "a= [list(zip(map(lambda x: x+\"-\"+suits[t], vals))) for t in range(4)]\n",
    "print(a)"
   ]
  },
  {
   "cell_type": "code",
   "execution_count": 182,
   "metadata": {
    "tags": []
   },
   "outputs": [
    {
     "output_type": "stream",
     "name": "stdout",
     "text": "<zip object at 0x000001FAA536F448>\n<zip object at 0x000001FAA536F448>\n<zip object at 0x000001FAA536F448>\n<zip object at 0x000001FAA536F448>\n"
    }
   ],
   "source": [
    "# Write a function that, when given 2 sets of 3 or 4 or 5 cards (1 game can only have 3 cards with each player or 4 cards or 5 cards per player) (1 deck of cards only), (2 players only), can identify who won the game of poker\n",
    "\n",
    "a = ziplist(map(lambda x: x+\"-\"+suits[t], vals) for t in range(4))\n",
    "\n",
    "for i in a:\n",
    "    print(i)"
   ]
  },
  {
   "cell_type": "code",
   "execution_count": 245,
   "metadata": {},
   "outputs": [],
   "source": [
    "value_dict = {'2':2, '3':3, '4':4, '5':5, '6':6, '7':7, '8':8, '9':9, '10':10, 'jack':11, 'queen':12, 'king':13, 'ace':14, 'spades':1, 'clubs':1, 'hearts':1, 'diamonds':1}\n",
    "suits = ['spades', 'clubs', 'hearts', 'diamonds']\n",
    "\n",
    "def get_player_score(a:list) -> dict:\n",
    "    '''Checks the values supplied by the user as input to the list'''\n",
    "    correct_value = False\n",
    "    vals_score = []\n",
    "    rank = 0\n",
    "    deck_type = \"\"\n",
    "\n",
    "    for cont in a:\n",
    "\n",
    "        for _ in cont.split(\"-\"):\n",
    "\n",
    "            if str(_).lower() in value_dict:\n",
    "                pass\n",
    "\n",
    "            else:\n",
    "                raise ValueError('Incorrect Values supplied')\n",
    "    # Dict of Vals\n",
    "    in_vals = [x.split(\"-\")[0] for x in a] # Count of the vals received in the function\n",
    "    vals_count_dict = {i:in_vals.count(i) for i in in_vals}\n",
    "\n",
    "    # Dict of suits\n",
    "    in_suits = [x.split(\"-\")[1] for x in a] # Count of the suits received in the function\n",
    "    \n",
    "    # Score of suit cards\n",
    "    vals_score = sorted([value_dict[t] for t in in_vals], reverse=True)\n",
    "    suits_dict = {i:in_suits.count(i) for i in in_suits} # Counting elements of suits dict++\n",
    "    suits_list = sorted(suits_dict, reverse=True) # Sorting the Suits dict\n",
    "\n",
    "    # Test cases\n",
    "    # 1 Royal Flush\n",
    "    if sum([(t-s) for t,s in(zip(vals_score,vals_score[1:]))])  == len(a)-1 and sum(vals_score) > len(a)*10 and len(suits_dict) == 1:\n",
    "        rank = 1\n",
    "        deck_type = \"Royal Flush\"\n",
    "        print(f'Royal Flush {rank}')\n",
    "\n",
    "    # 2 Straight Flush\n",
    "    elif sum([(t-s) for t,s in(zip(vals_score,vals_score[1:]))])  == len(a)-1 and sum(vals_score) < len(a)*10 and len(suits_dict) == 1:\n",
    "        rank = 2\n",
    "        deck_type = \"Straight Flush\"\n",
    "        print(f'Straight Flush {rank}')\n",
    "\n",
    "    # 6 Straight\n",
    "    elif sum([(t-s) for t,s in(zip(vals_score,vals_score[1:]))])  == len(a)-1:\n",
    "        rank = 6\n",
    "        deck_type = \"Straight\"\n",
    "        print(f'Straight - Rank {rank}')\n",
    "\n",
    "    # 3 Four of a kind\n",
    "    elif any(v == 4 for v in vals_count_dict.values()):\n",
    "        rank = 3\n",
    "        deck_type = \"Four of a kind\"\n",
    "        print(f'Four of a kind {rank}')\n",
    "\n",
    "    # 4 Full House\n",
    "\n",
    "    elif any(v == 3 for v in vals_count_dict.values()) and list(v == 2 for v in vals_count_dict.values()).count(True) == 1:\n",
    "        rank = 4\n",
    "        deck_type = \"Full House\"\n",
    "        print(f'Full house {rank}')\n",
    "\n",
    "    # 7 Three of a kind\n",
    "    elif any(v == 3 for v in vals_count_dict.values()):\n",
    "        rank = 7\n",
    "        deck_type = \"Three of a kind\"\n",
    "        print(f'Three of a kind {rank}')\n",
    "\n",
    "    # 8 Two pairs\n",
    "    elif list(v == 2 for v in vals_count_dict.values()).count(True) == 2:\n",
    "        rank = 8\n",
    "        deck_type = \"Two pairs\"\n",
    "        print(f'Two pairs {rank}')\n",
    "\n",
    "    # 9 One pair\n",
    "    elif list(v == 2 for v in vals_count_dict.values()).count(True) == 1:\n",
    "        rank = 9\n",
    "        deck_type = \"One pair\"\n",
    "        print(f'One pair {rank}')\n",
    "\n",
    "    # 5 Flush\n",
    "    elif len(suits_dict) == 1:\n",
    "        rank = 5\n",
    "        deck_type = \"Flush\"\n",
    "        print('Flush')\n",
    "    \n",
    "    # 10 High Card\n",
    "    else:\n",
    "        rank = 10\n",
    "        deck_type = \"High Card\"\n",
    "        print(f'High card {rank}')\n",
    "        \n",
    "\n",
    "    return {'rank': rank, 'score':sum(vals_score), 'deck_type':deck_type}\n",
    "\n",
    "\n",
    "def kinda_poker(a:list, b:list) -> list:\n",
    "    '''If you don't have any money and currently going through a Quater life crisis, then playing this game is perfect for you.\n",
    "    kinda_poker(list1, list2) -> winner_list - Checks the type of cards and computes a score to predict who wins'''\n",
    "    \n",
    "    winner = None\n",
    "    \n",
    "    if (len(a) in range(3,6)) and (len(b) in range(3,6)) and len(a) == len(b):\n",
    "        score_a = get_player_score(a)\n",
    "        score_b = get_player_score(b)\n",
    "        \n",
    "        if score_a['rank'] < score_b['rank']:\n",
    "            winner = a\n",
    "        elif score_a['rank'] == score_b['rank']:\n",
    "            if score_a['score'] > score_b['score']:\n",
    "                winner = a\n",
    "            else:\n",
    "                winner = b\n",
    "        elif score_a['rank'] > score_b['rank']:\n",
    "            winner = b\n",
    "\n",
    "        return winner\n",
    "        \n",
    "    else: # Cards check\n",
    "        raise ValueError('Only players between 3 and 5 are allowed and size of lists must be equal')\n"
   ]
  },
  {
   "cell_type": "code",
   "execution_count": 247,
   "metadata": {},
   "outputs": [],
   "source": [
    "# 22\n",
    "def test_score_doc():\n",
    "    '''Checks if the poker function has docstrings or not'''\n",
    "    assert get_player_score.__doc__ != None, \"The Score code is also unworthy, can't hold Mjölnir\"\n",
    "test_score_doc()\n",
    "# 23\n",
    "def test_score_annotations():\n",
    "    '''Checks if the poker function has annotations or not'''\n",
    "    assert get_player_score.__annotations__ !=  None, \"The Score code is also unworthy, can't hold Mjölnir\"\n",
    "test_score_annotations()\n",
    "\n",
    "# 24\n",
    "\n",
    "def test_scoreing():\n",
    "    '''Checks the output of the scoring function by \n"
   ]
  },
  {
   "cell_type": "code",
   "execution_count": 244,
   "metadata": {
    "tags": []
   },
   "outputs": [
    {
     "output_type": "stream",
     "name": "stdout",
     "text": "Royal Flush 1\nStraight Flush 2\nFour of a kind 3\nFull house 4\nFlush\nStraight - Rank 6\nThree of a kind 7\nTwo pairs 8\nOne pair 9\nHigh card 10\n"
    }
   ],
   "source": [
    "# 12\n",
    "def test_royalflush():\n",
    "    ''' Tests the properties when RoyalFlush is sent as Input'''\n",
    "    a = ['ace-hearts', 'queen-hearts', 'king-hearts']\n",
    "    score = get_player_score(a)\n",
    "    assert score['rank'] == 1, \"RoyalFlush is ranked 1\"\n",
    "    assert score['deck_type'] == \"Royal Flush\"\n",
    "\n",
    "test_royalflush()\n",
    "\n",
    "# 13\n",
    "\n",
    "def test_straightflush():\n",
    "    '''Tests the properties when RoyalFlush is sent as Input'''\n",
    "    a = ['10-hearts', '9-hearts', '8-hearts', '7-hearts']\n",
    "    score = get_player_score(a)\n",
    "    assert score['rank'] == 2, \"RoyalFlush is ranked 1\"\n",
    "    assert score['deck_type'] == \"Straight Flush\"\n",
    "\n",
    "test_straightflush()\n",
    "\n",
    "# 14\n",
    "def test_fourkind():\n",
    "    '''Tests the properties when Four of a kind is sent as Input'''\n",
    "    a = ['queen-hearts', 'queen-spades', 'queen-diamonds', 'queen-clubs', '5-clubs']\n",
    "    score = get_player_score(a)\n",
    "    assert score['rank'] == 3, \"RoyalFlush is ranked 1\"\n",
    "    assert score['deck_type'] == \"Four of a kind\"\n",
    "test_fourkind()\n",
    "\n",
    "# 15\n",
    "\n",
    "def test_fullhouse():\n",
    "    '''Tests the properties when Full House is sent as Input'''\n",
    "    a = ['ace-hearts', 'ace-spades', 'ace-diamonds', 'king-clubs', 'king-hearts']\n",
    "    score = get_player_score(a)\n",
    "    assert score['rank'] == 4\n",
    "    assert score['deck_type'] == \"Full House\"\n",
    "\n",
    "test_fullhouse()\n",
    "\n",
    "# 16\n",
    "\n",
    "def test_flush():\n",
    "    '''Tests the properties when Flush is sent as Input'''\n",
    "    a = ['king-hearts', '8-hearts','6-hearts','4-hearts','2-hearts',]\n",
    "    score = get_player_score(a)\n",
    "    assert score['rank'] == 5\n",
    "    assert score['deck_type'] == \"Flush\"\n",
    "\n",
    "test_flush()\n",
    "\n",
    "# 17\n",
    "\n",
    "def test_straight():\n",
    "    '''Tests the properties when straight is sent as Input'''\n",
    "    a = ['8-hearts','7-clubs','6-hearts','5-diamonds', '4-spades']\n",
    "    score = get_player_score(a)\n",
    "    assert score['rank'] == 6\n",
    "    assert score['deck_type'] == \"Straight\"\n",
    "\n",
    "test_straight()\n",
    "\n",
    "# 18\n",
    "def test_three_kind():\n",
    "    '''Tests the properties when three of a kind is sent as Input'''\n",
    "    a = ['queen-hearts','queen-clubs','7-hearts','queen-diamonds', '4-spades']\n",
    "    score = get_player_score(a)\n",
    "    assert score['rank'] == 7\n",
    "    assert score['deck_type'] == \"Three of a kind\"\n",
    "\n",
    "test_three_kind()\n",
    "\n",
    "# 19\n",
    "def test_two_pair():\n",
    "    '''Tests the properties when two_pair is sent as Input'''\n",
    "    a = ['queen-hearts','queen-clubs','9-hearts','9-diamonds', '4-spades']\n",
    "    score = get_player_score(a)\n",
    "    assert score['rank'] == 8\n",
    "    assert score['deck_type'] == \"Two pairs\"\n",
    "\n",
    "test_two_pair()\n",
    "\n",
    "# 20\n",
    "def test_one_pair():\n",
    "    '''Tests the properties when one_pair is sent as Input'''\n",
    "    a = ['queen-hearts','queen-clubs','9-hearts','8-diamonds', '4-spades']\n",
    "    score = get_player_score(a)\n",
    "    assert score['rank'] == 9\n",
    "    assert score['deck_type'] == \"One pair\"\n",
    "\n",
    "test_one_pair()\n",
    "\n",
    "# 21\n",
    "def test_high_card():\n",
    "    '''Tests the properties when high_card is sent as Input'''\n",
    "    a = ['ace-hearts','queen-clubs','10-hearts','9-diamonds', '4-spades']\n",
    "    score = get_player_score(a)\n",
    "    assert score['rank'] == 10\n",
    "    assert score['deck_type'] == \"High Card\"\n",
    "\n",
    "test_high_card()"
   ]
  },
  {
   "cell_type": "code",
   "execution_count": null,
   "metadata": {},
   "outputs": [],
   "source": []
  },
  {
   "cell_type": "code",
   "execution_count": 226,
   "metadata": {
    "tags": []
   },
   "outputs": [
    {
     "output_type": "stream",
     "name": "stdout",
     "text": "Two pairs 8\nStraight - Rank 6\n"
    },
    {
     "output_type": "execute_result",
     "data": {
      "text/plain": "(True, 'Full house should win')"
     },
     "metadata": {},
     "execution_count": 226
    }
   ],
   "source": [
    "    # 5 Two pairs vs Full House\n",
    "    a = ['queen-hearts', 'ace-hearts', 'queen-diamonds', 'jack-diamonds', 'jack-clubs']\n",
    "    b = ['ace-spades', 'ace-hearts', 'king-hearts', '10-spades', 'ace-diamonds']\n",
    "    kinda_poker(a, b) == b, \"Full house should win\""
   ]
  },
  {
   "cell_type": "code",
   "execution_count": 197,
   "metadata": {
    "tags": []
   },
   "outputs": [
    {
     "output_type": "execute_result",
     "data": {
      "text/plain": "[3, 4]"
     },
     "metadata": {},
     "execution_count": 197
    }
   ],
   "source": [
    "list(range(3,5))"
   ]
  },
  {
   "cell_type": "code",
   "execution_count": 210,
   "metadata": {
    "tags": []
   },
   "outputs": [
    {
     "output_type": "stream",
     "name": "stdout",
     "text": "Two pairs 8\nPlayer A score ['queen-hearts', 'queen-clubs', 'jack-diamonds', 'jack-diamonds', 'king-diamonds']\nStraight Flush 2\nPlayer B score ['10-hearts', '9-hearts', '8-hearts', '7-hearts', '6-hearts']\nTwo pairs 8\nPlayer A score ['queen-hearts', 'queen-clubs', 'jack-diamonds', 'jack-diamonds', 'king-diamonds']\nRoyal Flush 1\nPlayer B score ['ace-hearts', 'king-hearts', 'queen-hearts', '10-hearts', 'jack-hearts']\nTwo pairs 8\nPlayer A score ['queen-hearts', 'queen-clubs', 'jack-diamonds', 'jack-diamonds', 'king-diamonds']\nFlush\nPlayer B score ['ace-hearts', '8-hearts', '2-hearts', '10-hearts', 'jack-hearts']\nTwo pairs 8\nPlayer A score ['queen-hearts', 'queen-clubs', 'jack-diamonds', 'jack-diamonds', 'king-diamonds']\nStraight\nPlayer B score ['ace-hearts', 'ace-spades', 'ace-diamonds', '10-hearts', 'jack-hearts']\n"
    }
   ],
   "source": [
    "    # 17 Two pair vs Straight Flush\n",
    "    a = ['queen-hearts', 'queen-clubs', 'jack-diamonds', 'jack-diamonds', 'king-diamonds']\n",
    "    b = ['10-hearts', '9-hearts', '8-hearts', '7-hearts', '6-hearts']\n",
    "    assert kinda_poker(a, b) == b, \"Straight Flush wins here\"\n",
    "\n",
    "    # 18 Two pair vs Royal Flush\n",
    "    a = ['queen-hearts', 'queen-clubs', 'jack-diamonds', 'jack-diamonds', 'king-diamonds']\n",
    "    b = ['ace-hearts', 'king-hearts', 'queen-hearts', '10-hearts', 'jack-hearts']\n",
    "    assert kinda_poker(a, b) == b, \"Royal Flush wins here\"\n",
    "\n",
    "    # 19 Two pair vs Flush\n",
    "    a = ['queen-hearts', 'queen-clubs', 'jack-diamonds', 'jack-diamonds', 'king-diamonds']\n",
    "    b = ['ace-hearts', '8-hearts', '2-hearts', '10-hearts', 'jack-hearts']\n",
    "    assert kinda_poker(a, b) == b, \"Flush wins here\"\n",
    "\n",
    "    # 20 Two pair vs Three of a kind\n",
    "    a = ['queen-hearts', 'queen-clubs', 'jack-diamonds', 'jack-diamonds', 'king-diamonds']\n",
    "    b = ['ace-hearts', 'ace-spades', 'ace-diamonds', '10-hearts', 'jack-hearts']\n",
    "    assert kinda_poker(a, b) == b, \"Three of a kind wins here\"\n",
    "\n",
    "\n"
   ]
  },
  {
   "cell_type": "code",
   "execution_count": 220,
   "metadata": {
    "tags": []
   },
   "outputs": [
    {
     "output_type": "stream",
     "name": "stdout",
     "text": "Four of a kind 3\nPlayer A score ['queen-hearts', 'queen-clubs', 'queen-diamonds', 'queen-spades']\nStraight\nPlayer B score ['10-hearts', 'queen-hearts', 'king-hearts', 'king-spades']\nThree of a kind 7\nPlayer A score ['queen-hearts', 'queen-clubs', 'queen-diamonds']\nStraight Flush 2\nPlayer B score ['10-hearts', '9-hearts', '8-hearts']\nRoyal Flush 1\nPlayer A score ['ace-hearts', 'queen-hearts', 'king-hearts']\nRoyal Flush 1\nPlayer B score ['jack-hearts', 'queen-hearts', '10-hearts']\nTwo pairs 8\nPlayer A score ['queen-hearts', 'queen-clubs', 'jack-diamonds', 'jack-diamonds', 'king-diamonds']\nOne pair 9\nPlayer B score ['10-hearts', 'queen-hearts', 'king-hearts', 'king-spades', '2-hearts']\nTwo pairs 8\nPlayer A score ['queen-hearts', 'ace-hearts', 'queen-diamonds', 'jack-diamonds', 'jack-clubs']\nTwo pairs 8\nPlayer B score ['queen-spades', 'queen-hearts', 'king-hearts', 'king-spades', '2-hearts']\nFlush\nPlayer A score ['king-hearts', '8-hearts', '6-hearts', '4-hearts', '2-hearts']\nHigh card 10\nPlayer B score ['10-spades', 'queen-hearts', 'king-hearts', '8-spades', '2-hearts']\nStraight\nPlayer A score ['ace-hearts', 'queen-hearts', 'king-diamonds']\nStraight\nPlayer B score ['8-hearts', '7-spades', '6-diamonds']\nThree of a kind 7\nPlayer A score ['queen-hearts', 'queen-clubs', 'queen-diamonds']\nStraight Flush 2\nPlayer B score ['9-hearts', '8-hearts', '7-hearts']\nThree of a kind 7\nPlayer A score ['queen-hearts', 'queen-clubs', 'queen-diamonds']\nFlush\nPlayer B score ['10-hearts', '2-hearts', '8-hearts']\nThree of a kind 7\nPlayer A score ['queen-hearts', 'queen-clubs', 'queen-diamonds']\nHigh card 10\nPlayer B score ['10-hearts', '2-spades', '8-hearts']\nRoyal Flush 1\nPlayer A score ['ace-hearts', 'queen-hearts', 'king-hearts']\nStraight\nPlayer B score ['jack-spades', 'queen-hearts', '10-hearts']\nRoyal Flush 1\nPlayer A score ['ace-hearts', 'queen-hearts', 'king-hearts']\nHigh card 10\nPlayer B score ['jack-spades', 'queen-hearts', '2-hearts']\nRoyal Flush 1\nPlayer A score ['ace-hearts', 'queen-hearts', 'king-hearts']\nThree of a kind 7\nPlayer B score ['jack-spades', 'jack-hearts', 'jack-diamonds']\nTwo pairs 8\nPlayer A score ['queen-hearts', 'ace-hearts', 'queen-diamonds', 'jack-diamonds', 'jack-clubs']\nHigh card 10\nPlayer B score ['ace-spades', 'queen-hearts', 'king-hearts', '10-spades', '9-diamonds']\nTwo pairs 8\nPlayer A score ['queen-hearts', 'ace-hearts', 'queen-diamonds', 'jack-diamonds', 'jack-clubs']\nStraight\nPlayer B score ['ace-spades', 'ace-hearts', 'king-hearts', '10-spades', 'ace-diamonds']\nRoyal Flush 1\nPlayer A score ['king-clubs', 'queen-clubs', 'ace-clubs']\nStraight Flush 2\nPlayer B score ['10-hearts', '9-hearts', '8-hearts']\nTwo pairs 8\nPlayer A score ['queen-hearts', 'queen-clubs', 'jack-diamonds', 'jack-diamonds', 'king-diamonds']\nHigh card 10\nPlayer B score ['10-hearts', 'ace-hearts', 'king-hearts', '9-spades', '2-hearts']\nTwo pairs 8\nPlayer A score ['queen-hearts', 'queen-clubs', 'jack-diamonds', 'jack-diamonds', 'king-diamonds']\nRoyal Flush 1\nPlayer B score ['ace-hearts', 'king-hearts', 'queen-hearts', '10-hearts', 'jack-hearts']\nTwo pairs 8\nPlayer A score ['queen-hearts', 'queen-clubs', 'jack-diamonds', 'jack-diamonds', 'king-diamonds']\nFlush\nPlayer B score ['ace-hearts', '8-hearts', '2-hearts', '10-hearts', 'jack-hearts']\nTwo pairs 8\nPlayer A score ['queen-hearts', 'queen-clubs', 'jack-diamonds', 'jack-diamonds', 'king-diamonds']\nStraight\nPlayer B score ['ace-hearts', 'ace-spades', 'ace-diamonds', '10-hearts', 'jack-hearts']\nTwo pairs 8\nPlayer A score ['queen-hearts', 'queen-clubs', 'jack-diamonds', 'jack-diamonds', 'king-diamonds']\nStraight Flush 2\nPlayer B score ['10-hearts', '9-hearts', '8-hearts', '7-hearts', '6-hearts']\n"
    }
   ],
   "source": [
    "# Four of a kind\n",
    "def test_sattebaazi():\n",
    "    # 1 Four  of a kind vs \n",
    "    a = ['queen-hearts', 'queen-clubs', 'queen-diamonds', 'queen-spades']\n",
    "    b = ['10-hearts', 'queen-hearts', 'king-hearts', 'king-spades']\n",
    "    assert kinda_poker(a,b) == a, \"Four of a kind works\"\n",
    "\n",
    "    # 2 Three of a kind vs Straight flush\n",
    "    a = ['queen-hearts', 'queen-clubs', 'queen-diamonds']\n",
    "    b = ['10-hearts', '9-hearts', '8-hearts']\n",
    "    assert kinda_poker(a, b) == b, \"Three of a kind works\"\n",
    "\n",
    "    # 3 Royal Flush vs Royal Flush\n",
    "    a = ['ace-hearts', 'queen-hearts', 'king-hearts']\n",
    "    b = ['jack-hearts', 'queen-hearts', '10-hearts']\n",
    "    assert kinda_poker(a, b) == a, \"Higher order royal flush works\"\n",
    "\n",
    "    # 4 Two pair vs one pair\n",
    "    a = ['queen-hearts', 'queen-clubs', 'jack-diamonds', 'jack-diamonds', 'king-diamonds']\n",
    "    b = ['10-hearts', 'queen-hearts', 'king-hearts', 'king-spades', '2-hearts']\n",
    "    assert kinda_poker(a, b) == a, \"Two pair works\"\n",
    "\n",
    "    # 5 Full House vs one pair\n",
    "    a = ['queen-hearts', 'ace-hearts', 'queen-diamonds', 'jack-diamonds', 'jack-clubs']\n",
    "    b = ['queen-spades', 'queen-hearts', 'king-hearts', 'king-spades', '2-hearts']\n",
    "    assert kinda_poker(a, b) == a, \"Full house should win\"\n",
    "\n",
    "    # 6 Flush vs High card\n",
    "    a = ['king-hearts', '8-hearts', '6-hearts', '4-hearts', '2-hearts']\n",
    "    b = ['10-spades', 'queen-hearts', 'king-hearts', '8-spades', '2-hearts']\n",
    "    assert kinda_poker(a, b) == a, \"Flush should win\"\n",
    "\n",
    "    # 7 Straight vs Straight\n",
    "    a = ['ace-hearts', 'queen-hearts', 'king-diamonds']\n",
    "    b = ['8-hearts', '7-spades', '6-diamonds']\n",
    "    assert kinda_poker(a, b) == a, \"a is a bigger straight\"\n",
    "\n",
    "    # 8 Three of a kind vs Straight flush\n",
    "    a = ['queen-hearts', 'queen-clubs', 'queen-diamonds']\n",
    "    b = ['9-hearts', '8-hearts', '7-hearts']\n",
    "    assert kinda_poker(a, b) == b\n",
    "\n",
    "    # 9 Three of a kind vs flush\n",
    "    a = ['queen-hearts', 'queen-clubs', 'queen-diamonds']\n",
    "    b = ['10-hearts', '2-hearts', '8-hearts']\n",
    "    assert kinda_poker(a, b) == b\n",
    "    \n",
    "    # 10 Three of a kind vs High card\n",
    "    a = ['queen-hearts', 'queen-clubs', 'queen-diamonds']\n",
    "    b = ['10-hearts', '2-spades', '8-hearts']\n",
    "    assert kinda_poker(a, b) == a\n",
    "\n",
    "    # 11 Royal Flush vs Straight\n",
    "\n",
    "    a = ['ace-hearts', 'queen-hearts', 'king-hearts']\n",
    "    b = ['jack-spades', 'queen-hearts', '10-hearts']\n",
    "    assert kinda_poker(a, b) == a\n",
    "\n",
    "    # 12 Royal Flush vs High Card\n",
    "    a = ['ace-hearts', 'queen-hearts', 'king-hearts']\n",
    "    b = ['jack-spades', 'queen-hearts', '2-hearts']\n",
    "    assert kinda_poker(a, b) == a\n",
    "\n",
    "    # 13 Royal Flush vs 3 of a kind\n",
    "    a = ['ace-hearts', 'queen-hearts', 'king-hearts']\n",
    "    b = ['jack-spades', 'jack-hearts', 'jack-diamonds']\n",
    "    assert kinda_poker(a, b) == a\n",
    "\n",
    "    # 14 Two pairs vs High card\n",
    "    a = ['queen-hearts', 'ace-hearts', 'queen-diamonds', 'jack-diamonds', 'jack-clubs']\n",
    "    b = ['ace-spades', 'queen-hearts', 'king-hearts', '10-spades', '9-diamonds']\n",
    "    assert kinda_poker(a, b) == a, \"Full house should win\"\n",
    "\n",
    "    # 5 Two pairs vs Full House\n",
    "    a = ['queen-hearts', 'ace-hearts', 'queen-diamonds', 'jack-diamonds', 'jack-clubs']\n",
    "    b = ['ace-spades', 'ace-hearts', 'king-hearts', '10-spades', 'ace-diamonds']\n",
    "    assert kinda_poker(a, b) == b, \"Full house should win\"\n",
    "\n",
    "    # 16 Royal flush vs Straight Flush\n",
    "    a = ['king-clubs', 'queen-clubs', 'ace-clubs']\n",
    "    b = ['10-hearts', '9-hearts', '8-hearts']\n",
    "    assert kinda_poker(a, b) == a, \"Three of a kind works\"\n",
    "\n",
    "    # 17 Two pair vs High card\n",
    "    a = ['queen-hearts', 'queen-clubs', 'jack-diamonds', 'jack-diamonds', 'king-diamonds']\n",
    "    b = ['10-hearts', 'ace-hearts', 'king-hearts', '9-spades', '2-hearts']\n",
    "    assert kinda_poker(a, b) == a, \"Two pair works\"\n",
    "\n",
    "    # 18 Two pair vs Royal Flush\n",
    "    a = ['queen-hearts', 'queen-clubs', 'jack-diamonds', 'jack-diamonds', 'king-diamonds']\n",
    "    b = ['ace-hearts', 'king-hearts', 'queen-hearts', '10-hearts', 'jack-hearts']\n",
    "    assert kinda_poker(a, b) == b, \"Royal Flush wins here\"\n",
    "\n",
    "    # 19 Two pair vs Flush\n",
    "    a = ['queen-hearts', 'queen-clubs', 'jack-diamonds', 'jack-diamonds', 'king-diamonds']\n",
    "    b = ['ace-hearts', '8-hearts', '2-hearts', '10-hearts', 'jack-hearts']\n",
    "    assert kinda_poker(a, b) == b, \"Flush wins here\"\n",
    "\n",
    "    # 20 Two pair vs Three of a kind\n",
    "    a = ['queen-hearts', 'queen-clubs', 'jack-diamonds', 'jack-diamonds', 'king-diamonds']\n",
    "    b = ['ace-hearts', 'ace-spades', 'ace-diamonds', '10-hearts', 'jack-hearts']\n",
    "    assert kinda_poker(a, b) == b, \"Three of a kind wins here\"\n",
    "    \n",
    "    # 21 Two pair vs Straight Flush\n",
    "    a = ['queen-hearts', 'queen-clubs', 'jack-diamonds', 'jack-diamonds', 'king-diamonds']\n",
    "    b = ['10-hearts', '9-hearts', '8-hearts', '7-hearts', '6-hearts']\n",
    "    assert kinda_poker(a, b) == b, \"Straight Flush wins here\"\n",
    "\n",
    "\n",
    "test_sattebaazi()\n",
    "\n",
    "\n",
    "\n"
   ]
  },
  {
   "cell_type": "code",
   "execution_count": 56,
   "metadata": {
    "tags": []
   },
   "outputs": [
    {
     "output_type": "stream",
     "name": "stdout",
     "text": "in_vals  ['ace', 'queen', 'king']\nvals count  {'ace': 1, 'queen': 1, 'king': 1}\nvals_score  [14, 13, 12]\nsuits_dict {'hearts': 3}\n[1, 1]\nRoyal Flush\nPlayer A score 39\nin_vals  ['ace', 'queen', 'king']\nvals count  {'ace': 1, 'queen': 1, 'king': 1}\nvals_score  [14, 13, 12]\nsuits_dict {'hearts': 3}\n[1, 1]\nRoyal Flush\nPlayer B score 39\nWinner is 39\n"
    },
    {
     "output_type": "execute_result",
     "data": {
      "text/plain": "39"
     },
     "metadata": {},
     "execution_count": 56
    }
   ],
   "source": [
    "#Royal Flush vs Royal Flush\n",
    "kinda_poker(['ace-hearts', 'queen-hearts', 'king-hearts'], ['ace-hearts', 'queen-hearts', 'king-hearts'])"
   ]
  },
  {
   "cell_type": "code",
   "execution_count": 127,
   "metadata": {
    "tags": []
   },
   "outputs": [
    {
     "output_type": "stream",
     "name": "stdout",
     "text": "in_vals  ['ace', 'queen', 'king']\nvals count dict  {'ace': 1, 'queen': 1, 'king': 1}\nvals_score  [14, 13, 12]\nsuits_dict {'hearts': 2, 'diamonds': 1}\n[1, 1]\nStraight\nPlayer A score 39\nin_vals  ['8', '7', '6']\nvals count dict  {'8': 1, '7': 1, '6': 1}\nvals_score  [8, 7, 6]\nsuits_dict {'hearts': 1, 'spades': 1, 'diamonds': 1}\n[1, 1]\nStraight\nPlayer B score 21\nWinner is 39\n"
    },
    {
     "output_type": "execute_result",
     "data": {
      "text/plain": "39"
     },
     "metadata": {},
     "execution_count": 127
    }
   ],
   "source": [
    "# Straight vs Straight\n",
    "kinda_poker(['ace-hearts', 'queen-hearts', 'king-diamonds'], ['8-hearts', '7-spades', '6-diamonds'])"
   ]
  },
  {
   "cell_type": "code",
   "execution_count": 58,
   "metadata": {
    "tags": []
   },
   "outputs": [
    {
     "output_type": "stream",
     "name": "stdout",
     "text": "in_vals  ['10', 'queen', 'king']\nvals count  {'10': 1, 'queen': 1, 'king': 1}\nvals_score  [13, 12, 10]\nsuits_dict {'hearts': 3}\n[1, 2]\nThree of a kind\nPlayer A score 35\nin_vals  ['10', 'queen', 'king']\nvals count  {'10': 1, 'queen': 1, 'king': 1}\nvals_score  [13, 12, 10]\nsuits_dict {'hearts': 3}\n[1, 2]\nThree of a kind\nPlayer B score 35\nWinner is 35\n"
    },
    {
     "output_type": "execute_result",
     "data": {
      "text/plain": "35"
     },
     "metadata": {},
     "execution_count": 58
    }
   ],
   "source": [
    "#FLush vs Straight Flush\n",
    "\n",
    "kinda_poker(['10-hearts', 'queen-hearts', 'king-hearts'], ['10-hearts', 'queen-hearts', 'king-hearts'])"
   ]
  },
  {
   "cell_type": "code",
   "execution_count": 37,
   "metadata": {},
   "outputs": [
    {
     "output_type": "execute_result",
     "data": {
      "text/plain": "2"
     },
     "metadata": {},
     "execution_count": 37
    }
   ],
   "source": [
    "#Subtraction of consequtive elements of list\n",
    "\n",
    "a = [14,13,12]\n",
    "sum([ (t-s) for t,s in(zip(a,a[1:])) ])\n"
   ]
  },
  {
   "cell_type": "code",
   "execution_count": 132,
   "metadata": {
    "tags": []
   },
   "outputs": [
    {
     "output_type": "execute_result",
     "data": {
      "text/plain": "3"
     },
     "metadata": {},
     "execution_count": 132
    }
   ],
   "source": [
    "a = {'queen': 3}\n",
    "a['queen']\n",
    "# b = (sorted(a, key= lambda k: a[k], reverse=True))\n",
    "# print(type(a))\n",
    "# any(v ==3 for v in a.values())"
   ]
  },
  {
   "cell_type": "code",
   "execution_count": 86,
   "metadata": {
    "tags": []
   },
   "outputs": [
    {
     "output_type": "execute_result",
     "data": {
      "text/plain": "[False, False, True, True, False, True]"
     },
     "metadata": {},
     "execution_count": 86
    }
   ],
   "source": [
    "pairs = { 'word1':0, 'word2':0, 'word3':2000, 'word4':64, 'word5':0, 'wordn':8 }\n",
    "list(v > 0 for v in pairs.values())\n",
    "# True"
   ]
  },
  {
   "cell_type": "code",
   "execution_count": 293,
   "metadata": {
    "tags": []
   },
   "outputs": [
    {
     "output_type": "stream",
     "name": "stdout",
     "text": "[-1, 0, 0, 0]\n"
    }
   ],
   "source": [
    "# Checking no of zeros and ones in the list\n",
    "l = [0,0,-1,0]\n",
    "\n",
    "print(sorted(l))"
   ]
  },
  {
   "cell_type": "code",
   "execution_count": 271,
   "metadata": {
    "tags": []
   },
   "outputs": [
    {
     "output_type": "execute_result",
     "data": {
      "text/plain": "4"
     },
     "metadata": {},
     "execution_count": 271
    }
   ],
   "source": [
    "a = [10, 9, 8, 7, 6]\n",
    "import math\n",
    "sum([(t-s) for t,s in(zip(a,a[1:]))])"
   ]
  },
  {
   "cell_type": "code",
   "execution_count": 300,
   "metadata": {
    "tags": []
   },
   "outputs": [
    {
     "output_type": "stream",
     "name": "stdout",
     "text": "{'queen-hearts': 2, 'ace-hearts': 1}\n"
    }
   ],
   "source": [
    "a = ['queen-hearts', 'queen-hearts', 'ace-hearts']\n",
    "suits_dict = {i:a.count(i) for i in a}\n",
    "print(suits_dict)"
   ]
  },
  {
   "cell_type": "code",
   "execution_count": 234,
   "metadata": {},
   "outputs": [
    {
     "output_type": "error",
     "ename": "AssertionError",
     "evalue": "The Poker code is unworthy, can't hold Mjölnir",
     "traceback": [
      "\u001b[1;31m---------------------------------------------------------------------------\u001b[0m",
      "\u001b[1;31mAssertionError\u001b[0m                            Traceback (most recent call last)",
      "\u001b[1;32m<ipython-input-234-f15fbd20f7f6>\u001b[0m in \u001b[0;36m<module>\u001b[1;34m\u001b[0m\n\u001b[0;32m      2\u001b[0m     \u001b[1;32massert\u001b[0m \u001b[1;33m(\u001b[0m\u001b[0mtest_incorrect_value\u001b[0m\u001b[1;33m.\u001b[0m\u001b[0m__annotations__\u001b[0m\u001b[1;33m)\u001b[0m \u001b[1;32mis\u001b[0m \u001b[1;32mNone\u001b[0m\u001b[1;33m,\u001b[0m \u001b[1;34m\"The Poker code is unworthy, can't hold Mjölnir\"\u001b[0m\u001b[1;33m\u001b[0m\u001b[1;33m\u001b[0m\u001b[0m\n\u001b[0;32m      3\u001b[0m \u001b[1;33m\u001b[0m\u001b[0m\n\u001b[1;32m----> 4\u001b[1;33m \u001b[0mtest_poker_annotations\u001b[0m\u001b[1;33m(\u001b[0m\u001b[1;33m)\u001b[0m\u001b[1;33m\u001b[0m\u001b[1;33m\u001b[0m\u001b[0m\n\u001b[0m",
      "\u001b[1;32m<ipython-input-234-f15fbd20f7f6>\u001b[0m in \u001b[0;36mtest_poker_annotations\u001b[1;34m()\u001b[0m\n\u001b[0;32m      1\u001b[0m \u001b[1;32mdef\u001b[0m \u001b[0mtest_poker_annotations\u001b[0m\u001b[1;33m(\u001b[0m\u001b[1;33m)\u001b[0m\u001b[1;33m:\u001b[0m\u001b[1;33m\u001b[0m\u001b[1;33m\u001b[0m\u001b[0m\n\u001b[1;32m----> 2\u001b[1;33m     \u001b[1;32massert\u001b[0m \u001b[1;33m(\u001b[0m\u001b[0mtest_incorrect_value\u001b[0m\u001b[1;33m.\u001b[0m\u001b[0m__annotations__\u001b[0m\u001b[1;33m)\u001b[0m \u001b[1;32mis\u001b[0m \u001b[1;32mNone\u001b[0m\u001b[1;33m,\u001b[0m \u001b[1;34m\"The Poker code is unworthy, can't hold Mjölnir\"\u001b[0m\u001b[1;33m\u001b[0m\u001b[1;33m\u001b[0m\u001b[0m\n\u001b[0m\u001b[0;32m      3\u001b[0m \u001b[1;33m\u001b[0m\u001b[0m\n\u001b[0;32m      4\u001b[0m \u001b[0mtest_poker_annotations\u001b[0m\u001b[1;33m(\u001b[0m\u001b[1;33m)\u001b[0m\u001b[1;33m\u001b[0m\u001b[1;33m\u001b[0m\u001b[0m\n",
      "\u001b[1;31mAssertionError\u001b[0m: The Poker code is unworthy, can't hold Mjölnir"
     ]
    }
   ],
   "source": [
    "import pytest\n",
    "\n",
    "def test_poker_annotations():\n",
    "    assert (test_incorrect_value.__annotations__) is None, \"The Poker code is unworthy, can't hold Mjölnir\"\n",
    "\n",
    "test_poker_annotations()\n",
    "\n",
    "\n",
    "def test_poker_doc():\n",
    "    assert (test_incorrect_value.__doc__) is None, \"The Poker code is unworthy, can't hold Mjölnir\"\n",
    "\n",
    "test_poker_doc()\n",
    "\n",
    "def test_3_players():\n",
    "    '''Checks the code behaviour when 3 values are sent as inputs'''\n",
    "    with pytest.raises(TypeError):\n",
    "        kinda_poker(['queen-hearts', 'queen-clubs', 'sdf-clubs'], ['ace-clubs','ace-clubs','ace-clubs'],[])\n",
    "\n",
    "test_3_players()\n",
    "\n",
    "def test_incorrect_value():\n",
    "    with pytest.raises(ValueError):\n",
    "        kinda_poker(['queen-hearts', 'queen-clubs', 'sdf-clubs'], ['ace-clubs','ace-clubs','ace-clubs'])\n",
    "\n",
    "test_incorrect_value()"
   ]
  },
  {
   "cell_type": "code",
   "execution_count": 309,
   "metadata": {},
   "outputs": [],
   "source": [
    "def a(x:int, y:int) -> str:\n",
    "    pass"
   ]
  },
  {
   "cell_type": "code",
   "execution_count": 228,
   "metadata": {},
   "outputs": [
    {
     "output_type": "execute_result",
     "data": {
      "text/plain": "False"
     },
     "metadata": {},
     "execution_count": 228
    }
   ],
   "source": [
    "kinda_poker.__doc__ == None"
   ]
  }
 ]
}