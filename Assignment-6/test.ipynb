{
 "metadata": {
  "language_info": {
   "codemirror_mode": {
    "name": "ipython",
    "version": 3
   },
   "file_extension": ".py",
   "mimetype": "text/x-python",
   "name": "python",
   "nbconvert_exporter": "python",
   "pygments_lexer": "ipython3",
   "version": "3.7.6-final"
  },
  "orig_nbformat": 2,
  "kernelspec": {
   "name": "python3",
   "display_name": "Python 3"
  }
 },
 "nbformat": 4,
 "nbformat_minor": 2,
 "cells": [
  {
   "cell_type": "code",
   "execution_count": 27,
   "metadata": {
    "tags": []
   },
   "outputs": [
    {
     "output_type": "execute_result",
     "data": {
      "text/plain": "['spades-2',\n 'spades-3',\n 'spades-4',\n 'spades-5',\n 'spades-6',\n 'spades-7',\n 'spades-8',\n 'spades-9',\n 'spades-10',\n 'spades-jack',\n 'spades-queen',\n 'spades-king',\n 'spades-ace',\n 'clubs-2',\n 'clubs-3',\n 'clubs-4',\n 'clubs-5',\n 'clubs-6',\n 'clubs-7',\n 'clubs-8',\n 'clubs-9',\n 'clubs-10',\n 'clubs-jack',\n 'clubs-queen',\n 'clubs-king',\n 'clubs-ace',\n 'hearts-2',\n 'hearts-3',\n 'hearts-4',\n 'hearts-5',\n 'hearts-6',\n 'hearts-7',\n 'hearts-8',\n 'hearts-9',\n 'hearts-10',\n 'hearts-jack',\n 'hearts-queen',\n 'hearts-king',\n 'hearts-ace',\n 'diamonds-2',\n 'diamonds-3',\n 'diamonds-4',\n 'diamonds-5',\n 'diamonds-6',\n 'diamonds-7',\n 'diamonds-8',\n 'diamonds-9',\n 'diamonds-10',\n 'diamonds-jack',\n 'diamonds-queen',\n 'diamonds-king',\n 'diamonds-ace']"
     },
     "metadata": {},
     "execution_count": 27
    }
   ],
   "source": [
    "#Deck of cards without lambda, zip or map functions\n",
    "def get_my_deck_normally():\n",
    "    deck = []\n",
    "\n",
    "    for i in suits:\n",
    "        for j in vals:\n",
    "            a = i+'-'+j\n",
    "            deck.append(a) #zip(i,j)\n",
    "\n",
    "    # print(deck)\n",
    "    # print(f'Size of the deck is {len(deck)}')\n",
    "    return deck\n",
    "get_my_deck_normally()"
   ]
  },
  {
   "cell_type": "code",
   "execution_count": 2,
   "metadata": {},
   "outputs": [],
   "source": [
    "vals = ['2', '3', '4', '5', '6', '7', '8', '9', '10', 'jack', 'queen', 'king', 'ace']\n",
    "suits = ['spades', 'clubs', 'hearts', 'diamonds']\n"
   ]
  },
  {
   "cell_type": "code",
   "execution_count": 3,
   "metadata": {
    "tags": []
   },
   "outputs": [
    {
     "output_type": "stream",
     "name": "stdout",
     "text": "<map object at 0x000001FAA27E3848>\n('2', 'spades')\n('3', 'clubs')\n('4', 'hearts')\n('5', 'diamonds')\n"
    }
   ],
   "source": [
    "l = map(lambda x,y: (x,y), vals,suits)\n",
    "print(l)\n",
    "for _ in l:\n",
    "    print(_)"
   ]
  },
  {
   "cell_type": "code",
   "execution_count": 4,
   "metadata": {
    "tags": []
   },
   "outputs": [
    {
     "output_type": "execute_result",
     "data": {
      "text/plain": "[('2', 'spades'), ('3', 'clubs'), ('4', 'hearts'), ('5', 'diamonds')]"
     },
     "metadata": {},
     "execution_count": 4
    }
   ],
   "source": [
    "list(map(lambda x,y: (x,y), vals, suits))"
   ]
  },
  {
   "cell_type": "code",
   "execution_count": null,
   "metadata": {},
   "outputs": [],
   "source": [
    "Write a single expression that includes lambda, zip and map functions to select create 52 cards in a deck - 50 pts\n"
   ]
  },
  {
   "cell_type": "code",
   "execution_count": 11,
   "metadata": {},
   "outputs": [
    {
     "output_type": "execute_result",
     "data": {
      "text/plain": "[]"
     },
     "metadata": {},
     "execution_count": 11
    }
   ],
   "source": [
    "[(x,suits[len(suits)-1]) for x in vals[1] if len(suits) > 13]\n"
   ]
  },
  {
   "cell_type": "code",
   "execution_count": 73,
   "metadata": {},
   "outputs": [
    {
     "output_type": "error",
     "ename": "TypeError",
     "evalue": "<lambda>() missing 1 required positional argument: 'y'",
     "traceback": [
      "\u001b[1;31m---------------------------------------------------------------------------\u001b[0m",
      "\u001b[1;31mTypeError\u001b[0m                                 Traceback (most recent call last)",
      "\u001b[1;32m<ipython-input-73-b02b2c61be85>\u001b[0m in \u001b[0;36m<module>\u001b[1;34m\u001b[0m\n\u001b[1;32m----> 1\u001b[1;33m \u001b[0mlist\u001b[0m\u001b[1;33m(\u001b[0m\u001b[0mmap\u001b[0m\u001b[1;33m(\u001b[0m\u001b[1;32mlambda\u001b[0m \u001b[0mx\u001b[0m\u001b[1;33m,\u001b[0m\u001b[0my\u001b[0m\u001b[1;33m:\u001b[0m\u001b[1;33m[\u001b[0m\u001b[0mx\u001b[0m\u001b[1;33m,\u001b[0m\u001b[0my\u001b[0m\u001b[1;33m]\u001b[0m\u001b[1;33m,\u001b[0m \u001b[0mzip\u001b[0m\u001b[1;33m(\u001b[0m\u001b[0mvals\u001b[0m\u001b[1;33m,\u001b[0m \u001b[0msuits\u001b[0m\u001b[1;33m)\u001b[0m\u001b[1;33m)\u001b[0m\u001b[1;33m)\u001b[0m\u001b[1;33m\u001b[0m\u001b[1;33m\u001b[0m\u001b[0m\n\u001b[0m",
      "\u001b[1;31mTypeError\u001b[0m: <lambda>() missing 1 required positional argument: 'y'"
     ]
    }
   ],
   "source": [
    "list(map(lambda x,y:[x,y], zip(vals, suits))"
   ]
  },
  {
   "cell_type": "code",
   "execution_count": 69,
   "metadata": {},
   "outputs": [
    {
     "output_type": "error",
     "ename": "SyntaxError",
     "evalue": "unexpected EOF while parsing (<ipython-input-69-2fee355d9cce>, line 2)",
     "traceback": [
      "\u001b[1;36m  File \u001b[1;32m\"<ipython-input-69-2fee355d9cce>\"\u001b[1;36m, line \u001b[1;32m2\u001b[0m\n\u001b[1;33m    list(map(lambda x: (x,list(map(lambda y: y[0]),vals))\u001b[0m\n\u001b[1;37m                                                         ^\u001b[0m\n\u001b[1;31mSyntaxError\u001b[0m\u001b[1;31m:\u001b[0m unexpected EOF while parsing\n"
     ]
    }
   ],
   "source": [
    "y = suits\n",
    "list(map(lambda x: (x,list(map(lambda y: y[0]),vals))"
   ]
  },
  {
   "cell_type": "code",
   "execution_count": 10,
   "metadata": {
    "tags": []
   },
   "outputs": [
    {
     "output_type": "error",
     "ename": "SyntaxError",
     "evalue": "invalid syntax (<ipython-input-10-e03bef398d53>, line 3)",
     "traceback": [
      "\u001b[1;36m  File \u001b[1;32m\"<ipython-input-10-e03bef398d53>\"\u001b[1;36m, line \u001b[1;32m3\u001b[0m\n\u001b[1;33m    [print x for x in zip(x,y)]\u001b[0m\n\u001b[1;37m           ^\u001b[0m\n\u001b[1;31mSyntaxError\u001b[0m\u001b[1;31m:\u001b[0m invalid syntax\n"
     ]
    }
   ],
   "source": [
    "#Loop 1\n",
    "\n",
    "# Map - Apply transformation to entire list\n",
    "# Lambda - Transformation\n",
    "# Zip - Zip two iterables together\n",
    "\n",
    "# Idea 1 - Filter each element of list and apply transformation\n",
    "\n",
    "# Idea 2 - Get elements one by one and then apply transformation\n",
    "\n",
    "# 1\n",
    "\n",
    "\n",
    "\n"
   ]
  },
  {
   "cell_type": "code",
   "execution_count": 118,
   "metadata": {
    "tags": []
   },
   "outputs": [
    {
     "output_type": "error",
     "ename": "SyntaxError",
     "evalue": "invalid syntax (<ipython-input-118-1537835db3f7>, line 1)",
     "traceback": [
      "\u001b[1;36m  File \u001b[1;32m\"<ipython-input-118-1537835db3f7>\"\u001b[1;36m, line \u001b[1;32m1\u001b[0m\n\u001b[1;33m    [[x,suits[n]] for x in vals n+=n if n < len(suits)]\u001b[0m\n\u001b[1;37m                                ^\u001b[0m\n\u001b[1;31mSyntaxError\u001b[0m\u001b[1;31m:\u001b[0m invalid syntax\n"
     ]
    }
   ],
   "source": [
    "[[x,suits[n]] for x in vals n+=n if n < len(suits)]"
   ]
  },
  {
   "cell_type": "code",
   "execution_count": 119,
   "metadata": {},
   "outputs": [
    {
     "output_type": "error",
     "ename": "SyntaxError",
     "evalue": "invalid syntax (<ipython-input-119-5fa6792ab982>, line 1)",
     "traceback": [
      "\u001b[1;36m  File \u001b[1;32m\"<ipython-input-119-5fa6792ab982>\"\u001b[1;36m, line \u001b[1;32m1\u001b[0m\n\u001b[1;33m    list(map(lambda x: [x+y for x,y in suits,vals], vals))\u001b[0m\n\u001b[1;37m                                            ^\u001b[0m\n\u001b[1;31mSyntaxError\u001b[0m\u001b[1;31m:\u001b[0m invalid syntax\n"
     ]
    }
   ],
   "source": [
    "list(map(lambda x: [x+y for x,y in suits,vals], vals))"
   ]
  },
  {
   "cell_type": "code",
   "execution_count": 164,
   "metadata": {
    "tags": []
   },
   "outputs": [
    {
     "output_type": "stream",
     "name": "stdout",
     "text": "[['2-diamonds', '3-diamonds', '4-diamonds', '5-diamonds', '6-diamonds', '7-diamonds', '8-diamonds', '9-diamonds', '10-diamonds', 'jack-diamonds', 'queen-diamonds', 'king-diamonds', 'ace-diamonds'], ['2-diamonds', '3-diamonds', '4-diamonds', '5-diamonds', '6-diamonds', '7-diamonds', '8-diamonds', '9-diamonds', '10-diamonds', 'jack-diamonds', 'queen-diamonds', 'king-diamonds', 'ace-diamonds'], ['2-diamonds', '3-diamonds', '4-diamonds', '5-diamonds', '6-diamonds', '7-diamonds', '8-diamonds', '9-diamonds', '10-diamonds', 'jack-diamonds', 'queen-diamonds', 'king-diamonds', 'ace-diamonds'], ['2-diamonds', '3-diamonds', '4-diamonds', '5-diamonds', '6-diamonds', '7-diamonds', '8-diamonds', '9-diamonds', '10-diamonds', 'jack-diamonds', 'queen-diamonds', 'king-diamonds', 'ace-diamonds']]\n"
    }
   ],
   "source": [
    "# (lambda x,y: x+\"-\"y) # Lambda Function to create outputs\n",
    "\n",
    "#Map this to each element in list\n",
    "# t = suits[0]\n",
    "\n",
    "a = list(map(lambda x: list(x), list(map(lambda x: x+\"-\"+suits[t], vals) for t in range(4))))\n",
    "print(a)\n",
    "\n",
    "# Iterate over another list\n",
    "\n",
    "# lambda x: list(map())\n"
   ]
  },
  {
   "cell_type": "code",
   "execution_count": 181,
   "metadata": {
    "tags": []
   },
   "outputs": [
    {
     "output_type": "stream",
     "name": "stdout",
     "text": "[[('2-spades',), ('3-spades',), ('4-spades',), ('5-spades',), ('6-spades',), ('7-spades',), ('8-spades',), ('9-spades',), ('10-spades',), ('jack-spades',), ('queen-spades',), ('king-spades',), ('ace-spades',)], [('2-clubs',), ('3-clubs',), ('4-clubs',), ('5-clubs',), ('6-clubs',), ('7-clubs',), ('8-clubs',), ('9-clubs',), ('10-clubs',), ('jack-clubs',), ('queen-clubs',), ('king-clubs',), ('ace-clubs',)], [('2-hearts',), ('3-hearts',), ('4-hearts',), ('5-hearts',), ('6-hearts',), ('7-hearts',), ('8-hearts',), ('9-hearts',), ('10-hearts',), ('jack-hearts',), ('queen-hearts',), ('king-hearts',), ('ace-hearts',)], [('2-diamonds',), ('3-diamonds',), ('4-diamonds',), ('5-diamonds',), ('6-diamonds',), ('7-diamonds',), ('8-diamonds',), ('9-diamonds',), ('10-diamonds',), ('jack-diamonds',), ('queen-diamonds',), ('king-diamonds',), ('ace-diamonds',)]]\n"
    }
   ],
   "source": [
    "a= [list(zip(map(lambda x: x+\"-\"+suits[t], vals))) for t in range(4)]\n",
    "print(a)"
   ]
  },
  {
   "cell_type": "code",
   "execution_count": 182,
   "metadata": {
    "tags": []
   },
   "outputs": [
    {
     "output_type": "stream",
     "name": "stdout",
     "text": "<zip object at 0x000001FAA536F448>\n<zip object at 0x000001FAA536F448>\n<zip object at 0x000001FAA536F448>\n<zip object at 0x000001FAA536F448>\n"
    }
   ],
   "source": [
    "# Write a function that, when given 2 sets of 3 or 4 or 5 cards (1 game can only have 3 cards with each player or 4 cards or 5 cards per player) (1 deck of cards only), (2 players only), can identify who won the game of poker\n",
    "\n",
    "a = ziplist(map(lambda x: x+\"-\"+suits[t], vals) for t in range(4))\n",
    "\n",
    "for i in a:\n",
    "    print(i)"
   ]
  },
  {
   "cell_type": "code",
   "execution_count": 298,
   "metadata": {},
   "outputs": [
    {
     "output_type": "error",
     "ename": "IndentationError",
     "evalue": "expected an indented block (<ipython-input-298-dacc3be4a509>, line 14)",
     "traceback": [
      "\u001b[1;36m  File \u001b[1;32m\"<ipython-input-298-dacc3be4a509>\"\u001b[1;36m, line \u001b[1;32m14\u001b[0m\n\u001b[1;33m    else:\u001b[0m\n\u001b[1;37m       ^\u001b[0m\n\u001b[1;31mIndentationError\u001b[0m\u001b[1;31m:\u001b[0m expected an indented block\n"
     ]
    }
   ],
   "source": [
    "value_dict = {'2':2, '3':3, '4':4, '5':5, '6':6, '7':7, '8':8, '9':9, '10':10, 'jack':11, 'queen':12, 'king':13, 'ace':14, 'spades':1, 'clubs':1, 'hearts':1, 'diamonds':1}\n",
    "suits = ['spades', 'clubs', 'hearts', 'diamonds']\n",
    "\n",
    "def get_player_score(a):\n",
    "    '''Checks the values supplied by the user as input to the list'''\n",
    "    # sp_list = a.split(\"-\")\n",
    "    correct_value = False\n",
    "    total_score = []\n",
    "\n",
    "    for cont in a:\n",
    "        for _ in cont.split(\"-\"):\n",
    "            if str(_).lower() in value_dict:    \n",
    "                        \n",
    "            else:\n",
    "                print(str(_).lower())\n",
    "                raise ValueError('Incorrect Values supplied')\n",
    "                \n",
    "            total_score = total_score.append(value_dict[str(_)]) # Getting the values from dictionary\n",
    "\n",
    "    total_score = sorted(total_score) # Sorting will bring common elements together\n",
    "    \n",
    "    # Dict of vals\n",
    "\n",
    "    in_vals = [x.split(\"-\") for x in a]\n",
    "    vals_dict = {i:in_vals.count(i) for i in in_vals}\n",
    "    \n",
    "    # Dict of suits\n",
    "\n",
    "    in_suits = [x.split(\"-\")[1] for x in a]\n",
    "    suits_dict = {i:in_suits.count(i) for i in in_suits}\n",
    "\n",
    "    # Getting the same elements\n",
    "    # flush = False\n",
    "    \n",
    "    # for suits_type in suits_dict:\n",
    "    #     if suits_dict[suits_type] == len(a): # All cards are of a same suite\n",
    "    #         flush = True\n",
    "        \n",
    "    #     if suits_dict[suits_type] == len(a)-1:\n",
    "    #         print('3 of a kind, 4 of a kind')\n",
    "\n",
    "    # Test cases\n",
    "    # Royal Flush\n",
    "    if sum([(t-s) for t,s in(zip(a,a[1:]))])  == len(a)-1 and \\\n",
    "            total_score > len(a)*10 and \\\n",
    "            len(suits_dict) == 1: \n",
    "        print('Royal Flush')\n",
    "\n",
    "    # Straight Flush\n",
    "    if sum([(t-s) for t,s in(zip(a,a[1:]))])  == len(a)-1 and total_score < len(a)*10 and len(suits_dict) == 1: \n",
    "        print('Straight Flush')\n",
    "\n",
    "    # Straight\n",
    "    if sum([(t-s) for t,s in(zip(a,a[1:]))])  == len(a)-1:\n",
    "        print('Straight')\n",
    "\n",
    "    # Four of a kind\n",
    "    elif [(t-s) for t,s in(zip(a,a[1:]))].count(0) == 4: \n",
    "        print('Four of a kind')\n",
    "\n",
    "\n",
    "    \n",
    "    # Three of a kind\n",
    "    elif [(t-s) for t,s in(zip(a,a[1:]))].count(0) == 3:\n",
    "        print('Three of a kind')\n",
    "\n",
    "    #Two pairs\n",
    "    elif [(t-s) for t,s in(zip(a,a[1:]))].count(0) == 2:\n",
    "        print('Two pairs')\n",
    "\n",
    "    # One pair\n",
    "    elif [(t-s) for t,s in(zip(a,a[1:]))].count(0) == 1:\n",
    "        print('One pair')\n",
    "    \n",
    "    #Flush\n",
    "    elif len(suits_dict) == 1:\n",
    "        print('Flush')\n",
    "\n",
    "    else:\n",
    "        print('High card')\n",
    "\n",
    "    return total_score\n",
    "\n",
    "\n",
    "def kinda_poker(a:list, b:list) -> str:\n",
    "    '''If you don't have any money and currently going through a Quater life crisis, then playing this game is perfect for you'''\n",
    "    \n",
    "    winner = None\n",
    "    \n",
    "    if len(a) > 5 or len(a) < 3 and len(b) > 5 or len(b) < 3 :\n",
    "        raise ValueError('Only players between 3 and 5 are allowed')\n",
    "    else: # Cards check\n",
    "        a = get_player_score(a)\n",
    "        print(f'Player A score {a}')\n",
    "        b = get_player_score(b)\n",
    "        print(f'Player B score {b}')\n",
    "        \n",
    "        if a > b:\n",
    "            winner = a \n",
    "        else:\n",
    "            winner = b\n",
    "\n",
    "    return winner\n",
    "            "
   ]
  },
  {
   "cell_type": "code",
   "execution_count": 259,
   "metadata": {
    "tags": []
   },
   "outputs": [
    {
     "output_type": "stream",
     "name": "stdout",
     "text": "Player A score 41\nPlayer B score 45\n"
    },
    {
     "output_type": "execute_result",
     "data": {
      "text/plain": "45"
     },
     "metadata": {},
     "execution_count": 259
    }
   ],
   "source": [
    "kinda_poker(['queen-hearts', 'queen-clubs', 'ace-clubs'], ['ace-clubs','ace-clubs','ace-clubs'])"
   ]
  },
  {
   "cell_type": "code",
   "execution_count": 277,
   "metadata": {},
   "outputs": [
    {
     "output_type": "execute_result",
     "data": {
      "text/plain": "[0, -5, 0, -2]"
     },
     "metadata": {},
     "execution_count": 277
    }
   ],
   "source": [
    "#Subtraction of consequtive elements of list\n",
    "\n",
    "a = [1,1,6,6,8]\n",
    "[ (t-s) for t,s in(zip(a,a[1:])) ]\n"
   ]
  },
  {
   "cell_type": "code",
   "execution_count": 308,
   "metadata": {
    "tags": []
   },
   "outputs": [
    {
     "output_type": "stream",
     "name": "stdout",
     "text": "['c', 'a', 'b']\n"
    }
   ],
   "source": [
    "a = {'a':3, 'b':10, 'c':1}\n",
    "print(sorted(a, key= lambda k: a[k]))"
   ]
  },
  {
   "cell_type": "code",
   "execution_count": 293,
   "metadata": {
    "tags": []
   },
   "outputs": [
    {
     "output_type": "stream",
     "name": "stdout",
     "text": "[-1, 0, 0, 0]\n"
    }
   ],
   "source": [
    "# Checking no of zeros and ones in the list\n",
    "l = [0,0,-1,0]\n",
    "\n",
    "print(sorted(l))"
   ]
  },
  {
   "cell_type": "code",
   "execution_count": 271,
   "metadata": {
    "tags": []
   },
   "outputs": [
    {
     "output_type": "execute_result",
     "data": {
      "text/plain": "4"
     },
     "metadata": {},
     "execution_count": 271
    }
   ],
   "source": [
    "a = [10, 9, 8, 7, 6]\n",
    "import math\n",
    "sum([(t-s) for t,s in(zip(a,a[1:]))])"
   ]
  },
  {
   "cell_type": "code",
   "execution_count": 300,
   "metadata": {
    "tags": []
   },
   "outputs": [
    {
     "output_type": "stream",
     "name": "stdout",
     "text": "{'queen-hearts': 2, 'ace-hearts': 1}\n"
    }
   ],
   "source": [
    "a = ['queen-hearts', 'queen-hearts', 'ace-hearts']\n",
    "suits_dict = {i:a.count(i) for i in a}\n",
    "print(suits_dict)"
   ]
  },
  {
   "cell_type": "code",
   "execution_count": 234,
   "metadata": {},
   "outputs": [
    {
     "output_type": "error",
     "ename": "AssertionError",
     "evalue": "The Poker code is unworthy, can't hold Mjölnir",
     "traceback": [
      "\u001b[1;31m---------------------------------------------------------------------------\u001b[0m",
      "\u001b[1;31mAssertionError\u001b[0m                            Traceback (most recent call last)",
      "\u001b[1;32m<ipython-input-234-f15fbd20f7f6>\u001b[0m in \u001b[0;36m<module>\u001b[1;34m\u001b[0m\n\u001b[0;32m      2\u001b[0m     \u001b[1;32massert\u001b[0m \u001b[1;33m(\u001b[0m\u001b[0mtest_incorrect_value\u001b[0m\u001b[1;33m.\u001b[0m\u001b[0m__annotations__\u001b[0m\u001b[1;33m)\u001b[0m \u001b[1;32mis\u001b[0m \u001b[1;32mNone\u001b[0m\u001b[1;33m,\u001b[0m \u001b[1;34m\"The Poker code is unworthy, can't hold Mjölnir\"\u001b[0m\u001b[1;33m\u001b[0m\u001b[1;33m\u001b[0m\u001b[0m\n\u001b[0;32m      3\u001b[0m \u001b[1;33m\u001b[0m\u001b[0m\n\u001b[1;32m----> 4\u001b[1;33m \u001b[0mtest_poker_annotations\u001b[0m\u001b[1;33m(\u001b[0m\u001b[1;33m)\u001b[0m\u001b[1;33m\u001b[0m\u001b[1;33m\u001b[0m\u001b[0m\n\u001b[0m",
      "\u001b[1;32m<ipython-input-234-f15fbd20f7f6>\u001b[0m in \u001b[0;36mtest_poker_annotations\u001b[1;34m()\u001b[0m\n\u001b[0;32m      1\u001b[0m \u001b[1;32mdef\u001b[0m \u001b[0mtest_poker_annotations\u001b[0m\u001b[1;33m(\u001b[0m\u001b[1;33m)\u001b[0m\u001b[1;33m:\u001b[0m\u001b[1;33m\u001b[0m\u001b[1;33m\u001b[0m\u001b[0m\n\u001b[1;32m----> 2\u001b[1;33m     \u001b[1;32massert\u001b[0m \u001b[1;33m(\u001b[0m\u001b[0mtest_incorrect_value\u001b[0m\u001b[1;33m.\u001b[0m\u001b[0m__annotations__\u001b[0m\u001b[1;33m)\u001b[0m \u001b[1;32mis\u001b[0m \u001b[1;32mNone\u001b[0m\u001b[1;33m,\u001b[0m \u001b[1;34m\"The Poker code is unworthy, can't hold Mjölnir\"\u001b[0m\u001b[1;33m\u001b[0m\u001b[1;33m\u001b[0m\u001b[0m\n\u001b[0m\u001b[0;32m      3\u001b[0m \u001b[1;33m\u001b[0m\u001b[0m\n\u001b[0;32m      4\u001b[0m \u001b[0mtest_poker_annotations\u001b[0m\u001b[1;33m(\u001b[0m\u001b[1;33m)\u001b[0m\u001b[1;33m\u001b[0m\u001b[1;33m\u001b[0m\u001b[0m\n",
      "\u001b[1;31mAssertionError\u001b[0m: The Poker code is unworthy, can't hold Mjölnir"
     ]
    }
   ],
   "source": [
    "import pytest\n",
    "\n",
    "def test_poker_annotations():\n",
    "    assert (test_incorrect_value.__annotations__) is None, \"The Poker code is unworthy, can't hold Mjölnir\"\n",
    "\n",
    "test_poker_annotations()\n",
    "\n",
    "\n",
    "def test_poker_doc():\n",
    "    assert (test_incorrect_value.__doc__) is None, \"The Poker code is unworthy, can't hold Mjölnir\"\n",
    "\n",
    "test_poker_doc()\n",
    "\n",
    "def test_3_players():\n",
    "    '''Checks the code behaviour when 3 values are sent as inputs'''\n",
    "    with pytest.raises(TypeError):\n",
    "        kinda_poker(['queen-hearts', 'queen-clubs', 'sdf-clubs'], ['ace-clubs','ace-clubs','ace-clubs'],[])\n",
    "\n",
    "test_3_players()\n",
    "\n",
    "def test_incorrect_value():\n",
    "    with pytest.raises(ValueError):\n",
    "        kinda_poker(['queen-hearts', 'queen-clubs', 'sdf-clubs'], ['ace-clubs','ace-clubs','ace-clubs'])\n",
    "\n",
    "test_incorrect_value()"
   ]
  },
  {
   "cell_type": "code",
   "execution_count": 303,
   "metadata": {},
   "outputs": [
    {
     "output_type": "execute_result",
     "data": {
      "text/plain": "4"
     },
     "metadata": {},
     "execution_count": 303
    }
   ],
   "source": [
    "d = {'spades':1, 'clubs':1, 'hearts':1, 'diamonds':1}\n",
    "len(d.keys())"
   ]
  },
  {
   "cell_type": "code",
   "execution_count": 309,
   "metadata": {},
   "outputs": [],
   "source": [
    "def a(x:int, y:int) -> str:\n",
    "    pass"
   ]
  },
  {
   "cell_type": "code",
   "execution_count": 310,
   "metadata": {},
   "outputs": [
    {
     "output_type": "error",
     "ename": "NameError",
     "evalue": "name 'f' is not defined",
     "traceback": [
      "\u001b[1;31m---------------------------------------------------------------------------\u001b[0m",
      "\u001b[1;31mNameError\u001b[0m                                 Traceback (most recent call last)",
      "\u001b[1;32m<ipython-input-310-a5c875939d97>\u001b[0m in \u001b[0;36m<module>\u001b[1;34m\u001b[0m\n\u001b[1;32m----> 1\u001b[1;33m \u001b[1;32mdef\u001b[0m \u001b[0ma\u001b[0m\u001b[1;33m(\u001b[0m\u001b[0mx\u001b[0m\u001b[1;33m:\u001b[0m\u001b[0mf\u001b[0m\u001b[1;33m,\u001b[0m \u001b[0my\u001b[0m\u001b[1;33m:\u001b[0m\u001b[0mf\u001b[0m\u001b[1;33m)\u001b[0m \u001b[1;33m->\u001b[0m \u001b[0mstr\u001b[0m\u001b[1;33m:\u001b[0m\u001b[1;33m\u001b[0m\u001b[1;33m\u001b[0m\u001b[0m\n\u001b[0m\u001b[0;32m      2\u001b[0m     \u001b[1;32mpass\u001b[0m\u001b[1;33m\u001b[0m\u001b[1;33m\u001b[0m\u001b[0m\n",
      "\u001b[1;31mNameError\u001b[0m: name 'f' is not defined"
     ]
    }
   ],
   "source": [
    "def a(x:f, y:f) -> str:\n",
    "    pass"
   ]
  }
 ]
}