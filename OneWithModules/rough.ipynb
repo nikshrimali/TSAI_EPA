{
 "metadata": {
  "language_info": {
   "codemirror_mode": {
    "name": "ipython",
    "version": 3
   },
   "file_extension": ".py",
   "mimetype": "text/x-python",
   "name": "python",
   "nbconvert_exporter": "python",
   "pygments_lexer": "ipython3",
   "version": "3.7.6-final"
  },
  "orig_nbformat": 2,
  "kernelspec": {
   "name": "python3",
   "display_name": "Python 3"
  }
 },
 "nbformat": 4,
 "nbformat_minor": 2,
 "cells": [
  {
   "cell_type": "code",
   "execution_count": null,
   "metadata": {},
   "outputs": [],
   "source": [
    "'''\n",
    "Create these modules:\n",
    "jpg/jpeg to png conversion (use PIL library) j2p\n",
    "png to jpg conversion (use PIL library) p2j\n",
    "image resizer that can resize bulk images with these features:\n",
    "resize by user determined percentage (say 50% for height and width) (proportional) res_p\n",
    "resize by user determined width (proportional) res_w\n",
    "resize by user determined height (proportional) res_h\n",
    "image cropper that can crop bulk images with these features:\n",
    "center square/rectangle crop by user-determined pixels crp_px\n",
    "centre square/rectangle crop by user-determined percentage (crop to 50%/70%) crp_p\n",
    "it let's user know which all images were not cropped due to size mismatches\n",
    "a __main__ module that exposes all these features (using argparse)\n",
    "finally create an zipped app, that exposes all of these features\n",
    "\n",
    "'''"
   ]
  },
  {
   "cell_type": "code",
   "execution_count": 1,
   "metadata": {},
   "outputs": [
    {
     "output_type": "stream",
     "name": "stdout",
     "text": [
      "d:\\Python Projects\\EPAi\\OneWithModules\n"
     ]
    }
   ],
   "source": [
    "import os\n",
    "from PIL import Image\n",
    "print(os.getcwd())\n",
    "\n",
    "import glob\n",
    "from alterimg.resize import * \n",
    "\n",
    "file_list = (glob.glob('assets\\\\test_images\\\\*'))\n",
    "\n",
    "cwd = os.getcwd()\n",
    "file_list = [os.path.join(cwd,i) for i in file_list]"
   ]
  },
  {
   "cell_type": "code",
   "execution_count": 5,
   "metadata": {},
   "outputs": [
    {
     "output_type": "execute_result",
     "data": {
      "text/plain": [
       "'d:\\\\Python Projects\\\\EPAi\\\\OneWithModules\\\\assets\\\\test_images\\\\1.jpg'"
      ]
     },
     "metadata": {},
     "execution_count": 5
    }
   ],
   "source": [
    "file_list[0]"
   ]
  },
  {
   "cell_type": "code",
   "execution_count": 6,
   "metadata": {},
   "outputs": [
    {
     "output_type": "execute_result",
     "data": {
      "text/plain": [
       "['d:\\\\Python Projects\\\\EPAi\\\\OneWithModules\\\\assets\\\\test_images\\\\1.jpg',\n",
       " 'd:\\\\Python Projects\\\\EPAi\\\\OneWithModules\\\\assets\\\\test_images\\\\2.jpg',\n",
       " 'd:\\\\Python Projects\\\\EPAi\\\\OneWithModules\\\\assets\\\\test_images\\\\3.jpg']"
      ]
     },
     "metadata": {},
     "execution_count": 6
    }
   ],
   "source": [
    "['d:\\\\Python Projects\\\\EPAi\\\\OneWithModules\\\\assets\\\\test_images\\\\1.jpg',\n",
    "'d:\\\\Python Projects\\\\EPAi\\\\OneWithModules\\\\assets\\\\test_images\\\\2.jpg',\n",
    "'d:\\\\Python Projects\\\\EPAi\\\\OneWithModules\\\\assets\\\\test_images\\\\3.jpg']"
   ]
  },
  {
   "cell_type": "code",
   "execution_count": 3,
   "metadata": {},
   "outputs": [],
   "source": [
    "# from alterimg.typeconv import *\n",
    "# img = typeconv(file_list, type='p2j')"
   ]
  },
  {
   "cell_type": "code",
   "execution_count": 2,
   "metadata": {},
   "outputs": [
    {
     "output_type": "stream",
     "name": "stdout",
     "text": [
      "reduced by 100.0 - New x 899 y 600\n",
      "Wrong Values provided for reshaping Select integer values for height or width or percent value for percent_reduction\n",
      "Wrong Values provided for reshaping Select integer values for height or width or percent value for percent_reduction\n",
      "reduced by 100.0 - New x 854 y 600\n",
      "reduced by 100.0 - New x 449 y 600\n",
      "Wrong Values provided for reshaping Select integer values for height or width or percent value for percent_reduction\n",
      "reduced by 100.0 - New x 902 y 600\n",
      "reduced by 100.0 - New x 455 y 600\n",
      "reduced by 100.0 - New x 400 y 600\n",
      "reduced by 100.0 - New x 403 y 600\n",
      "Wrong Values provided for reshaping Select integer values for height or width or percent value for percent_reduction\n",
      "reduced by 100.0 - New x 400 y 600\n",
      "reduced by 100.0 - New x 365 y 600\n",
      "Wrong Values provided for reshaping Select integer values for height or width or percent value for percent_reduction\n",
      "Wrong Values provided for reshaping Select integer values for height or width or percent value for percent_reduction\n",
      "Wrong Values provided for reshaping Select integer values for height or width or percent value for percent_reduction\n",
      "reduced by 100.0 - New x 816 y 600\n",
      "reduced by 100.0 - New x 900 y 600\n",
      "reduced by 100.0 - New x 900 y 600\n",
      "Wrong Values provided for reshaping Select integer values for height or width or percent value for percent_reduction\n",
      "Wrong Values provided for reshaping Select integer values for height or width or percent value for percent_reduction\n",
      "Wrong Values provided for reshaping Select integer values for height or width or percent value for percent_reduction\n",
      "Wrong Values provided for reshaping Select integer values for height or width or percent value for percent_reduction\n",
      "Wrong Values provided for reshaping Select integer values for height or width or percent value for percent_reduction\n",
      "Wrong Values provided for reshaping Select integer values for height or width or percent value for percent_reduction\n",
      "reduced by 100.0 - New x 441 y 600\n",
      "Wrong Values provided for reshaping Select integer values for height or width or percent value for percent_reduction\n",
      "Wrong Values provided for reshaping Select integer values for height or width or percent value for percent_reduction\n",
      "reduced by 100.0 - New x 424 y 600\n",
      "Wrong Values provided for reshaping Select integer values for height or width or percent value for percent_reduction\n",
      "Wrong Values provided for reshaping Select integer values for height or width or percent value for percent_reduction\n",
      "Wrong Values provided for reshaping Select integer values for height or width or percent value for percent_reduction\n",
      "Wrong Values provided for reshaping Select integer values for height or width or percent value for percent_reduction\n",
      "Wrong Values provided for reshaping Select integer values for height or width or percent value for percent_reduction\n",
      "Wrong Values provided for reshaping Select integer values for height or width or percent value for percent_reduction\n",
      "Wrong Values provided for reshaping Select integer values for height or width or percent value for percent_reduction\n",
      "reduced by 100.0 - New x 801 y 600\n",
      "reduced by 100.0 - New x 398 y 600\n",
      "reduced by 100.0 - New x 899 y 600\n",
      "reduced by 100.0 - New x 899 y 600\n",
      "Wrong Values provided for reshaping Select integer values for height or width or percent value for percent_reduction\n",
      "reduced by 100.0 - New x 902 y 600\n",
      "reduced by 100.0 - New x 397 y 600\n",
      "Wrong Values provided for reshaping Select integer values for height or width or percent value for percent_reduction\n",
      "Wrong Values provided for reshaping Select integer values for height or width or percent value for percent_reduction\n",
      "Wrong Values provided for reshaping Select integer values for height or width or percent value for percent_reduction\n",
      "reduced by 100.0 - New x 804 y 600\n",
      "Wrong Values provided for reshaping Select integer values for height or width or percent value for percent_reduction\n",
      "Wrong Values provided for reshaping Select integer values for height or width or percent value for percent_reduction\n",
      "Wrong Values provided for reshaping Select integer values for height or width or percent value for percent_reduction\n",
      "Wrong Values provided for reshaping Select integer values for height or width or percent value for percent_reduction\n",
      "Wrong Values provided for reshaping Select integer values for height or width or percent value for percent_reduction\n",
      "Wrong Values provided for reshaping Select integer values for height or width or percent value for percent_reduction\n",
      "Wrong Values provided for reshaping Select integer values for height or width or percent value for percent_reduction\n",
      "Wrong Values provided for reshaping Select integer values for height or width or percent value for percent_reduction\n",
      "Wrong Values provided for reshaping Select integer values for height or width or percent value for percent_reduction\n",
      "Wrong Values provided for reshaping Select integer values for height or width or percent value for percent_reduction\n",
      "Wrong Values provided for reshaping Select integer values for height or width or percent value for percent_reduction\n",
      "Wrong Values provided for reshaping Select integer values for height or width or percent value for percent_reduction\n",
      "reduced by 100.0 - New x 600 y 600\n",
      "Wrong Values provided for reshaping Select integer values for height or width or percent value for percent_reduction\n",
      "Wrong Values provided for reshaping Select integer values for height or width or percent value for percent_reduction\n",
      "reduced by 100.0 - New x 934 y 600\n",
      "Wrong Values provided for reshaping Select integer values for height or width or percent value for percent_reduction\n",
      "Wrong Values provided for reshaping Select integer values for height or width or percent value for percent_reduction\n",
      "Wrong Values provided for reshaping Select integer values for height or width or percent value for percent_reduction\n",
      "Wrong Values provided for reshaping Select integer values for height or width or percent value for percent_reduction\n",
      "Wrong Values provided for reshaping Select integer values for height or width or percent value for percent_reduction\n",
      "Wrong Values provided for reshaping Select integer values for height or width or percent value for percent_reduction\n",
      "Wrong Values provided for reshaping Select integer values for height or width or percent value for percent_reduction\n",
      "Wrong Values provided for reshaping Select integer values for height or width or percent value for percent_reduction\n",
      "Wrong Values provided for reshaping Select integer values for height or width or percent value for percent_reduction\n",
      "Wrong Values provided for reshaping Select integer values for height or width or percent value for percent_reduction\n",
      "Wrong Values provided for reshaping Select integer values for height or width or percent value for percent_reduction\n",
      "Wrong Values provided for reshaping Select integer values for height or width or percent value for percent_reduction\n",
      "Wrong Values provided for reshaping Select integer values for height or width or percent value for percent_reduction\n",
      "Wrong Values provided for reshaping Select integer values for height or width or percent value for percent_reduction\n",
      "Wrong Values provided for reshaping Select integer values for height or width or percent value for percent_reduction\n",
      "Wrong Values provided for reshaping Select integer values for height or width or percent value for percent_reduction\n",
      "reduced by 100.0 - New x 900 y 600\n",
      "Wrong Values provided for reshaping Select integer values for height or width or percent value for percent_reduction\n",
      "Wrong Values provided for reshaping Select integer values for height or width or percent value for percent_reduction\n",
      "Wrong Values provided for reshaping Select integer values for height or width or percent value for percent_reduction\n",
      "reduced by 100.0 - New x 899 y 600\n",
      "reduced by 100.0 - New x 441 y 600\n",
      "Wrong Values provided for reshaping Select integer values for height or width or percent value for percent_reduction\n",
      "reduced by 100.0 - New x 481 y 600\n",
      "reduced by 100.0 - New x 900 y 600\n",
      "Wrong Values provided for reshaping Select integer values for height or width or percent value for percent_reduction\n",
      "reduced by 100.0 - New x 875 y 600\n",
      "Wrong Values provided for reshaping Select integer values for height or width or percent value for percent_reduction\n",
      "Wrong Values provided for reshaping Select integer values for height or width or percent value for percent_reduction\n",
      "reduced by 100.0 - New x 902 y 600\n",
      "Wrong Values provided for reshaping Select integer values for height or width or percent value for percent_reduction\n",
      "Wrong Values provided for reshaping Select integer values for height or width or percent value for percent_reduction\n",
      "Wrong Values provided for reshaping Select integer values for height or width or percent value for percent_reduction\n",
      "Wrong Values provided for reshaping Select integer values for height or width or percent value for percent_reduction\n",
      "reduced by 100.0 - New x 375 y 600\n",
      "Wrong Values provided for reshaping Select integer values for height or width or percent value for percent_reduction\n",
      "reduced by 100.0 - New x 791 y 600\n",
      "Wrong Values provided for reshaping Select integer values for height or width or percent value for percent_reduction\n",
      "Wrong Values provided for reshaping Select integer values for height or width or percent value for percent_reduction\n",
      "Wrong Values provided for reshaping Select integer values for height or width or percent value for percent_reduction\n",
      "Wrong Values provided for reshaping Select integer values for height or width or percent value for percent_reduction\n",
      "Wrong Values provided for reshaping Select integer values for height or width or percent value for percent_reduction\n",
      "Wrong Values provided for reshaping Select integer values for height or width or percent value for percent_reduction\n"
     ]
    }
   ],
   "source": [
    "file_list = (glob.glob('assets\\\\test_images\\\\*'))\n",
    "file_list = [os.path.join(cwd,i) for i in file_list]\n",
    "reshaper(file_list, height=600)"
   ]
  },
  {
   "cell_type": "code",
   "execution_count": 3,
   "metadata": {},
   "outputs": [
    {
     "output_type": "stream",
     "name": "stdout",
     "text": [
      "reduced by 65 - New x 390 y 219\n"
     ]
    },
    {
     "output_type": "error",
     "ename": "AttributeError",
     "evalue": "'NoneType' object has no attribute 'show'",
     "traceback": [
      "\u001b[1;31m---------------------------------------------------------------------------\u001b[0m",
      "\u001b[1;31mAttributeError\u001b[0m                            Traceback (most recent call last)",
      "\u001b[1;32m<ipython-input-3-540d06799e03>\u001b[0m in \u001b[0;36m<module>\u001b[1;34m\u001b[0m\n\u001b[0;32m      4\u001b[0m \u001b[1;31m# img = cropconv([path1],percent_reduction=50)\u001b[0m\u001b[1;33m\u001b[0m\u001b[1;33m\u001b[0m\u001b[1;33m\u001b[0m\u001b[0m\n\u001b[0;32m      5\u001b[0m \u001b[0mimg\u001b[0m \u001b[1;33m=\u001b[0m \u001b[0mreshaper\u001b[0m\u001b[1;33m(\u001b[0m\u001b[1;33m[\u001b[0m\u001b[0mpath1\u001b[0m\u001b[1;33m]\u001b[0m\u001b[1;33m,\u001b[0m \u001b[0mpercent_reduction\u001b[0m\u001b[1;33m=\u001b[0m\u001b[1;36m65\u001b[0m\u001b[1;33m)\u001b[0m\u001b[1;33m\u001b[0m\u001b[1;33m\u001b[0m\u001b[0m\n\u001b[1;32m----> 6\u001b[1;33m \u001b[0mimg\u001b[0m\u001b[1;33m.\u001b[0m\u001b[0mshow\u001b[0m\u001b[1;33m(\u001b[0m\u001b[1;33m)\u001b[0m\u001b[1;33m\u001b[0m\u001b[1;33m\u001b[0m\u001b[0m\n\u001b[0m",
      "\u001b[1;31mAttributeError\u001b[0m: 'NoneType' object has no attribute 'show'"
     ]
    }
   ],
   "source": [
    "from alterimg.resize import *\n",
    "\n",
    "path1 = os.path.join(os.getcwd(), 'assets\\\\test_images', 'test3 - Copy.jpg')\n",
    "# img = cropconv([path1],percent_reduction=50)\n",
    "img = reshaper([path1], percent_reduction=65)\n",
    "img.show()"
   ]
  },
  {
   "cell_type": "code",
   "execution_count": 8,
   "metadata": {},
   "outputs": [],
   "source": []
  },
  {
   "cell_type": "code",
   "execution_count": 22,
   "metadata": {},
   "outputs": [],
   "source": [
    "from alterimg.typeconv import *"
   ]
  },
  {
   "cell_type": "code",
   "execution_count": 20,
   "metadata": {},
   "outputs": [],
   "source": [
    "typeconv([path1], 'j2p')"
   ]
  },
  {
   "cell_type": "code",
   "execution_count": 25,
   "metadata": {},
   "outputs": [
    {
     "output_type": "execute_result",
     "data": {
      "text/plain": [
       "1603268246526"
      ]
     },
     "metadata": {},
     "execution_count": 25
    }
   ],
   "source": [
    "import time\n",
    "round(time.time()*1000)"
   ]
  },
  {
   "cell_type": "code",
   "execution_count": 6,
   "metadata": {},
   "outputs": [
    {
     "output_type": "stream",
     "name": "stdout",
     "text": [
      "D:\\Python Projects\\abc\\1603268742129.jpg\n"
     ]
    }
   ],
   "source": [
    "import os\n",
    "print(os.path.join(r'D:\\Python Projects\\abc', (str(round(time.time()*1000)) +'.jpg')))"
   ]
  },
  {
   "cell_type": "code",
   "execution_count": 8,
   "metadata": {},
   "outputs": [],
   "source": [
    "a = \"1,2,3,4\""
   ]
  },
  {
   "cell_type": "code",
   "execution_count": 11,
   "metadata": {},
   "outputs": [
    {
     "output_type": "execute_result",
     "data": {
      "text/plain": [
       "(1, 2, 3, 4)"
      ]
     },
     "metadata": {},
     "execution_count": 11
    }
   ],
   "source": [
    "tuple([int(i) for i in a.split(',')])"
   ]
  },
  {
   "cell_type": "code",
   "execution_count": 4,
   "metadata": {},
   "outputs": [
    {
     "output_type": "stream",
     "name": "stdout",
     "text": [
      "0\n",
      "0\n",
      "1\n"
     ]
    },
    {
     "output_type": "error",
     "ename": "AssertionError",
     "evalue": "PNG Conversion failed",
     "traceback": [
      "\u001b[1;31m---------------------------------------------------------------------------\u001b[0m",
      "\u001b[1;31mAssertionError\u001b[0m                            Traceback (most recent call last)",
      "\u001b[1;32m<ipython-input-4-8c5b4907faac>\u001b[0m in \u001b[0;36m<module>\u001b[1;34m\u001b[0m\n\u001b[0;32m     23\u001b[0m     \u001b[1;32massert\u001b[0m \u001b[1;32mnot\u001b[0m \u001b[0mexecute_command\u001b[0m\u001b[1;33m,\u001b[0m \u001b[1;34m\"PNG Conversion failed\"\u001b[0m\u001b[1;33m\u001b[0m\u001b[1;33m\u001b[0m\u001b[0m\n\u001b[0;32m     24\u001b[0m \u001b[1;33m\u001b[0m\u001b[0m\n\u001b[1;32m---> 25\u001b[1;33m \u001b[0mtest_resize_percent\u001b[0m\u001b[1;33m(\u001b[0m\u001b[1;33m)\u001b[0m\u001b[1;33m\u001b[0m\u001b[1;33m\u001b[0m\u001b[0m\n\u001b[0m",
      "\u001b[1;32m<ipython-input-4-8c5b4907faac>\u001b[0m in \u001b[0;36mtest_resize_percent\u001b[1;34m()\u001b[0m\n\u001b[0;32m     21\u001b[0m     \u001b[0mexecute_command\u001b[0m \u001b[1;33m=\u001b[0m \u001b[0mos\u001b[0m\u001b[1;33m.\u001b[0m\u001b[0msystem\u001b[0m\u001b[1;33m(\u001b[0m\u001b[0mcode_stat\u001b[0m\u001b[1;33m)\u001b[0m\u001b[1;33m\u001b[0m\u001b[1;33m\u001b[0m\u001b[0m\n\u001b[0;32m     22\u001b[0m     \u001b[0mprint\u001b[0m\u001b[1;33m(\u001b[0m\u001b[0mexecute_command\u001b[0m\u001b[1;33m)\u001b[0m\u001b[1;33m\u001b[0m\u001b[1;33m\u001b[0m\u001b[0m\n\u001b[1;32m---> 23\u001b[1;33m     \u001b[1;32massert\u001b[0m \u001b[1;32mnot\u001b[0m \u001b[0mexecute_command\u001b[0m\u001b[1;33m,\u001b[0m \u001b[1;34m\"PNG Conversion failed\"\u001b[0m\u001b[1;33m\u001b[0m\u001b[1;33m\u001b[0m\u001b[0m\n\u001b[0m\u001b[0;32m     24\u001b[0m \u001b[1;33m\u001b[0m\u001b[0m\n\u001b[0;32m     25\u001b[0m \u001b[0mtest_resize_percent\u001b[0m\u001b[1;33m(\u001b[0m\u001b[1;33m)\u001b[0m\u001b[1;33m\u001b[0m\u001b[1;33m\u001b[0m\u001b[0m\n",
      "\u001b[1;31mAssertionError\u001b[0m: PNG Conversion failed"
     ]
    }
   ],
   "source": [
    "import os\n",
    "\n",
    "def test_png_conv():\n",
    "    code_stat = 'python alterimg -f \"assets\\\\test_images\\\\*\" -r \"j2p\"'\n",
    "    execute_command = os.system(code_stat)\n",
    "    print(execute_command)\n",
    "    assert not execute_command\n",
    "\n",
    "test_by_packed_module()\n",
    "\n",
    "def test_jpg_conv():\n",
    "    code_stat = 'python alterimg -f \"assets\\\\test_images\\\\*\" -r \"p2j\"'\n",
    "    execute_command = os.system(code_stat)\n",
    "    print(execute_command)\n",
    "    assert not execute_command\n",
    "test_jpg_conv()\n",
    "\n",
    "def test_resize_percent():\n",
    "    code_stat = 'python alterimg -f \"assets\\\\test_images\\\\*\" -r \"res-p\" -v \"80\"'\n",
    "    execute_command = os.system(code_stat)\n",
    "    print(execute_command)\n",
    "    assert not execute_command, \"PNG Conversion failed\"\n",
    "\n",
    "test_resize_percent()\n",
    "\n",
    "def test_resize_percent():\n",
    "    code_stat = 'python alterimg -f \"assets\\\\test_images\\\\*\" -r \"res-p\" -v \"80\"'\n",
    "    execute_command = os.system(code_stat)\n",
    "    print(execute_command)\n",
    "    assert not execute_command, \"PNG Conversion failed\"\n",
    "\n",
    "test_resize_percent()"
   ]
  },
  {
   "cell_type": "code",
   "execution_count": 6,
   "metadata": {},
   "outputs": [
    {
     "output_type": "stream",
     "name": "stdout",
     "text": [
      "0\n"
     ]
    }
   ],
   "source": [
    "def test_center_crop():\n",
    "    code_stat = 'python alterimg -f \"assets\\\\test_images\\\\*\" -r \"crp_px\" -v \"0,0,224,224\"'\n",
    "    execute_command = os.system(code_stat)\n",
    "    print(execute_command)\n",
    "    assert not execute_command, \"PNG Conversion failed\"\n",
    "\n",
    "test_center_crop()"
   ]
  },
  {
   "cell_type": "code",
   "execution_count": 7,
   "metadata": {},
   "outputs": [
    {
     "output_type": "stream",
     "name": "stdout",
     "text": [
      "0\n"
     ]
    }
   ],
   "source": [
    "# resize to 500 width\n",
    "def test_resize_width():\n",
    "    code_stat = 'python alterimg -f \"assets\\\\test_images\\\\*\" -r \"res_h\" -v \"500\"'\n",
    "    execute_command = os.system(code_stat)\n",
    "    print(execute_command)\n",
    "    assert not execute_command, \"PNG Conversion failed\"\n",
    "\n",
    "test_resize_width()"
   ]
  },
  {
   "cell_type": "code",
   "execution_count": 10,
   "metadata": {},
   "outputs": [
    {
     "output_type": "stream",
     "name": "stdout",
     "text": [
      "0\n"
     ]
    }
   ],
   "source": [
    "def test_resize_length():\n",
    "    code_stat = 'python alterimg -f \"assets\\\\test_images\\\\6.jpg\" -r \"res_h\" -v \"500\"'\n",
    "    execute_command = os.system(code_stat)\n",
    "    print(execute_command)\n",
    "    assert not execute_command, \"PNG Conversion failed\"\n",
    "\n",
    "test_resize_length()"
   ]
  },
  {
   "cell_type": "code",
   "execution_count": 12,
   "metadata": {},
   "outputs": [
    {
     "output_type": "stream",
     "name": "stdout",
     "text": [
      "0\n"
     ]
    }
   ],
   "source": [
    "# resize to 80%\n",
    "def test_resize_percent():\n",
    "    code_stat = 'python alterimg -f \"assets\\\\test_images\\\\5.jpg\" -r \"res_p\" -v \"80\"'\n",
    "    execute_command = os.system(code_stat)\n",
    "    print(execute_command)\n",
    "    assert not execute_command, \"PNG Conversion failed\"\n",
    "\n",
    "test_resize_percent()"
   ]
  },
  {
   "cell_type": "code",
   "execution_count": 1,
   "metadata": {},
   "outputs": [
    {
     "output_type": "stream",
     "name": "stdout",
     "text": [
      "path  assets\\test_images\\3.jpg\n"
     ]
    },
    {
     "output_type": "execute_result",
     "data": {
      "text/plain": [
       "(['assets\\\\test_images\\\\3.jpg'], [])"
      ]
     },
     "metadata": {},
     "execution_count": 1
    }
   ],
   "source": [
    "from alterimg.typeconv import *\n",
    "\n",
    "typeconv([\"assets\\\\test_images\\\\3.jpg\"], 'j2p')"
   ]
  },
  {
   "cell_type": "code",
   "execution_count": null,
   "metadata": {},
   "outputs": [],
   "source": [
    "from alterimg.typeconv importimg = Image.open(path)\n",
    "            # resize to 80%\n",
    "            # def test_resize_percent():\n",
    "                code_stat = 'python alterimg -f \"assets\\\\test_images\\\\5.jpg\" -r \"res_p\" -v \"80\"'\n",
    "                    execute_command = os.system(code_stat)\n",
    "                        print(execute_command)\n",
    "                            assert not execute_command, \"PNG Conversion failed\"\n",
    "# resize to 80%\n",
    "def test_resize_percent():\n",
    "    code_stat = 'python alterimg -f \"assets\\\\test_images\\\\5.jpg\" -r \"res_p\" -v \"80\"'\n",
    "    execute_command = os.system(code_stat)\n",
    "    print(execute_command)\n",
    "    assert not execute_command, \"PNG Conversion failed\"\n",
    "\n",
    "test_resize_percent()x, y = Image.open(path).size"
   ]
  },
  {
   "cell_type": "code",
   "execution_count": 19,
   "metadata": {},
   "outputs": [
    {
     "output_type": "stream",
     "name": "stdout",
     "text": [
      "reduced by 80 - New x 57 y 57\n57 57 57 57\n"
     ]
    }
   ],
   "source": [
    "from alterimg.resize import *\n",
    "\n",
    "def test_dircrop_percent():\n",
    "\n",
    "    file_list = [\"assets\\\\test_images\\\\3.jpg\"]\n",
    "    x, y = Image.open(file_list[0]).size\n",
    "    percent_reduction = 80\n",
    "    a, b = int(x*(percent_reduction/100)), int(y*(percent_reduction/100))\n",
    "    reshaper(file_list, percent_reduction)\n",
    "    x, y = Image.open(file_list[0]).size\n",
    "    print(x,y,a,b)\n",
    "    assert (x,y) == (a,b)\n",
    "\n",
    "test_dircrop_percent()"
   ]
  },
  {
   "cell_type": "code",
   "execution_count": 34,
   "metadata": {},
   "outputs": [
    {
     "output_type": "stream",
     "name": "stdout",
     "text": [
      "143 143\n69.93006993006993\nw 143\nreduced by 69.93006993006993 - New x 100 y 100\n100 100 100 100\n"
     ]
    }
   ],
   "source": [
    "def test_dircrop_width():\n",
    "\n",
    "    file_list = [\"assets\\\\test_images\\\\5.jpg\"]\n",
    "    x, y = Image.open(file_list[0]).size\n",
    "    width = 100\n",
    "    print(x,y)\n",
    "    percent_reduction = (width/x*100)\n",
    "    print(percent_reduction)\n",
    "    a, b = int(x*(percent_reduction/100)), int(y*(percent_reduction/100))\n",
    "    reshaper(file_list, width=width)\n",
    "    x, y = Image.open(file_list[0]).size\n",
    "    print(x,y,a,b)\n",
    "    assert (x,y) == (a,b)\n",
    "\n",
    "test_dircrop_width()"
   ]
  },
  {
   "cell_type": "code",
   "execution_count": 37,
   "metadata": {},
   "outputs": [
    {
     "output_type": "stream",
     "name": "stdout",
     "text": [
      "143 143\n34.96503496503497\nreduced by 34.96503496503497 - New x 50 y 50\n50 50 50 50\n"
     ]
    }
   ],
   "source": [
    "def test_dircrop_length():\n",
    "\n",
    "    file_list = [\"assets\\\\test_images\\\\6.jpg\"]\n",
    "    x, y = Image.open(file_list[0]).size\n",
    "    height = 50\n",
    "    print(x,y)\n",
    "    percent_reduction = (height/x*100)\n",
    "    print(percent_reduction)\n",
    "    a, b = int(x*(percent_reduction/100)), int(y*(percent_reduction/100))\n",
    "    reshaper(file_list, height=height)\n",
    "    x, y = Image.open(file_list[0]).size\n",
    "    print(x,y,a,b)\n",
    "    assert (x,y) == (a,b)\n",
    "\n",
    "test_dircrop_length()"
   ]
  },
  {
   "cell_type": "code",
   "execution_count": 47,
   "metadata": {},
   "outputs": [],
   "source": [
    "from alterimg.cropper import *\n",
    "def test_check_docstring():\n",
    "    '''Checks working of check_docstring function'''\n",
    "    assert typeconv.__doc__ != None\n",
    "    assert reshaper.__doc__ != None\n",
    "    assert cropconv.__doc__ != None\n",
    "\n",
    "test_check_docstring()"
   ]
  },
  {
   "cell_type": "code",
   "execution_count": 49,
   "metadata": {},
   "outputs": [],
   "source": [
    "from alterimg.cropper import *\n",
    "def test_check_annotations():\n",
    "    '''Checks working of check_docstring function'''\n",
    "    assert typeconv.__annotations__ != None\n",
    "    assert reshaper.__annotations__ != None\n",
    "    assert cropconv.__annotations__ != None\n",
    "\n",
    "test_check_docstring()"
   ]
  },
  {
   "cell_type": "code",
   "execution_count": 52,
   "metadata": {},
   "outputs": [
    {
     "output_type": "stream",
     "name": "stdout",
     "text": [
      "path  assets\\test_images\\6.jpg\npath  assets\\test_images\\xyz.jpg\n[Errno 2] No such file or directory: 'assets\\\\test_images\\\\xyz.jpg'\n"
     ]
    }
   ],
   "source": [
    "def test_alterimg_returns_notprocessed():\n",
    "    file_list = [\"assets\\\\test_images\\\\6.jpg\", \"assets\\\\test_images\\\\xyz.jpg\"]\n",
    "    converted, not_altered = typeconv(file_list, type='j2p')\n",
    "    assert converted[0] == file_list[0]\n",
    "    assert not_altered[0] == file_list[1]\n",
    "\n",
    "test_alterimg_returns_notprocessed()"
   ]
  }
 ]
}