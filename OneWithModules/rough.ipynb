{
 "metadata": {
  "language_info": {
   "codemirror_mode": {
    "name": "ipython",
    "version": 3
   },
   "file_extension": ".py",
   "mimetype": "text/x-python",
   "name": "python",
   "nbconvert_exporter": "python",
   "pygments_lexer": "ipython3",
   "version": "3.7.6-final"
  },
  "orig_nbformat": 2,
  "kernelspec": {
   "name": "Python 3.7.6 64-bit ('pytorch': conda)",
   "display_name": "Python 3.7.6 64-bit ('pytorch': conda)",
   "metadata": {
    "interpreter": {
     "hash": "3486cc88b56958510a49b781a0a8496e2297639e398ef0a616243c0e35c39059"
    }
   }
  }
 },
 "nbformat": 4,
 "nbformat_minor": 2,
 "cells": [
  {
   "cell_type": "code",
   "execution_count": null,
   "metadata": {},
   "outputs": [],
   "source": [
    "'''\n",
    "Create these modules:\n",
    "jpg/jpeg to png conversion (use PIL library) j2p\n",
    "png to jpg conversion (use PIL library) p2j\n",
    "image resizer that can resize bulk images with these features:\n",
    "resize by user determined percentage (say 50% for height and width) (proportional) res_p\n",
    "resize by user determined width (proportional) res_w\n",
    "resize by user determined height (proportional) res_h\n",
    "image cropper that can crop bulk images with these features:\n",
    "center square/rectangle crop by user-determined pixels crp_px\n",
    "centre square/rectangle crop by user-determined percentage (crop to 50%/70%) crp_p\n",
    "it let's user know which all images were not cropped due to size mismatches\n",
    "a __main__ module that exposes all these features (using argparse)\n",
    "finally create an zipped app, that exposes all of these features\n",
    "\n",
    "'''"
   ]
  },
  {
   "cell_type": "code",
   "execution_count": 1,
   "metadata": {},
   "outputs": [
    {
     "output_type": "stream",
     "name": "stdout",
     "text": [
      "d:\\Python Projects\\EPAi\\OneWithModules\n"
     ]
    }
   ],
   "source": [
    "import os\n",
    "from PIL import Image\n",
    "print(os.getcwd())\n",
    "\n",
    "import glob\n",
    "from alterimg.resize import * \n",
    "\n",
    "file_list = (glob.glob('assets\\\\test_images\\\\*'))\n",
    "\n",
    "cwd = os.getcwd()\n",
    "file_list = [os.path.join(cwd,i) for i in file_list]"
   ]
  },
  {
   "cell_type": "code",
   "execution_count": 5,
   "metadata": {},
   "outputs": [
    {
     "output_type": "execute_result",
     "data": {
      "text/plain": [
       "'d:\\\\Python Projects\\\\EPAi\\\\OneWithModules\\\\assets\\\\test_images\\\\1.jpg'"
      ]
     },
     "metadata": {},
     "execution_count": 5
    }
   ],
   "source": [
    "file_list[0]"
   ]
  },
  {
   "cell_type": "code",
   "execution_count": 6,
   "metadata": {},
   "outputs": [
    {
     "output_type": "execute_result",
     "data": {
      "text/plain": [
       "['d:\\\\Python Projects\\\\EPAi\\\\OneWithModules\\\\assets\\\\test_images\\\\1.jpg',\n",
       " 'd:\\\\Python Projects\\\\EPAi\\\\OneWithModules\\\\assets\\\\test_images\\\\2.jpg',\n",
       " 'd:\\\\Python Projects\\\\EPAi\\\\OneWithModules\\\\assets\\\\test_images\\\\3.jpg']"
      ]
     },
     "metadata": {},
     "execution_count": 6
    }
   ],
   "source": [
    "['d:\\\\Python Projects\\\\EPAi\\\\OneWithModules\\\\assets\\\\test_images\\\\1.jpg',\n",
    "'d:\\\\Python Projects\\\\EPAi\\\\OneWithModules\\\\assets\\\\test_images\\\\2.jpg',\n",
    "'d:\\\\Python Projects\\\\EPAi\\\\OneWithModules\\\\assets\\\\test_images\\\\3.jpg']"
   ]
  },
  {
   "cell_type": "code",
   "execution_count": 3,
   "metadata": {},
   "outputs": [],
   "source": [
    "# from alterimg.typeconv import *\n",
    "# img = typeconv(file_list, type='p2j')"
   ]
  },
  {
   "cell_type": "code",
   "execution_count": 2,
   "metadata": {},
   "outputs": [
    {
     "output_type": "stream",
     "name": "stdout",
     "text": [
      "reduced by 100.0 - New x 899 y 600\n",
      "Wrong Values provided for reshaping Select integer values for height or width or percent value for percent_reduction\n",
      "Wrong Values provided for reshaping Select integer values for height or width or percent value for percent_reduction\n",
      "reduced by 100.0 - New x 854 y 600\n",
      "reduced by 100.0 - New x 449 y 600\n",
      "Wrong Values provided for reshaping Select integer values for height or width or percent value for percent_reduction\n",
      "reduced by 100.0 - New x 902 y 600\n",
      "reduced by 100.0 - New x 455 y 600\n",
      "reduced by 100.0 - New x 400 y 600\n",
      "reduced by 100.0 - New x 403 y 600\n",
      "Wrong Values provided for reshaping Select integer values for height or width or percent value for percent_reduction\n",
      "reduced by 100.0 - New x 400 y 600\n",
      "reduced by 100.0 - New x 365 y 600\n",
      "Wrong Values provided for reshaping Select integer values for height or width or percent value for percent_reduction\n",
      "Wrong Values provided for reshaping Select integer values for height or width or percent value for percent_reduction\n",
      "Wrong Values provided for reshaping Select integer values for height or width or percent value for percent_reduction\n",
      "reduced by 100.0 - New x 816 y 600\n",
      "reduced by 100.0 - New x 900 y 600\n",
      "reduced by 100.0 - New x 900 y 600\n",
      "Wrong Values provided for reshaping Select integer values for height or width or percent value for percent_reduction\n",
      "Wrong Values provided for reshaping Select integer values for height or width or percent value for percent_reduction\n",
      "Wrong Values provided for reshaping Select integer values for height or width or percent value for percent_reduction\n",
      "Wrong Values provided for reshaping Select integer values for height or width or percent value for percent_reduction\n",
      "Wrong Values provided for reshaping Select integer values for height or width or percent value for percent_reduction\n",
      "Wrong Values provided for reshaping Select integer values for height or width or percent value for percent_reduction\n",
      "reduced by 100.0 - New x 441 y 600\n",
      "Wrong Values provided for reshaping Select integer values for height or width or percent value for percent_reduction\n",
      "Wrong Values provided for reshaping Select integer values for height or width or percent value for percent_reduction\n",
      "reduced by 100.0 - New x 424 y 600\n",
      "Wrong Values provided for reshaping Select integer values for height or width or percent value for percent_reduction\n",
      "Wrong Values provided for reshaping Select integer values for height or width or percent value for percent_reduction\n",
      "Wrong Values provided for reshaping Select integer values for height or width or percent value for percent_reduction\n",
      "Wrong Values provided for reshaping Select integer values for height or width or percent value for percent_reduction\n",
      "Wrong Values provided for reshaping Select integer values for height or width or percent value for percent_reduction\n",
      "Wrong Values provided for reshaping Select integer values for height or width or percent value for percent_reduction\n",
      "Wrong Values provided for reshaping Select integer values for height or width or percent value for percent_reduction\n",
      "reduced by 100.0 - New x 801 y 600\n",
      "reduced by 100.0 - New x 398 y 600\n",
      "reduced by 100.0 - New x 899 y 600\n",
      "reduced by 100.0 - New x 899 y 600\n",
      "Wrong Values provided for reshaping Select integer values for height or width or percent value for percent_reduction\n",
      "reduced by 100.0 - New x 902 y 600\n",
      "reduced by 100.0 - New x 397 y 600\n",
      "Wrong Values provided for reshaping Select integer values for height or width or percent value for percent_reduction\n",
      "Wrong Values provided for reshaping Select integer values for height or width or percent value for percent_reduction\n",
      "Wrong Values provided for reshaping Select integer values for height or width or percent value for percent_reduction\n",
      "reduced by 100.0 - New x 804 y 600\n",
      "Wrong Values provided for reshaping Select integer values for height or width or percent value for percent_reduction\n",
      "Wrong Values provided for reshaping Select integer values for height or width or percent value for percent_reduction\n",
      "Wrong Values provided for reshaping Select integer values for height or width or percent value for percent_reduction\n",
      "Wrong Values provided for reshaping Select integer values for height or width or percent value for percent_reduction\n",
      "Wrong Values provided for reshaping Select integer values for height or width or percent value for percent_reduction\n",
      "Wrong Values provided for reshaping Select integer values for height or width or percent value for percent_reduction\n",
      "Wrong Values provided for reshaping Select integer values for height or width or percent value for percent_reduction\n",
      "Wrong Values provided for reshaping Select integer values for height or width or percent value for percent_reduction\n",
      "Wrong Values provided for reshaping Select integer values for height or width or percent value for percent_reduction\n",
      "Wrong Values provided for reshaping Select integer values for height or width or percent value for percent_reduction\n",
      "Wrong Values provided for reshaping Select integer values for height or width or percent value for percent_reduction\n",
      "Wrong Values provided for reshaping Select integer values for height or width or percent value for percent_reduction\n",
      "reduced by 100.0 - New x 600 y 600\n",
      "Wrong Values provided for reshaping Select integer values for height or width or percent value for percent_reduction\n",
      "Wrong Values provided for reshaping Select integer values for height or width or percent value for percent_reduction\n",
      "reduced by 100.0 - New x 934 y 600\n",
      "Wrong Values provided for reshaping Select integer values for height or width or percent value for percent_reduction\n",
      "Wrong Values provided for reshaping Select integer values for height or width or percent value for percent_reduction\n",
      "Wrong Values provided for reshaping Select integer values for height or width or percent value for percent_reduction\n",
      "Wrong Values provided for reshaping Select integer values for height or width or percent value for percent_reduction\n",
      "Wrong Values provided for reshaping Select integer values for height or width or percent value for percent_reduction\n",
      "Wrong Values provided for reshaping Select integer values for height or width or percent value for percent_reduction\n",
      "Wrong Values provided for reshaping Select integer values for height or width or percent value for percent_reduction\n",
      "Wrong Values provided for reshaping Select integer values for height or width or percent value for percent_reduction\n",
      "Wrong Values provided for reshaping Select integer values for height or width or percent value for percent_reduction\n",
      "Wrong Values provided for reshaping Select integer values for height or width or percent value for percent_reduction\n",
      "Wrong Values provided for reshaping Select integer values for height or width or percent value for percent_reduction\n",
      "Wrong Values provided for reshaping Select integer values for height or width or percent value for percent_reduction\n",
      "Wrong Values provided for reshaping Select integer values for height or width or percent value for percent_reduction\n",
      "Wrong Values provided for reshaping Select integer values for height or width or percent value for percent_reduction\n",
      "Wrong Values provided for reshaping Select integer values for height or width or percent value for percent_reduction\n",
      "Wrong Values provided for reshaping Select integer values for height or width or percent value for percent_reduction\n",
      "reduced by 100.0 - New x 900 y 600\n",
      "Wrong Values provided for reshaping Select integer values for height or width or percent value for percent_reduction\n",
      "Wrong Values provided for reshaping Select integer values for height or width or percent value for percent_reduction\n",
      "Wrong Values provided for reshaping Select integer values for height or width or percent value for percent_reduction\n",
      "reduced by 100.0 - New x 899 y 600\n",
      "reduced by 100.0 - New x 441 y 600\n",
      "Wrong Values provided for reshaping Select integer values for height or width or percent value for percent_reduction\n",
      "reduced by 100.0 - New x 481 y 600\n",
      "reduced by 100.0 - New x 900 y 600\n",
      "Wrong Values provided for reshaping Select integer values for height or width or percent value for percent_reduction\n",
      "reduced by 100.0 - New x 875 y 600\n",
      "Wrong Values provided for reshaping Select integer values for height or width or percent value for percent_reduction\n",
      "Wrong Values provided for reshaping Select integer values for height or width or percent value for percent_reduction\n",
      "reduced by 100.0 - New x 902 y 600\n",
      "Wrong Values provided for reshaping Select integer values for height or width or percent value for percent_reduction\n",
      "Wrong Values provided for reshaping Select integer values for height or width or percent value for percent_reduction\n",
      "Wrong Values provided for reshaping Select integer values for height or width or percent value for percent_reduction\n",
      "Wrong Values provided for reshaping Select integer values for height or width or percent value for percent_reduction\n",
      "reduced by 100.0 - New x 375 y 600\n",
      "Wrong Values provided for reshaping Select integer values for height or width or percent value for percent_reduction\n",
      "reduced by 100.0 - New x 791 y 600\n",
      "Wrong Values provided for reshaping Select integer values for height or width or percent value for percent_reduction\n",
      "Wrong Values provided for reshaping Select integer values for height or width or percent value for percent_reduction\n",
      "Wrong Values provided for reshaping Select integer values for height or width or percent value for percent_reduction\n",
      "Wrong Values provided for reshaping Select integer values for height or width or percent value for percent_reduction\n",
      "Wrong Values provided for reshaping Select integer values for height or width or percent value for percent_reduction\n",
      "Wrong Values provided for reshaping Select integer values for height or width or percent value for percent_reduction\n"
     ]
    }
   ],
   "source": [
    "file_list = (glob.glob('assets\\\\test_images\\\\*'))\n",
    "file_list = [os.path.join(cwd,i) for i in file_list]\n",
    "reshaper(file_list, height=600)"
   ]
  },
  {
   "cell_type": "code",
   "execution_count": 3,
   "metadata": {},
   "outputs": [
    {
     "output_type": "stream",
     "name": "stdout",
     "text": [
      "reduced by 65 - New x 390 y 219\n"
     ]
    },
    {
     "output_type": "error",
     "ename": "AttributeError",
     "evalue": "'NoneType' object has no attribute 'show'",
     "traceback": [
      "\u001b[1;31m---------------------------------------------------------------------------\u001b[0m",
      "\u001b[1;31mAttributeError\u001b[0m                            Traceback (most recent call last)",
      "\u001b[1;32m<ipython-input-3-540d06799e03>\u001b[0m in \u001b[0;36m<module>\u001b[1;34m\u001b[0m\n\u001b[0;32m      4\u001b[0m \u001b[1;31m# img = cropconv([path1],percent_reduction=50)\u001b[0m\u001b[1;33m\u001b[0m\u001b[1;33m\u001b[0m\u001b[1;33m\u001b[0m\u001b[0m\n\u001b[0;32m      5\u001b[0m \u001b[0mimg\u001b[0m \u001b[1;33m=\u001b[0m \u001b[0mreshaper\u001b[0m\u001b[1;33m(\u001b[0m\u001b[1;33m[\u001b[0m\u001b[0mpath1\u001b[0m\u001b[1;33m]\u001b[0m\u001b[1;33m,\u001b[0m \u001b[0mpercent_reduction\u001b[0m\u001b[1;33m=\u001b[0m\u001b[1;36m65\u001b[0m\u001b[1;33m)\u001b[0m\u001b[1;33m\u001b[0m\u001b[1;33m\u001b[0m\u001b[0m\n\u001b[1;32m----> 6\u001b[1;33m \u001b[0mimg\u001b[0m\u001b[1;33m.\u001b[0m\u001b[0mshow\u001b[0m\u001b[1;33m(\u001b[0m\u001b[1;33m)\u001b[0m\u001b[1;33m\u001b[0m\u001b[1;33m\u001b[0m\u001b[0m\n\u001b[0m",
      "\u001b[1;31mAttributeError\u001b[0m: 'NoneType' object has no attribute 'show'"
     ]
    }
   ],
   "source": [
    "from alterimg.resize import *\n",
    "\n",
    "path1 = os.path.join(os.getcwd(), 'assets\\\\test_images', 'test3 - Copy.jpg')\n",
    "# img = cropconv([path1],percent_reduction=50)\n",
    "img = reshaper([path1], percent_reduction=65)\n",
    "img.show()"
   ]
  },
  {
   "cell_type": "code",
   "execution_count": 8,
   "metadata": {},
   "outputs": [],
   "source": []
  },
  {
   "cell_type": "code",
   "execution_count": 22,
   "metadata": {},
   "outputs": [],
   "source": [
    "from alterimg.typeconv import *"
   ]
  },
  {
   "cell_type": "code",
   "execution_count": 20,
   "metadata": {},
   "outputs": [],
   "source": [
    "typeconv([path1], 'j2p')"
   ]
  },
  {
   "cell_type": "code",
   "execution_count": 25,
   "metadata": {},
   "outputs": [
    {
     "output_type": "execute_result",
     "data": {
      "text/plain": [
       "1603268246526"
      ]
     },
     "metadata": {},
     "execution_count": 25
    }
   ],
   "source": [
    "import time\n",
    "round(time.time()*1000)"
   ]
  },
  {
   "cell_type": "code",
   "execution_count": 6,
   "metadata": {},
   "outputs": [
    {
     "output_type": "stream",
     "name": "stdout",
     "text": [
      "D:\\Python Projects\\abc\\1603268742129.jpg\n"
     ]
    }
   ],
   "source": [
    "import os\n",
    "print(os.path.join(r'D:\\Python Projects\\abc', (str(round(time.time()*1000)) +'.jpg')))"
   ]
  },
  {
   "cell_type": "code",
   "execution_count": 8,
   "metadata": {},
   "outputs": [],
   "source": [
    "a = \"1,2,3,4\""
   ]
  },
  {
   "cell_type": "code",
   "execution_count": 11,
   "metadata": {},
   "outputs": [
    {
     "output_type": "execute_result",
     "data": {
      "text/plain": [
       "(1, 2, 3, 4)"
      ]
     },
     "metadata": {},
     "execution_count": 11
    }
   ],
   "source": [
    "tuple([int(i) for i in a.split(',')])"
   ]
  },
  {
   "cell_type": "code",
   "execution_count": null,
   "metadata": {},
   "outputs": [],
   "source": [
    "import os\n",
    "\n",
    "os.system()"
   ]
  }
 ]
}