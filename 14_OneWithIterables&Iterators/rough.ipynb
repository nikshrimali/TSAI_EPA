{
 "metadata": {
  "language_info": {
   "codemirror_mode": {
    "name": "ipython",
    "version": 3
   },
   "file_extension": ".py",
   "mimetype": "text/x-python",
   "name": "python",
   "nbconvert_exporter": "python",
   "pygments_lexer": "ipython3",
   "version": "3.7.6-final"
  },
  "orig_nbformat": 2,
  "kernelspec": {
   "name": "python3",
   "display_name": "Python 3"
  }
 },
 "nbformat": 4,
 "nbformat_minor": 2,
 "cells": [
  {
   "cell_type": "code",
   "execution_count": 2,
   "metadata": {},
   "outputs": [],
   "source": [
    "from polygons import *\n",
    "from polyseq import *"
   ]
  },
  {
   "source": [
    "## Creating PolyGon Class Objects"
   ],
   "cell_type": "markdown",
   "metadata": {}
  },
  {
   "cell_type": "code",
   "execution_count": 10,
   "metadata": {},
   "outputs": [],
   "source": [
    "a = PolyGon(3, 2)\n",
    "b = PolyGon(3,2)\n",
    "c = PolyGon(4,2)"
   ]
  },
  {
   "source": [
    "## Implementing methods of PolyGon class"
   ],
   "cell_type": "markdown",
   "metadata": {}
  },
  {
   "cell_type": "code",
   "execution_count": 9,
   "metadata": {},
   "outputs": [
    {
     "output_type": "stream",
     "name": "stdout",
     "text": [
      "Area is 5.2\nPerimeter is 18.000000000000004\nInterior Angle is 60.0\nApothem is is 1.0000000000000002\nEdge Length is 3.4641016151377544\nRepresenting the object - A polygon of side 3 and circumradius 2\n"
     ]
    }
   ],
   "source": [
    "print(f'Area is {a.get_area()}')\n",
    "print(f'Perimeter is {a.get_perimeter()}')\n",
    "print(f'Interior Angle is {a.get_interior_angle()}')\n",
    "print(f'Apothem is is {a.get_apothem()}')\n",
    "print(f'Edge Length is {a.get_edgelength()}')\n",
    "print(f'Representing the object - {str(a)}')\n"
   ]
  },
  {
   "source": [
    "## Testing Equality and Inequality"
   ],
   "cell_type": "markdown",
   "metadata": {}
  },
  {
   "cell_type": "code",
   "execution_count": 18,
   "metadata": {},
   "outputs": [
    {
     "output_type": "stream",
     "name": "stdout",
     "text": [
      "Comparing two similar Polygon Objects a and b -  True\nComparing two different Polygon Objects a and c -  False\nChecking the greater than Polygon Objects c and a -  True\nChecking the greater than Polygon Objects c and a -  False\n"
     ]
    }
   ],
   "source": [
    "print(f'Comparing two similar Polygon Objects a and b -  {a == b}')\n",
    "print(f'Comparing two different Polygon Objects a and c -  {a == c}')\n",
    "print(f'Checking the greater than Polygon Objects c and a -  {c > b}')\n",
    "print(f'Checking the less than than Polygon Objects c and a -  {c < b}')"
   ]
  },
  {
   "source": [
    "## Checking Polygon Sequences"
   ],
   "cell_type": "markdown",
   "metadata": {}
  },
  {
   "cell_type": "code",
   "execution_count": 3,
   "metadata": {},
   "outputs": [],
   "source": [
    "c = PolySeq(25,10)"
   ]
  },
  {
   "cell_type": "code",
   "execution_count": 4,
   "metadata": {},
   "outputs": [
    {
     "output_type": "execute_result",
     "data": {
      "text/plain": [
       "'Get max efficient area for Polygon of highest vertices no as 25 and circumradius 10'"
      ]
     },
     "metadata": {},
     "execution_count": 4
    }
   ],
   "source": [
    "str(c)"
   ]
  },
  {
   "source": [
    "### This method calculates the area of all the possible polygon sequences and returns the max efficient area"
   ],
   "cell_type": "markdown",
   "metadata": {}
  },
  {
   "cell_type": "code",
   "execution_count": 6,
   "metadata": {},
   "outputs": [
    {
     "output_type": "stream",
     "name": "stdout",
     "text": [
      "area/perimeter ratios {3: 0.057733, 4: 0.070711, 5: 0.085064, 6: 0.100001, 7: 0.115238, 8: 0.130655, 9: 0.146188, 10: 0.161802, 11: 0.177472, 12: 0.193185, 13: 0.208929, 14: 0.224699, 15: 0.240485, 16: 0.256294, 17: 0.272114, 18: 0.28794, 19: 0.303772, 20: 0.319626, 21: 0.335472, 22: 0.351338, 23: 0.367202, 24: 0.383061}\nMaximum efficient polygon is of side 24\n"
     ]
    },
    {
     "output_type": "execute_result",
     "data": {
      "text/plain": [
       "24"
      ]
     },
     "metadata": {},
     "execution_count": 6
    }
   ],
   "source": [
    "c[24]"
   ]
  },
  {
   "cell_type": "code",
   "execution_count": 8,
   "metadata": {},
   "outputs": [
    {
     "output_type": "stream",
     "name": "stdout",
     "text": [
      "Length of the Sequence is 25\n"
     ]
    }
   ],
   "source": [
    "print(f'Length of the Sequence is {len(c)}')"
   ]
  }
 ]
}