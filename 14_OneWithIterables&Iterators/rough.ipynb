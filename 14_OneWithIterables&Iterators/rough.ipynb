{
 "metadata": {
  "language_info": {
   "codemirror_mode": {
    "name": "ipython",
    "version": 3
   },
   "file_extension": ".py",
   "mimetype": "text/x-python",
   "name": "python",
   "nbconvert_exporter": "python",
   "pygments_lexer": "ipython3",
   "version": "3.7.6-final"
  },
  "orig_nbformat": 2,
  "kernelspec": {
   "name": "python3",
   "display_name": "Python 3"
  }
 },
 "nbformat": 4,
 "nbformat_minor": 2,
 "cells": [
  {
   "cell_type": "code",
   "execution_count": 65,
   "metadata": {},
   "outputs": [],
   "source": [
    "from polygons import *\n",
    "# from polyseq import *\n",
    "from functools import namedtuple\n"
   ]
  },
  {
   "cell_type": "code",
   "execution_count": 66,
   "metadata": {},
   "outputs": [],
   "source": [
    "# Getter and settor methods for vertices and circumradius\n",
    "\n",
    "class PolyIterable:\n",
    "    '''Converting Polygon sequence into Iterator and Iterator'''\n",
    "    def __init__(self, vertices, circumradius):\n",
    "        self.vertices = vertices\n",
    "        self.circumradius = circumradius\n",
    "\n",
    "    def __len__(self):\n",
    "        return self.vertices\n",
    "    \n",
    "    def __iter__(self):\n",
    "        return self.PolyIterator(self.vertices, self.circumradius)\n",
    "    \n",
    "    def __getitem__(self, s):\n",
    "        if s > self.vertices - 3 or s < 0:\n",
    "            raise IndexError('Index out of scope of this problem')\n",
    "        else:\n",
    "            s = s + 3\n",
    "            return self.PolyIterator(self.vertices, self.circumradius).area_peri_ratio(s)\n",
    "\n",
    "    class PolyIterator():\n",
    "        '''This is an iterable that is called via Iterator'''\n",
    "        def __init__(self, vertices, circumradius):\n",
    "            self.circumradius = circumradius\n",
    "            self.vertices = vertices\n",
    "            self.i = 3\n",
    "\n",
    "        def __iter__(self):\n",
    "            return self.__class__()\n",
    "        \n",
    "        def __next__(self):\n",
    "            if self.i > self.vertices:\n",
    "                raise StopIteration\n",
    "            else:\n",
    "                poly_tuple = self.area_peri_ratio(self.i)\n",
    "                self.i += 1\n",
    "                return poly_tuple\n",
    "        \n",
    "        def area_peri_ratio(self, vertices):\n",
    "            poly_tuple = namedtuple('poly_tuple', 'Vertices AreaRatio')\n",
    "            a = PolyGon(vertices, self.circumradius)\n",
    "            area = a.get_area()\n",
    "            perimeter = a.get_perimeter()\n",
    "            return poly_tuple(Vertices= vertices,AreaRatio=(round(area/perimeter,6)))\n",
    "\n",
    "    def __repr__(self):\n",
    "        return f'Get max efficient area for Polygon of highest vertices no as {self.vertices} and circumradius {self.circumradius}'\n",
    "        \n",
    "    def maxefficiencypoly(self):\n",
    "        polygons = []\n",
    "        for i in range(self.vertices-3):\n",
    "            i = i+3\n",
    "            polygons.append(self.PolyIterator(self.vertices, self.circumradius).area_peri_ratio(i))\n",
    "        \n",
    "        return(max([(i[0],i[1]) for i in polygons]))"
   ]
  },
  {
   "cell_type": "code",
   "execution_count": 67,
   "metadata": {},
   "outputs": [],
   "source": [
    "a = PolyIterable(25,10)"
   ]
  },
  {
   "cell_type": "code",
   "execution_count": 68,
   "metadata": {},
   "outputs": [
    {
     "output_type": "execute_result",
     "data": {
      "text/plain": [
       "(24, 0.383061)"
      ]
     },
     "metadata": {},
     "execution_count": 68
    }
   ],
   "source": [
    "a.maxefficiencypoly()"
   ]
  },
  {
   "cell_type": "code",
   "execution_count": 8,
   "metadata": {},
   "outputs": [],
   "source": [
    "x = namedtuple('x', 'a b')"
   ]
  },
  {
   "cell_type": "code",
   "execution_count": 9,
   "metadata": {},
   "outputs": [],
   "source": [
    "a1 = x(a=1, b=2)\n",
    "a2 = x(a=3, b=4)\n",
    "a3 = x(a=5, b=6)"
   ]
  },
  {
   "cell_type": "code",
   "execution_count": 18,
   "metadata": {},
   "outputs": [
    {
     "output_type": "execute_result",
     "data": {
      "text/plain": [
       "2"
      ]
     },
     "metadata": {},
     "execution_count": 18
    }
   ],
   "source": [
    "a1[1]"
   ]
  },
  {
   "cell_type": "code",
   "execution_count": 13,
   "metadata": {},
   "outputs": [
    {
     "output_type": "error",
     "ename": "TypeError",
     "evalue": "tuple indices must be integers or slices, not str",
     "traceback": [
      "\u001b[1;31m---------------------------------------------------------------------------\u001b[0m",
      "\u001b[1;31mTypeError\u001b[0m                                 Traceback (most recent call last)",
      "\u001b[1;32m<ipython-input-13-eb1871d012df>\u001b[0m in \u001b[0;36m<module>\u001b[1;34m\u001b[0m\n\u001b[0;32m      1\u001b[0m \u001b[1;32mfor\u001b[0m \u001b[0mi\u001b[0m \u001b[1;32min\u001b[0m \u001b[1;33m[\u001b[0m\u001b[0ma1\u001b[0m\u001b[1;33m,\u001b[0m \u001b[0ma2\u001b[0m\u001b[1;33m,\u001b[0m \u001b[0ma3\u001b[0m\u001b[1;33m]\u001b[0m\u001b[1;33m:\u001b[0m\u001b[1;33m\u001b[0m\u001b[1;33m\u001b[0m\u001b[0m\n\u001b[1;32m----> 2\u001b[1;33m     \u001b[0mprint\u001b[0m\u001b[1;33m(\u001b[0m\u001b[0mi\u001b[0m\u001b[1;33m[\u001b[0m\u001b[1;34m'a'\u001b[0m\u001b[1;33m]\u001b[0m\u001b[1;33m)\u001b[0m\u001b[1;33m\u001b[0m\u001b[1;33m\u001b[0m\u001b[0m\n\u001b[0m",
      "\u001b[1;31mTypeError\u001b[0m: tuple indices must be integers or slices, not str"
     ]
    }
   ],
   "source": [
    "for i in [a1, a2, a3]:\n",
    "    print(i[])"
   ]
  },
  {
   "cell_type": "code",
   "execution_count": 22,
   "metadata": {},
   "outputs": [],
   "source": [
    "a = namedtuple('a', 'x , y')\n",
    "b = list([1,2])"
   ]
  },
  {
   "cell_type": "code",
   "execution_count": 25,
   "metadata": {},
   "outputs": [
    {
     "output_type": "stream",
     "name": "stdout",
     "text": [
      "a(x=2, y=3)\n"
     ]
    }
   ],
   "source": [
    "print(a(x = 2, y = 3))"
   ]
  },
  {
   "cell_type": "code",
   "execution_count": 24,
   "metadata": {},
   "outputs": [
    {
     "output_type": "stream",
     "name": "stdout",
     "text": [
      "a(x=1, y=2)\n"
     ]
    }
   ],
   "source": [
    "# Expand list inside namedtuple\n",
    "\n",
    "print(a(*b))"
   ]
  },
  {
   "source": [
    "## Creating PolyGon Class Objects"
   ],
   "cell_type": "markdown",
   "metadata": {}
  },
  {
   "cell_type": "code",
   "execution_count": 3,
   "metadata": {},
   "outputs": [],
   "source": [
    "a = PolyGon(3, 2)\n",
    "b = PolyGon(3,2)\n",
    "c = PolyGon(4,2)"
   ]
  },
  {
   "source": [
    "## Implementing methods of PolyGon class"
   ],
   "cell_type": "markdown",
   "metadata": {}
  },
  {
   "cell_type": "code",
   "execution_count": 4,
   "metadata": {},
   "outputs": [
    {
     "output_type": "stream",
     "name": "stdout",
     "text": [
      "Area is 5.2\nPerimeter is 18.000000000000004\nInterior Angle is 60.0\nApothem is is 1.0000000000000002\nEdge Length is 3.4641016151377544\nRepresenting the object - A polygon of side 3 and circumradius 2\n"
     ]
    }
   ],
   "source": [
    "print(f'Area is {a.get_area()}')\n",
    "print(f'Perimeter is {a.get_perimeter()}')\n",
    "print(f'Interior Angle is {a.get_interior_angle()}')\n",
    "print(f'Apothem is is {a.get_apothem()}')\n",
    "print(f'Edge Length is {a.get_edgelength()}')\n",
    "print(f'Representing the object - {str(a)}')\n"
   ]
  },
  {
   "source": [
    "## Testing Equality and Inequality"
   ],
   "cell_type": "markdown",
   "metadata": {}
  },
  {
   "cell_type": "code",
   "execution_count": 18,
   "metadata": {},
   "outputs": [
    {
     "output_type": "stream",
     "name": "stdout",
     "text": [
      "Comparing two similar Polygon Objects a and b -  True\nComparing two different Polygon Objects a and c -  False\nChecking the greater than Polygon Objects c and a -  True\nChecking the greater than Polygon Objects c and a -  False\n"
     ]
    }
   ],
   "source": [
    "print(f'Comparing two similar Polygon Objects a and b -  {a == b}')\n",
    "print(f'Comparing two different Polygon Objects a and c -  {a == c}')\n",
    "print(f'Checking the greater than Polygon Objects c and a -  {c > b}')\n",
    "print(f'Checking the less than than Polygon Objects c and a -  {c < b}')"
   ]
  },
  {
   "source": [
    "## Checking Polygon Sequences"
   ],
   "cell_type": "markdown",
   "metadata": {}
  },
  {
   "cell_type": "code",
   "execution_count": 3,
   "metadata": {},
   "outputs": [],
   "source": [
    "c = PolySeq(25,10)"
   ]
  },
  {
   "cell_type": "code",
   "execution_count": 4,
   "metadata": {},
   "outputs": [
    {
     "output_type": "execute_result",
     "data": {
      "text/plain": [
       "'Get max efficient area for Polygon of highest vertices no as 25 and circumradius 10'"
      ]
     },
     "metadata": {},
     "execution_count": 4
    }
   ],
   "source": [
    "str(c)"
   ]
  },
  {
   "source": [
    "### This method calculates the area of all the possible polygon sequences and returns the max efficient area"
   ],
   "cell_type": "markdown",
   "metadata": {}
  },
  {
   "cell_type": "code",
   "execution_count": 6,
   "metadata": {},
   "outputs": [
    {
     "output_type": "stream",
     "name": "stdout",
     "text": [
      "area/perimeter ratios {3: 0.057733, 4: 0.070711, 5: 0.085064, 6: 0.100001, 7: 0.115238, 8: 0.130655, 9: 0.146188, 10: 0.161802, 11: 0.177472, 12: 0.193185, 13: 0.208929, 14: 0.224699, 15: 0.240485, 16: 0.256294, 17: 0.272114, 18: 0.28794, 19: 0.303772, 20: 0.319626, 21: 0.335472, 22: 0.351338, 23: 0.367202, 24: 0.383061}\nMaximum efficient polygon is of side 24\n"
     ]
    },
    {
     "output_type": "execute_result",
     "data": {
      "text/plain": [
       "24"
      ]
     },
     "metadata": {},
     "execution_count": 6
    }
   ],
   "source": [
    "c[24]"
   ]
  },
  {
   "cell_type": "code",
   "execution_count": 8,
   "metadata": {},
   "outputs": [
    {
     "output_type": "stream",
     "name": "stdout",
     "text": [
      "Length of the Sequence is 25\n"
     ]
    }
   ],
   "source": [
    "print(f'Length of the Sequence is {len(c)}')"
   ]
  }
 ]
}