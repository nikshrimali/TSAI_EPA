{
 "metadata": {
  "language_info": {
   "codemirror_mode": {
    "name": "ipython",
    "version": 3
   },
   "file_extension": ".py",
   "mimetype": "text/x-python",
   "name": "python",
   "nbconvert_exporter": "python",
   "pygments_lexer": "ipython3",
   "version": "3.7.6-final"
  },
  "orig_nbformat": 2,
  "kernelspec": {
   "name": "python3",
   "display_name": "Python 3"
  }
 },
 "nbformat": 4,
 "nbformat_minor": 2,
 "cells": [
  {
   "cell_type": "code",
   "execution_count": 478,
   "metadata": {},
   "outputs": [],
   "source": [
    "import random\n",
    "import decimal\n",
    "from decimal import Decimal\n",
    "import math\n",
    "\n",
    "a = int()\n",
    "class Qualean():\n",
    "    def __init__(self,rand_num):\n",
    "        self.rand_num = rand_num\n",
    "        self.input_valid()\n",
    "\n",
    "    def input_valid(self):\n",
    "        with decimal.localcontext() as ctx:\n",
    "            ctx.prec = 10\n",
    "            # print(self.rand_num)\n",
    "\n",
    "            if self.rand_num == 1 or self.rand_num == -1:\n",
    "                self.rand_num = (self.rand_num)\n",
    "                self._imgnum = Decimal(random.uniform(-1,1))\n",
    "                self._state = (self.rand_num * self._imgnum)\n",
    "                # print(self._state)\n",
    "                return self._state\n",
    "\n",
    "            elif self.rand_num == 0:\n",
    "                self._state = 0\n",
    "                return self._state\n",
    "            else:\n",
    "                # print(self.rand_num)\n",
    "                # print(self.)\n",
    "                raise ValueError('Only numbers between 0, 1 and -1 are allowed')\n",
    "    def get_value(self):\n",
    "        return self._state\n",
    "\n",
    "\n",
    "    def __and__(self, other):\n",
    "        print('inside and')\n",
    "        if isinstance(self, Qualean):\n",
    "            print('inside isinstacne')\n",
    "            if bool(self._state):\n",
    "                print(bool(self._state))\n",
    "                if bool(other.__state):\n",
    "                    return int.__and__(self._state, other._state)\n",
    "            else:\n",
    "                return False\n",
    "        else:\n",
    "            return False\n",
    "\n",
    "    def __or__(self,other):\n",
    "        if isinstance(other, Qualean):\n",
    "            return self._state or other._state\n",
    "        else:\n",
    "            return None\n",
    "\n",
    "    def __repr__(self):\n",
    "        return 'Qualean({0})'.format(self._state)\n",
    "\n",
    "    \n",
    "    def __str__(self):\n",
    "        return 'Qualean({0})'.format(self._state)\n",
    "    \n",
    "    def __add__(self, other):\n",
    "        if isinstance(other,Qualean):\n",
    "            return self._state + other._state\n",
    "        else:\n",
    "            return None\n",
    "\n",
    "    def __eq__(self, other):\n",
    "        if isinstance(other,Qualean):\n",
    "            return True if self._state == other.state else False\n",
    "\n",
    "    def __float__(self):\n",
    "        if isinstance(other,Qualean):\n",
    "            return (self._state/1.0)\n",
    "        else:\n",
    "            return None\n",
    "    \n",
    "    def __ge__(self, other):\n",
    "        if isinstance(other,Qualean):\n",
    "            return self._state >= other._state\n",
    "        else:\n",
    "            return None\n",
    "\n",
    "    def __gt__(self, other):\n",
    "        if isinstance(other,Qualean):\n",
    "            return self._state > other._state\n",
    "        else:\n",
    "            return None\n",
    "    \n",
    "    def __invertsign__(self):\n",
    "        return self._state*(-1)\n",
    "\n",
    "    def __mul__(self, other):\n",
    "        if isinstance(other,Qualean):\n",
    "            return self._state * other._state\n",
    "        else:\n",
    "            return False\n",
    "    \n",
    "    def __sqrt__(self):\n",
    "        a = Decimal.sqrt(self._state)\n",
    "        return a\n",
    "\n",
    "    def __bool__(self, val=0):\n",
    "        # if isinstance(other, Qualean):\n",
    "        # print('Bool class - state = ',self._state)\n",
    "        if self._state:\n",
    "            return True\n",
    "        else:\n",
    "            return False\n",
    "\n"
   ]
  },
  {
   "cell_type": "code",
   "execution_count": 344,
   "metadata": {
    "tags": []
   },
   "outputs": [
    {
     "output_type": "stream",
     "name": "stdout",
     "text": "False\n"
    },
    {
     "output_type": "error",
     "ename": "NameError",
     "evalue": "name 'q2' is not defined",
     "traceback": [
      "\u001b[1;31m---------------------------------------------------------------------------\u001b[0m",
      "\u001b[1;31mNameError\u001b[0m                                 Traceback (most recent call last)",
      "\u001b[1;32m<ipython-input-344-741001d4df97>\u001b[0m in \u001b[0;36m<module>\u001b[1;34m\u001b[0m\n\u001b[0;32m      7\u001b[0m     \u001b[0mq1\u001b[0m\u001b[1;33m.\u001b[0m\u001b[0m__and__\u001b[0m\u001b[1;33m(\u001b[0m\u001b[0mq2\u001b[0m\u001b[1;33m)\u001b[0m\u001b[1;33m\u001b[0m\u001b[1;33m\u001b[0m\u001b[0m\n\u001b[0;32m      8\u001b[0m     \u001b[1;31m# assert (q1 and q2) == 0, \"q1 is not False and q2 is not defined\"\u001b[0m\u001b[1;33m\u001b[0m\u001b[1;33m\u001b[0m\u001b[1;33m\u001b[0m\u001b[0m\n\u001b[1;32m----> 9\u001b[1;33m \u001b[0mcheck_and_q\u001b[0m\u001b[1;33m(\u001b[0m\u001b[1;33m)\u001b[0m\u001b[1;33m\u001b[0m\u001b[1;33m\u001b[0m\u001b[0m\n\u001b[0m\u001b[0;32m     10\u001b[0m \u001b[1;33m\u001b[0m\u001b[0m\n\u001b[0;32m     11\u001b[0m \u001b[1;31m# # print(abc)\u001b[0m\u001b[1;33m\u001b[0m\u001b[1;33m\u001b[0m\u001b[1;33m\u001b[0m\u001b[0m\n",
      "\u001b[1;32m<ipython-input-344-741001d4df97>\u001b[0m in \u001b[0;36mcheck_and_q\u001b[1;34m()\u001b[0m\n\u001b[0;32m      5\u001b[0m     \u001b[1;31m# q2 = None\u001b[0m\u001b[1;33m\u001b[0m\u001b[1;33m\u001b[0m\u001b[1;33m\u001b[0m\u001b[0m\n\u001b[0;32m      6\u001b[0m     \u001b[0mprint\u001b[0m\u001b[1;33m(\u001b[0m\u001b[0mbool\u001b[0m\u001b[1;33m(\u001b[0m\u001b[0mq1\u001b[0m\u001b[1;33m)\u001b[0m\u001b[1;33m)\u001b[0m\u001b[1;33m\u001b[0m\u001b[1;33m\u001b[0m\u001b[0m\n\u001b[1;32m----> 7\u001b[1;33m     \u001b[0mq1\u001b[0m\u001b[1;33m.\u001b[0m\u001b[0m__and__\u001b[0m\u001b[1;33m(\u001b[0m\u001b[0mq2\u001b[0m\u001b[1;33m)\u001b[0m\u001b[1;33m\u001b[0m\u001b[1;33m\u001b[0m\u001b[0m\n\u001b[0m\u001b[0;32m      8\u001b[0m     \u001b[1;31m# assert (q1 and q2) == 0, \"q1 is not False and q2 is not defined\"\u001b[0m\u001b[1;33m\u001b[0m\u001b[1;33m\u001b[0m\u001b[1;33m\u001b[0m\u001b[0m\n\u001b[0;32m      9\u001b[0m \u001b[0mcheck_and_q\u001b[0m\u001b[1;33m(\u001b[0m\u001b[1;33m)\u001b[0m\u001b[1;33m\u001b[0m\u001b[1;33m\u001b[0m\u001b[0m\n",
      "\u001b[1;31mNameError\u001b[0m: name 'q2' is not defined"
     ]
    }
   ],
   "source": [
    "# #q1 and q2 returns False when q2 is not defined as well and q1 is False\n",
    "\n",
    "def check_and_q():\n",
    "    q1 = Qualean(0)\n",
    "    # q2 = None\n",
    "    print(bool(q1))\n",
    "    q1.__and__(q2)    \n",
    "    # assert (q1 and q2) == 0, \"q1 is not False and q2 is not defined\"\n",
    "check_and_q()\n",
    "\n",
    "# # print(abc)\n",
    "# a = 1\n",
    "# a or dfajdskj"
   ]
  },
  {
   "cell_type": "code",
   "execution_count": 311,
   "metadata": {},
   "outputs": [],
   "source": [
    "a = None\n",
    "a and dfasf"
   ]
  },
  {
   "cell_type": "code",
   "execution_count": 281,
   "metadata": {
    "tags": []
   },
   "outputs": [
    {
     "output_type": "execute_result",
     "data": {
      "text/plain": "0"
     },
     "metadata": {},
     "execution_count": 281
    }
   ],
   "source": [
    "a = 0\n",
    "a and b"
   ]
  },
  {
   "cell_type": "code",
   "execution_count": null,
   "metadata": {},
   "outputs": [],
   "source": [
    "#q1 or q2 returns True when q2 is not defined as well and q1 is not false\n",
    "\n",
    "def check_or_q():\n",
    "    q1 = Qualean(0)\n",
    "    "
   ]
  },
  {
   "cell_type": "code",
   "execution_count": 131,
   "metadata": {
    "tags": []
   },
   "outputs": [
    {
     "output_type": "stream",
     "name": "stdout",
     "text": "1\n0.5582721570\n1\n0.1293131707\n1\n-0.8837373763\n<class '__main__.Qualean'>\n"
    },
    {
     "output_type": "error",
     "ename": "InvalidOperation",
     "evalue": "[<class 'decimal.InvalidOperation'>]",
     "traceback": [
      "\u001b[1;31m---------------------------------------------------------------------------\u001b[0m",
      "\u001b[1;31mInvalidOperation\u001b[0m                          Traceback (most recent call last)",
      "\u001b[1;32m<ipython-input-131-0366e2c0f4d6>\u001b[0m in \u001b[0;36m<module>\u001b[1;34m\u001b[0m\n\u001b[0;32m      4\u001b[0m \u001b[0mprint\u001b[0m\u001b[1;33m(\u001b[0m\u001b[0mtype\u001b[0m\u001b[1;33m(\u001b[0m\u001b[0mr1\u001b[0m\u001b[1;33m)\u001b[0m\u001b[1;33m)\u001b[0m\u001b[1;33m\u001b[0m\u001b[1;33m\u001b[0m\u001b[0m\n\u001b[0;32m      5\u001b[0m \u001b[1;31m# print(r1 == r2)\u001b[0m\u001b[1;33m\u001b[0m\u001b[1;33m\u001b[0m\u001b[1;33m\u001b[0m\u001b[0m\n\u001b[1;32m----> 6\u001b[1;33m \u001b[0mr1\u001b[0m\u001b[1;33m.\u001b[0m\u001b[0m__sqrt__\u001b[0m\u001b[1;33m(\u001b[0m\u001b[1;33m)\u001b[0m\u001b[1;33m\u001b[0m\u001b[1;33m\u001b[0m\u001b[0m\n\u001b[0m",
      "\u001b[1;32m<ipython-input-112-bce9b04fbcff>\u001b[0m in \u001b[0;36m__sqrt__\u001b[1;34m(self)\u001b[0m\n\u001b[0;32m     81\u001b[0m \u001b[1;33m\u001b[0m\u001b[0m\n\u001b[0;32m     82\u001b[0m     \u001b[1;32mdef\u001b[0m \u001b[0m__sqrt__\u001b[0m\u001b[1;33m(\u001b[0m\u001b[0mself\u001b[0m\u001b[1;33m)\u001b[0m\u001b[1;33m:\u001b[0m\u001b[1;33m\u001b[0m\u001b[1;33m\u001b[0m\u001b[0m\n\u001b[1;32m---> 83\u001b[1;33m         \u001b[0ma\u001b[0m \u001b[1;33m=\u001b[0m \u001b[0mDecimal\u001b[0m\u001b[1;33m.\u001b[0m\u001b[0msqrt\u001b[0m\u001b[1;33m(\u001b[0m\u001b[0mself\u001b[0m\u001b[1;33m.\u001b[0m\u001b[0m_state\u001b[0m\u001b[1;33m)\u001b[0m\u001b[1;33m\u001b[0m\u001b[1;33m\u001b[0m\u001b[0m\n\u001b[0m\u001b[0;32m     84\u001b[0m         \u001b[1;32mreturn\u001b[0m \u001b[0ma\u001b[0m\u001b[1;33m\u001b[0m\u001b[1;33m\u001b[0m\u001b[0m\n\u001b[0;32m     85\u001b[0m \u001b[1;33m\u001b[0m\u001b[0m\n",
      "\u001b[1;31mInvalidOperation\u001b[0m: [<class 'decimal.InvalidOperation'>]"
     ]
    }
   ],
   "source": [
    "r1 = Qualean(1)\n",
    "r2 = Qualean(1)\n",
    "r1.input_valid()\n",
    "print(type(r1))\n",
    "# print(r1 == r2)\n",
    "r1.__sqrt__()"
   ]
  },
  {
   "cell_type": "code",
   "execution_count": 9,
   "metadata": {
    "tags": []
   },
   "outputs": [],
   "source": [
    "import random\n",
    "l = [-1,0,1]\n",
    "# print(random.choice(l))\n",
    "def check_sqrt():\n",
    "    rand_num = random.choice(l)\n",
    "    q = Qualean(rand_num)\n",
    "    print(q.__sqrt__())\n",
    "    print(q.input_valid)\n",
    "    # print(Decimal(q).sqrt())\n",
    "    # match = Qualean\n",
    "    assert q.__sqrt__() == Decimal(q).sqrt(), \"Sqauare root is not matching the decimal sqrt\"\n",
    "    print(\"Sqauare root is not matching the decimal sqrt\")"
   ]
  },
  {
   "cell_type": "code",
   "execution_count": 149,
   "metadata": {
    "tags": []
   },
   "outputs": [
    {
     "output_type": "stream",
     "name": "stdout",
     "text": "-1\n0.4788053461\n0.6919576187166378761411585142\n<bound method Qualean.input_valid of Qualean(0.4788053461)>\n"
    },
    {
     "output_type": "error",
     "ename": "TypeError",
     "evalue": "conversion from Qualean to Decimal is not supported",
     "traceback": [
      "\u001b[1;31m---------------------------------------------------------------------------\u001b[0m",
      "\u001b[1;31mTypeError\u001b[0m                                 Traceback (most recent call last)",
      "\u001b[1;32m<ipython-input-149-954a974cb04c>\u001b[0m in \u001b[0;36m<module>\u001b[1;34m\u001b[0m\n\u001b[1;32m----> 1\u001b[1;33m \u001b[0mcheck_sqrt\u001b[0m\u001b[1;33m(\u001b[0m\u001b[1;33m)\u001b[0m\u001b[1;33m\u001b[0m\u001b[1;33m\u001b[0m\u001b[0m\n\u001b[0m",
      "\u001b[1;32m<ipython-input-146-b708cdf40ef8>\u001b[0m in \u001b[0;36mcheck_sqrt\u001b[1;34m()\u001b[0m\n\u001b[0;32m      9\u001b[0m     \u001b[1;31m# print(Decimal(q).sqrt())\u001b[0m\u001b[1;33m\u001b[0m\u001b[1;33m\u001b[0m\u001b[1;33m\u001b[0m\u001b[0m\n\u001b[0;32m     10\u001b[0m     \u001b[1;31m# match = Qualean\u001b[0m\u001b[1;33m\u001b[0m\u001b[1;33m\u001b[0m\u001b[1;33m\u001b[0m\u001b[0m\n\u001b[1;32m---> 11\u001b[1;33m     \u001b[1;32massert\u001b[0m \u001b[0mq\u001b[0m\u001b[1;33m.\u001b[0m\u001b[0m__sqrt__\u001b[0m\u001b[1;33m(\u001b[0m\u001b[1;33m)\u001b[0m \u001b[1;33m==\u001b[0m \u001b[0mDecimal\u001b[0m\u001b[1;33m(\u001b[0m\u001b[0mq\u001b[0m\u001b[1;33m)\u001b[0m\u001b[1;33m.\u001b[0m\u001b[0msqrt\u001b[0m\u001b[1;33m(\u001b[0m\u001b[1;33m)\u001b[0m\u001b[1;33m,\u001b[0m \u001b[1;34m\"Sqauare root is not matching the decimal sqrt\"\u001b[0m\u001b[1;33m\u001b[0m\u001b[1;33m\u001b[0m\u001b[0m\n\u001b[0m\u001b[0;32m     12\u001b[0m     \u001b[0mprint\u001b[0m\u001b[1;33m(\u001b[0m\u001b[1;34m\"Sqauare root is not matching the decimal sqrt\"\u001b[0m\u001b[1;33m)\u001b[0m\u001b[1;33m\u001b[0m\u001b[1;33m\u001b[0m\u001b[0m\n",
      "\u001b[1;31mTypeError\u001b[0m: conversion from Qualean to Decimal is not supported"
     ]
    }
   ],
   "source": [
    "check_sqrt()"
   ]
  },
  {
   "cell_type": "code",
   "execution_count": 46,
   "metadata": {
    "tags": []
   },
   "outputs": [
    {
     "output_type": "stream",
     "name": "stdout",
     "text": "3.142857142857143\n3.142857142857142793701541449991054832935333251953125\n1.772810520855836638697598968\n"
    }
   ],
   "source": [
    "a = 22/7\n",
    "\n",
    "print(a)\n",
    "a = Decimal(a)\n",
    "print(a)\n",
    "\n",
    "print(a.sqrt())"
   ]
  },
  {
   "cell_type": "code",
   "execution_count": 92,
   "metadata": {
    "tags": []
   },
   "outputs": [
    {
     "output_type": "stream",
     "name": "stdout",
     "text": "0.37\n0.12345\n"
    }
   ],
   "source": [
    "#Check summition\n",
    "with decimal.localcontext() as ctx:\n",
    "    ctx.prec = 2\n",
    "    a = Decimal('0.12345')\n",
    "    b = Decimal('0.2464')\n",
    "    c = a+b\n",
    "    print(c)\n",
    "print(a)"
   ]
  },
  {
   "cell_type": "code",
   "execution_count": null,
   "metadata": {},
   "outputs": [],
   "source": [
    "q + q + q ... 100 times = 100 * q -Done\n",
    "q.__sqrt__() = Decimal(q).sqrt - In_progress - Complex numbers stuff - last\n",
    "sum of 1 million different qs is very close to zero (use isclose) - Done\n",
    "q1 and q2 returns False when q2 is not defined as well and q1 is False - \n",
    "q1 or q2 returns True when q2 is not defined as well and q1 is not false"
   ]
  },
  {
   "cell_type": "code",
   "execution_count": 113,
   "metadata": {},
   "outputs": [],
   "source": [
    "def check_add_q():\n",
    "    rand_num = random.choice(l)\n",
    "    q = Qualean(rand_num)\n",
    "    q = q.get_value()\n",
    "    q_sum = 0\n",
    "    q_mul = q*100\n",
    "    for i in range(100):\n",
    "        q_sum = q_sum +q\n",
    "    print(q_sum, q_mul)\n",
    "    assert q_sum == q_mul, \"q + q + q ... 100 times != 100 * q\""
   ]
  },
  {
   "cell_type": "code",
   "execution_count": 196,
   "metadata": {
    "tags": []
   },
   "outputs": [
    {
     "output_type": "stream",
     "name": "stdout",
     "text": "-14.8646904600 -14.8646904600\n"
    }
   ],
   "source": [
    "check_add_q()"
   ]
  },
  {
   "cell_type": "code",
   "execution_count": 419,
   "metadata": {},
   "outputs": [],
   "source": [
    "#Add million q's - Done\n",
    "def check_add_million_q():\n",
    "    q_sum = 0\n",
    "    for i in range(1000000):\n",
    "        rand_num = random.choice(1)\n",
    "        q = Qualean(rand_num)\n",
    "        q = q.get_value()\n",
    "        q_sum = q_sum + q\n",
    "    print(q_sum)\n",
    "    print(i1, i2, i3)\n",
    "    # assert (math.isclose(q_sum,0) is False, \"Sum of million q's is not zero\")"
   ]
  },
  {
   "cell_type": "code",
   "execution_count": 420,
   "metadata": {
    "tags": []
   },
   "outputs": [
    {
     "output_type": "error",
     "ename": "TypeError",
     "evalue": "object of type 'int' has no len()",
     "traceback": [
      "\u001b[1;31m---------------------------------------------------------------------------\u001b[0m",
      "\u001b[1;31mTypeError\u001b[0m                                 Traceback (most recent call last)",
      "\u001b[1;32m<ipython-input-420-31ec2fcf1a0e>\u001b[0m in \u001b[0;36m<module>\u001b[1;34m\u001b[0m\n\u001b[1;32m----> 1\u001b[1;33m \u001b[0mcheck_add_million_q\u001b[0m\u001b[1;33m(\u001b[0m\u001b[1;33m)\u001b[0m\u001b[1;33m\u001b[0m\u001b[1;33m\u001b[0m\u001b[0m\n\u001b[0m",
      "\u001b[1;32m<ipython-input-419-2b239e6d8b48>\u001b[0m in \u001b[0;36mcheck_add_million_q\u001b[1;34m()\u001b[0m\n\u001b[0;32m      3\u001b[0m     \u001b[0mq_sum\u001b[0m \u001b[1;33m=\u001b[0m \u001b[1;36m0\u001b[0m\u001b[1;33m\u001b[0m\u001b[1;33m\u001b[0m\u001b[0m\n\u001b[0;32m      4\u001b[0m     \u001b[1;32mfor\u001b[0m \u001b[0mi\u001b[0m \u001b[1;32min\u001b[0m \u001b[0mrange\u001b[0m\u001b[1;33m(\u001b[0m\u001b[1;36m1000000\u001b[0m\u001b[1;33m)\u001b[0m\u001b[1;33m:\u001b[0m\u001b[1;33m\u001b[0m\u001b[1;33m\u001b[0m\u001b[0m\n\u001b[1;32m----> 5\u001b[1;33m         \u001b[0mrand_num\u001b[0m \u001b[1;33m=\u001b[0m \u001b[0mrandom\u001b[0m\u001b[1;33m.\u001b[0m\u001b[0mchoice\u001b[0m\u001b[1;33m(\u001b[0m\u001b[1;36m1\u001b[0m\u001b[1;33m)\u001b[0m\u001b[1;33m\u001b[0m\u001b[1;33m\u001b[0m\u001b[0m\n\u001b[0m\u001b[0;32m      6\u001b[0m         \u001b[0mq\u001b[0m \u001b[1;33m=\u001b[0m \u001b[0mQualean\u001b[0m\u001b[1;33m(\u001b[0m\u001b[0mrand_num\u001b[0m\u001b[1;33m)\u001b[0m\u001b[1;33m\u001b[0m\u001b[1;33m\u001b[0m\u001b[0m\n\u001b[0;32m      7\u001b[0m         \u001b[0mq\u001b[0m \u001b[1;33m=\u001b[0m \u001b[0mq\u001b[0m\u001b[1;33m.\u001b[0m\u001b[0mget_value\u001b[0m\u001b[1;33m(\u001b[0m\u001b[1;33m)\u001b[0m\u001b[1;33m\u001b[0m\u001b[1;33m\u001b[0m\u001b[0m\n",
      "\u001b[1;32mD:\\Python\\envs\\pytorch\\lib\\random.py\u001b[0m in \u001b[0;36mchoice\u001b[1;34m(self, seq)\u001b[0m\n\u001b[0;32m    257\u001b[0m         \u001b[1;34m\"\"\"Choose a random element from a non-empty sequence.\"\"\"\u001b[0m\u001b[1;33m\u001b[0m\u001b[1;33m\u001b[0m\u001b[0m\n\u001b[0;32m    258\u001b[0m         \u001b[1;32mtry\u001b[0m\u001b[1;33m:\u001b[0m\u001b[1;33m\u001b[0m\u001b[1;33m\u001b[0m\u001b[0m\n\u001b[1;32m--> 259\u001b[1;33m             \u001b[0mi\u001b[0m \u001b[1;33m=\u001b[0m \u001b[0mself\u001b[0m\u001b[1;33m.\u001b[0m\u001b[0m_randbelow\u001b[0m\u001b[1;33m(\u001b[0m\u001b[0mlen\u001b[0m\u001b[1;33m(\u001b[0m\u001b[0mseq\u001b[0m\u001b[1;33m)\u001b[0m\u001b[1;33m)\u001b[0m\u001b[1;33m\u001b[0m\u001b[1;33m\u001b[0m\u001b[0m\n\u001b[0m\u001b[0;32m    260\u001b[0m         \u001b[1;32mexcept\u001b[0m \u001b[0mValueError\u001b[0m\u001b[1;33m:\u001b[0m\u001b[1;33m\u001b[0m\u001b[1;33m\u001b[0m\u001b[0m\n\u001b[0;32m    261\u001b[0m             \u001b[1;32mraise\u001b[0m \u001b[0mIndexError\u001b[0m\u001b[1;33m(\u001b[0m\u001b[1;34m'Cannot choose from an empty sequence'\u001b[0m\u001b[1;33m)\u001b[0m \u001b[1;32mfrom\u001b[0m \u001b[1;32mNone\u001b[0m\u001b[1;33m\u001b[0m\u001b[1;33m\u001b[0m\u001b[0m\n",
      "\u001b[1;31mTypeError\u001b[0m: object of type 'int' has no len()"
     ]
    }
   ],
   "source": [
    "check_add_million_q() "
   ]
  },
  {
   "cell_type": "code",
   "execution_count": 280,
   "metadata": {},
   "outputs": [],
   "source": [
    "#q1 and q2 returns False when q2 is not defined as well and q1 is False\n",
    "\n",
    "def check_and_q():\n",
    "    # rand_num = random.choice(l)\n",
    "    q1 = Qualean(0)\n",
    "    print('GV',q1.get_value())\n",
    "    print(q1.__and__(q2))\n",
    "    \n",
    "    # assert (q1 and q2) == True, \"q1 is not False and q2 is not defined\""
   ]
  },
  {
   "cell_type": "code",
   "execution_count": 281,
   "metadata": {
    "tags": []
   },
   "outputs": [
    {
     "output_type": "stream",
     "name": "stdout",
     "text": "0\nGV 0\n"
    },
    {
     "output_type": "error",
     "ename": "NameError",
     "evalue": "name 'q2' is not defined",
     "traceback": [
      "\u001b[1;31m---------------------------------------------------------------------------\u001b[0m",
      "\u001b[1;31mNameError\u001b[0m                                 Traceback (most recent call last)",
      "\u001b[1;32m<ipython-input-281-6f8f65723035>\u001b[0m in \u001b[0;36m<module>\u001b[1;34m\u001b[0m\n\u001b[1;32m----> 1\u001b[1;33m \u001b[0mcheck_and_q\u001b[0m\u001b[1;33m(\u001b[0m\u001b[1;33m)\u001b[0m\u001b[1;33m\u001b[0m\u001b[1;33m\u001b[0m\u001b[0m\n\u001b[0m",
      "\u001b[1;32m<ipython-input-280-41722d58344b>\u001b[0m in \u001b[0;36mcheck_and_q\u001b[1;34m()\u001b[0m\n\u001b[0;32m      5\u001b[0m     \u001b[0mq1\u001b[0m \u001b[1;33m=\u001b[0m \u001b[0mQualean\u001b[0m\u001b[1;33m(\u001b[0m\u001b[1;36m0\u001b[0m\u001b[1;33m)\u001b[0m\u001b[1;33m\u001b[0m\u001b[1;33m\u001b[0m\u001b[0m\n\u001b[0;32m      6\u001b[0m     \u001b[0mprint\u001b[0m\u001b[1;33m(\u001b[0m\u001b[1;34m'GV'\u001b[0m\u001b[1;33m,\u001b[0m\u001b[0mq1\u001b[0m\u001b[1;33m.\u001b[0m\u001b[0mget_value\u001b[0m\u001b[1;33m(\u001b[0m\u001b[1;33m)\u001b[0m\u001b[1;33m)\u001b[0m\u001b[1;33m\u001b[0m\u001b[1;33m\u001b[0m\u001b[0m\n\u001b[1;32m----> 7\u001b[1;33m     \u001b[0mprint\u001b[0m\u001b[1;33m(\u001b[0m\u001b[0mq1\u001b[0m\u001b[1;33m.\u001b[0m\u001b[0m__and__\u001b[0m\u001b[1;33m(\u001b[0m\u001b[0mq2\u001b[0m\u001b[1;33m)\u001b[0m\u001b[1;33m)\u001b[0m\u001b[1;33m\u001b[0m\u001b[1;33m\u001b[0m\u001b[0m\n\u001b[0m\u001b[0;32m      8\u001b[0m \u001b[1;33m\u001b[0m\u001b[0m\n\u001b[0;32m      9\u001b[0m     \u001b[1;31m# assert (q1 and q2) == True, \"q1 is not False and q2 is not defined\"\u001b[0m\u001b[1;33m\u001b[0m\u001b[1;33m\u001b[0m\u001b[1;33m\u001b[0m\u001b[0m\n",
      "\u001b[1;31mNameError\u001b[0m: name 'q2' is not defined"
     ]
    }
   ],
   "source": [
    "check_and_q()"
   ]
  },
  {
   "cell_type": "code",
   "execution_count": null,
   "metadata": {},
   "outputs": [],
   "source": [
    "q1 or q2 returns True when q2 is not defined as well and q1 is not false"
   ]
  },
  {
   "cell_type": "code",
   "execution_count": 214,
   "metadata": {
    "tags": []
   },
   "outputs": [
    {
     "output_type": "stream",
     "name": "stdout",
     "text": "0\n"
    }
   ],
   "source": [
    "        # q1 = self.get_value()\n",
    "        # print('in class', type(q1))\n",
    "        # # q2 = others.getvalue()\n",
    "        # return (q1 and q2)\n",
    "        # print(bool(self._state))\n",
    "        # if isinstance(other, Qualean):\n",
    "        # # print(self._state)\n",
    "        #     if bool(self._state) and bool(other._state):\n",
    "        #         return True\n",
    "        #     else:\n",
    "        #         return  False\n",
    "        \n",
    "        # else:\n",
    "        #     return False"
   ]
  },
  {
   "cell_type": "code",
   "execution_count": 418,
   "metadata": {
    "tags": []
   },
   "outputs": [
    {
     "output_type": "stream",
     "name": "stdout",
     "text": "-0.9655365084\n-0.1259705445\n"
    },
    {
     "output_type": "execute_result",
     "data": {
      "text/plain": "False"
     },
     "metadata": {},
     "execution_count": 418
    }
   ],
   "source": [
    "q1 = Qualean(1)\n",
    "print(q1.get_value())\n",
    "q2 = Qualean(-1)\n",
    "print(q2.get_value())\n",
    "q1.__gt__(q2)"
   ]
  },
  {
   "cell_type": "code",
   "execution_count": 449,
   "metadata": {
    "tags": []
   },
   "outputs": [
    {
     "output_type": "stream",
     "name": "stdout",
     "text": "-0.1042006200\n-0.1042006200\n"
    }
   ],
   "source": [
    "\n",
    "def check_add_q(): # 11. Check add function\n",
    "    q1 = Qualean(rand_num = random.choice(l))\n",
    "    q2 = Qualean(rand_num = random.choice(l))\n",
    "\n",
    "    a1 = q1.get_value()\n",
    "    a2 = q2.get_value()\n",
    "    print(a1+a2)\n",
    "    print(q1.__add__(q2))\n",
    "\n",
    "    assert (a1+a2 == q1.__add__(q2)), \"Add working as expected\"\n",
    "\n",
    "check_add_q()"
   ]
  },
  {
   "cell_type": "code",
   "execution_count": 460,
   "metadata": {
    "tags": []
   },
   "outputs": [
    {
     "output_type": "stream",
     "name": "stdout",
     "text": "-0.6524401509\n-0.6524401509\n"
    }
   ],
   "source": [
    "\n",
    "def check_mul_q(): # 11. Check add function\n",
    "    q1 = Qualean(rand_num = random.choice(l))\n",
    "    q2 = Qualean(rand_num = random.choice(l))\n",
    "\n",
    "    a1 = q1.get_value()\n",
    "    a2 = q2.get_value()\n",
    "    print(a1+a2)\n",
    "    print(q1.__add__(q2))\n",
    "\n",
    "    assert (a1*a2 == q1.__mul__(q2)), \"Add working as expected\"\n",
    "\n",
    "check_add_q()"
   ]
  },
  {
   "cell_type": "code",
   "execution_count": 475,
   "metadata": {},
   "outputs": [],
   "source": [
    "\n",
    "def test_class_repr(): #13. Check repr function\n",
    "    s = Qualean(1)\n",
    "    s_n = Qualean(1)\n",
    "\n",
    "    assert 'object at' not in s.__repr__() and 'object at' not in s_n.__repr__(), \"Repr function working as expected\"\n",
    "test_class_repr()"
   ]
  },
  {
   "cell_type": "code",
   "execution_count": 479,
   "metadata": {
    "tags": []
   },
   "outputs": [
    {
     "output_type": "stream",
     "name": "stdout",
     "text": "True\n"
    }
   ],
   "source": [
    "\n",
    "def test_invert_sign(): #15. Check invert sign function\n",
    "    q = Qualean(-1)\n",
    "    a = q.get_value()\n",
    "\n",
    "    assert a*-1 == q.__invertsign__(), \"Invertsign condition matches\"\n"
   ]
  }
 ]
}