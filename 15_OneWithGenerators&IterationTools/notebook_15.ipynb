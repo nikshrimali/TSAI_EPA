{
 "metadata": {
  "language_info": {
   "codemirror_mode": {
    "name": "ipython",
    "version": 3
   },
   "file_extension": ".py",
   "mimetype": "text/x-python",
   "name": "python",
   "nbconvert_exporter": "python",
   "pygments_lexer": "ipython3",
   "version": "3.7.6-final"
  },
  "orig_nbformat": 2,
  "kernelspec": {
   "name": "python3",
   "display_name": "Python 3"
  }
 },
 "nbformat": 4,
 "nbformat_minor": 2,
 "cells": [
  {
   "source": [
    "# Goal 1\n",
    "Create a lazy iterator that will return a named tuple of the data in each row. The data types should be appropriate - i.e. if the column is a date, you should be storing dates in the named tuple, if the field is an integer, then it should be stored as an integer, etc."
   ],
   "cell_type": "markdown",
   "metadata": {}
  },
  {
   "cell_type": "code",
   "execution_count": 102,
   "metadata": {},
   "outputs": [],
   "source": [
    "from datetime import datetime\n",
    "from collections import namedtuple, Counter\n",
    "\n",
    "def cast(zipped_obj):\n",
    "    item_list = []\n",
    "    for i in list(zipped_obj):\n",
    "        data_type = i[0]\n",
    "        value = i[1]\n",
    "        if data_type == 'INT':\n",
    "            item_list.append(int(value))\n",
    "        elif data_type == 'DATE':\n",
    "            item_list.append(datetime.strptime(value, '%m/%d/%Y'))\n",
    "        else:\n",
    "            item_list.append(str(value))\n",
    "    return item_list"
   ]
  },
  {
   "cell_type": "code",
   "execution_count": 103,
   "metadata": {
    "tags": []
   },
   "outputs": [],
   "source": [
    "def get_cardetails():\n",
    "    all_cars = []\n",
    "    column_types = ['INT', 'STR', 'STR', 'STR', 'DATE', 'INT','STR', 'STR', 'STR']\n",
    "\n",
    "    with open(r'..\\15_OneWithGenerators&IterationTools\\assets\\nyc_parking_tickets_extract.csv') as csvfile:\n",
    "        csvreader = iter(csvfile)\n",
    "        # extracting field names through first row \n",
    "        column_names = next(csvreader).strip('\\n').split(',')\n",
    "        car_details = namedtuple('car_details', column_names)\n",
    "        \n",
    "        for data in csvreader:\n",
    "            new_details = next(csvreader)\n",
    "            yield(car_details(*cast(zip(column_types,new_details.strip('\\n').split(',')))))"
   ]
  },
  {
   "cell_type": "code",
   "execution_count": 105,
   "metadata": {},
   "outputs": [
    {
     "output_type": "stream",
     "name": "stdout",
     "text": [
      "car_details(SummonsNumber=4006462396, PlateID='22834JK', RegistrationState='NY', PlateType='COM', IssueDate=datetime.datetime(2016, 9, 30, 0, 0), ViolationCode=5, VehicleBodyType='VAN', VehicleMake='CHEVR', ViolationDescription='BUS LANE VIOLATION')\ncar_details(SummonsNumber=4006265037, PlateID='FZX9232', RegistrationState='NY', PlateType='PAS', IssueDate=datetime.datetime(2016, 8, 23, 0, 0), ViolationCode=5, VehicleBodyType='SUBN', VehicleMake='FORD', ViolationDescription='BUS LANE VIOLATION')\ncar_details(SummonsNumber=4007156700, PlateID='92163MG', RegistrationState='NY', PlateType='COM', IssueDate=datetime.datetime(2017, 4, 13, 0, 0), ViolationCode=5, VehicleBodyType='VAN', VehicleMake='FRUEH', ViolationDescription='BUS LANE VIOLATION')\ncar_details(SummonsNumber=4006943052, PlateID='2AE3984', RegistrationState='MD', PlateType='PAS', IssueDate=datetime.datetime(2017, 2, 1, 0, 0), ViolationCode=5, VehicleBodyType='SW', VehicleMake='LINCO', ViolationDescription='BUS LANE VIOLATION')\ncar_details(SummonsNumber=4007124590, PlateID='T715907C', RegistrationState='NY', PlateType='OMT', IssueDate=datetime.datetime(2017, 4, 3, 0, 0), ViolationCode=5, VehicleBodyType='SUBN', VehicleMake='TOYOT', ViolationDescription='BUS LANE VIOLATION')\n"
     ]
    }
   ],
   "source": [
    "for i in range(5):\n",
    "    print(next(a))"
   ]
  },
  {
   "source": [
    "# Goal2 -  Calculate the number of violations by car make."
   ],
   "cell_type": "markdown",
   "metadata": {}
  },
  {
   "cell_type": "code",
   "execution_count": 163,
   "metadata": {},
   "outputs": [],
   "source": [
    "car_details = get_cardetails()\n",
    "def get_voilations():\n",
    "    voilation_counts = Counter([i.VehicleMake for i in car_details])\n",
    "    for i in voilation_counts:\n",
    "        print(i,voilation_counts[i])"
   ]
  },
  {
   "cell_type": "code",
   "execution_count": 164,
   "metadata": {},
   "outputs": [
    {
     "output_type": "stream",
     "name": "stdout",
     "text": [
      "CHEVR 41\nFORD 52\nFRUEH 22\nLINCO 7\nTOYOT 54\nCHRYS 7\nDODGE 21\nFIR 1\nHONDA 51\nHYUND 18\nJAGUA 3\nJEEP 11\nLEXUS 13\nME/BE 18\nMERCU 3\nNISSA 34\nHIN 5\nWORKH 1\nAUDI 7\nBMW 15\nGMC 18\nINTER 11\nISUZU 4\nKENWO 3\nNS/OT 9\nOLDSM 1\nSUBAR 10\nVOLVO 6\nSATUR 2\nINFIN 6\nPETER 1\nACURA 7\nCADIL 4\nKIA 3\nBUICK 3\nMAZDA 2\nSMART 2\nVOLKS 4\nYAMAH 1\nROVER 2\nMINI 1\nSPRI 1\nPLYMO 1\nSCION 1\nMITSU 4\nPORSC 1\nUPS 1\nUD 1\n 1\nSTAR 1\nSAAB 1\nAM/T 1\nHINO 1\nMI/F 1\n"
     ]
    }
   ],
   "source": [
    "get_voilations()"
   ]
  }
 ]
}