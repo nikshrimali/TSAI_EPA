{
 "metadata": {
  "language_info": {
   "codemirror_mode": {
    "name": "ipython",
    "version": 3
   },
   "file_extension": ".py",
   "mimetype": "text/x-python",
   "name": "python",
   "nbconvert_exporter": "python",
   "pygments_lexer": "ipython3",
   "version": "3.7.6-final"
  },
  "orig_nbformat": 2,
  "kernelspec": {
   "name": "Python 3.7.6 64-bit ('pytorch': conda)",
   "display_name": "Python 3.7.6 64-bit ('pytorch': conda)",
   "metadata": {
    "interpreter": {
     "hash": "3486cc88b56958510a49b781a0a8496e2297639e398ef0a616243c0e35c39059"
    }
   }
  }
 },
 "nbformat": 4,
 "nbformat_minor": 2,
 "cells": [
  {
   "cell_type": "code",
   "execution_count": 1,
   "metadata": {},
   "outputs": [
    {
     "output_type": "stream",
     "name": "stdout",
     "text": [
      "Note: you may need to restart the kernel to use updated packages.Collecting sympy\n",
      "  Downloading sympy-1.6.2-py3-none-any.whl (5.8 MB)\n",
      "Collecting mpmath>=0.19\n",
      "  Downloading mpmath-1.1.0.tar.gz (512 kB)\n",
      "Building wheels for collected packages: mpmath\n",
      "  Building wheel for mpmath (setup.py): started\n",
      "  Building wheel for mpmath (setup.py): finished with status 'done'\n",
      "\n",
      "  Created wheel for mpmath: filename=mpmath-1.1.0-py3-none-any.whl size=532244 sha256=f97c877e74c6d1aac73ad244bb87e5dfc63cdd17e6fb3a7b4cf0222fcc2e3ed6\n",
      "  Stored in directory: c:\\users\\blueflames\\appdata\\local\\pip\\cache\\wheels\\e2\\46\\78\\e78f76c356bca9277368f1f97a31b37a8cb937176d9511af31\n",
      "Successfully built mpmath\n",
      "Installing collected packages: mpmath, sympy\n",
      "Successfully installed mpmath-1.1.0 sympy-1.6.2WARNING: You are using pip version 20.0.2; however, version 20.2.4 is available.\n",
      "You should consider upgrading via the 'D:\\Python\\envs\\pytorch\\python.exe -m pip install --upgrade pip' command.\n",
      "\n"
     ]
    }
   ],
   "source": [
    "pip install sympy\n"
   ]
  },
  {
   "cell_type": "code",
   "execution_count": 2,
   "metadata": {},
   "outputs": [],
   "source": [
    "import sympy as sym"
   ]
  },
  {
   "cell_type": "code",
   "execution_count": 4,
   "metadata": {},
   "outputs": [],
   "source": []
  },
  {
   "cell_type": "code",
   "execution_count": 16,
   "metadata": {},
   "outputs": [
    {
     "output_type": "stream",
     "name": "stdout",
     "text": [
      "0.2836622048363324\n0.28366218546322625\n"
     ]
    }
   ],
   "source": [
    "from scipy.misc import derivative\n",
    "import math\n",
    "\n",
    "def f(x):\n",
    "  return math.sin(x)\n",
    "\n",
    "def dfdx(x):\n",
    "  return math.cos(x)\n",
    "\n",
    "y1 = derivative(f,5.0,dx=1e-9)\n",
    "y2 = dfdx(5)\n",
    "print(y1) # 0.28366\n",
    "print(y2) # 0.28366"
   ]
  },
  {
   "cell_type": "code",
   "execution_count": 4,
   "metadata": {},
   "outputs": [],
   "source": [
    "import math\n",
    "def derivative_cos(x:float)-> float:\n",
    "    '''Gets the derivative of cosine'''\n",
    "    return -(math.sin(x))"
   ]
  },
  {
   "cell_type": "code",
   "execution_count": 5,
   "metadata": {},
   "outputs": [
    {
     "output_type": "execute_result",
     "data": {
      "text/plain": [
       "0.3048106211022167"
      ]
     },
     "metadata": {},
     "execution_count": 5
    }
   ],
   "source": [
    "derivative_cos(60)"
   ]
  },
  {
   "cell_type": "code",
   "execution_count": 32,
   "metadata": {},
   "outputs": [],
   "source": [
    "import numpy as np\n",
    "\n",
    "def Softmax(x):\n",
    "    e_x = np.exp(x - np.max(x))\n",
    "    return e_x / e_x.sum()\n",
    "\n",
    "def d_Softmax(X):\n",
    "    x=Softmax(X)\n",
    "    s=x.reshape(-1,1)\n",
    "    return (np.diagflat(s) - np.dot(s, s.T))"
   ]
  },
  {
   "cell_type": "code",
   "execution_count": 33,
   "metadata": {},
   "outputs": [
    {
     "output_type": "execute_result",
     "data": {
      "text/plain": [
       "array([[ 2.13941201e-03, -3.39658185e-05, -2.50975338e-04,\n",
       "        -1.85447085e-03],\n",
       "       [-3.39658185e-05,  1.55912258e-02, -1.85447085e-03,\n",
       "        -1.37027892e-02],\n",
       "       [-2.50975338e-04, -1.85447085e-03,  1.03356124e-01,\n",
       "        -1.01250678e-01],\n",
       "       [-1.85447085e-03, -1.37027892e-02, -1.01250678e-01,\n",
       "         1.16807938e-01]])"
      ]
     },
     "metadata": {},
     "execution_count": 33
    }
   ],
   "source": [
    "d_Softmax([19,21,23,25])"
   ]
  },
  {
   "cell_type": "code",
   "execution_count": 39,
   "metadata": {},
   "outputs": [],
   "source": [
    "def relu(x:float) -> float:\n",
    "    '''Gets the cosine value of the input'''\n",
    "    x = 0 if x < 0 else x\n",
    "    return x\n",
    "\n",
    "def derivative_relu(x:float) -> float:\n",
    "    '''Gets the cosine value of the input'''\n",
    "    x = 1 if x > 0 else 0\n",
    "    return x"
   ]
  },
  {
   "cell_type": "code",
   "execution_count": 42,
   "metadata": {},
   "outputs": [
    {
     "output_type": "execute_result",
     "data": {
      "text/plain": [
       "1"
      ]
     },
     "metadata": {},
     "execution_count": 42
    }
   ],
   "source": [
    "derivative_relu(0.1)"
   ]
  },
  {
   "cell_type": "code",
   "execution_count": 43,
   "metadata": {},
   "outputs": [],
   "source": [
    "import math\n",
    "\n",
    "def tanh(x:float)->float:\n",
    "    '''Gets the value of tanh'''\n",
    "    return math.tanh(x)\n",
    "\n",
    "def derivative_tanh(x:float)->float:\n",
    "    '''Gets the derivative value of tanh'''\n",
    "    return 1-(math.tanh(x))**2"
   ]
  },
  {
   "cell_type": "code",
   "execution_count": 3,
   "metadata": {},
   "outputs": [],
   "source": [
    "import calculator as calc\n",
    "import calculator.derivatives as der\n",
    "import math\n",
    "\n",
    "def test_relu():\n",
    "\n",
    "    assert calc.relu(-0.1) == 0\n",
    "    assert calc.relu(0.1) == 0.1\n",
    "test_relu()\n",
    "\n",
    "def test_der_relu():\n",
    "\n",
    "    assert der.derivative_relu(0.1) == 1\n",
    "    assert der.derivative_relu(-0.1) == 0\n",
    "\n",
    "def test_sin():\n",
    "    assert calc.sin(90) == math.sin(90)\n",
    "\n",
    "test_sin()\n",
    "\n",
    "def test_der_sin():\n",
    "\n",
    "    assert der.derivative_sin(90) ==  math.cos(90)\n",
    "\n",
    "test_der_sin()\n",
    "\n",
    "def test_cos():\n",
    "    assert calc.cos(90) == math.cos(90)\n",
    "\n",
    "test_cos()\n",
    "\n",
    "def test_derivative_cos():\n",
    "    assert der.derivative_cos(90) == -calc.sin(90)\n",
    "\n",
    "test_derivative_cos()\n",
    "\n",
    "def test_tan():\n",
    "    assert calc.tan(90) == math.tan(90)\n",
    "\n",
    "test_tan()\n",
    "\n",
    "def test_derivative_tan():\n",
    "    assert der.derivative_tan(90) == (1/math.cos(90))**2\n",
    "\n",
    "test_derivative_tan()\n",
    "\n",
    "def test_tanh():\n",
    "    assert calc.tanh(90) == math.tanh(90)\n",
    "\n",
    "test_tanh()\n",
    "\n",
    "def test_derivative_tanh():\n",
    "    assert der.derivative_tanh(90) ==  1-(math.tanh(90))**2\n",
    "\n",
    "test_derivative_tanh()\n",
    "\n",
    "def test_log():\n",
    "    assert calc.log(52) == math.log(52)\n",
    "\n",
    "test_log()\n",
    "\n",
    "def test_derivative_log():\n",
    "    assert der.derivative_log(2) == 1/2\n",
    "\n",
    "test_derivative_log()\n",
    "\n",
    "def test_exp():\n",
    "    assert calc.exp(1) == math.exp(1)\n",
    "\n",
    "test_exp()\n",
    "\n",
    "def test_derivative_exp():\n",
    "    assert der.derivative_exp(1) == math.exp(1)\n",
    "\n",
    "test_derivative_exp()\n"
   ]
  }
 ]
}