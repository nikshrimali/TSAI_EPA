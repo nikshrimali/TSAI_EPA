{
 "metadata": {
  "language_info": {
   "codemirror_mode": {
    "name": "ipython",
    "version": 3
   },
   "file_extension": ".py",
   "mimetype": "text/x-python",
   "name": "python",
   "nbconvert_exporter": "python",
   "pygments_lexer": "ipython3",
   "version": "3.7.6-final"
  },
  "orig_nbformat": 2,
  "kernelspec": {
   "name": "python3",
   "display_name": "Python 3",
   "metadata": {
    "interpreter": {
     "hash": "3486cc88b56958510a49b781a0a8496e2297639e398ef0a616243c0e35c39059"
    }
   }
  }
 },
 "nbformat": 4,
 "nbformat_minor": 2,
 "cells": [
  {
   "cell_type": "code",
   "execution_count": 1,
   "metadata": {
    "tags": []
   },
   "outputs": [
    {
     "output_type": "execute_result",
     "data": {
      "text/plain": "'Use Faker library to get 10000 random profiles. Using namedtuple, calculate the largest blood type, mean-current_location, oldest_person_age and average age (add proper doc-strings). - 250\\nDo the same thing above using a dictionary. Prove that namedtuple is faster. - 250\\nCreate a fake data (you can use Faker for company names) for imaginary stock exchange for top 100 companies (name, symbol, open, high, close). Assign a random weight to all the companies. Calculate and show what value stock market started at, what was the highest value during the day and where did it end. Make sure your open, high, close are not totally random. You can only use namedtuple. - 500'"
     },
     "metadata": {},
     "execution_count": 1
    }
   ],
   "source": [
    "'''Use Faker library to get 10000 random profiles. Using namedtuple, calculate the largest blood type, mean-current_location, oldest_person_age and average age (add proper doc-strings). - 250\n",
    "Do the same thing above using a dictionary. Prove that namedtuple is faster. - 250\n",
    "Create a fake data (you can use Faker for company names) for imaginary stock exchange for top 100 companies (name, symbol, open, high, close). Assign a random weight to all the companies. Calculate and show what value stock market started at, what was the highest value during the day and where did it end. Make sure your open, high, close are not totally random. You can only use namedtuple. - 500'''"
   ]
  },
  {
   "cell_type": "code",
   "execution_count": 2,
   "metadata": {},
   "outputs": [
    {
     "output_type": "execute_result",
     "data": {
      "text/plain": "{'job': 'Engineer, aeronautical',\n 'company': 'Tran LLC',\n 'ssn': '689-95-2369',\n 'residence': '9180 Lambert Mall Suite 994\\nCatherineshire, SD 49333',\n 'current_location': (Decimal('-8.6997415'), Decimal('-146.844441')),\n 'blood_group': 'O-',\n 'website': ['http://chen-rivas.com/',\n  'http://odom-everett.com/',\n  'https://alexander.com/'],\n 'username': 'tony16',\n 'name': 'Amy Lloyd',\n 'sex': 'F',\n 'address': '969 Steven Shore Apt. 268\\nLake Jasonburgh, NH 94814',\n 'mail': 'annetteyoung@hotmail.com',\n 'birthdate': datetime.date(1931, 6, 25)}"
     },
     "metadata": {},
     "execution_count": 2
    }
   ],
   "source": [
    "from faker import Faker\n",
    "fake = Faker()\n",
    "\n",
    "data_dict = fake.profile()"
   ]
  },
  {
   "cell_type": "code",
   "execution_count": 4,
   "metadata": {},
   "outputs": [],
   "source": [
    "from functools import namedtuple\n",
    "data_dict = fake.profile()\n",
    "profile_list = namedtuple('profiles', data_dict)"
   ]
  },
  {
   "cell_type": "code",
   "execution_count": 6,
   "metadata": {
    "tags": []
   },
   "outputs": [
    {
     "output_type": "stream",
     "name": "stdout",
     "text": "('job', 'company', 'ssn', 'residence', 'current_location', 'blood_group', 'website', 'username', 'name', 'sex', 'address', 'mail', 'birthdate')\n"
    }
   ],
   "source": [
    "print(profile_list._fields)"
   ]
  },
  {
   "cell_type": "code",
   "execution_count": 8,
   "metadata": {},
   "outputs": [
    {
     "output_type": "error",
     "ename": "TypeError",
     "evalue": "'property' object is not callable",
     "traceback": [
      "\u001b[1;31m---------------------------------------------------------------------------\u001b[0m",
      "\u001b[1;31mTypeError\u001b[0m                                 Traceback (most recent call last)",
      "\u001b[1;32m<ipython-input-8-fe3eaa3067ff>\u001b[0m in \u001b[0;36m<module>\u001b[1;34m\u001b[0m\n\u001b[1;32m----> 1\u001b[1;33m \u001b[0mprofile_list\u001b[0m\u001b[1;33m.\u001b[0m\u001b[0mjob\u001b[0m\u001b[1;33m(\u001b[0m\u001b[1;33m)\u001b[0m\u001b[1;33m\u001b[0m\u001b[1;33m\u001b[0m\u001b[0m\n\u001b[0m",
      "\u001b[1;31mTypeError\u001b[0m: 'property' object is not callable"
     ]
    }
   ],
   "source": [
    "profile_list.job"
   ]
  },
  {
   "cell_type": "code",
   "execution_count": null,
   "metadata": {},
   "outputs": [],
   "source": [
    "'''Use Faker library to get 10000 random profiles. Using namedtuple, calculate the largest blood type, mean-current_location, oldest_person_age and average age (add proper doc-strings)'''\n",
    "\n",
    "profile_list = dict()\n",
    "for i in range(10000):\n",
    "    # Generate fake profile\n",
    "    fake_profile = fake.profile()\n",
    "    \n",
    "\n",
    "\n"
   ]
  },
  {
   "cell_type": "code",
   "execution_count": 13,
   "metadata": {},
   "outputs": [
    {
     "output_type": "execute_result",
     "data": {
      "text/plain": "['job',\n 'company',\n 'ssn',\n 'residence',\n 'current_location',\n 'blood_group',\n 'website',\n 'username',\n 'name',\n 'sex',\n 'address',\n 'mail',\n 'birthdate']"
     },
     "metadata": {},
     "execution_count": 13
    }
   ],
   "source": [
    "[*fake.profile().keys()]"
   ]
  },
  {
   "cell_type": "code",
   "execution_count": 18,
   "metadata": {},
   "outputs": [],
   "source": [
    "a = namedtuple('adf', [*fake.profile().keys()])"
   ]
  },
  {
   "cell_type": "code",
   "execution_count": 16,
   "metadata": {
    "tags": []
   },
   "outputs": [
    {
     "output_type": "stream",
     "name": "stdout",
     "text": "Help on function namedtuple in module collections:\n\nnamedtuple(typename, field_names, *, rename=False, defaults=None, module=None)\n    Returns a new subclass of tuple with named fields.\n    \n    >>> Point = namedtuple('Point', ['x', 'y'])\n    >>> Point.__doc__                   # docstring for the new class\n    'Point(x, y)'\n    >>> p = Point(11, y=22)             # instantiate with positional args or keywords\n    >>> p[0] + p[1]                     # indexable like a plain tuple\n    33\n    >>> x, y = p                        # unpack like a regular tuple\n    >>> x, y\n    (11, 22)\n    >>> p.x + p.y                       # fields also accessible by name\n    33\n    >>> d = p._asdict()                 # convert to a dictionary\n    >>> d['x']\n    11\n    >>> Point(**d)                      # convert from a dictionary\n    Point(x=11, y=22)\n    >>> p._replace(x=100)               # _replace() is like str.replace() but targets named fields\n    Point(x=100, y=22)\n\n"
    }
   ],
   "source": [
    "help(namedtuple)"
   ]
  },
  {
   "cell_type": "code",
   "execution_count": 32,
   "metadata": {},
   "outputs": [
    {
     "output_type": "execute_result",
     "data": {
      "text/plain": "adf(job='Dramatherapist', company='Castro-Olson', ssn='422-89-1114', residence='9464 Christy Circles\\nGallegosland, IA 25037', current_location=(Decimal('26.799917'), Decimal('-93.145736')), blood_group='B+', website=['https://gallegos.com/', 'http://brooks.com/'], username='wilsonmatthew', name='Joshua Delgado', sex='M', address='40658 Levy Shoals Suite 125\\nJohnville, WI 39648', mail='andersonbrittany@gmail.com', birthdate=datetime.date(2000, 5, 23))"
     },
     "metadata": {},
     "execution_count": 32
    }
   ],
   "source": [
    "profile1 = fake.profile()\n",
    "\n",
    "a(**profile1)"
   ]
  },
  {
   "cell_type": "code",
   "execution_count": 38,
   "metadata": {},
   "outputs": [],
   "source": [
    "profiles = namedtuple('adf', [*fake.profile().keys()])\n",
    "profile_generated = dict()\n",
    "for i in range(10):\n",
    "    profile_generated[i] = profiles(**fake.profile())\n"
   ]
  },
  {
   "cell_type": "code",
   "execution_count": 39,
   "metadata": {},
   "outputs": [
    {
     "output_type": "execute_result",
     "data": {
      "text/plain": "{0: adf(job='Forensic psychologist', company='Richardson, West and Adams', ssn='654-09-5527', residence='5108 Krista Extension\\nCunninghammouth, TX 37793', current_location=(Decimal('-40.7345755'), Decimal('160.178731')), blood_group='A-', website=['https://www.baker-owens.net/'], username='qhoward', name='David Smith', sex='M', address='813 Jeffery Valleys Apt. 298\\nBeckview, IN 42847', mail='amycook@gmail.com', birthdate=datetime.date(1928, 9, 25)),\n 1: adf(job='Technical author', company='Ortega and Sons', ssn='503-37-1685', residence='89317 Corey Station Apt. 756\\nJenniferborough, NY 88674', current_location=(Decimal('43.1506165'), Decimal('-90.076917')), blood_group='O+', website=['https://walsh-holmes.info/'], username='eric17', name='Sarah Cunningham', sex='F', address='572 Smith Bridge\\nNew Jonathan, IN 41476', mail='feliciarush@gmail.com', birthdate=datetime.date(1955, 4, 30)),\n 2: adf(job='Surveyor, quantity', company='Smith, Carter and Romero', ssn='753-05-3013', residence='Unit 2208 Box 9988\\nDPO AE 46902', current_location=(Decimal('-83.359398'), Decimal('14.225510')), blood_group='B-', website=['https://sullivan-garcia.com/', 'http://buck.com/', 'https://snow.com/', 'http://walsh-cochran.org/'], username='daniellegonzalez', name='Diane Hopkins', sex='F', address='110 Maxwell Springs\\nBonniefurt, CT 10001', mail='sarah81@hotmail.com', birthdate=datetime.date(1966, 7, 10)),\n 3: adf(job='Software engineer', company='Duncan-Mcintyre', ssn='009-94-9073', residence='0826 Petty Drives Suite 469\\nPort Tina, SC 50459', current_location=(Decimal('19.251410'), Decimal('64.551324')), blood_group='A-', website=['http://pope.com/', 'https://www.murphy.biz/', 'http://dixon.com/', 'http://leon.com/'], username='lambertteresa', name='Nicole Morris', sex='F', address='870 Peterson Cape Apt. 503\\nLake Michaelmouth, SD 27273', mail='nguyenmandy@yahoo.com', birthdate=datetime.date(1931, 11, 16)),\n 4: adf(job='Control and instrumentation engineer', company='Hall, Lewis and Melton', ssn='238-06-1953', residence='18142 Torres Greens\\nMorafurt, KS 43263', current_location=(Decimal('-66.618674'), Decimal('153.459214')), blood_group='A-', website=['https://www.hunt.com/'], username='miguel44', name='Ann Miller', sex='F', address='5108 Richardson Mill Suite 918\\nNew Mary, AZ 04239', mail='campbelldenise@yahoo.com', birthdate=datetime.date(1946, 6, 20)),\n 5: adf(job='Stage manager', company='Jacobs Ltd', ssn='744-87-7672', residence='785 Weeks Street\\nSouth Mariatown, SD 09031', current_location=(Decimal('-1.047661'), Decimal('146.698657')), blood_group='AB-', website=['https://www.spencer.biz/', 'http://www.moore.info/', 'http://www.molina-williams.com/'], username='gomezjustin', name='Mary Ball', sex='F', address='04266 Mcdonald Tunnel\\nEast Kathrynville, DC 83216', mail='dmccall@gmail.com', birthdate=datetime.date(1913, 6, 6)),\n 6: adf(job='Statistician', company='Harrell, Gonzalez and Huffman', ssn='359-01-0620', residence='31797 Lisa Circle\\nEast Christophershire, AR 89524', current_location=(Decimal('-23.3192765'), Decimal('-6.321627')), blood_group='A-', website=['http://www.santos.biz/', 'https://oconnell.com/'], username='shannon45', name='Michael Andersen', sex='M', address='19738 Olivia Walk\\nLake Michelle, IA 10788', mail='anthonyrodriguez@yahoo.com', birthdate=datetime.date(1911, 10, 13)),\n 7: adf(job='Geophysicist/field seismologist', company='Snow-Arellano', ssn='825-67-6174', residence='598 Jennifer Fields Suite 645\\nPattersonmouth, MD 72004', current_location=(Decimal('70.9089735'), Decimal('-58.857938')), blood_group='A+', website=['http://www.park.net/', 'https://www.wilson.net/', 'http://cook.info/'], username='lauraramos', name='Juan Spencer', sex='M', address='75877 Kyle Wells Apt. 173\\nSouth Paulmouth, UT 94169', mail='stevenmonroe@yahoo.com', birthdate=datetime.date(1981, 1, 1)),\n 8: adf(job='Science writer', company='Lowe-Salazar', ssn='323-80-0967', residence='096 Reynolds Circle Apt. 507\\nKellyport, WV 07023', current_location=(Decimal('-16.2002765'), Decimal('-128.977022')), blood_group='A+', website=['http://craig.biz/', 'https://www.adams.biz/', 'http://anderson.com/', 'https://lee-arroyo.net/'], username='berrybrandon', name='Pamela Barnes', sex='F', address='60074 Cohen Manor\\nPhillipshaven, HI 22950', mail='qcastro@yahoo.com', birthdate=datetime.date(1978, 4, 12)),\n 9: adf(job='Cartographer', company='Hernandez PLC', ssn='562-58-5963', residence='Unit 5461 Box 3530\\nDPO AP 08095', current_location=(Decimal('-64.687216'), Decimal('0.685740')), blood_group='AB+', website=['http://www.deleon-griffin.com/', 'http://www.johnson.com/', 'https://www.fernandez.biz/', 'http://james.com/'], username='saramanning', name='Rhonda Perez', sex='F', address='404 Kirk Point\\nTammiechester, CA 83095', mail='janemay@yahoo.com', birthdate=datetime.date(1980, 6, 3))}"
     },
     "metadata": {},
     "execution_count": 39
    }
   ],
   "source": [
    "profile_generated\n",
    "\n",
    "# Ideas - All the fields to be stored in their respective lists "
   ]
  },
  {
   "cell_type": "code",
   "execution_count": 37,
   "metadata": {
    "tags": []
   },
   "outputs": [
    {
     "output_type": "error",
     "ename": "TypeError",
     "evalue": "_asdict() missing 1 required positional argument: 'self'",
     "traceback": [
      "\u001b[1;31m---------------------------------------------------------------------------\u001b[0m",
      "\u001b[1;31mTypeError\u001b[0m                                 Traceback (most recent call last)",
      "\u001b[1;32m<ipython-input-37-8f215d23a001>\u001b[0m in \u001b[0;36m<module>\u001b[1;34m\u001b[0m\n\u001b[1;32m----> 1\u001b[1;33m \u001b[0mprint\u001b[0m\u001b[1;33m(\u001b[0m\u001b[0mprofiles\u001b[0m\u001b[1;33m.\u001b[0m\u001b[0m_asdict\u001b[0m\u001b[1;33m(\u001b[0m\u001b[1;33m)\u001b[0m\u001b[1;33m)\u001b[0m\u001b[1;33m\u001b[0m\u001b[1;33m\u001b[0m\u001b[0m\n\u001b[0m",
      "\u001b[1;31mTypeError\u001b[0m: _asdict() missing 1 required positional argument: 'self'"
     ]
    }
   ],
   "source": [
    "def get_max"
   ]
  }
 ]
}