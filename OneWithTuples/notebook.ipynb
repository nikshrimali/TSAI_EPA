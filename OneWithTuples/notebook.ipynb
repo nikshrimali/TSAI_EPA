{
 "metadata": {
  "language_info": {
   "codemirror_mode": {
    "name": "ipython",
    "version": 3
   },
   "file_extension": ".py",
   "mimetype": "text/x-python",
   "name": "python",
   "nbconvert_exporter": "python",
   "pygments_lexer": "ipython3",
   "version": "3.7.6-final"
  },
  "orig_nbformat": 2,
  "kernelspec": {
   "name": "python3",
   "display_name": "Python 3",
   "metadata": {
    "interpreter": {
     "hash": "3486cc88b56958510a49b781a0a8496e2297639e398ef0a616243c0e35c39059"
    }
   }
  }
 },
 "nbformat": 4,
 "nbformat_minor": 2,
 "cells": [
  {
   "cell_type": "code",
   "execution_count": 1,
   "metadata": {
    "tags": []
   },
   "outputs": [
    {
     "output_type": "execute_result",
     "data": {
      "text/plain": "'Use Faker library to get 10000 random profiles. Using namedtuple, calculate the largest blood type, mean-current_location, oldest_person_age and average age (add proper doc-strings). - 250\\nDo the same thing above using a dictionary. Prove that namedtuple is faster. - 250\\nCreate a fake data (you can use Faker for company names) for imaginary stock exchange for top 100 companies (name, symbol, open, high, close). Assign a random weight to all the companies. Calculate and show what value stock market started at, what was the highest value during the day and where did it end. Make sure your open, high, close are not totally random. You can only use namedtuple. - 500'"
     },
     "metadata": {},
     "execution_count": 1
    }
   ],
   "source": [
    "'''Use Faker library to get 10000 random profiles. Using namedtuple, calculate the largest blood type, mean-current_location, oldest_person_age and average age (add proper doc-strings). - 250\n",
    "Do the same thing above using a dictionary. Prove that namedtuple is faster. - 250\n",
    "Create a fake data (you can use Faker for company names) for imaginary stock exchange for top 100 companies (name, symbol, open, high, close). Assign a random weight to all the companies. Calculate and show what value stock market started at, what was the highest value during the day and where did it end. Make sure your open, high, close are not totally random. You can only use namedtuple. - 500'''"
   ]
  },
  {
   "cell_type": "code",
   "execution_count": 9,
   "metadata": {},
   "outputs": [],
   "source": [
    "from faker import Faker\n",
    "fake = Faker()\n",
    "from collections import Counter\n",
    "from datetime import date\n",
    "\n",
    "def profile_stats(profiles, dict=False):\n",
    "    '''\n",
    "    Returns profile stats based on the random fake profiles generated\n",
    "    largest blood type\n",
    "    mean-current_location\n",
    "    oldest_person_age\n",
    "    average age\n",
    "\n",
    "    :args profiles - Named tuple or a dictionary\n",
    "    :args dict: bool operator which if flagged true will treat input as dictionary\n",
    "    :returns largest_blood_grp, highest_age, average_age, mean_location\n",
    "    '''\n",
    "    \n",
    "    blood_groups = []\n",
    "    age_list = []\n",
    "    location_list = []\n",
    "    longitude = 0\n",
    "    latitude = 0\n",
    "\n",
    "    if dict:\n",
    "        for index, profile in enumerate(profiles):\n",
    "            blood_groups.append(profiles[index]['blood_group'])\n",
    "            age_list.append((date.today() - profiles[index]['birthdate']).days)\n",
    "            longitude += (profiles[index]['current_location'][0])\n",
    "            latitude += (profiles[index]['current_location'][1])\n",
    "            location_list.append([longitude, latitude])\n",
    "            \n",
    "    else:\n",
    "\n",
    "        for index in (range(len(profiles[0]))):\n",
    "\n",
    "            #Adding stats into the lists\n",
    "            \n",
    "            blood_groups.append(profiles[0][index].blood_group)\n",
    "            age_list.append((date.today() - profiles[0][index].birthdate).days)\n",
    "            longitude += (profiles[0][index].current_location[0])\n",
    "            latitude += (profiles[0][index].current_location[1])\n",
    "            location_list.append([longitude, latitude])\n",
    "            \n",
    "    blood_dict = Counter(blood_groups)\n",
    "    largest_blood_grp =  max(blood_dict, key=blood_dict.get)\n",
    "    highest_age = max(age_list)\n",
    "    average_age = sum(age_list)/len(age_list)\n",
    "    mean_location = sum(location_list[0])/len(location_list), sum(location_list[1])/len(location_list)\n",
    "    # Printing the results\n",
    "\n",
    "    print(f'The statistics of 10k profiles are  --Largest Bloodgroup - {largest_blood_grp}, -- Highest Age - {round(highest_age/365)}, -- Average Age - {round(average_age/365)}, -- mean location - {mean_location}')\n",
    "    return largest_blood_grp, round(highest_age/365), round(average_age/365), mean_location"
   ]
  },
  {
   "cell_type": "code",
   "execution_count": 10,
   "metadata": {
    "tags": []
   },
   "outputs": [],
   "source": [
    "from functools import wraps, namedtuple\n",
    "from time import perf_counter\n",
    "\n",
    "def timers(n_reps):\n",
    "    '''Decorator with timers which takes no of iterations as arguments\n",
    "    and returns avg time taken in each iteration\n",
    "    :params n_reps : no of reps the functions needs to be tested'''\n",
    "    def outer(fn):\n",
    "        def inner(*args, **kwargs):\n",
    "            times = []\n",
    "            for _ in range(n_reps):\n",
    "\n",
    "                start_time = perf_counter()\n",
    "                fn(*args, **kwargs)\n",
    "                end_time = perf_counter() - start_time\n",
    "                times.append(end_time)\n",
    "\n",
    "            print(f'Time taken to process {n_reps} is {sum(times)/n_reps}')\n",
    "            return sum(times)/n_reps\n",
    "        return inner\n",
    "    return outer\n",
    "\n",
    "def master_dict(fn):\n",
    "    '''This decorator returns a dictionary of 10k profiles'''\n",
    "    master_dict = dict()\n",
    "    @wraps(fn)\n",
    "    def store_profiles(n_params):\n",
    "        profile_list = []\n",
    "        for i in range(n_params):\n",
    "            master_dict[i] = fake.profile() # Generate random fake profiles dicts into master dicts\n",
    "            \n",
    "        return master_dict # Return master dicts\n",
    "    return store_profiles\n",
    "\n",
    "@master_dict\n",
    "def get_dict(n_params):\n",
    "    '''Function with master_dict decorator, randomly generates profiles\n",
    "    args n_params: no of profiles required in the dictionary\n",
    "    returns none\n",
    "    '''\n",
    "    pass\n",
    "\n",
    "@timers(1)\n",
    "def log_function():\n",
    "    '''Function decorated with timers which takes no of iterations as arguments\n",
    "    and returns avg time taken in each iteration'''\n",
    "    a = get_dict(10000)\n",
    "    profile_stats(a, dict=True)"
   ]
  },
  {
   "cell_type": "code",
   "execution_count": 11,
   "metadata": {
    "tags": []
   },
   "outputs": [
    {
     "output_type": "stream",
     "name": "stdout",
     "text": "The statistics of 10k profiles are  --Largest Bloodgroup - B+, -- Highest Age - 116, -- Average Age - 58, -- mean location - (Decimal('-0.0089051157'), Decimal('0.0029589147'))\nTime taken to process 1 is 24.39673360000006\n"
    },
    {
     "output_type": "execute_result",
     "data": {
      "text/plain": "24.39673360000006"
     },
     "metadata": {},
     "execution_count": 11
    }
   ],
   "source": [
    "log_function()"
   ]
  },
  {
   "cell_type": "code",
   "execution_count": 12,
   "metadata": {},
   "outputs": [],
   "source": [
    "from functools import wraps, namedtuple\n",
    "\n",
    "def master_profile(fn):\n",
    "    '''This decorator returns a tuple of 10k profiles'''\n",
    "    profile = namedtuple(\"profile\", [*fake.profile().keys()])\n",
    "    master_profile = namedtuple(\"master\", \"profiles\")\n",
    "        \n",
    "    @wraps(fn)\n",
    "    def store_profiles(n_params):\n",
    "        profile_list = []\n",
    "        for i in range(n_params):\n",
    "            fake_profile = profile(**fake.profile()) # Generate random fake profiles\n",
    "            profile_list.append(fake_profile) # Append it to a list\n",
    "        return master_profile(profile_list) # Put the entire list into a named tuple\n",
    "    return store_profiles\n",
    "\n",
    "@master_profile\n",
    "def get_master_profilelist(n_params):\n",
    "    pass\n",
    "\n",
    "@timers(1)\n",
    "def log_function():\n",
    "    a = get_master_profilelist(10000)\n",
    "    profile_stats(a)"
   ]
  },
  {
   "cell_type": "code",
   "execution_count": 13,
   "metadata": {
    "tags": []
   },
   "outputs": [
    {
     "output_type": "stream",
     "name": "stdout",
     "text": "The statistics of 10k profiles are  --Largest Bloodgroup - AB-, -- Highest Age - 116, -- Average Age - 58, -- mean location - (Decimal('0.0008314392'), Decimal('-0.0120221827'))\nTime taken to process 1 is 28.486342799999875\n"
    },
    {
     "output_type": "execute_result",
     "data": {
      "text/plain": "28.486342799999875"
     },
     "metadata": {},
     "execution_count": 13
    }
   ],
   "source": [
    "log_function()"
   ]
  },
  {
   "cell_type": "code",
   "execution_count": null,
   "metadata": {},
   "outputs": [],
   "source": [
    "def "
   ]
  },
  {
   "cell_type": "code",
   "execution_count": null,
   "metadata": {},
   "outputs": [],
   "source": [
    "# Stock markets brokers"
   ]
  }
 ]
}