{
 "metadata": {
  "language_info": {
   "codemirror_mode": {
    "name": "ipython",
    "version": 3
   },
   "file_extension": ".py",
   "mimetype": "text/x-python",
   "name": "python",
   "nbconvert_exporter": "python",
   "pygments_lexer": "ipython3",
   "version": "3.7.6-final"
  },
  "orig_nbformat": 2,
  "kernelspec": {
   "name": "python3",
   "display_name": "Python 3",
   "metadata": {
    "interpreter": {
     "hash": "3486cc88b56958510a49b781a0a8496e2297639e398ef0a616243c0e35c39059"
    }
   }
  }
 },
 "nbformat": 4,
 "nbformat_minor": 2,
 "cells": [
  {
   "cell_type": "code",
   "execution_count": 1,
   "metadata": {
    "tags": []
   },
   "outputs": [
    {
     "output_type": "execute_result",
     "data": {
      "text/plain": "'Use Faker library to get 10000 random profiles. Using namedtuple, calculate the largest blood type, mean-current_location, oldest_person_age and average age (add proper doc-strings). - 250\\nDo the same thing above using a dictionary. Prove that namedtuple is faster. - 250\\nCreate a fake data (you can use Faker for company names) for imaginary stock exchange for top 100 companies (name, symbol, open, high, close). Assign a random weight to all the companies. Calculate and show what value stock market started at, what was the highest value during the day and where did it end. Make sure your open, high, close are not totally random. You can only use namedtuple. - 500'"
     },
     "metadata": {},
     "execution_count": 1
    }
   ],
   "source": [
    "'''Use Faker library to get 10000 random profiles. Using namedtuple, calculate the largest blood type, mean-current_location, oldest_person_age and average age (add proper doc-strings). - 250\n",
    "Do the same thing above using a dictionary. Prove that namedtuple is faster. - 250\n",
    "Create a fake data (you can use Faker for company names) for imaginary stock exchange for top 100 companies (name, symbol, open, high, close). Assign a random weight to all the companies. Calculate and show what value stock market started at, what was the highest value during the day and where did it end. Make sure your open, high, close are not totally random. You can only use namedtuple. - 500'''"
   ]
  },
  {
   "cell_type": "code",
   "execution_count": 9,
   "metadata": {},
   "outputs": [],
   "source": [
    "from faker import Faker\n",
    "fake = Faker()\n",
    "from collections import Counter\n",
    "from datetime import date\n",
    "\n",
    "def profile_stats(profiles, dict=False):\n",
    "    '''\n",
    "    Returns profile stats based on the random fake profiles generated\n",
    "    largest blood type\n",
    "    mean-current_location\n",
    "    oldest_person_age\n",
    "    average age\n",
    "\n",
    "    :args profiles - Named tuple or a dictionary\n",
    "    :args dict: bool operator which if flagged true will treat input as dictionary\n",
    "    :returns largest_blood_grp, highest_age, average_age, mean_location\n",
    "    '''\n",
    "    \n",
    "    blood_groups = []\n",
    "    age_list = []\n",
    "    location_list = []\n",
    "    longitude = 0\n",
    "    latitude = 0\n",
    "\n",
    "    if dict:\n",
    "        for index, profile in enumerate(profiles):\n",
    "            blood_groups.append(profiles[index]['blood_group'])\n",
    "            age_list.append((date.today() - profiles[index]['birthdate']).days)\n",
    "            longitude += (profiles[index]['current_location'][0])\n",
    "            latitude += (profiles[index]['current_location'][1])\n",
    "            location_list.append([longitude, latitude])\n",
    "            \n",
    "    else:\n",
    "\n",
    "        for index in (range(len(profiles[0]))):\n",
    "\n",
    "            #Adding stats into the lists\n",
    "            \n",
    "            blood_groups.append(profiles[0][index].blood_group)\n",
    "            age_list.append((date.today() - profiles[0][index].birthdate).days)\n",
    "            longitude += (profiles[0][index].current_location[0])\n",
    "            latitude += (profiles[0][index].current_location[1])\n",
    "            location_list.append([longitude, latitude])\n",
    "            \n",
    "    blood_dict = Counter(blood_groups)\n",
    "    largest_blood_grp =  max(blood_dict, key=blood_dict.get)\n",
    "    highest_age = max(age_list)\n",
    "    average_age = sum(age_list)/len(age_list)\n",
    "    mean_location = sum(location_list[0])/len(location_list), sum(location_list[1])/len(location_list)\n",
    "    # Printing the results\n",
    "\n",
    "    print(f'The statistics of 10k profiles are  --Largest Bloodgroup - {largest_blood_grp}, -- Highest Age - {round(highest_age/365)}, -- Average Age - {round(average_age/365)}, -- mean location - {mean_location}')\n",
    "    return largest_blood_grp, round(highest_age/365), round(average_age/365), mean_location"
   ]
  },
  {
   "cell_type": "code",
   "execution_count": 508,
   "metadata": {
    "tags": []
   },
   "outputs": [],
   "source": [
    "from functools import wraps, namedtuple\n",
    "from time import perf_counter\n",
    "\n",
    "def timers(n_reps):\n",
    "    '''Decorator with timers which takes no of iterations as arguments\n",
    "    and returns avg time taken in each iteration\n",
    "    :params n_reps : no of reps the functions needs to be tested'''\n",
    "    def outer(fn):\n",
    "        def inner(*args, **kwargs):\n",
    "            times = []\n",
    "            for _ in range(n_reps):\n",
    "\n",
    "                start_time = perf_counter()\n",
    "                fn(*args, **kwargs)\n",
    "                end_time = perf_counter() - start_time\n",
    "                times.append(end_time)\n",
    "\n",
    "            print(f'Time taken to process {n_reps} is {sum(times)/n_reps}')\n",
    "            return sum(times)/n_reps\n",
    "        return inner\n",
    "    return outer\n",
    "\n",
    "def master_dict(fn):\n",
    "    '''This decorator returns a dictionary of 10k profiles'''\n",
    "    master_dict = dict()\n",
    "    @wraps(fn)\n",
    "    def store_profiles(n_params):\n",
    "        for i in range(n_params):\n",
    "            master_dict[i] = fake.profile() # Generate random fake profiles dicts into master dicts\n",
    "            \n",
    "        return master_dict # Return master dicts\n",
    "    return store_profiles\n",
    "\n",
    "@master_dict\n",
    "def get_dict(n_params):\n",
    "    '''Function with master_dict decorator, randomly generates profiles\n",
    "    args n_params: no of profiles required in the dictionary\n",
    "    returns none\n",
    "    '''\n",
    "    pass\n",
    "\n",
    "@timers(1)\n",
    "def log_function():\n",
    "    '''Function decorated with timers which takes no of iterations as arguments\n",
    "    and returns avg time taken in each iteration'''\n",
    "    a = get_dict(10000)\n",
    "    profile_stats(a, dict=True)"
   ]
  },
  {
   "cell_type": "code",
   "execution_count": 509,
   "metadata": {
    "tags": []
   },
   "outputs": [
    {
     "output_type": "stream",
     "name": "stdout",
     "text": "The statistics of 10k profiles are  --Largest Bloodgroup - A+, -- Highest Age - 116, -- Average Age - 58, -- mean location - (Decimal('0.0044047526'), Decimal('0.02786566955'))\nTime taken to process 1 is 16.461817299998074\n"
    },
    {
     "output_type": "execute_result",
     "data": {
      "text/plain": "16.461817299998074"
     },
     "metadata": {},
     "execution_count": 509
    }
   ],
   "source": [
    "log_function()"
   ]
  },
  {
   "cell_type": "code",
   "execution_count": 506,
   "metadata": {},
   "outputs": [],
   "source": [
    "from functools import wraps, namedtuple\n",
    "\n",
    "def master_profile(fn):\n",
    "    '''This decorator returns a tuple of 10k profiles'''\n",
    "    profile = namedtuple(\"profile\", [*fake.profile().keys()])\n",
    "    master_profile = namedtuple(\"master\", \"profiles\")\n",
    "        \n",
    "    @wraps(fn)\n",
    "    def store_profiles(n_params):\n",
    "        profile_list = []\n",
    "        for i in range(n_params):\n",
    "            fake_profile = profile(**fake.profile()) # Generate random fake profiles\n",
    "            profile_list.append(fake_profile) # Append it to a list\n",
    "        return master_profile(tuple(profile_list)) # Put the entire list into a named tuple\n",
    "    return store_profiles\n",
    "\n",
    "@master_profile\n",
    "def get_master_profilelist(n_params):\n",
    "    pass\n",
    "\n",
    "@timers(1)\n",
    "def log_function():\n",
    "    a = get_master_profilelist(10000)\n",
    "    profile_stats(a)"
   ]
  },
  {
   "cell_type": "code",
   "execution_count": 507,
   "metadata": {
    "tags": []
   },
   "outputs": [
    {
     "output_type": "stream",
     "name": "stdout",
     "text": "The statistics of 10k profiles are  --Largest Bloodgroup - A-, -- Highest Age - 116, -- Average Age - 58, -- mean location - (Decimal('0.02295375105'), Decimal('0.0201717917'))\nTime taken to process 1 is 16.260413999996672\n"
    },
    {
     "output_type": "execute_result",
     "data": {
      "text/plain": "16.260413999996672"
     },
     "metadata": {},
     "execution_count": 507
    }
   ],
   "source": [
    "log_function() # Tuples are slightly faster than dictionaries"
   ]
  },
  {
   "cell_type": "code",
   "execution_count": 512,
   "metadata": {},
   "outputs": [],
   "source": [
    "''' You can only use namedtuple. - 500'''\n",
    "\n",
    "def outer(fn):\n",
    "    '''Creates a fake data (you can use Faker for company names) for imaginary stock exchange for top 100 companies (name, symbol, open, high, close)'''\n",
    "\n",
    "    def imaginary_stocks(n_indices):\n",
    "        ''' Creates imaginary stock markets scenario'''\n",
    "        master_market = namedtuple('master_market', 'all_indices')\n",
    "        company_list = []\n",
    "\n",
    "        img_stocks = namedtuple('img_stocks', 'name, symbol, start, open, high, end, close')\n",
    "        for i in range(n_indices):\n",
    "            # Registering fake companies\n",
    "            fake_company = fake.company()\n",
    "            random_indices = {\n",
    "                \"name\":fake_company,\n",
    "                \"symbol\":fake_company[0:2],\n",
    "                \"start\":(random.randint(300,2500)),\n",
    "                \"open\":None,\n",
    "                \"high\":None,\n",
    "                \"end\":None,\n",
    "                \"close\":None\n",
    "            }\n",
    "            \n",
    "            company = img_stocks(**random_indices)\n",
    "            company_list.append(company)\n",
    "\n",
    "        return master_market(company_list)\n",
    "    return imaginary_stocks\n",
    "\n",
    "@outer\n",
    "def generate_tuples(index):\n",
    "    pass\n",
    "\n",
    "def move_market():\n",
    "    '''Assigns a random weight to all the companies.'''\n",
    "    rand_bool = bool(random.getrandbits(1))\n",
    "\n",
    "    if rand_bool: # Market moves up\n",
    "        return (0.95,1.2)\n",
    "    else: # Market moves down\n",
    "        return (0.8,1.12)\n",
    "\n",
    "def daily_updates(market_tuple):\n",
    "\n",
    "    ''' Calculate and show what value stock market started at, \n",
    "    what was the highest value during the day and where did it end. \n",
    "\n",
    "    :args market_tuple: Input named tuple containing list of all the market tuples\n",
    "    :returns: Updated market tuple\n",
    "    '''\n",
    "\n",
    "    weights_list = []\n",
    "    open_list = []\n",
    "    a, b = move_market()\n",
    "\n",
    "    # Assign the value if company is registered first time\n",
    "    for index,_ in enumerate(market_tuple[0]):\n",
    "        random_number = random.uniform(a, b)\n",
    "        weights_list.append(random_number)\n",
    "        company_tuple = market_tuple[0][index]\n",
    "        new_updates = dict()\n",
    "\n",
    "        if company_tuple.close:\n",
    "            new_updates[\"open\"] = round(company_tuple.close)\n",
    "        else:\n",
    "            new_updates[\"open\"] = round(company_tuple.start)\n",
    "        \n",
    "        open_list.append(new_updates[\"open\"])\n",
    "        updates = move_market()\n",
    "        movement = round(new_updates[\"open\"]*random_number)\n",
    "        new_updates[\"close\"] = movement\n",
    "        new_updates[\"high\"]  = round(max(new_updates[\"open\"], movement))\n",
    "        new_updates[\"end\"]  = round(min(new_updates[\"open\"], movement))\n",
    "\n",
    "        market_tuple[0][index] = company_tuple._replace(**new_updates)\n",
    "            \n",
    "    market_tuple._replace(all_indices= market_tuple) # Updating master tuple with the updated values\n",
    "    weights_list = [i/sum(weights_list) for i in weights_list] # Normalizing the values\n",
    "    market_performance = [round(i*j) for i,j in zip(weights_list, open_list)] # Multiplying the values with the opening values\n",
    "\n",
    "    return market_tuple, sum(market_performance)"
   ]
  },
  {
   "cell_type": "code",
   "execution_count": 513,
   "metadata": {},
   "outputs": [],
   "source": [
    "a = generate_tuples(100)"
   ]
  },
  {
   "cell_type": "code",
   "execution_count": 514,
   "metadata": {
    "tags": []
   },
   "outputs": [
    {
     "output_type": "execute_result",
     "data": {
      "text/plain": "[img_stocks(name='Howell, Harrison and Hayes', symbol='Ho', start=2028, open=2028, high=2028, end=1676, close=1676),\n img_stocks(name='Case Inc', symbol='Ca', start=1595, open=1595, high=1695, end=1595, close=1695),\n img_stocks(name='Bennett, Powell and Long', symbol='Be', start=2172, open=2172, high=2172, end=1880, close=1880),\n img_stocks(name='Burns-Little', symbol='Bu', start=592, open=592, high=592, end=504, close=504),\n img_stocks(name='Gomez Group', symbol='Go', start=2199, open=2199, high=2199, end=1818, close=1818),\n img_stocks(name='Juarez Inc', symbol='Ju', start=2099, open=2099, high=2099, end=1697, close=1697),\n img_stocks(name='Taylor Group', symbol='Ta', start=2176, open=2176, high=2266, end=2176, close=2266),\n img_stocks(name='Brooks LLC', symbol='Br', start=1899, open=1899, high=1899, end=1565, close=1565),\n img_stocks(name='Neal PLC', symbol='Ne', start=2033, open=2033, high=2033, end=1861, close=1861),\n img_stocks(name='Bean Ltd', symbol='Be', start=2090, open=2090, high=2242, end=2090, close=2242),\n img_stocks(name='Jackson, Mcdonald and Oneill', symbol='Ja', start=1880, open=1880, high=1880, end=1830, close=1830),\n img_stocks(name='Cline, Hurst and James', symbol='Cl', start=624, open=624, high=694, end=624, close=694),\n img_stocks(name='Butler PLC', symbol='Bu', start=830, open=830, high=834, end=830, close=834),\n img_stocks(name='Knox Ltd', symbol='Kn', start=1203, open=1203, high=1203, end=1006, close=1006),\n img_stocks(name='Davis, Garcia and Bailey', symbol='Da', start=2092, open=2092, high=2199, end=2092, close=2199),\n img_stocks(name='Stevenson-Morrison', symbol='St', start=871, open=871, high=904, end=871, close=904),\n img_stocks(name='Young, Davis and Young', symbol='Yo', start=1368, open=1368, high=1532, end=1368, close=1532),\n img_stocks(name='Miller and Sons', symbol='Mi', start=1086, open=1086, high=1086, end=1056, close=1056),\n img_stocks(name='Harding-Williams', symbol='Ha', start=1432, open=1432, high=1432, end=1380, close=1380),\n img_stocks(name='Ballard, Davidson and Hamilton', symbol='Ba', start=1651, open=1651, high=1651, end=1527, close=1527),\n img_stocks(name='Moreno-Brown', symbol='Mo', start=918, open=918, high=941, end=918, close=941),\n img_stocks(name='Berg, Franco and Nelson', symbol='Be', start=2165, open=2165, high=2165, end=2082, close=2082),\n img_stocks(name='Hunter LLC', symbol='Hu', start=1294, open=1294, high=1294, end=1230, close=1230),\n img_stocks(name='Mitchell, Wilkerson and Peterson', symbol='Mi', start=975, open=975, high=975, end=886, close=886),\n img_stocks(name='Schmidt, Gardner and Zamora', symbol='Sc', start=1688, open=1688, high=1700, end=1688, close=1700),\n img_stocks(name='Navarro, Bell and Wright', symbol='Na', start=994, open=994, high=994, end=826, close=826),\n img_stocks(name='Williams, Wright and Sanders', symbol='Wi', start=2001, open=2001, high=2001, end=1606, close=1606),\n img_stocks(name='Day-Nolan', symbol='Da', start=773, open=773, high=851, end=773, close=851),\n img_stocks(name='Ross, Flynn and Douglas', symbol='Ro', start=2210, open=2210, high=2445, end=2210, close=2445),\n img_stocks(name='Ramos-Villanueva', symbol='Ra', start=1083, open=1083, high=1083, end=953, close=953),\n img_stocks(name='Young, Jackson and Carroll', symbol='Yo', start=1710, open=1710, high=1822, end=1710, close=1822),\n img_stocks(name='Friedman, Rodriguez and Fletcher', symbol='Fr', start=1626, open=1626, high=1636, end=1626, close=1636),\n img_stocks(name='Stephens, Wood and Dillon', symbol='St', start=1305, open=1305, high=1305, end=1090, close=1090),\n img_stocks(name='Mcguire, Smith and Brown', symbol='Mc', start=1772, open=1772, high=1775, end=1772, close=1775),\n img_stocks(name='Green, Fuentes and Fisher', symbol='Gr', start=823, open=823, high=823, end=765, close=765),\n img_stocks(name='Robertson, Murray and Walton', symbol='Ro', start=1816, open=1816, high=1985, end=1816, close=1985),\n img_stocks(name='Johnson-Gibson', symbol='Jo', start=803, open=803, high=803, end=686, close=686),\n img_stocks(name='Lowery Group', symbol='Lo', start=1701, open=1701, high=1899, end=1701, close=1899),\n img_stocks(name='Schaefer-Medina', symbol='Sc', start=1157, open=1157, high=1157, end=1086, close=1086),\n img_stocks(name='Wells Group', symbol='We', start=1167, open=1167, high=1167, end=1136, close=1136),\n img_stocks(name='Leon PLC', symbol='Le', start=1289, open=1289, high=1289, end=1046, close=1046),\n img_stocks(name='Cunningham Group', symbol='Cu', start=2013, open=2013, high=2181, end=2013, close=2181),\n img_stocks(name='Hall, Wilkins and Navarro', symbol='Ha', start=1375, open=1375, high=1385, end=1375, close=1385),\n img_stocks(name='Gill PLC', symbol='Gi', start=2127, open=2127, high=2127, end=1765, close=1765),\n img_stocks(name='Taylor, Johnson and West', symbol='Ta', start=1446, open=1446, high=1446, end=1240, close=1240),\n img_stocks(name='Krueger, Davis and Sawyer', symbol='Kr', start=1796, open=1796, high=1796, end=1442, close=1442),\n img_stocks(name='Bennett Ltd', symbol='Be', start=1481, open=1481, high=1481, end=1271, close=1271),\n img_stocks(name='Sanders Group', symbol='Sa', start=1783, open=1783, high=1783, end=1460, close=1460),\n img_stocks(name='Williams-Wong', symbol='Wi', start=2068, open=2068, high=2071, end=2068, close=2071),\n img_stocks(name='Brown, Castro and Mcclain', symbol='Br', start=1523, open=1523, high=1523, end=1234, close=1234),\n img_stocks(name='Torres-Holloway', symbol='To', start=1502, open=1502, high=1502, end=1461, close=1461),\n img_stocks(name='Wright, Hicks and Howell', symbol='Wr', start=1955, open=1955, high=2118, end=1955, close=2118),\n img_stocks(name='Mccullough, Hayes and Morris', symbol='Mc', start=1755, open=1755, high=1949, end=1755, close=1949),\n img_stocks(name='Miller-Moss', symbol='Mi', start=658, open=658, high=658, end=613, close=613),\n img_stocks(name='Moreno-Parker', symbol='Mo', start=2300, open=2300, high=2300, end=2083, close=2083),\n img_stocks(name='Atkinson Inc', symbol='At', start=517, open=517, high=517, end=482, close=482),\n img_stocks(name='Fletcher Inc', symbol='Fl', start=1636, open=1636, high=1691, end=1636, close=1691),\n img_stocks(name='Jones-Mcbride', symbol='Jo', start=451, open=451, high=451, end=395, close=395),\n img_stocks(name='Peterson PLC', symbol='Pe', start=1233, open=1233, high=1233, end=1198, close=1198),\n img_stocks(name='Mcdaniel PLC', symbol='Mc', start=663, open=663, high=683, end=663, close=683),\n img_stocks(name='Garcia and Sons', symbol='Ga', start=1560, open=1560, high=1667, end=1560, close=1667),\n img_stocks(name='Krueger, Alvarado and Lewis', symbol='Kr', start=1644, open=1644, high=1644, end=1330, close=1330),\n img_stocks(name='Jackson Group', symbol='Ja', start=1554, open=1554, high=1576, end=1554, close=1576),\n img_stocks(name='Olson-Hughes', symbol='Ol', start=1525, open=1525, high=1525, end=1278, close=1278),\n img_stocks(name='Gonzalez and Sons', symbol='Go', start=868, open=868, high=868, end=843, close=843),\n img_stocks(name='Stewart LLC', symbol='St', start=1089, open=1089, high=1089, end=893, close=893),\n img_stocks(name='Hahn-Washington', symbol='Ha', start=1366, open=1366, high=1366, end=1113, close=1113),\n img_stocks(name='Lopez-Harvey', symbol='Lo', start=1657, open=1657, high=1657, end=1346, close=1346),\n img_stocks(name='Mann Ltd', symbol='Ma', start=1495, open=1495, high=1495, end=1475, close=1475),\n img_stocks(name='Flynn-Bartlett', symbol='Fl', start=2033, open=2033, high=2093, end=2033, close=2093),\n img_stocks(name='Gonzalez Inc', symbol='Go', start=1053, open=1053, high=1053, end=1049, close=1049),\n img_stocks(name='Shannon, Hunt and Jones', symbol='Sh', start=470, open=470, high=488, end=470, close=488),\n img_stocks(name='Hunter and Sons', symbol='Hu', start=1350, open=1350, high=1367, end=1350, close=1367),\n img_stocks(name='Travis, Mendoza and Baker', symbol='Tr', start=1786, open=1786, high=1944, end=1786, close=1944),\n img_stocks(name='Crawford-Pearson', symbol='Cr', start=1012, open=1012, high=1105, end=1012, close=1105),\n img_stocks(name='Nelson, Bird and Walker', symbol='Ne', start=1617, open=1617, high=1617, end=1372, close=1372),\n img_stocks(name='Shaw and Sons', symbol='Sh', start=2184, open=2184, high=2294, end=2184, close=2294),\n img_stocks(name='Stone, Mendoza and Brown', symbol='St', start=778, open=778, high=778, end=692, close=692),\n img_stocks(name='Serrano, Roy and Cunningham', symbol='Se', start=1673, open=1673, high=1673, end=1509, close=1509),\n img_stocks(name='Fox, Crawford and Williams', symbol='Fo', start=1606, open=1606, high=1626, end=1606, close=1626),\n img_stocks(name='Arias Ltd', symbol='Ar', start=1806, open=1806, high=1923, end=1806, close=1923),\n img_stocks(name='Kidd Ltd', symbol='Ki', start=714, open=714, high=714, end=626, close=626),\n img_stocks(name='Walton-Perez', symbol='Wa', start=1641, open=1641, high=1641, end=1359, close=1359),\n img_stocks(name='Powell Group', symbol='Po', start=1529, open=1529, high=1573, end=1529, close=1573),\n img_stocks(name='Hood Group', symbol='Ho', start=1266, open=1266, high=1273, end=1266, close=1273),\n img_stocks(name='Gutierrez, Mahoney and Weaver', symbol='Gu', start=1623, open=1623, high=1623, end=1547, close=1547),\n img_stocks(name='Price and Sons', symbol='Pr', start=1212, open=1212, high=1347, end=1212, close=1347),\n img_stocks(name='Hughes, Anderson and Solis', symbol='Hu', start=1365, open=1365, high=1365, end=1213, close=1213),\n img_stocks(name='Sandoval, Williams and Bauer', symbol='Sa', start=2118, open=2118, high=2118, end=1857, close=1857),\n img_stocks(name='Martinez, Alexander and Brown', symbol='Ma', start=1356, open=1356, high=1356, end=1221, close=1221),\n img_stocks(name='Thomas LLC', symbol='Th', start=567, open=567, high=567, end=562, close=562),\n img_stocks(name='Martinez, Riley and Miller', symbol='Ma', start=1613, open=1613, high=1613, end=1367, close=1367),\n img_stocks(name='Clark, Underwood and Carter', symbol='Cl', start=2388, open=2388, high=2388, end=2035, close=2035),\n img_stocks(name='Clark, Hicks and Jones', symbol='Cl', start=1884, open=1884, high=1884, end=1765, close=1765),\n img_stocks(name='Smith Inc', symbol='Sm', start=2452, open=2452, high=2740, end=2452, close=2740),\n img_stocks(name='Browning, Adams and Byrd', symbol='Br', start=1493, open=1493, high=1493, end=1271, close=1271),\n img_stocks(name='Parks-Contreras', symbol='Pa', start=562, open=562, high=562, end=486, close=486),\n img_stocks(name='Jenkins LLC', symbol='Je', start=2355, open=2355, high=2355, end=2096, close=2096),\n img_stocks(name='Boyle-Morris', symbol='Bo', start=1806, open=1806, high=1873, end=1806, close=1873),\n img_stocks(name='Wilkinson Ltd', symbol='Wi', start=2134, open=2134, high=2173, end=2134, close=2173)]"
     },
     "metadata": {},
     "execution_count": 514
    }
   ],
   "source": [
    "daily_updates(a)[0][0] # Performance values"
   ]
  },
  {
   "cell_type": "code",
   "execution_count": 505,
   "metadata": {},
   "outputs": [
    {
     "output_type": "execute_result",
     "data": {
      "text/plain": "1569"
     },
     "metadata": {},
     "execution_count": 505
    }
   ],
   "source": [
    "daily_updates(a)[1] # Sensex Values"
   ]
  }
 ]
}