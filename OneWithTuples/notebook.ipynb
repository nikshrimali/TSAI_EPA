{
 "metadata": {
  "language_info": {
   "codemirror_mode": {
    "name": "ipython",
    "version": 3
   },
   "file_extension": ".py",
   "mimetype": "text/x-python",
   "name": "python",
   "nbconvert_exporter": "python",
   "pygments_lexer": "ipython3",
   "version": "3.7.6-final"
  },
  "orig_nbformat": 2,
  "kernelspec": {
   "name": "python3",
   "display_name": "Python 3",
   "metadata": {
    "interpreter": {
     "hash": "3486cc88b56958510a49b781a0a8496e2297639e398ef0a616243c0e35c39059"
    }
   }
  }
 },
 "nbformat": 4,
 "nbformat_minor": 2,
 "cells": [
  {
   "cell_type": "code",
   "execution_count": 1,
   "metadata": {
    "tags": []
   },
   "outputs": [
    {
     "output_type": "execute_result",
     "data": {
      "text/plain": "'Use Faker library to get 10000 random profiles. Using namedtuple, calculate the largest blood type, mean-current_location, oldest_person_age and average age (add proper doc-strings). - 250\\nDo the same thing above using a dictionary. Prove that namedtuple is faster. - 250\\nCreate a fake data (you can use Faker for company names) for imaginary stock exchange for top 100 companies (name, symbol, open, high, close). Assign a random weight to all the companies. Calculate and show what value stock market started at, what was the highest value during the day and where did it end. Make sure your open, high, close are not totally random. You can only use namedtuple. - 500'"
     },
     "metadata": {},
     "execution_count": 1
    }
   ],
   "source": [
    "'''Use Faker library to get 10000 random profiles. Using namedtuple, calculate the largest blood type, mean-current_location, oldest_person_age and average age (add proper doc-strings). - 250\n",
    "Do the same thing above using a dictionary. Prove that namedtuple is faster. - 250\n",
    "Create a fake data (you can use Faker for company names) for imaginary stock exchange for top 100 companies (name, symbol, open, high, close). Assign a random weight to all the companies. Calculate and show what value stock market started at, what was the highest value during the day and where did it end. Make sure your open, high, close are not totally random. You can only use namedtuple. - 500'''"
   ]
  },
  {
   "cell_type": "code",
   "execution_count": 3,
   "metadata": {},
   "outputs": [],
   "source": [
    "from faker import Faker\n",
    "fake = Faker()\n",
    "\n",
    "data_dict = fake.profile()"
   ]
  },
  {
   "cell_type": "code",
   "execution_count": 3,
   "metadata": {},
   "outputs": [],
   "source": [
    "from functools import namedtuple\n",
    "data_dict = fake.profile()\n",
    "profile_list = namedtuple('profiles', data_dict)"
   ]
  },
  {
   "cell_type": "code",
   "execution_count": 6,
   "metadata": {
    "tags": []
   },
   "outputs": [
    {
     "output_type": "stream",
     "name": "stdout",
     "text": "('job', 'company', 'ssn', 'residence', 'current_location', 'blood_group', 'website', 'username', 'name', 'sex', 'address', 'mail', 'birthdate')\n"
    }
   ],
   "source": [
    "print(profile_list._fields)"
   ]
  },
  {
   "cell_type": "code",
   "execution_count": 6,
   "metadata": {},
   "outputs": [
    {
     "output_type": "execute_result",
     "data": {
      "text/plain": "{'job': 'Geologist, wellsite',\n 'company': 'Miller and Sons',\n 'ssn': '607-26-0412',\n 'residence': '6195 Penny Valleys Apt. 844\\nEdwardstown, AR 83132',\n 'current_location': (Decimal('-12.490753'), Decimal('84.262292')),\n 'blood_group': 'O+',\n 'website': ['http://pratt.com/',\n  'http://www.wheeler.com/',\n  'https://www.matthews-elliott.biz/'],\n 'username': 'christopher44',\n 'name': 'Morgan Perry',\n 'sex': 'F',\n 'address': 'PSC 2453, Box 7201\\nAPO AA 68391',\n 'mail': 'ptaylor@yahoo.com',\n 'birthdate': datetime.date(1922, 7, 8)}"
     },
     "metadata": {},
     "execution_count": 6
    }
   ],
   "source": []
  },
  {
   "cell_type": "code",
   "execution_count": null,
   "metadata": {},
   "outputs": [],
   "source": [
    "'''Use Faker library to get 10000 random profiles. Using namedtuple, calculate the largest blood type, mean-current_location, oldest_person_age and average age (add proper doc-strings)'''\n",
    "\n",
    "profile_list = dict()\n",
    "for i in range(10000):\n",
    "    # Generate fake profile\n",
    "    fake_profile = fake.profile()\n",
    "    \n",
    "\n",
    "\n"
   ]
  },
  {
   "cell_type": "code",
   "execution_count": 13,
   "metadata": {},
   "outputs": [
    {
     "output_type": "execute_result",
     "data": {
      "text/plain": "['job',\n 'company',\n 'ssn',\n 'residence',\n 'current_location',\n 'blood_group',\n 'website',\n 'username',\n 'name',\n 'sex',\n 'address',\n 'mail',\n 'birthdate']"
     },
     "metadata": {},
     "execution_count": 13
    }
   ],
   "source": [
    "[*fake.profile().keys()]"
   ]
  },
  {
   "cell_type": "code",
   "execution_count": 7,
   "metadata": {},
   "outputs": [],
   "source": [
    "a = namedtuple('adf', [*fake.profile().keys()])"
   ]
  },
  {
   "cell_type": "code",
   "execution_count": 8,
   "metadata": {
    "tags": []
   },
   "outputs": [
    {
     "output_type": "stream",
     "name": "stdout",
     "text": "Help on function namedtuple in module collections:\n\nnamedtuple(typename, field_names, *, rename=False, defaults=None, module=None)\n    Returns a new subclass of tuple with named fields.\n    \n    >>> Point = namedtuple('Point', ['x', 'y'])\n    >>> Point.__doc__                   # docstring for the new class\n    'Point(x, y)'\n    >>> p = Point(11, y=22)             # instantiate with positional args or keywords\n    >>> p[0] + p[1]                     # indexable like a plain tuple\n    33\n    >>> x, y = p                        # unpack like a regular tuple\n    >>> x, y\n    (11, 22)\n    >>> p.x + p.y                       # fields also accessible by name\n    33\n    >>> d = p._asdict()                 # convert to a dictionary\n    >>> d['x']\n    11\n    >>> Point(**d)                      # convert from a dictionary\n    Point(x=11, y=22)\n    >>> p._replace(x=100)               # _replace() is like str.replace() but targets named fields\n    Point(x=100, y=22)\n\n"
    }
   ],
   "source": [
    "help(namedtuple)"
   ]
  },
  {
   "cell_type": "code",
   "execution_count": 32,
   "metadata": {},
   "outputs": [
    {
     "output_type": "execute_result",
     "data": {
      "text/plain": "adf(job='Dramatherapist', company='Castro-Olson', ssn='422-89-1114', residence='9464 Christy Circles\\nGallegosland, IA 25037', current_location=(Decimal('26.799917'), Decimal('-93.145736')), blood_group='B+', website=['https://gallegos.com/', 'http://brooks.com/'], username='wilsonmatthew', name='Joshua Delgado', sex='M', address='40658 Levy Shoals Suite 125\\nJohnville, WI 39648', mail='andersonbrittany@gmail.com', birthdate=datetime.date(2000, 5, 23))"
     },
     "metadata": {},
     "execution_count": 32
    }
   ],
   "source": [
    "profile1 = fake.profile()\n",
    "\n",
    "a(**profile1)"
   ]
  },
  {
   "cell_type": "code",
   "execution_count": 38,
   "metadata": {},
   "outputs": [],
   "source": [
    "profiles = namedtuple('adf', [*fake.profile().keys()])\n",
    "profile_generated = dict()\n",
    "for i in range(10):\n",
    "    profile_generated[i] = profiles(**fake.profile())\n"
   ]
  },
  {
   "cell_type": "code",
   "execution_count": 168,
   "metadata": {},
   "outputs": [],
   "source": [
    "profile = namedtuple(\"profile\", [*fake.profile().keys()])"
   ]
  },
  {
   "cell_type": "code",
   "execution_count": 73,
   "metadata": {},
   "outputs": [
    {
     "output_type": "error",
     "ename": "TypeError",
     "evalue": "__new__() missing 12 required positional arguments: 'company', 'ssn', 'residence', 'current_location', 'blood_group', 'website', 'username', 'name', 'sex', 'address', 'mail', and 'birthdate'",
     "traceback": [
      "\u001b[1;31m---------------------------------------------------------------------------\u001b[0m",
      "\u001b[1;31mTypeError\u001b[0m                                 Traceback (most recent call last)",
      "\u001b[1;32m<ipython-input-73-d92d7e1bc66a>\u001b[0m in \u001b[0;36m<module>\u001b[1;34m\u001b[0m\n\u001b[1;32m----> 1\u001b[1;33m \u001b[0mp1\u001b[0m \u001b[1;33m=\u001b[0m \u001b[0mprofile\u001b[0m\u001b[1;33m(\u001b[0m\u001b[0mfake\u001b[0m\u001b[1;33m.\u001b[0m\u001b[0mprofile\u001b[0m\u001b[1;33m(\u001b[0m\u001b[1;33m)\u001b[0m\u001b[1;33m.\u001b[0m\u001b[0mvalues\u001b[0m\u001b[1;33m(\u001b[0m\u001b[1;33m)\u001b[0m\u001b[1;33m)\u001b[0m\u001b[1;33m\u001b[0m\u001b[1;33m\u001b[0m\u001b[0m\n\u001b[0m",
      "\u001b[1;31mTypeError\u001b[0m: __new__() missing 12 required positional arguments: 'company', 'ssn', 'residence', 'current_location', 'blood_group', 'website', 'username', 'name', 'sex', 'address', 'mail', and 'birthdate'"
     ]
    }
   ],
   "source": [
    "p1 = profile(fake.profile().values())"
   ]
  },
  {
   "cell_type": "code",
   "execution_count": 93,
   "metadata": {},
   "outputs": [],
   "source": [
    "def add_profile(**args):\n",
    "    return profile(**args)"
   ]
  },
  {
   "cell_type": "code",
   "execution_count": 169,
   "metadata": {
    "tags": []
   },
   "outputs": [],
   "source": [
    "a = (profile(**fake.profile()))"
   ]
  },
  {
   "cell_type": "code",
   "execution_count": 177,
   "metadata": {},
   "outputs": [
    {
     "output_type": "execute_result",
     "data": {
      "text/plain": "profile(job='Technical sales engineer', company='Roberts PLC', ssn='062-36-8809', residence='2443 Garcia Place Apt. 391\\nSouth Jenna, VT 00848', current_location=(Decimal('-52.5439115'), Decimal('-87.879116')), blood_group='A-', website=['http://singh.net/', 'https://steele.net/', 'http://www.pena.org/', 'http://hudson.com/'], username='charlesreed', name='Victoria Harris', sex='F', address='328 Sue Mills\\nEast Calvintown, NE 60672', mail='younggeorge@yahoo.com', birthdate=datetime.date(1933, 4, 18))"
     },
     "metadata": {},
     "execution_count": 177
    }
   ],
   "source": [
    "a"
   ]
  },
  {
   "cell_type": "code",
   "execution_count": 164,
   "metadata": {},
   "outputs": [],
   "source": [
    "profile_str = ' '.join(['Profile'+ str(i) for i in range(1000)])\n",
    "master_tuple = namedtuple('master_tuple', profile_str)"
   ]
  },
  {
   "cell_type": "code",
   "execution_count": 167,
   "metadata": {},
   "outputs": [
    {
     "output_type": "error",
     "ename": "TypeError",
     "evalue": "'type' object is not subscriptable",
     "traceback": [
      "\u001b[1;31m---------------------------------------------------------------------------\u001b[0m",
      "\u001b[1;31mTypeError\u001b[0m                                 Traceback (most recent call last)",
      "\u001b[1;32m<ipython-input-167-661c365e9c59>\u001b[0m in \u001b[0;36m<module>\u001b[1;34m\u001b[0m\n\u001b[1;32m----> 1\u001b[1;33m \u001b[0mmaster_tuple\u001b[0m\u001b[1;33m[\u001b[0m\u001b[1;33m:\u001b[0m\u001b[1;36m1\u001b[0m\u001b[1;33m]\u001b[0m\u001b[1;33m\u001b[0m\u001b[1;33m\u001b[0m\u001b[0m\n\u001b[0m",
      "\u001b[1;31mTypeError\u001b[0m: 'type' object is not subscriptable"
     ]
    }
   ],
   "source": [
    "master_tuple[]"
   ]
  },
  {
   "cell_type": "code",
   "execution_count": 37,
   "metadata": {
    "tags": []
   },
   "outputs": [
    {
     "output_type": "error",
     "ename": "TypeError",
     "evalue": "_asdict() missing 1 required positional argument: 'self'",
     "traceback": [
      "\u001b[1;31m---------------------------------------------------------------------------\u001b[0m",
      "\u001b[1;31mTypeError\u001b[0m                                 Traceback (most recent call last)",
      "\u001b[1;32m<ipython-input-37-8f215d23a001>\u001b[0m in \u001b[0;36m<module>\u001b[1;34m\u001b[0m\n\u001b[1;32m----> 1\u001b[1;33m \u001b[0mprint\u001b[0m\u001b[1;33m(\u001b[0m\u001b[0mprofiles\u001b[0m\u001b[1;33m.\u001b[0m\u001b[0m_asdict\u001b[0m\u001b[1;33m(\u001b[0m\u001b[1;33m)\u001b[0m\u001b[1;33m)\u001b[0m\u001b[1;33m\u001b[0m\u001b[1;33m\u001b[0m\u001b[0m\n\u001b[0m",
      "\u001b[1;31mTypeError\u001b[0m: _asdict() missing 1 required positional argument: 'self'"
     ]
    }
   ],
   "source": [
    "# Named tuple inside a named tuple - No idea how to get values\n",
    "# List storing the values of named tuple - East to get values\n",
    "# Dictionary storing values of named tuple - \n",
    "'''\n",
    "\n",
    "# Named tuple inside a named tuple\n",
    "\n",
    "Create a named tuple with 10k profiles\n",
    "set default as an empty tuple\n",
    "after that add all the named tuples generated to that tuples\n",
    "do the calculations by adding for loop\n",
    "convert to dictionary and check calcs"
   ]
  },
  {
   "cell_type": "code",
   "execution_count": 139,
   "metadata": {
    "tags": []
   },
   "outputs": [
    {
     "output_type": "stream",
     "name": "stdout",
     "text": "The statistics of 10k profiles are  --Largest Bloodgroup - A-, -- Highest Age - 116, -- Average Age - 59, -- mean location - (Decimal('-0.000325833'), Decimal('0.00094225015'))\n"
    },
    {
     "output_type": "execute_result",
     "data": {
      "text/plain": "('A-', 116, 59, (Decimal('-0.000325833'), Decimal('0.00094225015')))"
     },
     "metadata": {},
     "execution_count": 139
    }
   ],
   "source": [
    "from functools import wraps, namedtuple\n",
    "\n",
    "def master_profile(fn):\n",
    "    '''This decorator returns a tuple of 10k profiles'''\n",
    "    profile = namedtuple(\"profile\", [*fake.profile().keys()])\n",
    "    master_profile = namedtuple(\"master\", \"profiles\")\n",
    "        \n",
    "    @wraps(fn)\n",
    "    def store_profiles(n_params):\n",
    "        profile_list = []\n",
    "        for i in range(n_params):\n",
    "            fake_profile = profile(**fake.profile()) # Generate random fake profiles\n",
    "            profile_list.append(fake_profile) # Append it to a list\n",
    "        return master_profile(profile_list) # Put the entire list into a named tuple\n",
    "    return store_profiles\n",
    "\n",
    "@master_profile\n",
    "def get_master_profilelist(n_params):\n",
    "    pass\n",
    "\n",
    "a = get_master_profilelist(10000)\n",
    "profile_stats(a)"
   ]
  },
  {
   "cell_type": "code",
   "execution_count": 4,
   "metadata": {},
   "outputs": [],
   "source": [
    "@master_profile\n",
    "def get_master_profilelist():\n",
    "    pass"
   ]
  },
  {
   "cell_type": "code",
   "execution_count": 5,
   "metadata": {
    "tags": []
   },
   "outputs": [],
   "source": [
    "a = get_master_profilelist()"
   ]
  },
  {
   "cell_type": "code",
   "execution_count": 220,
   "metadata": {},
   "outputs": [
    {
     "output_type": "execute_result",
     "data": {
      "text/plain": "'AB-'"
     },
     "metadata": {},
     "execution_count": 220
    }
   ],
   "source": [
    "a[0][0].blood_group"
   ]
  },
  {
   "cell_type": "code",
   "execution_count": 142,
   "metadata": {
    "tags": []
   },
   "outputs": [],
   "source": [
    "from time import perf_counter\n",
    "def timer(n_reps):\n",
    "    def outer(fn):\n",
    "        def inner(*args, **kwargs):\n",
    "            times = []\n",
    "            for _ in range(n_reps):\n",
    "                start_time = perf_counter()\n",
    "                fn(*args, **kwargs)\n",
    "                end_time = perf_counter() - start_time\n",
    "                times.append(end_time)\n",
    "            return sum(times)/n_reps\n",
    "        return inner"
   ]
  },
  {
   "cell_type": "code",
   "execution_count": 135,
   "metadata": {},
   "outputs": [],
   "source": [
    "# largest blood type, mean-current_location, oldest_person_age and average age\n",
    "from collections import Counter\n",
    "from datetime import date\n",
    "\n",
    "def profile_stats(profiles, dict=False):\n",
    "    '''Returns profile stats based on the random fake profiles generated\n",
    "    :args profiles - tuple of profiles\n",
    "    :returns largest_blood_grp, highest_age, average_age, mean_location'''\n",
    "    blood_groups = []\n",
    "    age_list = []\n",
    "    location_list = []\n",
    "    longitude = 0\n",
    "    latitude = 0\n",
    "\n",
    "    if dict:\n",
    "        for index, profile in enumerate(profiles):\n",
    "            blood_groups.append(profiles[index]['blood_group'])\n",
    "            age_list.append((date.today() - profiles[index]['birthdate']).days)\n",
    "            longitude += (profiles[index]['current_location'][0])\n",
    "            latitude += (profiles[index]['current_location'][1])\n",
    "            location_list.append([longitude, latitude])\n",
    "            \n",
    "    else:\n",
    "\n",
    "        for index in (range(len(profiles[0]))):\n",
    "\n",
    "            #Adding stats into the lists\n",
    "            \n",
    "            blood_groups.append(profiles[0][index].blood_group)\n",
    "            age_list.append((date.today() - profiles[0][index].birthdate).days)\n",
    "            longitude += (profiles[0][index].current_location[0])\n",
    "            latitude += (profiles[0][index].current_location[1])\n",
    "            location_list.append([longitude, latitude])\n",
    "            \n",
    "    blood_dict = Counter(blood_groups)\n",
    "    largest_blood_grp =  max(blood_dict, key=blood_dict.get)\n",
    "    highest_age = max(age_list)\n",
    "    average_age = sum(age_list)/len(age_list)\n",
    "    mean_location = sum(location_list[0])/len(location_list), sum(location_list[1])/len(location_list)\n",
    "    # Printing the results\n",
    "\n",
    "    print(f'The statistics of 10k profiles are  --Largest Bloodgroup - {largest_blood_grp}, -- Highest Age - {round(highest_age/365)}, -- Average Age - {round(average_age/365)}, -- mean location - {mean_location}')\n",
    "    return largest_blood_grp, round(highest_age/365), round(average_age/365), mean_location"
   ]
  },
  {
   "cell_type": "code",
   "execution_count": 136,
   "metadata": {
    "tags": []
   },
   "outputs": [
    {
     "output_type": "stream",
     "name": "stdout",
     "text": "The statistics of 10k profiles are  --Largest Bloodgroup - O+, -- Highest Age - 116, -- Average Age - 59, -- mean location - (Decimal('1.82315173'), Decimal('1.095247945'))\n"
    },
    {
     "output_type": "execute_result",
     "data": {
      "text/plain": "('O+', 116, 59, (Decimal('1.82315173'), Decimal('1.095247945')))"
     },
     "metadata": {},
     "execution_count": 136
    }
   ],
   "source": [
    "a = get_master_profilelist()\n",
    "profile_stats(a)"
   ]
  },
  {
   "cell_type": "code",
   "execution_count": 141,
   "metadata": {
    "tags": []
   },
   "outputs": [
    {
     "output_type": "stream",
     "name": "stdout",
     "text": "The statistics of 10k profiles are  --Largest Bloodgroup - B-, -- Highest Age - 116, -- Average Age - 58, -- mean location - (Decimal('0.0025388398'), Decimal('0.01397731125'))\n"
    },
    {
     "output_type": "execute_result",
     "data": {
      "text/plain": "('B-', 116, 58, (Decimal('0.0025388398'), Decimal('0.01397731125')))"
     },
     "metadata": {},
     "execution_count": 141
    }
   ],
   "source": [
    "from functools import wraps, namedtuple\n",
    "\n",
    "def master_dict(fn):\n",
    "    '''This decorator returns a dictionary of 10k profiles'''\n",
    "    master_dict = dict()\n",
    "        \n",
    "    @wraps(fn)\n",
    "    def store_profiles(n_params):\n",
    "        profile_list = []\n",
    "        for i in range(n_params):\n",
    "            master_dict[i] = fake.profile() # Generate random fake profiles\n",
    "            \n",
    "        return master_dict # Put the entire list into a named tuple\n",
    "    return store_profiles\n",
    "\n",
    "@master_dict\n",
    "def get_dict(n_params):\n",
    "    print('Tuples received')\n",
    "\n",
    "@logger\n",
    "def count():\n",
    "    a = get_dict(10000)\n",
    "    profile_stats(a, dict=True)\n",
    "\n",
    "@timer\n",
    "def log_function(1):\n",
    "    a = abc()\n",
    "    profile_stats(a, dict=True)"
   ]
  },
  {
   "cell_type": "code",
   "execution_count": 121,
   "metadata": {},
   "outputs": [],
   "source": [
    "@master_dict\n",
    "def abc():\n",
    "    pass"
   ]
  },
  {
   "cell_type": "code",
   "execution_count": 148,
   "metadata": {
    "tags": []
   },
   "outputs": [],
   "source": [
    "@timer\n",
    "def log_function(1):\n",
    "    a = abc()\n",
    "    profile_stats(a, dict=True)"
   ]
  },
  {
   "cell_type": "code",
   "execution_count": 149,
   "metadata": {
    "tags": []
   },
   "outputs": [
    {
     "output_type": "error",
     "ename": "TypeError",
     "evalue": "'NoneType' object is not callable",
     "traceback": [
      "\u001b[1;31m---------------------------------------------------------------------------\u001b[0m",
      "\u001b[1;31mTypeError\u001b[0m                                 Traceback (most recent call last)",
      "\u001b[1;32m<ipython-input-149-9e2c15fdc0ac>\u001b[0m in \u001b[0;36m<module>\u001b[1;34m\u001b[0m\n\u001b[1;32m----> 1\u001b[1;33m \u001b[0mlog_function\u001b[0m\u001b[1;33m(\u001b[0m\u001b[1;36m1\u001b[0m\u001b[1;33m)\u001b[0m\u001b[1;33m\u001b[0m\u001b[1;33m\u001b[0m\u001b[0m\n\u001b[0m",
      "\u001b[1;31mTypeError\u001b[0m: 'NoneType' object is not callable"
     ]
    }
   ],
   "source": [
    "log_function(1)"
   ]
  }
 ]
}