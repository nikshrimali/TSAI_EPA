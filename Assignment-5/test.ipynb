{
 "metadata": {
  "language_info": {
   "codemirror_mode": {
    "name": "ipython",
    "version": 3
   },
   "file_extension": ".py",
   "mimetype": "text/x-python",
   "name": "python",
   "nbconvert_exporter": "python",
   "pygments_lexer": "ipython3",
   "version": "3.7.6-final"
  },
  "orig_nbformat": 2,
  "kernelspec": {
   "name": "python3",
   "display_name": "Python 3"
  }
 },
 "nbformat": 4,
 "nbformat_minor": 2,
 "cells": [
  {
   "cell_type": "code",
   "execution_count": 39,
   "metadata": {},
   "outputs": [],
   "source": [
    "# Time it Function\n",
    "import time\n",
    "\n",
    "def time_it(fn, *args, repetitons= 1, **kwargs):\n",
    "    \n",
    "    def avg_time(my_list):\n",
    "        print('sum :', sum(my_list))\n",
    "        print('len :',len(my_list))\n",
    "        return round(sum(my_list)/len(my_list),6)\n",
    "\n",
    "\n",
    "    def get_function():\n",
    "        FUNCS = {\n",
    "            'print',\n",
    "            'sqaured_power_list',\n",
    "            'polygon_area',\n",
    "            'temp_converter',\n",
    "            'speed_converter',\n",
    "            }\n",
    "        if fn in FUNCS:\n",
    "\n",
    "            if fn is 'print':\n",
    "                sep = None\n",
    "                end = '\\n'\n",
    "                params = kwargs\n",
    "                \n",
    "                if 'sep' in params:\n",
    "                    sep = params['sep']\n",
    "\n",
    "                if 'end' in params:\n",
    "                    end = params['end']\n",
    "\n",
    "                \n",
    "                print_func(value=args, sep=sep, end=end)\n",
    "\n",
    "            elif fn is 'sqaured_power_list':\n",
    "                sq_list()\n",
    "\n",
    "            elif fn is 'polygon_area':\n",
    "                poly_area()\n",
    "\n",
    "            elif fn is 'temp_converter':\n",
    "                temp_conv()\n",
    "\n",
    "            elif fn is 'speed_converter':\n",
    "                speed_conv()\n",
    "        else:\n",
    "            raise ValueError('The function mentioned has not been implemented')\n",
    "\n",
    "    def power(my_list, power):\n",
    "        return [x**power for x in my_list]\n",
    "\n",
    "    def print_func(*,value, sep, end):\n",
    "\n",
    "        total_time = []\n",
    "\n",
    "        for i in range(repetitons):    \n",
    "            start_time = time.time()\n",
    "            print(*value, sep=sep, end=end)\n",
    "            total_time.append(time.time()-start_time)\n",
    "\n",
    "        return(avg_time(total_time))\n",
    "\n",
    "        \n",
    "    def sq_list(*, input_list, number, start, end, repetitons):\n",
    "        total_time = []\n",
    "\n",
    "        for i in range(repetitons):\n",
    "            start_time = time.time()\n",
    "            \n",
    "            for j in range(end-start):\n",
    "                power = number**j\n",
    "                powered_list = power()\n",
    "\n",
    "\n",
    "            total_time.append(time.time()-start_time)\n",
    "            \n",
    "        print(len(total_time))\n",
    "        print(avg_time(total_time))\n",
    "    def poly_area():\n",
    "        pass\n",
    "    def temp_conv():\n",
    "        pass\n",
    "    def speed_conv():\n",
    "        pass\n",
    "\n",
    "    get_function()\n"
   ]
  },
  {
   "cell_type": "code",
   "execution_count": 150,
   "metadata": {
    "tags": []
   },
   "outputs": [
    {
     "output_type": "stream",
     "name": "stdout",
     "text": "1***8***465\n1***8***465\n1***8***465\n1***8***465\n1***8***465\n1***8***465\n1***8***465\n1***8***465\n1***8***465\n1***8***465\n10\nsum : 0.003957509994506836\nlen : 10\n0.0003957509994506836\n"
    }
   ],
   "source": [
    "\n",
    "time_it('print', 1,8,465,sep='***',repetitons=10)"
   ]
  },
  {
   "cell_type": "code",
   "execution_count": 59,
   "metadata": {
    "tags": []
   },
   "outputs": [
    {
     "output_type": "stream",
     "name": "stdout",
     "text": "(1, 3, 3, 'w')\n{}\n"
    }
   ],
   "source": [
    "def abc(*args, **kwargs):\n",
    "    def desf():\n",
    "        print(args)\n",
    "        print(kwargs)\n",
    "\n",
    "    desf()\n",
    "\n",
    "abc(1,3,3,'w')"
   ]
  },
  {
   "cell_type": "code",
   "execution_count": 30,
   "metadata": {
    "tags": []
   },
   "outputs": [
    {
     "output_type": "stream",
     "name": "stdout",
     "text": "Help on built-in function print in module builtins:\n\nprint(...)\n    print(value, ..., sep=' ', end='\\n', file=sys.stdout, flush=False)\n    \n    Prints the values to a stream, or to sys.stdout by default.\n    Optional keyword arguments:\n    file:  a file-like object (stream); defaults to the current sys.stdout.\n    sep:   string inserted between values, default a space.\n    end:   string appended after the last value, default a newline.\n    flush: whether to forcibly flush the stream.\n\n"
    }
   ],
   "source": [
    "help(print)"
   ]
  },
  {
   "cell_type": "code",
   "execution_count": 41,
   "metadata": {
    "tags": []
   },
   "outputs": [
    {
     "output_type": "stream",
     "name": "stdout",
     "text": "(1, 3, 4, 5)\n1 3 4 5\nancakd--sjdfkaj*******"
    }
   ],
   "source": [
    "def abc(*args):\n",
    "\n",
    "    print(args)\n",
    "    print(a)\n",
    "# abc(1,2,3,5)\n",
    "a = 1,3,4,5\n",
    "print(a)\n",
    "print(*a)\n",
    "print('ancakd', 'sjdfkaj' , sep ='--', end='*******')"
   ]
  },
  {
   "cell_type": "code",
   "execution_count": 53,
   "metadata": {
    "tags": []
   },
   "outputs": [
    {
     "output_type": "stream",
     "name": "stdout",
     "text": "sum : 3.622347\nlen : 10\n"
    },
    {
     "output_type": "execute_result",
     "data": {
      "text/plain": "0.362235"
     },
     "metadata": {},
     "execution_count": 53
    }
   ],
   "source": [
    "#Power function\n",
    "import time\n",
    "def avg_time(my_list):\n",
    "    print('sum :', round(sum(my_list),6))\n",
    "    print('len :',len(my_list))\n",
    "    return round(sum(my_list)/len(my_list),6)\n",
    "\n",
    "def apply_power(my_list, power):\n",
    "    return [x**power for x in my_list]\n",
    "\n",
    "def sq_list(*args, number, start, end, repetitons):\n",
    "    input_list = [*args]\n",
    "    total_time = []\n",
    "\n",
    "    for i in range(repetitons):\n",
    "        start_time = time.time()   \n",
    "\n",
    "        for j in range(end-start):\n",
    "            power = number**j\n",
    "            powered_list = apply_power(input_list,power)\n",
    "\n",
    "        total_time.append(time.time()-start_time)\n",
    "    return(avg_time(total_time))\n",
    "        \n",
    "sq_list(1,2,3,4,5,6,6,7,8,8, number=2, start=0, end=20, repetitons=10)"
   ]
  },
  {
   "cell_type": "code",
   "execution_count": 31,
   "metadata": {
    "tags": []
   },
   "outputs": [
    {
     "output_type": "stream",
     "name": "stdout",
     "text": "[1, 131072, 129140163]\n"
    }
   ],
   "source": [
    "def apply_power(my_list, power):\n",
    "    return [x**power for x in my_list]\n",
    "\n",
    "print(apply_power([1,2,3],17))"
   ]
  },
  {
   "cell_type": "code",
   "execution_count": 72,
   "metadata": {
    "tags": []
   },
   "outputs": [
    {
     "output_type": "stream",
     "name": "stdout",
     "text": "584.5671475544962\n584.5671475544962\n584.5671475544962\n584.5671475544962\n584.5671475544962\n584.5671475544962\n584.5671475544962\n584.5671475544962\n584.5671475544962\n584.5671475544962\nsum : 0.000996\nlen : 10\n"
    },
    {
     "output_type": "execute_result",
     "data": {
      "text/plain": "0.0001"
     },
     "metadata": {},
     "execution_count": 72
    }
   ],
   "source": [
    "#Calculate area of polygon problem\n",
    "\n",
    "import time\n",
    "import math\n",
    "def avg_time(my_list):\n",
    "    print('sum :', round(sum(my_list),6))\n",
    "    print('len :',len(my_list))\n",
    "    return round(sum(my_list)/len(my_list),6)\n",
    "\n",
    "\n",
    "def polygon_area(*,side_length, sides, repetitons):\n",
    "    total_time = []\n",
    "\n",
    "    for i in range(repetitons):\n",
    "        start_time = time.time()\n",
    "        perimeter = side_length*sides\n",
    "        apothem = side_length/(2*(math.tan(math.pi/sides)))\n",
    "        area = perimeter*apothem/2\n",
    "        print(area)\n",
    "        total_time.append(time.time()-start_time)\n",
    "    return(avg_time(total_time))\n",
    "        \n",
    "polygon_area(side_length=15, sides = 6, repetitons=10)"
   ]
  },
  {
   "cell_type": "code",
   "execution_count": 82,
   "metadata": {
    "tags": []
   },
   "outputs": [
    {
     "output_type": "stream",
     "name": "stdout",
     "text": "sum : 0.0036401749\nlen : 10000\n"
    },
    {
     "output_type": "execute_result",
     "data": {
      "text/plain": "3.64e-07"
     },
     "metadata": {},
     "execution_count": 82
    }
   ],
   "source": [
    "# Temp Converter\n",
    "\n",
    "import time\n",
    "import math\n",
    "def avg_time(my_list):\n",
    "    print('sum :', round(sum(my_list),10))\n",
    "    print('len :',len(my_list))\n",
    "    return round(sum(my_list)/len(my_list),10)\n",
    "\n",
    "\n",
    "def temp_converter(*,base_temp, scale, repetitons):\n",
    "    total_time = []\n",
    "\n",
    "    for i in range(repetitons):\n",
    "        start_time = time.time()\n",
    "        new_temp = None\n",
    "        if scale is 'f':\n",
    "            new_temp = (base_temp - 32)/1.8\n",
    "        elif scale is 'c':\n",
    "            new_temp = (base_temp*1.8) + 32\n",
    "        else:\n",
    "            raise ValueError('Only f and c are allowed')\n",
    "        # print(new_temp)\n",
    "    \n",
    "        total_time.append(time.time()-start_time)\n",
    "    \n",
    "    return(avg_time(total_time))\n",
    "        \n",
    "temp_converter(base_temp=100, scale = 'c', repetitons=10000)"
   ]
  },
  {
   "cell_type": "code",
   "execution_count": 90,
   "metadata": {
    "tags": []
   },
   "outputs": [
    {
     "output_type": "stream",
     "name": "stdout",
     "text": "sum : 0.0079371929\nlen : 10000\n"
    },
    {
     "output_type": "execute_result",
     "data": {
      "text/plain": "7.937e-07"
     },
     "metadata": {},
     "execution_count": 90
    }
   ],
   "source": [
    "# Speed Converter\n",
    "def speed_converter(*,speed, dist_unit, time_unit, repetitons):\n",
    "    total_time = []\n",
    "\n",
    "    for i in range(repetitons):\n",
    "        start_time = time.time()\n",
    "        distance = None\n",
    "        distance_dict = {\n",
    "            'm':1000,\n",
    "            'km':1,\n",
    "            'yrd':1093.613,\n",
    "            'ft':3280.84,\n",
    "        }\n",
    "        time_dict = {\n",
    "            'ms':3600000,\n",
    "            's':3600,\n",
    "            'm':60,\n",
    "            'hr':1,\n",
    "            'day':1/24}\n",
    "        \n",
    "        conversion = None\n",
    "        \n",
    "        if dist_unit in distance_dict and time_unit in time_dict:\n",
    "            conversion = speed * (distance_dict[dist_unit]/time_dict[time_unit])\n",
    "\n",
    "        else:\n",
    "            raise ValueError('Incorrect metric used for distance and time')\n",
    "    \n",
    "        total_time.append(time.time()-start_time)\n",
    "    \n",
    "    return(avg_time(total_time))\n",
    "        \n",
    "speed_converter(speed=100, dist_unit = 'm', time_unit='ms', repetitons=10000)\n"
   ]
  },
  {
   "cell_type": "code",
   "execution_count": null,
   "metadata": {},
   "outputs": [],
   "source": []
  }
 ]
}