{
 "metadata": {
  "language_info": {
   "codemirror_mode": {
    "name": "ipython",
    "version": 3
   },
   "file_extension": ".py",
   "mimetype": "text/x-python",
   "name": "python",
   "nbconvert_exporter": "python",
   "pygments_lexer": "ipython3",
   "version": "3.7.6-final"
  },
  "orig_nbformat": 2,
  "kernelspec": {
   "name": "python3",
   "display_name": "Python 3"
  }
 },
 "nbformat": 4,
 "nbformat_minor": 2,
 "cells": [
  {
   "cell_type": "code",
   "execution_count": 7,
   "metadata": {
    "tags": []
   },
   "outputs": [],
   "source": [
    "# Time it Function\n",
    "import time\n",
    "import math\n",
    "\n",
    "def time_it(fn, *args, repetitons= 1, **kwargs):\n",
    "    '''Calculates the average time taken to perform any transaction by \\\n",
    "        Function fn averaging the total time taken for transaction over Repetations'''\n",
    "    total_time = []\n",
    "\n",
    "    for _ in range(repetitons):\n",
    "        start_time = time.perf_counter()\n",
    "        ins_time = fn(*args,**kwargs)\n",
    "        end_time = time.perf_counter()\n",
    "        ins_time = end_time - start_time\n",
    "        total_time.append(ins_time)\n",
    "\n",
    "    return(avg_time(total_time))\n",
    "\n",
    "\n",
    "def avg_time(my_list):\n",
    "    print('sum :', sum(my_list))\n",
    "    print('len :',len(my_list))\n",
    "    return sum(my_list)/len(my_list)\n",
    "\n",
    "\n",
    "def squared_power_list(number, start, end):\n",
    "    '''Returns a list of numbers created by adding powers of 2 \\\n",
    "        from start till end to number n\n",
    "\n",
    "        >>squared_power_list(2,0,5) = [1, 2, 4, 8, 16, 32]'''\n",
    "\n",
    "    powered_list=[]\n",
    "    \n",
    "    if start > 0 and end > 0 and end > start:\n",
    "        for j in range(end+1-start):\n",
    "            powered_list.append(number**j)\n",
    "    else:\n",
    "        raise ValueError('Start and end values must be positive numbers and end > start')\n",
    "\n",
    "    return powered_list\n",
    "\n",
    "# Polygon Area\n",
    "\n",
    "def polygon_area(side_length, sides):\n",
    "    '''Calcuates the area of a regular polygon for\\\n",
    "        no of sides of side_length'''\n",
    "\n",
    "    if sides < 6:\n",
    "        perimeter = side_length*sides\n",
    "        apothem = side_length/(2*(math.tan(math.pi/sides)))\n",
    "        area = perimeter*apothem/2\n",
    "    else:\n",
    "        raise ValueError('Calculation can be done only for 6 sides polygon')\n",
    "    return round(area,2)\n",
    "\n",
    "# Temperature Converter\n",
    "\n",
    "def temp_converter(base_temp, temp_given_in):\n",
    "    '''Convert the temperature base_temp from Farhenite \\\n",
    "        to Celcius or Celcius to Farhenite as mentioned in temp_given_in\n",
    "\n",
    "        >> temp_converter(100,'c') = 37.76'''\n",
    "    new_temp = None\n",
    "\n",
    "    if temp_given_in == 'f':\n",
    "        new_temp = (base_temp - 32)/1.8\n",
    "\n",
    "    elif temp_given_in == 'c':\n",
    "        new_temp = (base_temp*1.8) + 32\n",
    "\n",
    "    else:\n",
    "        raise ValueError('Only farhenite -f and celcius -c are allowed')\n",
    "\n",
    "    return round(new_temp,2)\n",
    "\n",
    "# Speed Converter\n",
    "\n",
    "def speed_converter(speed, dist, time):\n",
    "    '''The input speed is assumed in kmph, conversion can be made for \\\n",
    "        any combination of conversion metrics of distance and time as mentioned below'''\n",
    "\n",
    "    DIST_METRIC = {\n",
    "        'm': 1000,\n",
    "        'km': 1,\n",
    "        'yrd': 1093.613,\n",
    "        'ft': 3280.84,\n",
    "    }\n",
    "\n",
    "    TIME_METRIC = {\n",
    "        'ms': 3600000,\n",
    "        's': 3600,\n",
    "        'm': 60,\n",
    "        'hr': 1,\n",
    "        'day': 1/24,\n",
    "        }\n",
    "\n",
    "    converted_speed = None\n",
    "\n",
    "    if dist in DIST_METRIC and time in TIME_METRIC:\n",
    "        converted_speed = speed * (DIST_METRIC[dist]/TIME_METRIC[time])\n",
    "\n",
    "    else:\n",
    "        raise ValueError('Incorrect metric used for distance and time')\n",
    "\n",
    "    return round(converted_speed,2)\n"
   ]
  },
  {
   "cell_type": "code",
   "execution_count": 140,
   "metadata": {
    "tags": []
   },
   "outputs": [
    {
     "output_type": "stream",
     "name": "stdout",
     "text": "1-2-3 ***\n1-2-3 ***\n1-2-3 ***\n1-2-3 ***\n1-2-3 ***\nsum : 0.0\nlen : 5\n"
    },
    {
     "output_type": "execute_result",
     "data": {
      "text/plain": "0.0"
     },
     "metadata": {},
     "execution_count": 140
    }
   ],
   "source": [
    "def test_print_timeit():\n",
    "    assert time_it(print, 1, 2, 3, sep='-', end= ' ***\\n', repetitons=5), \"Primt timeit not working as expected\""
   ]
  },
  {
   "cell_type": "code",
   "execution_count": 5,
   "metadata": {
    "tags": []
   },
   "outputs": [
    {
     "output_type": "error",
     "ename": "NameError",
     "evalue": "name 'pytest' is not defined",
     "traceback": [
      "\u001b[1;31m---------------------------------------------------------------------------\u001b[0m",
      "\u001b[1;31mNameError\u001b[0m                                 Traceback (most recent call last)",
      "\u001b[1;32m<ipython-input-5-0ce3b328e33a>\u001b[0m in \u001b[0;36m<module>\u001b[1;34m\u001b[0m\n\u001b[0;32m      2\u001b[0m     \u001b[1;32mwith\u001b[0m \u001b[0mpytest\u001b[0m\u001b[1;33m.\u001b[0m\u001b[0mraises\u001b[0m\u001b[1;33m(\u001b[0m\u001b[0mValueError\u001b[0m\u001b[1;33m)\u001b[0m\u001b[1;33m:\u001b[0m\u001b[1;33m\u001b[0m\u001b[1;33m\u001b[0m\u001b[0m\n\u001b[0;32m      3\u001b[0m         \u001b[0msquared_power_list\u001b[0m\u001b[1;33m(\u001b[0m\u001b[0mnumber\u001b[0m\u001b[1;33m,\u001b[0m \u001b[0mstart\u001b[0m\u001b[1;33m,\u001b[0m \u001b[0mend\u001b[0m\u001b[1;33m)\u001b[0m\u001b[1;33m\u001b[0m\u001b[1;33m\u001b[0m\u001b[0m\n\u001b[1;32m----> 4\u001b[1;33m \u001b[0mtest_junk_squaredlist\u001b[0m\u001b[1;33m(\u001b[0m\u001b[1;33m)\u001b[0m\u001b[1;33m\u001b[0m\u001b[1;33m\u001b[0m\u001b[0m\n\u001b[0m",
      "\u001b[1;32m<ipython-input-5-0ce3b328e33a>\u001b[0m in \u001b[0;36mtest_junk_squaredlist\u001b[1;34m()\u001b[0m\n\u001b[0;32m      1\u001b[0m \u001b[1;32mdef\u001b[0m \u001b[0mtest_junk_squaredlist\u001b[0m\u001b[1;33m(\u001b[0m\u001b[1;33m)\u001b[0m\u001b[1;33m:\u001b[0m\u001b[1;33m\u001b[0m\u001b[1;33m\u001b[0m\u001b[0m\n\u001b[1;32m----> 2\u001b[1;33m     \u001b[1;32mwith\u001b[0m \u001b[0mpytest\u001b[0m\u001b[1;33m.\u001b[0m\u001b[0mraises\u001b[0m\u001b[1;33m(\u001b[0m\u001b[0mValueError\u001b[0m\u001b[1;33m)\u001b[0m\u001b[1;33m:\u001b[0m\u001b[1;33m\u001b[0m\u001b[1;33m\u001b[0m\u001b[0m\n\u001b[0m\u001b[0;32m      3\u001b[0m         \u001b[0msquared_power_list\u001b[0m\u001b[1;33m(\u001b[0m\u001b[0mnumber\u001b[0m\u001b[1;33m,\u001b[0m \u001b[0mstart\u001b[0m\u001b[1;33m,\u001b[0m \u001b[0mend\u001b[0m\u001b[1;33m)\u001b[0m\u001b[1;33m\u001b[0m\u001b[1;33m\u001b[0m\u001b[0m\n\u001b[0;32m      4\u001b[0m \u001b[0mtest_junk_squaredlist\u001b[0m\u001b[1;33m(\u001b[0m\u001b[1;33m)\u001b[0m\u001b[1;33m\u001b[0m\u001b[1;33m\u001b[0m\u001b[0m\n",
      "\u001b[1;31mNameError\u001b[0m: name 'pytest' is not defined"
     ]
    }
   ],
   "source": [
    "def test_junk_squaredlist():\n",
    "    with pytest.raises(ValueError):\n",
    "        squared_power_list(number, start, end)\n",
    "test_junk_squaredlist()"
   ]
  },
  {
   "cell_type": "code",
   "execution_count": 8,
   "metadata": {
    "tags": []
   },
   "outputs": [
    {
     "output_type": "error",
     "ename": "ValueError",
     "evalue": "Start and end values must be positive numbers and end > start",
     "traceback": [
      "\u001b[1;31m---------------------------------------------------------------------------\u001b[0m",
      "\u001b[1;31mValueError\u001b[0m                                Traceback (most recent call last)",
      "\u001b[1;32m<ipython-input-8-88421e8e7d85>\u001b[0m in \u001b[0;36m<module>\u001b[1;34m\u001b[0m\n\u001b[1;32m----> 1\u001b[1;33m \u001b[0msquared_power_list\u001b[0m\u001b[1;33m(\u001b[0m\u001b[1;36m2\u001b[0m\u001b[1;33m,\u001b[0m \u001b[1;33m-\u001b[0m\u001b[1;36m1\u001b[0m\u001b[1;33m,\u001b[0m \u001b[1;33m-\u001b[0m\u001b[1;36m2\u001b[0m\u001b[1;33m)\u001b[0m\u001b[1;33m\u001b[0m\u001b[1;33m\u001b[0m\u001b[0m\n\u001b[0m",
      "\u001b[1;32m<ipython-input-7-0f17ba0f31e6>\u001b[0m in \u001b[0;36msquared_power_list\u001b[1;34m(number, start, end)\u001b[0m\n\u001b[0;32m     36\u001b[0m             \u001b[0mpowered_list\u001b[0m\u001b[1;33m.\u001b[0m\u001b[0mappend\u001b[0m\u001b[1;33m(\u001b[0m\u001b[0mnumber\u001b[0m\u001b[1;33m**\u001b[0m\u001b[0mj\u001b[0m\u001b[1;33m)\u001b[0m\u001b[1;33m\u001b[0m\u001b[1;33m\u001b[0m\u001b[0m\n\u001b[0;32m     37\u001b[0m     \u001b[1;32melse\u001b[0m\u001b[1;33m:\u001b[0m\u001b[1;33m\u001b[0m\u001b[1;33m\u001b[0m\u001b[0m\n\u001b[1;32m---> 38\u001b[1;33m         \u001b[1;32mraise\u001b[0m \u001b[0mValueError\u001b[0m\u001b[1;33m(\u001b[0m\u001b[1;34m'Start and end values must be positive numbers and end > start'\u001b[0m\u001b[1;33m)\u001b[0m\u001b[1;33m\u001b[0m\u001b[1;33m\u001b[0m\u001b[0m\n\u001b[0m\u001b[0;32m     39\u001b[0m \u001b[1;33m\u001b[0m\u001b[0m\n\u001b[0;32m     40\u001b[0m     \u001b[1;32mreturn\u001b[0m \u001b[0mpowered_list\u001b[0m\u001b[1;33m\u001b[0m\u001b[1;33m\u001b[0m\u001b[0m\n",
      "\u001b[1;31mValueError\u001b[0m: Start and end values must be positive numbers and end > start"
     ]
    }
   ],
   "source": [
    "squared_power_list(2, -1, -2)"
   ]
  },
  {
   "cell_type": "code",
   "execution_count": 100,
   "metadata": {},
   "outputs": [],
   "source": [
    "def test_speed_converter_m():  \n",
    "    assert speed_converter(3600,'m','s') == 1000, \"Conversion to m/sec from km/hr\"\n",
    "    assert speed_converter(3600,'m','ms') == (speed_converter(3600,'m','s')/1000), \"Conversion into m/ms\"\n",
    "\n",
    "def test_speed_converter_km():  \n",
    "    assert speed_converter(100,'km','hr') == 100, \"Conversion to m/sec from km/hr\"\n",
    "    assert speed_converter(1000,'km','m') == round(speed_converter(1000,'km','hr')/60,2), \"Conversion into m/ms\"\n",
    "\n",
    "def test_speed_converter_yrd():  \n",
    "    assert speed_converter(100,'yrd','s') == 30.38, \"Conversion to m/sec from km/hr\"\n",
    "\n",
    "def test_speed_converter_ft():  \n",
    "    assert speed_converter(1,'ft','m') == 54.68, \"Conversion to m/sec from km/hr\"\n",
    "    assert round(speed_converter(1,'ft','hr')) == round(speed_converter(1,'ft','m')*60), \"Conversion into m/ms\""
   ]
  },
  {
   "cell_type": "code",
   "execution_count": 106,
   "metadata": {
    "tags": []
   },
   "outputs": [
    {
     "output_type": "execute_result",
     "data": {
      "text/plain": "109361.3"
     },
     "metadata": {},
     "execution_count": 106
    }
   ],
   "source": [
    "round(speed_converter(100,'yrd','hr'),2)"
   ]
  },
  {
   "cell_type": "code",
   "execution_count": 105,
   "metadata": {},
   "outputs": [
    {
     "output_type": "execute_result",
     "data": {
      "text/plain": "109368.0"
     },
     "metadata": {},
     "execution_count": 105
    }
   ],
   "source": [
    "round(speed_converter(100,'yrd','s')*3600,2)"
   ]
  },
  {
   "cell_type": "code",
   "execution_count": 101,
   "metadata": {},
   "outputs": [
    {
     "output_type": "error",
     "ename": "AssertionError",
     "evalue": "Conversion into m/ms",
     "traceback": [
      "\u001b[1;31m---------------------------------------------------------------------------\u001b[0m",
      "\u001b[1;31mAssertionError\u001b[0m                            Traceback (most recent call last)",
      "\u001b[1;32m<ipython-input-101-733c8b37057c>\u001b[0m in \u001b[0;36m<module>\u001b[1;34m\u001b[0m\n\u001b[0;32m      1\u001b[0m \u001b[0mtest_speed_converter_m\u001b[0m\u001b[1;33m(\u001b[0m\u001b[1;33m)\u001b[0m\u001b[1;33m\u001b[0m\u001b[1;33m\u001b[0m\u001b[0m\n\u001b[0;32m      2\u001b[0m \u001b[0mtest_speed_converter_km\u001b[0m\u001b[1;33m(\u001b[0m\u001b[1;33m)\u001b[0m\u001b[1;33m\u001b[0m\u001b[1;33m\u001b[0m\u001b[0m\n\u001b[1;32m----> 3\u001b[1;33m \u001b[0mtest_speed_converter_yrd\u001b[0m\u001b[1;33m(\u001b[0m\u001b[1;33m)\u001b[0m\u001b[1;33m\u001b[0m\u001b[1;33m\u001b[0m\u001b[0m\n\u001b[0m\u001b[0;32m      4\u001b[0m \u001b[0mtest_speed_converter_ft\u001b[0m\u001b[1;33m(\u001b[0m\u001b[1;33m)\u001b[0m\u001b[1;33m\u001b[0m\u001b[1;33m\u001b[0m\u001b[0m\n",
      "\u001b[1;32m<ipython-input-100-08435c45f6e9>\u001b[0m in \u001b[0;36mtest_speed_converter_yrd\u001b[1;34m()\u001b[0m\n\u001b[0;32m      9\u001b[0m \u001b[1;32mdef\u001b[0m \u001b[0mtest_speed_converter_yrd\u001b[0m\u001b[1;33m(\u001b[0m\u001b[1;33m)\u001b[0m\u001b[1;33m:\u001b[0m\u001b[1;33m\u001b[0m\u001b[1;33m\u001b[0m\u001b[0m\n\u001b[0;32m     10\u001b[0m     \u001b[1;32massert\u001b[0m \u001b[0mspeed_converter\u001b[0m\u001b[1;33m(\u001b[0m\u001b[1;36m100\u001b[0m\u001b[1;33m,\u001b[0m\u001b[1;34m'yrd'\u001b[0m\u001b[1;33m,\u001b[0m\u001b[1;34m's'\u001b[0m\u001b[1;33m)\u001b[0m \u001b[1;33m==\u001b[0m \u001b[1;36m30.38\u001b[0m\u001b[1;33m,\u001b[0m \u001b[1;34m\"Conversion to m/sec from km/hr\"\u001b[0m\u001b[1;33m\u001b[0m\u001b[1;33m\u001b[0m\u001b[0m\n\u001b[1;32m---> 11\u001b[1;33m     \u001b[1;32massert\u001b[0m \u001b[0mround\u001b[0m\u001b[1;33m(\u001b[0m\u001b[0mspeed_converter\u001b[0m\u001b[1;33m(\u001b[0m\u001b[1;36m100\u001b[0m\u001b[1;33m,\u001b[0m\u001b[1;34m'yrd'\u001b[0m\u001b[1;33m,\u001b[0m\u001b[1;34m'hr'\u001b[0m\u001b[1;33m)\u001b[0m\u001b[1;33m)\u001b[0m \u001b[1;33m==\u001b[0m \u001b[0mround\u001b[0m\u001b[1;33m(\u001b[0m\u001b[0mspeed_converter\u001b[0m\u001b[1;33m(\u001b[0m\u001b[1;36m100\u001b[0m\u001b[1;33m,\u001b[0m\u001b[1;34m'yrd'\u001b[0m\u001b[1;33m,\u001b[0m\u001b[1;34m's'\u001b[0m\u001b[1;33m)\u001b[0m\u001b[1;33m/\u001b[0m\u001b[1;36m3600\u001b[0m\u001b[1;33m)\u001b[0m\u001b[1;33m,\u001b[0m \u001b[1;34m\"Conversion into m/ms\"\u001b[0m\u001b[1;33m\u001b[0m\u001b[1;33m\u001b[0m\u001b[0m\n\u001b[0m\u001b[0;32m     12\u001b[0m \u001b[1;33m\u001b[0m\u001b[0m\n\u001b[0;32m     13\u001b[0m \u001b[1;32mdef\u001b[0m \u001b[0mtest_speed_converter_ft\u001b[0m\u001b[1;33m(\u001b[0m\u001b[1;33m)\u001b[0m\u001b[1;33m:\u001b[0m\u001b[1;33m\u001b[0m\u001b[1;33m\u001b[0m\u001b[0m\n",
      "\u001b[1;31mAssertionError\u001b[0m: Conversion into m/ms"
     ]
    }
   ],
   "source": [
    "test_speed_converter_m()\n",
    "test_speed_converter_km()\n",
    "test_speed_converter_yrd()\n",
    "test_speed_converter_ft()"
   ]
  },
  {
   "cell_type": "code",
   "execution_count": 4,
   "metadata": {},
   "outputs": [
    {
     "output_type": "execute_result",
     "data": {
      "text/plain": "[1, -2, 4, -8]"
     },
     "metadata": {},
     "execution_count": 4
    }
   ],
   "source": [
    "squared_power_list(-2, -2, 1)"
   ]
  }
 ]
}