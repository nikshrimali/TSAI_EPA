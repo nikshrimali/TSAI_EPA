{
 "metadata": {
  "language_info": {
   "codemirror_mode": {
    "name": "ipython",
    "version": 3
   },
   "file_extension": ".py",
   "mimetype": "text/x-python",
   "name": "python",
   "nbconvert_exporter": "python",
   "pygments_lexer": "ipython3",
   "version": "3.7.6-final"
  },
  "orig_nbformat": 2,
  "kernelspec": {
   "name": "python3",
   "display_name": "Python 3"
  }
 },
 "nbformat": 4,
 "nbformat_minor": 2,
 "cells": [
  {
   "source": [
    "# Goal 1\n",
    "Create iterators for each of the four files that contained cleaned up data, of the correct type (e.g. string, int, date, etc), and represented by a named tuple.\n",
    "For now these four iterators are just separate, independent iterators."
   ],
   "cell_type": "markdown",
   "metadata": {}
  },
  {
   "cell_type": "code",
   "execution_count": 59,
   "metadata": {},
   "outputs": [],
   "source": [
    "from datetime import datetime\n",
    "from collections import namedtuple, Counter\n",
    "\n",
    "def cast(zipped_obj):\n",
    "    item_list = []\n",
    "    for i in list(zipped_obj):\n",
    "        data_type = i[0]\n",
    "        value = i[1]\n",
    "        if data_type == 'INT':\n",
    "            item_list.append(int(value))\n",
    "        elif data_type == 'DATE':\n",
    "            item_list.append(datetime.strptime(value, '%m/%d/%Y'))\n",
    "        else:\n",
    "            item_list.append(str(value))\n",
    "    return item_list\n",
    "\n",
    "def get_formatted_data(file_path:str, list_coltypes:list, tuple_name:str)->int:\n",
    "    '''Returns a namedtuple after casting the content to their appropriate types'''\n",
    "\n",
    "    with open(file_path) as csvfile:\n",
    "        csvreader = iter(csvfile)\n",
    "        # extracting field names through first row \n",
    "        column_names = next(csvreader).strip('\\n').split(',')\n",
    "        car_details = namedtuple(tuple_name, column_names)\n",
    "        \n",
    "        for data in csvreader:\n",
    "            new_details = next(csvreader)\n",
    "            yield(car_details(*cast(zip(list_coltypes,new_details.strip('\\n').split(',')))))"
   ]
  },
  {
   "cell_type": "code",
   "execution_count": 48,
   "metadata": {},
   "outputs": [],
   "source": [
    "# Getting Employment data - Iterators\n",
    "class iter_employee:\n",
    "    def __init__(self):\n",
    "        file_path = r\"assets\\a-1\\employment.csv\"\n",
    "        column_types = ['STR','STR', 'STR', 'STR']\n",
    "        self.employees_data = get_formatted_data(file_path, column_types)\n",
    "\n",
    "    # def __getitem__():\n",
    "    #     pass\n",
    "        \n",
    "    def __iter__(self):\n",
    "        return iter_employee\n",
    "    \n",
    "    def __next__(self):\n",
    "        return next(self.employees_data)\n",
    "        \n"
   ]
  },
  {
   "cell_type": "code",
   "execution_count": 49,
   "metadata": {},
   "outputs": [],
   "source": [
    "employee_details = iter_employee()"
   ]
  },
  {
   "cell_type": "code",
   "execution_count": 50,
   "metadata": {},
   "outputs": [
    {
     "output_type": "stream",
     "name": "stdout",
     "text": [
      "car_details(employer='Nicolas and Sons', department='Sales', employee_id='41-6841359', ssn='101-71-4702')\n"
     ]
    }
   ],
   "source": [
    "print(next(employee_details))"
   ]
  },
  {
   "cell_type": "code",
   "execution_count": 51,
   "metadata": {},
   "outputs": [
    {
     "output_type": "error",
     "ename": "TypeError",
     "evalue": "iter() returned non-iterator of type 'type'",
     "traceback": [
      "\u001b[1;31m---------------------------------------------------------------------------\u001b[0m",
      "\u001b[1;31mTypeError\u001b[0m                                 Traceback (most recent call last)",
      "\u001b[1;32m<ipython-input-51-0f1bc76a3ade>\u001b[0m in \u001b[0;36m<module>\u001b[1;34m\u001b[0m\n\u001b[1;32m----> 1\u001b[1;33m \u001b[1;32mfor\u001b[0m \u001b[0mi\u001b[0m \u001b[1;32min\u001b[0m \u001b[0memployee_details\u001b[0m\u001b[1;33m:\u001b[0m\u001b[1;33m\u001b[0m\u001b[1;33m\u001b[0m\u001b[0m\n\u001b[0m\u001b[0;32m      2\u001b[0m     \u001b[0mprint\u001b[0m\u001b[1;33m(\u001b[0m\u001b[0mi\u001b[0m\u001b[1;33m)\u001b[0m\u001b[1;33m\u001b[0m\u001b[1;33m\u001b[0m\u001b[0m\n",
      "\u001b[1;31mTypeError\u001b[0m: iter() returned non-iterator of type 'type'"
     ]
    }
   ],
   "source": [
    "for i in employee_details:\n",
    "    print(i)"
   ]
  },
  {
   "cell_type": "code",
   "execution_count": 60,
   "metadata": {},
   "outputs": [],
   "source": [
    "# Personal Info iterator\n",
    "\n",
    "class iter_pinfo:\n",
    "    def __init__(self):\n",
    "        file_path = r\"assets\\a-1\\personal_info.csv\"\n",
    "        column_types = ['STR','STR', 'STR', 'STR', 'STR']\n",
    "        self.personal_info = get_formatted_data(file_path, column_types, tuple_name= \"PersonalInfo\")\n",
    "\n",
    "    # def __getitem__():\n",
    "    #     pass\n",
    "        \n",
    "    def __iter__(self):\n",
    "        return personal_info\n",
    "    \n",
    "    def __next__(self):\n",
    "        return next(self.personal_info)"
   ]
  },
  {
   "cell_type": "code",
   "execution_count": 61,
   "metadata": {},
   "outputs": [],
   "source": [
    "employee_details = iter_pinfo()"
   ]
  },
  {
   "cell_type": "code",
   "execution_count": 72,
   "metadata": {},
   "outputs": [
    {
     "output_type": "execute_result",
     "data": {
      "text/plain": [
       "PersonalInfo(ssn='118-21-0357', first_name='Laina', last_name='Bayly', gender='Female', language='Bulgarian')"
      ]
     },
     "metadata": {},
     "execution_count": 72
    }
   ],
   "source": [
    "next(employee_details)"
   ]
  },
  {
   "cell_type": "code",
   "execution_count": 83,
   "metadata": {},
   "outputs": [],
   "source": [
    "class iter_update_status:\n",
    "    def __init__(self):\n",
    "        file_path = r\"assets\\a-1\\update_status.csv\"\n",
    "        column_types = ['STR','kATE','DkTE']\n",
    "        self.formatted_data = get_formatted_data(file_path, column_types, tuple_name= \"LastUpdate\")\n",
    "\n",
    "    # def __getitem__():\n",
    "    #     pass\n",
    "        \n",
    "    def __iter__(self):\n",
    "        return personal_info\n",
    "    \n",
    "    def __next__(self):\n",
    "        return next(self.formatted_data)"
   ]
  },
  {
   "cell_type": "code",
   "execution_count": 84,
   "metadata": {},
   "outputs": [],
   "source": [
    "updated_status = iter_update_status()"
   ]
  },
  {
   "cell_type": "code",
   "execution_count": 85,
   "metadata": {},
   "outputs": [
    {
     "output_type": "execute_result",
     "data": {
      "text/plain": [
       "LastUpdate(ssn='101-71-4702', last_updated='2017-01-23T11:23:17Z', created='2016-01-27T04:32:57Z')"
      ]
     },
     "metadata": {},
     "execution_count": 85
    }
   ],
   "source": [
    "next(updated_status)"
   ]
  },
  {
   "cell_type": "code",
   "execution_count": 105,
   "metadata": {},
   "outputs": [],
   "source": [
    "class iter_vehicles:\n",
    "    def __init__(self):\n",
    "        file_path = r\"assets\\a-1\\vehicles.csv\"\n",
    "        column_types = ['STR','STR', 'STR', 'Date']\n",
    "        self.personal_info = get_formatted_data(file_path, column_types, tuple_name= \"VehicleDetails\")\n",
    "\n",
    "        \n",
    "\n",
    "    # def __getitem__():\n",
    "    #     pass\n",
    "        \n",
    "    def __iter__(self):\n",
    "        return self.__class__()\n",
    "    \n",
    "    def __next__(self):\n",
    "        pass\n",
    "    class combined_iterable(self):\n",
    "        self.iter_vehicles"
   ]
  },
  {
   "cell_type": "code",
   "execution_count": 106,
   "metadata": {},
   "outputs": [],
   "source": [
    "vehicle_details = iter_vehicles()"
   ]
  },
  {
   "cell_type": "code",
   "execution_count": 111,
   "metadata": {},
   "outputs": [
    {
     "output_type": "execute_result",
     "data": {
      "text/plain": [
       "type"
      ]
     },
     "metadata": {},
     "execution_count": 111
    }
   ],
   "source": [
    "type(iter_vehicles)"
   ]
  },
  {
   "cell_type": "code",
   "execution_count": 107,
   "metadata": {
    "tags": []
   },
   "outputs": [
    {
     "output_type": "error",
     "ename": "StopIteration",
     "evalue": "",
     "traceback": [
      "\u001b[1;31m---------------------------------------------------------------------------\u001b[0m",
      "\u001b[1;31mStopIteration\u001b[0m                             Traceback (most recent call last)",
      "\u001b[1;32m<ipython-input-107-94ac8f959997>\u001b[0m in \u001b[0;36m<module>\u001b[1;34m\u001b[0m\n\u001b[0;32m      1\u001b[0m \u001b[1;32mfor\u001b[0m \u001b[0mi\u001b[0m \u001b[1;32min\u001b[0m \u001b[0mrange\u001b[0m\u001b[1;33m(\u001b[0m\u001b[1;36m1000\u001b[0m\u001b[1;33m)\u001b[0m\u001b[1;33m:\u001b[0m\u001b[1;33m\u001b[0m\u001b[1;33m\u001b[0m\u001b[0m\n\u001b[1;32m----> 2\u001b[1;33m     \u001b[0mnext\u001b[0m\u001b[1;33m(\u001b[0m\u001b[0mvehicle_details\u001b[0m\u001b[1;33m)\u001b[0m\u001b[1;33m\u001b[0m\u001b[1;33m\u001b[0m\u001b[0m\n\u001b[0m",
      "\u001b[1;32m<ipython-input-105-27b88a532910>\u001b[0m in \u001b[0;36m__next__\u001b[1;34m(self)\u001b[0m\n\u001b[0;32m     12\u001b[0m \u001b[1;33m\u001b[0m\u001b[0m\n\u001b[0;32m     13\u001b[0m     \u001b[1;32mdef\u001b[0m \u001b[0m__next__\u001b[0m\u001b[1;33m(\u001b[0m\u001b[0mself\u001b[0m\u001b[1;33m)\u001b[0m\u001b[1;33m:\u001b[0m\u001b[1;33m\u001b[0m\u001b[1;33m\u001b[0m\u001b[0m\n\u001b[1;32m---> 14\u001b[1;33m         \u001b[1;32mreturn\u001b[0m \u001b[0mnext\u001b[0m\u001b[1;33m(\u001b[0m\u001b[0mself\u001b[0m\u001b[1;33m.\u001b[0m\u001b[0mpersonal_info\u001b[0m\u001b[1;33m)\u001b[0m\u001b[1;33m\u001b[0m\u001b[1;33m\u001b[0m\u001b[0m\n\u001b[0m",
      "\u001b[1;31mStopIteration\u001b[0m: "
     ]
    }
   ],
   "source": [
    "for i in range(1000):\n",
    "    next(vehicle_details)"
   ]
  },
  {
   "source": [
    "Create a single iterable that combines all the columns from all the iterators. The iterable should yield named tuples containing all the columns. Make sure that the SSN's across the files match! All the files are guaranteed to be in SSN sort order, and every SSN is unique, and every SSN appears in every file. Make sure the SSN is not repeated 4 times - one time per row is enough!"
   ],
   "cell_type": "markdown",
   "metadata": {}
  },
  {
   "cell_type": "code",
   "execution_count": 109,
   "metadata": {},
   "outputs": [],
   "source": [
    "    file_path = r\"assets\\a-1\\vehicles.csv\"\n",
    "    column_types = ['STR','STR', 'STR', 'Date']\n",
    "    personal_info = get_formatted_data(file_path, column_types, tuple_name= \"VehicleDetails\")"
   ]
  },
  {
   "cell_type": "code",
   "execution_count": 110,
   "metadata": {},
   "outputs": [
    {
     "output_type": "execute_result",
     "data": {
      "text/plain": [
       "generator"
      ]
     },
     "metadata": {},
     "execution_count": 110
    }
   ],
   "source": [
    "type(personal_info)"
   ]
  },
  {
   "cell_type": "code",
   "execution_count": null,
   "metadata": {},
   "outputs": [],
   "source": [
    "# Iterable that combines columns of all the iterators based on the SSN Numbers\n",
    "\n",
    "class info_iterable:\n",
    "    def __init__(self):\n",
    "        \n",
    "\n",
    "    def __iter__(self):\n",
    "        pass\n",
    "\n",
    "    def __next__(self):\n",
    "        pass\n",
    "\n",
    "    def __getitem__(self):\n",
    "        pass"
   ]
  }
 ]
}