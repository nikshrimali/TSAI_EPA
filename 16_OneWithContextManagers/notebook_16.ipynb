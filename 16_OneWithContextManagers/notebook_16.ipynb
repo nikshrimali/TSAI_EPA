{
 "metadata": {
  "language_info": {
   "codemirror_mode": {
    "name": "ipython",
    "version": 3
   },
   "file_extension": ".py",
   "mimetype": "text/x-python",
   "name": "python",
   "nbconvert_exporter": "python",
   "pygments_lexer": "ipython3",
   "version": "3.7.6-final"
  },
  "orig_nbformat": 2,
  "kernelspec": {
   "name": "python3",
   "display_name": "Python 3"
  }
 },
 "nbformat": 4,
 "nbformat_minor": 2,
 "cells": [
  {
   "source": [
    "# Goal 1\n",
    "Create iterators for each of the four files that contained cleaned up data, of the correct type (e.g. string, int, date, etc), and represented by a named tuple.\n",
    "For now these four iterators are just separate, independent iterators."
   ],
   "cell_type": "markdown",
   "metadata": {}
  },
  {
   "cell_type": "code",
   "execution_count": 1,
   "metadata": {},
   "outputs": [],
   "source": [
    "from datetime import datetime\n",
    "from collections import namedtuple, Counter\n",
    "\n",
    "def cast(zipped_obj):\n",
    "    item_list = []\n",
    "    for i in list(zipped_obj):\n",
    "        data_type = i[0]\n",
    "        value = i[1]\n",
    "        if data_type == 'INT':\n",
    "            item_list.append(int(value))\n",
    "        elif data_type == 'DATE':\n",
    "            item_list.append(datetime.strptime(value, '%m/%d/%Y'))\n",
    "        else:\n",
    "            item_list.append(str(value))\n",
    "    return item_list\n",
    "\n",
    "def get_formatted_data(file_path:str, list_coltypes:list, tuple_name:str)->int:\n",
    "    '''Returns a namedtuple after casting the content to their appropriate types'''\n",
    "\n",
    "    with open(file_path) as csvfile:\n",
    "        csvreader = iter(csvfile)\n",
    "        # extracting field names through first row \n",
    "        column_names = next(csvreader).strip('\\n').split(',')\n",
    "        car_details = namedtuple(tuple_name, column_names)\n",
    "        \n",
    "        for data in csvreader:\n",
    "            new_details = next(csvreader)\n",
    "            yield(car_details(*cast(zip(list_coltypes,new_details.strip('\\n').split(',')))))"
   ]
  },
  {
   "cell_type": "code",
   "execution_count": 2,
   "metadata": {},
   "outputs": [],
   "source": [
    "# Getting Employment data - Iterators\n",
    "class iter_employee:\n",
    "    def __init__(self):\n",
    "        file_path = r\"assets\\a-1\\employment.csv\"\n",
    "        column_types = ['STR','STR', 'STR', 'STR']\n",
    "        self.employees_data = get_formatted_data(file_path, column_types, \"abc\")\n",
    "        \n",
    "    def __iter__(self):\n",
    "        return self\n",
    "    \n",
    "    def __next__(self):\n",
    "        return next(self.employees_data)"
   ]
  },
  {
   "cell_type": "code",
   "execution_count": 3,
   "metadata": {},
   "outputs": [],
   "source": [
    "employee_details = iter_employee()"
   ]
  },
  {
   "cell_type": "code",
   "execution_count": 4,
   "metadata": {
    "tags": [
     "outputPrepend"
    ]
   },
   "outputs": [
    {
     "output_type": "stream",
     "name": "stdout",
     "text": [
      "Human Resources', employee_id='05-8069298', ssn='123-88-3381')\nabc(employer='Tromp-Leffler', department='Support', employee_id='02-6267170', ssn='127-49-2473')\nabc(employer='Kulas-Corwin', department='Sales', employee_id='78-0632027', ssn='127-68-4232')\nabc(employer=\"Kertzmann-O'Hara\", department='Sales', employee_id='44-8015165', ssn='128-42-4599')\nabc(employer='King-Donnelly', department='Training', employee_id='82-0573004', ssn='128-53-7952')\nabc(employer='\"Heidenreich', department=' Bergnaum and Smith\"', employee_id='Training', ssn='04-7204163')\nabc(employer='Gibson and Sons', department='Sales', employee_id='57-8173633', ssn='131-81-4310')\nabc(employer='Donnelly-Crooks', department='Human Resources', employee_id='22-2943669', ssn='134-05-0120')\nabc(employer='Schuster Group', department='Research and Development', employee_id='72-4728604', ssn='137-13-1889')\nabc(employer='VonRueden-Torphy', department='Business Development', employee_id='10-6636122', ssn='138-67-1198')\nabc(employer='Keeling-Schroeder', department='Engineering', employee_id='82-2479019', ssn='139-04-8189')\nabc(employer='Pollich-Heathcote', department='Product Management', employee_id='12-2844710', ssn='139-99-6417')\nabc(employer='Gutkowski Inc', department='Engineering', employee_id='83-4836768', ssn='140-58-8263')\nabc(employer='Hartmann Inc', department='Support', employee_id='26-7276512', ssn='141-88-9721')\nabc(employer='Altenwerth-Emard', department='Marketing', employee_id='30-5847411', ssn='142-87-3416')\nabc(employer='\"Murray', department=' Wolff and Little\"', employee_id='Business Development', ssn='29-3578815')\nabc(employer='Tromp Inc', department='Research and Development', employee_id='06-3360383', ssn='145-78-3985')\nabc(employer='Greenholt-Gusikowski', department='Engineering', employee_id='16-6006875', ssn='147-33-1463')\nabc(employer='Bashirian-Moen', department='Training', employee_id='51-9115041', ssn='147-63-3462')\nabc(employer='Balistreri Inc', department='Sales', employee_id='92-8183627', ssn='149-18-7272')\nabc(employer='Bosco-Kunde', department='Services', employee_id='55-1726090', ssn='150-64-6357')\nabc(employer='Bergstrom-Boyle', department='Marketing', employee_id='72-3121170', ssn='151-54-3946')\nabc(employer='\"Schinner', department=' Swaniawski and Carter\"', employee_id='Human Resources', ssn='93-3103060')\nabc(employer='\"Gerlach', department=' Bahringer and Rutherford\"', employee_id='Accounting', ssn='95-5604381')\nabc(employer='\"Little', department=' Powlowski and Witting\"', employee_id='Business Development', ssn='42-4459617')\nabc(employer='Konopelski-Vandervort', department='Legal', employee_id='87-8332368', ssn='157-17-9982')\nabc(employer='Gerhold-Marquardt', department='Research and Development', employee_id='25-6013938', ssn='157-51-5269')\nabc(employer='\"Oberbrunner', department=' Donnelly and Gibson\"', employee_id='Human Resources', ssn='83-2548521')\nabc(employer='Olson-Lynch', department='Business Development', employee_id='50-7113609', ssn='163-98-1022')\nabc(employer='\"Carroll', department=' Konopelski and Wunsch\"', employee_id='Research and Development', ssn='43-4797129')\nabc(employer='Johnson Inc', department='Services', employee_id='34-7741883', ssn='168-02-5324')\nabc(employer='Zemlak LLC', department='Research and Development', employee_id='86-8667896', ssn='168-81-0838')\nabc(employer='\"Murphy', department=' Windler and Bartoletti\"', employee_id='Legal', ssn='02-6976472')\nabc(employer='Jast and Sons', department='Services', employee_id='38-6141294', ssn='172-23-7739')\nabc(employer='\"Schultz', department=' Price and Walsh\"', employee_id='Business Development', ssn='69-6328477')\nabc(employer='Bode-Zulauf', department='Marketing', employee_id='42-0021775', ssn='174-13-2047')\nabc(employer='Jast-Quitzon', department='Human Resources', employee_id='67-5707294', ssn='174-51-9992')\nabc(employer='Brown Group', department='Accounting', employee_id='91-0435820', ssn='176-82-1359')\nabc(employer='McGlynn LLC', department='Support', employee_id='35-4393230', ssn='179-88-2790')\nabc(employer='Kertzmann-Reichel', department='Research and Development', employee_id='67-0581933', ssn='181-28-8337')\nabc(employer='Bayer-Kunze', department='Support', employee_id='86-6996270', ssn='182-15-5082')\nabc(employer='Kling-Howe', department='Research and Development', employee_id='71-7470887', ssn='183-10-5024')\nabc(employer='Bergstrom-Daniel', department='Marketing', employee_id='31-7381298', ssn='184-84-1003')\nabc(employer='Lubowitz-Franecki', department='Product Management', employee_id='68-5287750', ssn='184-94-5241')\nabc(employer='\"Quitzon', department=' Stiedemann and Breitenberg\"', employee_id='Services', ssn='76-1399493')\nabc(employer='\"Kling', department=' Prosacco and Wisoky\"', employee_id='Accounting', ssn='77-0491080')\nabc(employer='McLaughlin-Botsford', department='Business Development', employee_id='60-2450272', ssn='189-26-5696')\nabc(employer='Smitham-Blick', department='Engineering', employee_id='07-3918459', ssn='190-05-6987')\nabc(employer='\"Keeling', department=' Hansen and Mertz\"', employee_id='Training', ssn='86-3420084')\nabc(employer='Nicolas Group', department='Support', employee_id='75-2636577', ssn='192-67-3201')\nabc(employer='\"Hodkiewicz', department=' Rau and Ryan\"', employee_id='Marketing', ssn='29-2776451')\nabc(employer='\"Mante', department=' Roberts and Miller\"', employee_id='Research and Development', ssn='98-1318396')\nabc(employer='Heathcote-Torp', department='Product Management', employee_id='77-2681193', ssn='199-54-4639')\nabc(employer='\"Will', department=' Lemke and O\\'Hara\"', employee_id='Marketing', ssn='68-7719884')\nabc(employer='Kling-Graham', department='Marketing', employee_id='08-4055205', ssn='203-35-7648')\nabc(employer='Goodwin-Oberbrunner', department='Accounting', employee_id='07-0291024', ssn='205-87-2423')\nabc(employer='\"Hickle', department=' Beatty and McCullough\"', employee_id='Business Development', ssn='95-7755368')\nabc(employer='Volkman-King', department='Training', employee_id='29-5040096', ssn='208-80-5879')\nabc(employer='\"Lesch', department=' Hartmann and Leffler\"', employee_id='Engineering', ssn='32-6936796')\nabc(employer='Renner LLC', department='Services', employee_id='29-6760360', ssn='211-04-1734')\nabc(employer='\"Sawayn', department=' Marvin and Rempel\"', employee_id='Research and Development', ssn='74-6068283')\nabc(employer='Trantow Inc', department='Services', employee_id='96-5222028', ssn='212-40-0215')\nabc(employer='Larson and Sons', department='Sales', employee_id='18-3961077', ssn='213-28-1395')\nabc(employer='\"Aufderhar', department=' Trantow and Goodwin\"', employee_id='Marketing', ssn='70-8647485')\nabc(employer='Quitzon Inc', department='Human Resources', employee_id='97-0142691', ssn='216-89-3812')\nabc(employer='Nienow-Hegmann', department='Training', employee_id='81-6888800', ssn='217-71-3922')\nabc(employer='\"Cormier', department=' Weimann and Erdman\"', employee_id='Accounting', ssn='72-8208288')\nabc(employer='Stokes-Hayes', department='Marketing', employee_id='50-1906989', ssn='218-31-1615')\nabc(employer='\"Hirthe', department=' Doyle and Harvey\"', employee_id='Training', ssn='13-1135326')\nabc(employer='\"Bernier', department=' Ruecker and Carroll\"', employee_id='Services', ssn='69-0108218')\nabc(employer='\"Luettgen', department=' Marks and Rosenbaum\"', employee_id='Human Resources', ssn='46-3461516')\nabc(employer='Jacobson-Kuhn', department='Human Resources', employee_id='33-5097675', ssn='224-30-9267')\nabc(employer='\"Pollich', department=' Hodkiewicz and Kris\"', employee_id='Research and Development', ssn='34-4050792')\nabc(employer='\"Greenholt', department=' Sawayn and Gusikowski\"', employee_id='Business Development', ssn='98-0311958')\nabc(employer='Blanda LLC', department='Business Development', employee_id='92-2526945', ssn='226-76-4452')\nabc(employer='Dare Inc', department='Business Development', employee_id='27-3116134', ssn='228-16-7922')\nabc(employer='Johns LLC', department='Sales', employee_id='20-4360965', ssn='228-90-5077')\nabc(employer=\"O'Keefe-Keeling\", department='Training', employee_id='40-0839938', ssn='230-09-1794')\nabc(employer='Hodkiewicz-Murray', department='Marketing', employee_id='99-0856844', ssn='230-99-1485')\nabc(employer=\"Schumm-O'Conner\", department='Legal', employee_id='02-4952668', ssn='232-18-5397')\nabc(employer='Grant-Aufderhar', department='Engineering', employee_id='63-8402825', ssn='235-10-3518')\nabc(employer='Tremblay LLC', department='Research and Development', employee_id='45-6122996', ssn='236-37-2567')\nabc(employer='Schmeler Inc', department='Research and Development', employee_id='75-1537754', ssn='237-80-7039')\nabc(employer='\"Beatty', department=' Mohr and Wolff\"', employee_id='Support', ssn='46-6432775')\nabc(employer='Kassulke-Cruickshank', department='Support', employee_id='33-8042555', ssn='239-37-4122')\nabc(employer=\"O'Keefe-Cruickshank\", department='Research and Development', employee_id='34-1983927', ssn='240-32-8915')\nabc(employer='Koch Inc', department='Marketing', employee_id='55-6904797', ssn='242-22-9624')\nabc(employer='Carroll and Sons', department='Marketing', employee_id='96-0367474', ssn='243-44-4611')\nabc(employer='Kuhic Group', department='Business Development', employee_id='08-6244265', ssn='244-52-7593')\nabc(employer='Howell-Wunsch', department='Legal', employee_id='91-7637157', ssn='244-81-0671')\nabc(employer='Barton-Raynor', department='Legal', employee_id='86-4272610', ssn='245-77-4110')\nabc(employer='\"Flatley', department=' Braun and Wiegand\"', employee_id='Product Management', ssn='83-8221727')\nabc(employer='Jones Group', department='Legal', employee_id='00-8209244', ssn='248-23-0150')\nabc(employer='Halvorson-Parisian', department='Support', employee_id='16-2500138', ssn='253-61-8401')\nabc(employer='\"Armstrong', department=' Halvorson and Lemke\"', employee_id='Services', ssn='25-0791940')\nabc(employer='Purdy Group', department='Business Development', employee_id='85-7663270', ssn='256-54-7507')\nabc(employer='\"Tremblay', department=' Mraz and Hamill\"', employee_id='Business Development', ssn='98-4265000')\nabc(employer='\"Schimmel', department=' Kling and Lueilwitz\"', employee_id='Services', ssn='73-1055129')\nabc(employer='Hauck Inc', department='Accounting', employee_id='19-2907576', ssn='259-38-5920')\nabc(employer='\"Carroll', department=' Treutel and Kub\"', employee_id='Research and Development', ssn='83-9766179')\nabc(employer='\"Schultz', department=' West and Cummings\"', employee_id='Research and Development', ssn='81-8904444')\nabc(employer='Halvorson and Sons', department='Services', employee_id='93-0006221', ssn='264-39-3910')\nabc(employer='\"Gottlieb', department=' Gleichner and Kihn\"', employee_id='Services', ssn='42-1073885')\nabc(employer='Wilderman-Larkin', department='Business Development', employee_id='08-6806443', ssn='271-04-0134')\nabc(employer='Marks-McKenzie', department='Engineering', employee_id='06-2333892', ssn='271-93-3051')\nabc(employer='\"Heidenreich', department=' Leffler and Zboncak\"', employee_id='Marketing', ssn='39-2936486')\nabc(employer='\"Schuster', department=' Dach and Huel\"', employee_id='Business Development', ssn='53-7845226')\nabc(employer='Conroy Inc', department='Engineering', employee_id='78-8420673', ssn='276-05-2973')\nabc(employer='Dickinson-Watsica', department='Support', employee_id='75-9021921', ssn='278-64-4853')\nabc(employer='\"Kutch', department=' Koch and Emmerich\"', employee_id='Business Development', ssn='09-4660484')\nabc(employer='\"Moen', department=' Veum and McLaughlin\"', employee_id='Accounting', ssn='12-0401993')\nabc(employer='Cruickshank Inc', department='Legal', employee_id='91-3900799', ssn='281-23-3458')\nabc(employer='\"Abbott', department=' Bahringer and Goyette\"', employee_id='Marketing', ssn='41-5601892')\nabc(employer='Fahey-Klein', department='Human Resources', employee_id='71-1209998', ssn='287-57-9688')\nabc(employer='Beatty and Sons', department='Sales', employee_id='71-9137028', ssn='288-54-7233')\nabc(employer='DuBuque-Krajcik', department='Legal', employee_id='99-3967417', ssn='289-03-9882')\nabc(employer='Weissnat Group', department='Legal', employee_id='04-8151489', ssn='290-25-7300')\nabc(employer='Howe-Robel', department='Services', employee_id='45-6137557', ssn='293-54-3694')\nabc(employer='\"Little', department=' Veum and Sauer\"', employee_id='Legal', ssn='45-7118863')\nabc(employer='Collier-Wisozk', department='Legal', employee_id='40-3440604', ssn='296-32-7910')\nabc(employer='Mayert-Volkman', department='Research and Development', employee_id='11-7283397', ssn='296-90-4908')\nabc(employer='Johns-Maggio', department='Services', employee_id='40-9534160', ssn='298-06-3497')\nabc(employer='\"Sporer', department=' Haley and Cartwright\"', employee_id='Legal', ssn='72-8129260')\nabc(employer='Kilback Group', department='Services', employee_id='02-5391126', ssn='299-03-6911')\nabc(employer='Kozey Group', department='Sales', employee_id='27-3066253', ssn='299-77-1060')\nabc(employer='McClure-Gerhold', department='Business Development', employee_id='01-9218158', ssn='300-76-8770')\nabc(employer='\"Muller', department=' Blanda and Quigley\"', employee_id='Sales', ssn='87-6217832')\nabc(employer='\"Cartwright', department=' Schowalter and Barton\"', employee_id='Marketing', ssn='15-5191499')\nabc(employer='Howe Inc', department='Legal', employee_id='11-8989188', ssn='305-07-1498')\nabc(employer='Considine-Schaefer', department='Human Resources', employee_id='58-8894681', ssn='306-86-2930')\nabc(employer='Heidenreich Inc', department='Product Management', employee_id='85-1333821', ssn='309-04-0364')\nabc(employer='Mayert-Pagac', department='Marketing', employee_id='84-1179190', ssn='310-60-2027')\nabc(employer='Donnelly-Roberts', department='Training', employee_id='60-5025688', ssn='312-38-7084')\nabc(employer='Dibbert-Koepp', department='Marketing', employee_id='32-2009977', ssn='312-77-3647')\nabc(employer='Torp LLC', department='Training', employee_id='19-4509043', ssn='313-52-7312')\nabc(employer='\"Predovic', department=' Renner and Hansen\"', employee_id='Research and Development', ssn='16-1755710')\nabc(employer='Wehner-Parker', department='Product Management', employee_id='03-5512362', ssn='315-78-5587')\nabc(employer='Dickens LLC', department='Product Management', employee_id='10-9248587', ssn='317-43-2055')\nabc(employer='Howell-Little', department='Legal', employee_id='07-3979239', ssn='319-43-0465')\nabc(employer='\"Deckow', department=' Hudson and Koch\"', employee_id='Research and Development', ssn='45-8944543')\nabc(employer='Will Inc', department='Product Management', employee_id='70-0007392', ssn='323-33-8689')\nabc(employer='Bergnaum and Sons', department='Engineering', employee_id='23-4135932', ssn='324-73-8895')\nabc(employer='\"Heathcote', department=' Gerhold and Kuhlman\"', employee_id='Services', ssn='60-7003804')\nabc(employer='\"Lowe', department=' Tromp and Orn\"', employee_id='Product Management', ssn='95-5467981')\nabc(employer='Hoppe-Dickens', department='Sales', employee_id='72-4063548', ssn='332-83-6591')\nabc(employer='Beahan-Little', department='Sales', employee_id='70-1386102', ssn='333-95-5025')\nabc(employer='Thiel Group', department='Support', employee_id='27-6837894', ssn='336-48-2579')\nabc(employer='\"Homenick', department=' Mitchell and Mills\"', employee_id='Engineering', ssn='44-2643547')\nabc(employer='\"Lind', department=' Auer and Waelchi\"', employee_id='Research and Development', ssn='59-4510364')\nabc(employer='Okuneva and Sons', department='Sales', employee_id='97-4377037', ssn='342-90-9333')\nabc(employer='King Inc', department='Support', employee_id='07-0669669', ssn='343-81-3179')\nabc(employer='\"Bahringer', department=' Pacocha and Ritchie\"', employee_id='Engineering', ssn='92-7514376')\nabc(employer='Sanford-Rohan', department='Engineering', employee_id='89-2980268', ssn='348-73-4312')\nabc(employer='\"Labadie', department=' Lockman and Kozey\"', employee_id='Support', ssn='73-2905417')\nabc(employer='Mann Inc', department='Services', employee_id='09-1183256', ssn='350-20-9593')\nabc(employer='\"Goodwin', department=' Luettgen and Harvey\"', employee_id='Human Resources', ssn='91-4775280')\nabc(employer='Wilderman Inc', department='Legal', employee_id='07-2741705', ssn='355-52-9767')\nabc(employer='Mohr-Padberg', department='Marketing', employee_id='09-4337320', ssn='356-39-9199')\nabc(employer='Kuhn LLC', department='Research and Development', employee_id='12-7386844', ssn='358-84-7049')\nabc(employer='\"Ledner', department=' Weimann and Bernhard\"', employee_id='Accounting', ssn='79-6369486')\nabc(employer=\"D'Amore Inc\", department='Sales', employee_id='97-1951142', ssn='361-49-4597')\nabc(employer='Kautzer and Sons', department='Research and Development', employee_id='56-0050837', ssn='362-09-8563')\nabc(employer='Veum and Sons', department='Engineering', employee_id='78-2982514', ssn='364-25-0166')\nabc(employer=\"Brakus-D'Amore\", department='Human Resources', employee_id='67-0234629', ssn='366-61-0607')\nabc(employer='\"O\\'Kon', department=' Eichmann and Block\"', employee_id='Research and Development', ssn='22-6937844')\nabc(employer='Hackett and Sons', department='Product Management', employee_id='99-2141062', ssn='370-24-5876')\nabc(employer='Adams-Ledner', department='Services', employee_id='40-5208891', ssn='371-28-5892')\nabc(employer='Gleichner Group', department='Research and Development', employee_id='52-7507546', ssn='371-62-3727')\nabc(employer='\"Fahey', department=' Fahey and Gleason\"', employee_id='Product Management', ssn='02-8347934')\nabc(employer='Brekke-Rippin', department='Services', employee_id='01-6025412', ssn='373-67-2734')\nabc(employer='\"Reynolds', department=' Stroman and Pagac\"', employee_id='Marketing', ssn='81-0595624')\nabc(employer='Reynolds-Mosciski', department='Support', employee_id='96-7261958', ssn='378-66-0449')\nabc(employer='Franecki-Wisozk', department='Marketing', employee_id='40-4637900', ssn='378-88-6805')\nabc(employer='McDermott Inc', department='Research and Development', employee_id='90-7715733', ssn='380-33-9730')\nabc(employer='Kuphal-Dicki', department='Product Management', employee_id='47-0586610', ssn='383-18-4058')\nabc(employer='Erdman-Davis', department='Sales', employee_id='18-0647578', ssn='384-94-2772')\nabc(employer='Hamill Group', department='Business Development', employee_id='34-8338291', ssn='385-34-7828')\nabc(employer='\"Turcotte', department=' Shields and Hand\"', employee_id='Marketing', ssn='96-7302690')\nabc(employer='\"Jakubowski', department=' Padberg and Mohr\"', employee_id='Training', ssn='46-6921210')\nabc(employer='Welch-Hamill', department='Engineering', employee_id='22-6182445', ssn='389-31-0910')\nabc(employer='\"Little', department=' Johns and Kuphal\"', employee_id='Human Resources', ssn='58-5489644')\nabc(employer='\"Friesen', department=' Goyette and Satterfield\"', employee_id='Research and Development', ssn='16-1384768')\nabc(employer='Ritchie-Cassin', department='Training', employee_id='67-2306452', ssn='391-73-2830')\nabc(employer='\"Bogan', department=' Stamm and Donnelly\"', employee_id='Legal', ssn='36-2545788')\nabc(employer='Okuneva-Lehner', department='Sales', employee_id='46-4308357', ssn='397-29-8349')\nabc(employer='\"Klocko', department=' Stiedemann and Collier\"', employee_id='Support', ssn='93-7234405')\nabc(employer='Kihn Group', department='Legal', employee_id='57-1893655', ssn='399-81-6133')\nabc(employer='McCullough-Durgan', department='Research and Development', employee_id='00-9482594', ssn='400-77-6007')\nabc(employer='MacGyver-Kihn', department='Marketing', employee_id='70-3011031', ssn='402-65-2055')\nabc(employer='\"Kirlin', department=' Welch and Braun\"', employee_id='Accounting', ssn='81-0591716')\nabc(employer='Keebler Group', department='Product Management', employee_id='57-6192942', ssn='405-25-1422')\nabc(employer='Senger-Breitenberg', department='Marketing', employee_id='86-3769423', ssn='406-24-4867')\nabc(employer='\"Kozey', department=' O\\'Reilly and Nicolas\"', employee_id='Accounting', ssn='01-4265007')\nabc(employer='\"McClure', department=' Erdman and Schumm\"', employee_id='Product Management', ssn='48-1683026')\nabc(employer='Gibson LLC', department='Training', employee_id='75-8998272', ssn='408-98-3291')\nabc(employer='Yost and Sons', department='Sales', employee_id='07-7718175', ssn='409-90-8946')\nabc(employer='West-Auer', department='Business Development', employee_id='30-2738860', ssn='410-76-5092')\nabc(employer='\"Senger', department=' Schuppe and Mueller\"', employee_id='Marketing', ssn='27-0379629')\nabc(employer=\"O'Connell-Stiedemann\", department='Engineering', employee_id='04-4499468', ssn='412-50-9133')\nabc(employer='\"Dooley', department=' Wehner and Mohr\"', employee_id='Legal', ssn='57-0199872')\nabc(employer='\"Treutel', department=' Jerde and Bayer\"', employee_id='Training', ssn='93-8500147')\nabc(employer=\"Rempel-O'Connell\", department='Sales', employee_id='56-9638561', ssn='415-42-0898')\nabc(employer='Metz-Wolf', department='Business Development', employee_id='72-8305549', ssn='416-37-7763')\nabc(employer='Ryan-Schulist', department='Business Development', employee_id='38-2848171', ssn='416-80-6367')\nabc(employer='Heidenreich-Schmitt', department='Training', employee_id='91-4798424', ssn='418-72-1888')\nabc(employer='Schroeder LLC', department='Engineering', employee_id='65-7085477', ssn='420-46-7789')\nabc(employer='Wyman and Sons', department='Support', employee_id='27-4093007', ssn='421-01-2511')\nabc(employer='\"Orn', department=' Willms and Torp\"', employee_id='Support', ssn='25-2477756')\nabc(employer='\"Halvorson', department=' Hammes and Jerde\"', employee_id='Training', ssn='94-6937073')\nabc(employer='Cruickshank-Collins', department='Support', employee_id='19-6964711', ssn='423-88-4721')\nabc(employer='Harvey-Schumm', department='Services', employee_id='68-7788538', ssn='424-91-0692')\nabc(employer='Ondricka LLC', department='Services', employee_id='30-6717008', ssn='426-09-8331')\nabc(employer='Harris-Rau', department='Marketing', employee_id='95-7119223', ssn='426-52-3410')\nabc(employer='Franecki-Block', department='Marketing', employee_id='98-3531089', ssn='427-12-4625')\nabc(employer='\"Casper', department=' Ward and Gleason\"', employee_id='Marketing', ssn='07-5724630')\nabc(employer='\"Heller', department=' Conroy and Ankunding\"', employee_id='Accounting', ssn='80-0769995')\nabc(employer='Rutherford-McCullough', department='Support', employee_id='36-0554843', ssn='430-27-6236')\nabc(employer='Stracke Group', department='Research and Development', employee_id='78-5974454', ssn='432-25-8923')\nabc(employer='Kozey-Prohaska', department='Training', employee_id='05-1069904', ssn='434-41-2365')\nabc(employer='\"Armstrong', department=' Koelpin and Moen\"', employee_id='Business Development', ssn='47-2658940')\nabc(employer='\"Schaefer', department=' McDermott and Bradtke\"', employee_id='Training', ssn='90-8995592')\nabc(employer='Rempel Group', department='Engineering', employee_id='44-0045608', ssn='442-15-1994')\nabc(employer='Bartell-Gerlach', department='Legal', employee_id='84-1354848', ssn='445-49-0727')\nabc(employer='Vandervort-Gutmann', department='Research and Development', employee_id='04-8895735', ssn='446-16-1946')\nabc(employer='Kihn-Cruickshank', department='Human Resources', employee_id='12-3089911', ssn='447-05-5935')\nabc(employer='Grant and Sons', department='Engineering', employee_id='89-8442395', ssn='450-04-1023')\nabc(employer='Reynolds-Balistreri', department='Legal', employee_id='90-5931946', ssn='450-36-4561')\nabc(employer='Frami and Sons', department='Product Management', employee_id='29-7672381', ssn='450-56-7231')\nabc(employer='\"Gutmann', department=' Gibson and Hilpert\"', employee_id='Research and Development', ssn='32-3330955')\nabc(employer='Hagenes Group', department='Sales', employee_id='42-9807742', ssn='452-26-9999')\nabc(employer='\"Jast', department=' Larson and Beer\"', employee_id='Product Management', ssn='91-4250428')\nabc(employer='Berge-Davis', department='Services', employee_id='36-5486054', ssn='455-74-3521')\nabc(employer='\"Wisozk', department=' Ward and Hodkiewicz\"', employee_id='Human Resources', ssn='03-4271568')\nabc(employer='Mueller-Kshlerin', department='Engineering', employee_id='29-7833067', ssn='457-97-6863')\nabc(employer='\"Schowalter', department=' Zemlak and Reinger\"', employee_id='Engineering', ssn='31-0951657')\nabc(employer='McGlynn Inc', department='Legal', employee_id='40-4530675', ssn='461-84-2780')\nabc(employer='Beer Inc', department='Engineering', employee_id='54-3652698', ssn='464-21-1055')\nabc(employer='Kub LLC', department='Business Development', employee_id='45-2091683', ssn='465-96-0362')\nabc(employer='\"Marvin', department=' Christiansen and Roberts\"', employee_id='Legal', ssn='94-2874769')\nabc(employer='Glover Group', department='Business Development', employee_id='82-1905325', ssn='470-34-5693')\nabc(employer='\"McClure', department=' McCullough and Raynor\"', employee_id='Research and Development', ssn='59-7638002')\nabc(employer='\"Leuschke', department=' Sawayn and Hayes\"', employee_id='Business Development', ssn='91-5207907')\nabc(employer='Schneider-Bins', department='Human Resources', employee_id='57-2599249', ssn='474-95-1775')\nabc(employer='\"Pollich', department=' Feil and Collins\"', employee_id='Human Resources', ssn='14-7267200')\nabc(employer='Jast-Gibson', department='Business Development', employee_id='20-0508733', ssn='476-27-0948')\nabc(employer='\"Goldner', department=' Wunsch and Batz\"', employee_id='Accounting', ssn='18-2982615')\nabc(employer='Mueller and Sons', department='Accounting', employee_id='05-6804255', ssn='479-49-8804')\nabc(employer='\"Pagac', department=' Huel and Larson\"', employee_id='Research and Development', ssn='18-6803295')\nabc(employer='Reinger and Sons', department='Services', employee_id='66-5967372', ssn='482-88-7624')\nabc(employer='Sawayn-Weissnat', department='Research and Development', employee_id='24-6330473', ssn='484-36-9255')\nabc(employer='Schamberger-Hirthe', department='Services', employee_id='48-7268338', ssn='485-39-0911')\nabc(employer='Treutel-Lubowitz', department='Services', employee_id='33-5310332', ssn='486-87-1145')\nabc(employer='Turcotte Inc', department='Product Management', employee_id='21-0489175', ssn='488-12-7780')\nabc(employer='Morar-Wisozk', department='Product Management', employee_id='39-0346183', ssn='491-36-8648')\nabc(employer='Lang LLC', department='Training', employee_id='88-1654825', ssn='491-89-4895')\nabc(employer='\"Zemlak', department=' Heathcote and Turner\"', employee_id='Training', ssn='86-5333401')\nabc(employer='Gerlach LLC', department='Services', employee_id='11-5891434', ssn='495-62-6374')\nabc(employer='\"Boyer', department=' Gorczany and Langosh\"', employee_id='Research and Development', ssn='87-9179375')\nabc(employer='\"Bartell', department=' Friesen and Lakin\"', employee_id='Sales', ssn='80-7946674')\nabc(employer='Hickle and Sons', department='Research and Development', employee_id='25-5073339', ssn='499-31-5371')\nabc(employer='Bernier Inc', department='Product Management', employee_id='63-2531739', ssn='499-44-2439')\nabc(employer='Reynolds Group', department='Product Management', employee_id='46-8589624', ssn='500-14-7051')\nabc(employer='Bednar-Stanton', department='Human Resources', employee_id='61-8045719', ssn='500-45-7881')\nabc(employer='Dooley LLC', department='Support', employee_id='52-6171139', ssn='502-07-7030')\nabc(employer='\"Blanda', department=' Yundt and Swaniawski\"', employee_id='Support', ssn='84-0216207')\nabc(employer='Halvorson-Hansen', department='Human Resources', employee_id='67-2670417', ssn='505-88-6030')\nabc(employer='Spinka LLC', department='Training', employee_id='93-5811559', ssn='507-40-9429')\nabc(employer='Treutel and Sons', department='Marketing', employee_id='06-9224510', ssn='507-99-2334')\nabc(employer='Cartwright-Emmerich', department='Marketing', employee_id='33-1047074', ssn='509-39-1128')\nabc(employer=\"O'Conner-Smith\", department='Support', employee_id='06-3287177', ssn='510-34-4633')\nabc(employer='Ebert-Carter', department='Sales', employee_id='03-0999485', ssn='511-95-4867')\nabc(employer='Batz-Effertz', department='Marketing', employee_id='47-6735310', ssn='515-47-1848')\nabc(employer='Osinski-Willms', department='Research and Development', employee_id='92-9925821', ssn='519-15-9299')\nabc(employer='Breitenberg-Wiza', department='Accounting', employee_id='55-6401615', ssn='520-81-0974')\nabc(employer='Boyle LLC', department='Engineering', employee_id='98-6205708', ssn='522-54-3565')\nabc(employer='Bartoletti-Cole', department='Training', employee_id='89-1531099', ssn='523-44-3601')\nabc(employer='Fisher Inc', department='Marketing', employee_id='75-7751638', ssn='523-85-4846')\nabc(employer='Hammes-Mueller', department='Research and Development', employee_id='46-8358553', ssn='524-28-4450')\nabc(employer='Mitchell-Kovacek', department='Product Management', employee_id='98-3030999', ssn='526-98-9361')\nabc(employer='\"Fritsch', department=' Hammes and Treutel\"', employee_id='Legal', ssn='23-7507091')\nabc(employer='Lubowitz-Denesik', department='Product Management', employee_id='39-5211495', ssn='528-26-2803')\nabc(employer='\"Bartoletti', department=' Rice and Conn\"', employee_id='Support', ssn='60-5481083')\nabc(employer='\"Kuhn', department=' Beahan and Yost\"', employee_id='Legal', ssn='65-8117050')\nabc(employer='\"Mills', department=' Schmidt and Orn\"', employee_id='Training', ssn='99-4129786')\nabc(employer='\"Fay', department=' Mayert and Howe\"', employee_id='Services', ssn='10-4744999')\nabc(employer='Lang-Kris', department='Accounting', employee_id='22-8560347', ssn='536-23-6599')\nabc(employer='Miller Inc', department='Training', employee_id='25-0536089', ssn='538-46-6131')\nabc(employer='\"O\\'Kon', department=' Ortiz and Cassin\"', employee_id='Engineering', ssn='00-8992736')\nabc(employer='Erdman-Kulas', department='Marketing', employee_id='39-3672759', ssn='543-38-7657')\nabc(employer='\"Wisoky', department=' Fritsch and Turcotte\"', employee_id='Legal', ssn='82-2479792')\nabc(employer='\"Jacobson', department=' Blick and Balistreri\"', employee_id='Services', ssn='70-8467527')\nabc(employer='\"Gorczany', department=' Green and VonRueden\"', employee_id='Sales', ssn='82-8312036')\nabc(employer='Wilderman-Champlin', department='Research and Development', employee_id='56-2381195', ssn='551-92-2534')\nabc(employer='Heller-Mueller', department='Legal', employee_id='26-3330397', ssn='553-77-2419')\nabc(employer='Gutmann-Rau', department='Accounting', employee_id='83-2806591', ssn='556-13-4040')\nabc(employer='Gibson-Harvey', department='Support', employee_id='64-2696828', ssn='557-33-7476')\nabc(employer='Sipes Group', department='Product Management', employee_id='22-8032150', ssn='558-37-7838')\nabc(employer='Upton and Sons', department='Business Development', employee_id='99-8821201', ssn='559-54-7102')\nabc(employer='Mohr and Sons', department='Marketing', employee_id='12-5612981', ssn='561-96-2313')\nabc(employer='Jakubowski and Sons', department='Legal', employee_id='13-2448573', ssn='562-62-6370')\nabc(employer='\"Ernser', department=' Schmidt and Borer\"', employee_id='Human Resources', ssn='58-3232657')\nabc(employer='\"Mueller', department=' Schuppe and Rempel\"', employee_id='Sales', ssn='76-9375903')\nabc(employer='Brown-Greenfelder', department='Services', employee_id='30-4548148', ssn='567-02-8700')\nabc(employer='Gorczany Group', department='Training', employee_id='99-8156485', ssn='569-26-2487')\nabc(employer='Stroman Group', department='Product Management', employee_id='90-1208918', ssn='570-01-5640')\nabc(employer='\"Bergnaum', department=' Thiel and Kihn\"', employee_id='Training', ssn='45-9507418')\nabc(employer='Marks-Jenkins', department='Marketing', employee_id='76-3583426', ssn='573-94-0348')\nabc(employer='Hoppe Inc', department='Services', employee_id='34-4940732', ssn='574-60-0475')\nabc(employer='McDermott-Hettinger', department='Marketing', employee_id='89-5009277', ssn='576-18-1075')\nabc(employer='Keeling-Gleason', department='Human Resources', employee_id='66-3328204', ssn='578-02-0932')\nabc(employer='\"Walsh', department=' Jast and Hessel\"', employee_id='Engineering', ssn='81-1485490')\nabc(employer='Little and Sons', department='Engineering', employee_id='72-2113419', ssn='581-95-7591')\nabc(employer='Romaguera-Gibson', department='Sales', employee_id='72-7686176', ssn='583-61-3519')\nabc(employer='Will-Auer', department='Support', employee_id='41-7214465', ssn='585-03-2819')\nabc(employer='Hodkiewicz and Sons', department='Training', employee_id='15-1367840', ssn='586-85-4199')\nabc(employer='Romaguera Inc', department='Marketing', employee_id='29-5064089', ssn='588-48-7326')\nabc(employer='Graham Group', department='Accounting', employee_id='10-3700930', ssn='591-02-4614')\nabc(employer='Braun Inc', department='Engineering', employee_id='74-7470747', ssn='591-34-2920')\nabc(employer='Ritchie LLC', department='Sales', employee_id='40-1830316', ssn='594-37-6620')\nabc(employer='Stehr Inc', department='Human Resources', employee_id='61-2533957', ssn='595-51-3047')\nabc(employer='Kozey LLC', department='Marketing', employee_id='81-3779691', ssn='597-45-6867')\nabc(employer='\"Farrell', department=' Schumm and Ullrich\"', employee_id='Support', ssn='81-5994216')\nabc(employer='Koss-Windler', department='Human Resources', employee_id='06-5801036', ssn='599-56-9050')\nabc(employer='\"Bartell', department=' Brakus and Considine\"', employee_id='Marketing', ssn='76-3802991')\nabc(employer='Kohler Inc', department='Product Management', employee_id='91-7839303', ssn='601-01-2163')\nabc(employer='Stiedemann LLC', department='Marketing', employee_id='09-6765955', ssn='601-06-5384')\nabc(employer='\"Romaguera', department=' Torp and Bode\"', employee_id='Human Resources', ssn='07-7590960')\nabc(employer='Hoppe-Gerhold', department='Product Management', employee_id='59-2791586', ssn='604-19-5709')\nabc(employer='\"Rice', department=' Lakin and Bernier\"', employee_id='Human Resources', ssn='87-0668803')\nabc(employer='Reichel-Will', department='Sales', employee_id='03-5313601', ssn='608-13-9301')\nabc(employer='\"Parker', department=' Ritchie and Emard\"', employee_id='Marketing', ssn='79-8311854')\nabc(employer='Schuppe-Lynch', department='Training', employee_id='55-0503985', ssn='617-38-3504')\nabc(employer='\"Gaylord', department=' Leannon and Spinka\"', employee_id='Business Development', ssn='56-7604343')\nabc(employer='Von LLC', department='Services', employee_id='34-5851307', ssn='623-98-4252')\nabc(employer='\"Witting', department=' Hartmann and Leffler\"', employee_id='Engineering', ssn='77-9709375')\nabc(employer=\"Ryan-O'Conner\", department='Business Development', employee_id='82-9396689', ssn='627-91-0537')\nabc(employer='Waters Group', department='Training', employee_id='16-3965633', ssn='629-13-0131')\nabc(employer='Schumm-Cormier', department='Marketing', employee_id='17-9714426', ssn='629-91-9506')\nabc(employer='Ratke Group', department='Training', employee_id='24-0238488', ssn='631-44-9168')\nabc(employer='Murazik-Dickens', department='Product Management', employee_id='62-2635707', ssn='633-96-5921')\nabc(employer='Nicolas-Sipes', department='Research and Development', employee_id='63-5364094', ssn='634-90-4851')\nabc(employer='\"Prosacco', department=' Carter and Collier\"', employee_id='Training', ssn='38-0324761')\nabc(employer='\"Wolf', department=' Hermann and Frami\"', employee_id='Training', ssn='88-4502070')\nabc(employer='Miller Inc', department='Human Resources', employee_id='48-9699715', ssn='643-10-4736')\nabc(employer='\"Parisian', department=' Kutch and Boyle\"', employee_id='Services', ssn='65-6774148')\nabc(employer='\"Ankunding', department=' Hintz and Kling\"', employee_id='Legal', ssn='71-7182616')\nabc(employer='\"Conroy', department=' Strosin and Champlin\"', employee_id='Product Management', ssn='55-8329618')\nabc(employer='Gorczany-Friesen', department='Sales', employee_id='74-1585533', ssn='648-92-3395')\nabc(employer='Becker Inc', department='Product Management', employee_id='91-8337873', ssn='650-73-2431')\nabc(employer='\"Stoltenberg', department=' Ruecker and Simonis\"', employee_id='Accounting', ssn='89-3666606')\nabc(employer='\"Walker', department=' Simonis and Fahey\"', employee_id='Human Resources', ssn='41-5772335')\nabc(employer='\"Gerlach', department=' Leffler and Bartoletti\"', employee_id='Accounting', ssn='52-5955794')\nabc(employer='Nikolaus-Gorczany', department='Engineering', employee_id='67-3043440', ssn='654-68-3903')\nabc(employer='Nitzsche Group', department='Support', employee_id='50-8669060', ssn='655-98-7788')\nabc(employer='Bauch Group', department='Legal', employee_id='14-7760557', ssn='658-21-3014')\nabc(employer='Gleichner Group', department='Marketing', employee_id='82-8849267', ssn='658-97-8544')\nabc(employer='Grimes-Emard', department='Marketing', employee_id='76-1285894', ssn='667-57-3442')\nabc(employer='Stark-Runte', department='Support', employee_id='62-6777890', ssn='669-12-9323')\nabc(employer='\"Bahringer', department=' Jacobs and Schimmel\"', employee_id='Marketing', ssn='93-0656725')\nabc(employer='\"Hoeger', department=' Gleason and Steuber\"', employee_id='Services', ssn='25-5267392')\nabc(employer='Rath Inc', department='Sales', employee_id='26-2704393', ssn='671-16-1411')\nabc(employer='Ruecker Inc', department='Accounting', employee_id='73-9942988', ssn='671-76-8792')\nabc(employer='McKenzie and Sons', department='Product Management', employee_id='64-5521094', ssn='673-83-5713')\nabc(employer='\"Fay', department=' Becker and Purdy\"', employee_id='Training', ssn='00-6483056')\nabc(employer='Kling Group', department='Accounting', employee_id='01-6053786', ssn='678-60-4630')\nabc(employer='\"Satterfield', department=' Wolf and Thiel\"', employee_id='Research and Development', ssn='63-4901321')\nabc(employer='\"Wisozk', department=' Bergnaum and Fahey\"', employee_id='Accounting', ssn='08-3337151')\nabc(employer='Jaskolski-Cremin', department='Services', employee_id='12-9736485', ssn='682-73-2035')\nabc(employer='Ankunding and Sons', department='Engineering', employee_id='50-0020034', ssn='684-95-5429')\nabc(employer='Klocko LLC', department='Human Resources', employee_id='30-6205049', ssn='687-27-5241')\nabc(employer='\"Volkman', department=' Weber and Hilll\"', employee_id='Engineering', ssn='37-7570212')\nabc(employer='Smith-Boehm', department='Training', employee_id='58-0730098', ssn='692-31-0697')\nabc(employer='\"Gleason', department=' Thompson and Adams\"', employee_id='Legal', ssn='96-7179738')\nabc(employer='Hoppe Inc', department='Sales', employee_id='14-6526397', ssn='696-10-4037')\nabc(employer='Cremin-Pollich', department='Product Management', employee_id='97-9912317', ssn='698-76-6576')\nabc(employer='Heller-Price', department='Engineering', employee_id='46-1230529', ssn='699-17-4497')\nabc(employer='Orn-Ritchie', department='Legal', employee_id='93-8453365', ssn='700-73-0102')\nabc(employer='Ledner-Hane', department='Sales', employee_id='32-2514606', ssn='701-53-6262')\nabc(employer='\"Wunsch', department=' Johnson and Kiehn\"', employee_id='Marketing', ssn='47-6501802')\nabc(employer=\"O'Connell-Lehner\", department='Legal', employee_id='98-3357063', ssn='705-15-6989')\nabc(employer='Swaniawski-Goodwin', department='Training', employee_id='37-6864505', ssn='709-73-6600')\nabc(employer='\"Hoeger', department=' Kessler and Feeney\"', employee_id='Legal', ssn='12-0015419')\nabc(employer='\"Zieme', department=' Beatty and Hintz\"', employee_id='Engineering', ssn='26-1194300')\nabc(employer='Wintheiser-Dach', department='Research and Development', employee_id='23-7767142', ssn='719-05-6621')\nabc(employer='Carter-Parker', department='Support', employee_id='40-5571895', ssn='720-63-4381')\nabc(employer='Kub Group', department='Legal', employee_id='93-9415580', ssn='722-64-9283')\nabc(employer='Keebler Inc', department='Sales', employee_id='03-2791013', ssn='724-90-0728')\nabc(employer='Dickens Group', department='Training', employee_id='35-2878417', ssn='727-48-6769')\nabc(employer='Hahn and Sons', department='Services', employee_id='14-2928154', ssn='728-54-5322')\nabc(employer='Becker-Bogisich', department='Research and Development', employee_id='02-3341550', ssn='731-22-8474')\nabc(employer='Hills-Pagac', department='Legal', employee_id='61-8685762', ssn='733-78-5243')\nabc(employer='Grady and Sons', department='Engineering', employee_id='65-1059165', ssn='736-60-2127')\nabc(employer='Nolan-Jacobs', department='Sales', employee_id='33-0137869', ssn='738-38-4091')\nabc(employer='Feeney-Heller', department='Marketing', employee_id='93-2814874', ssn='740-64-7874')\nabc(employer='Koepp-Kutch', department='Sales', employee_id='82-3219784', ssn='741-56-7694')\nabc(employer='Hand Group', department='Business Development', employee_id='69-3955011', ssn='743-75-2371')\nabc(employer='Barrows-Schroeder', department='Engineering', employee_id='50-3503684', ssn='744-87-2990')\nabc(employer='Cruickshank Group', department='Sales', employee_id='12-6803384', ssn='746-55-1405')\nabc(employer='Miller-Kuhic', department='Sales', employee_id='75-1235886', ssn='749-85-8879')\nabc(employer='\"Lowe', department=' Johnston and Zemlak\"', employee_id='Legal', ssn='34-6530835')\nabc(employer='Deckow LLC', department='Product Management', employee_id='30-6030632', ssn='754-49-4659')\nabc(employer='Simonis-Donnelly', department='Product Management', employee_id='66-6961911', ssn='756-40-2283')\nabc(employer='Moore and Sons', department='Accounting', employee_id='34-6680531', ssn='761-01-2227')\nabc(employer='\"Sipes', department=' Kovacek and McDermott\"', employee_id='Legal', ssn='76-4780191')\nabc(employer='\"Olson', department=' McClure and Schiller\"', employee_id='Marketing', ssn='38-2550412')\nabc(employer='\"Fay', department=' Streich and Prohaska\"', employee_id='Training', ssn='29-9795573')\nabc(employer='Little-Dooley', department='Training', employee_id='28-2944796', ssn='767-05-4859')\nabc(employer='Waelchi Inc', department='Support', employee_id='23-9048118', ssn='768-54-5764')\nabc(employer='Greenholt Inc', department='Business Development', employee_id='97-5181434', ssn='770-61-8252')\nabc(employer='Crooks LLC', department='Human Resources', employee_id='71-1703061', ssn='771-71-0505')\nabc(employer='\"Boyer', department=' Mueller and Boyer\"', employee_id='Engineering', ssn='19-9999045')\nabc(employer='\"Wisozk', department=' Daniel and Becker\"', employee_id='Research and Development', ssn='04-6398608')\nabc(employer='Hartmann-Schaden', department='Accounting', employee_id='38-2823318', ssn='777-05-1491')\nabc(employer='Mohr-Tromp', department='Services', employee_id='22-3680088', ssn='777-94-4586')\nabc(employer='\"Emmerich', department=' Auer and Howe\"', employee_id='Accounting', ssn='41-1699228')\nabc(employer='\"Gulgowski', department=' Carroll and Sauer\"', employee_id='Training', ssn='27-6046833')\nabc(employer='\"Murray', department=' Boyle and Bashirian\"', employee_id='Sales', ssn='83-5303621')\nabc(employer='Fisher-Collier', department='Marketing', employee_id='58-3884885', ssn='784-88-0730')\nabc(employer='Cruickshank-Bechtelar', department='Research and Development', employee_id='09-8549621', ssn='786-56-3561')\nabc(employer='Funk Inc', department='Accounting', employee_id='60-3943212', ssn='787-05-9008')\nabc(employer='\"Collins', department=' Blick and Rippin\"', employee_id='Marketing', ssn='09-1706408')\nabc(employer='Hayes-Rutherford', department='Product Management', employee_id='94-7076951', ssn='789-70-1821')\nabc(employer='Rempel-Weissnat', department='Business Development', employee_id='02-0335898', ssn='792-71-8046')\nabc(employer='Rau-Schmidt', department='Legal', employee_id='39-8891615', ssn='795-56-6486')\nabc(employer='Jerde-Nitzsche', department='Engineering', employee_id='76-5567281', ssn='797-05-2289')\nabc(employer='Walker-Lemke', department='Research and Development', employee_id='52-0032929', ssn='797-65-2382')\nabc(employer='Hartmann Group', department='Services', employee_id='92-8673485', ssn='798-34-1082')\nabc(employer='Schuppe LLC', department='Training', employee_id='09-5823092', ssn='800-06-9721')\nabc(employer='Lesch LLC', department='Support', employee_id='66-9572760', ssn='801-92-6460')\nabc(employer='\"Nitzsche', department=' Kilback and Abernathy\"', employee_id='Services', ssn='79-2655397')\nabc(employer='King Inc', department='Marketing', employee_id='28-4538440', ssn='807-24-6202')\nabc(employer='Schneider-Effertz', department='Product Management', employee_id='53-4269406', ssn='807-35-8936')\nabc(employer='\"Mayert', department=' Mueller and Stamm\"', employee_id='Sales', ssn='23-5127432')\nabc(employer='\"Cronin', department=' Reilly and Wilderman\"', employee_id='Legal', ssn='03-8800554')\nabc(employer='\"Nienow', department=' Gaylord and Hartmann\"', employee_id='Services', ssn='41-2452184')\nabc(employer='Schultz LLC', department='Product Management', employee_id='58-2106819', ssn='813-47-5215')\nabc(employer='Hilll Inc', department='Product Management', employee_id='13-3299629', ssn='816-31-3858')\nabc(employer='Waelchi-MacGyver', department='Training', employee_id='17-3761486', ssn='816-90-2049')\nabc(employer='Kilback Group', department='Training', employee_id='00-0438990', ssn='817-25-7437')\nabc(employer='\"Kovacek', department=' Effertz and Kihn\"', employee_id='Business Development', ssn='49-0909555')\nabc(employer='Reichel and Sons', department='Human Resources', employee_id='15-1566614', ssn='819-64-1414')\nabc(employer='\"Crona', department=' Bogan and Beatty\"', employee_id='Business Development', ssn='00-3394171')\nabc(employer='\"Kemmer', department=' Rolfson and Marquardt\"', employee_id='Sales', ssn='60-7054525')\nabc(employer='Marquardt Group', department='Human Resources', employee_id='30-1833919', ssn='824-89-4169')\nabc(employer='\"Marquardt', department=' Wehner and Heathcote\"', employee_id='Legal', ssn='00-8910869')\nabc(employer='\"Bashirian', department=' Beer and Bailey\"', employee_id='Engineering', ssn='38-3479804')\nabc(employer='Johnson Group', department='Sales', employee_id='67-3262618', ssn='835-54-3785')\nabc(employer='Moore-Funk', department='Research and Development', employee_id='04-9339587', ssn='836-99-3309')\nabc(employer='Hermann and Sons', department='Training', employee_id='60-8507863', ssn='838-69-1351')\nabc(employer='Walsh and Sons', department='Legal', employee_id='43-4857392', ssn='841-64-8517')\nabc(employer='Rohan-Nicolas', department='Support', employee_id='75-3856459', ssn='844-15-4668')\nabc(employer='Lesch LLC', department='Marketing', employee_id='65-3499297', ssn='846-07-1407')\nabc(employer='Rolfson and Sons', department='Product Management', employee_id='59-8318028', ssn='846-59-9961')\nabc(employer='Dibbert LLC', department='Support', employee_id='03-7617020', ssn='847-61-7656')\nabc(employer='Macejkovic and Sons', department='Support', employee_id='52-0638791', ssn='848-74-2886')\nabc(employer='\"Yundt', department=' Wehner and Brown\"', employee_id='Legal', ssn='55-0777439')\nabc(employer='Flatley-Huel', department='Sales', employee_id='59-0940865', ssn='849-98-2973')\nabc(employer='Conn Group', department='Training', employee_id='09-7105416', ssn='852-15-7707')\nabc(employer='Barrows Inc', department='Product Management', employee_id='06-3741043', ssn='853-47-3648')\nabc(employer='Blanda-Ferry', department='Product Management', employee_id='74-9087432', ssn='854-71-2983')\nabc(employer='\"Baumbach', department=' Jenkins and Russel\"', employee_id='Product Management', ssn='39-4882068')\nabc(employer='\"Kassulke', department=' Ritchie and Braun\"', employee_id='Accounting', ssn='06-1382466')\nabc(employer='Stark-Pouros', department='Training', employee_id='53-7456817', ssn='858-03-7735')\nabc(employer='Williamson-Lemke', department='Accounting', employee_id='80-9563373', ssn='860-67-0256')\nabc(employer='Stokes Inc', department='Training', employee_id='12-6635955', ssn='861-50-6716')\nabc(employer='\"Thiel', department=' Parker and Hilpert\"', employee_id='Marketing', ssn='20-2324966')\nabc(employer='Bartoletti Inc', department='Support', employee_id='77-7239839', ssn='866-18-1440')\nabc(employer='Nitzsche-Walker', department='Engineering', employee_id='50-5681388', ssn='867-11-6007')\nabc(employer='Emard Inc', department='Business Development', employee_id='49-2589434', ssn='867-88-2360')\nabc(employer='\"Thompson', department=' Parker and Moen\"', employee_id='Research and Development', ssn='46-1484106')\nabc(employer='\"Lueilwitz', department=' Stokes and Kassulke\"', employee_id='Marketing', ssn='16-1937114')\nabc(employer='Cummings-Mertz', department='Sales', employee_id='78-2291834', ssn='872-49-1288')\nabc(employer='Schultz-Medhurst', department='Support', employee_id='56-6050344', ssn='875-18-9454')\nabc(employer='\"Witting', department=' Schuster and Barton\"', employee_id='Research and Development', ssn='54-4161357')\nabc(employer='\"Daugherty', department=' Gislason and Kreiger\"', employee_id='Training', ssn='25-5973403')\nabc(employer='Schumm Inc', department='Services', employee_id='18-8360445', ssn='881-95-7180')\nabc(employer='\"Stanton', department=' Price and Wehner\"', employee_id='Services', ssn='16-5769119')\nabc(employer='Terry and Sons', department='Research and Development', employee_id='06-9390159', ssn='887-83-9002')\nabc(employer='\"Collier', department=' Hilll and Hagenes\"', employee_id='Training', ssn='15-6651242')\nabc(employer='\"Heller', department=' Kihn and Bartoletti\"', employee_id='Research and Development', ssn='56-9393666')\nabc(employer='Orn Inc', department='Human Resources', employee_id='38-4356300', ssn='893-17-7318')\nabc(employer='\"Hilll', department=' Kunze and Beer\"', employee_id='Human Resources', ssn='90-4168298')\nabc(employer='Reilly-Jakubowski', department='Marketing', employee_id='77-6363112', ssn='897-76-7070')\nabc(employer='Olson-Johnson', department='Support', employee_id='36-7761827', ssn='898-86-8860')\nabc(employer='Little-Hansen', department='Business Development', employee_id='45-8154226', ssn='899-39-7179')\nabc(employer='Bednar LLC', department='Support', employee_id='16-6342889', ssn='899-47-6116')\n"
     ]
    }
   ],
   "source": [
    "for i in employee_details:\n",
    "    print(i) "
   ]
  },
  {
   "cell_type": "code",
   "execution_count": 10,
   "metadata": {},
   "outputs": [
    {
     "output_type": "error",
     "ename": "StopIteration",
     "evalue": "",
     "traceback": [
      "\u001b[1;31m---------------------------------------------------------------------------\u001b[0m",
      "\u001b[1;31mStopIteration\u001b[0m                             Traceback (most recent call last)",
      "\u001b[1;32m<ipython-input-10-d96cb5531190>\u001b[0m in \u001b[0;36m<module>\u001b[1;34m\u001b[0m\n\u001b[1;32m----> 1\u001b[1;33m \u001b[0mprint\u001b[0m\u001b[1;33m(\u001b[0m\u001b[0mnext\u001b[0m\u001b[1;33m(\u001b[0m\u001b[0memployee_details\u001b[0m\u001b[1;33m)\u001b[0m\u001b[1;33m)\u001b[0m\u001b[1;33m\u001b[0m\u001b[1;33m\u001b[0m\u001b[0m\n\u001b[0m",
      "\u001b[1;32m<ipython-input-7-c0146e506d67>\u001b[0m in \u001b[0;36m__next__\u001b[1;34m(self)\u001b[0m\n\u001b[0;32m     13\u001b[0m \u001b[1;33m\u001b[0m\u001b[0m\n\u001b[0;32m     14\u001b[0m     \u001b[1;32mdef\u001b[0m \u001b[0m__next__\u001b[0m\u001b[1;33m(\u001b[0m\u001b[0mself\u001b[0m\u001b[1;33m)\u001b[0m\u001b[1;33m:\u001b[0m\u001b[1;33m\u001b[0m\u001b[1;33m\u001b[0m\u001b[0m\n\u001b[1;32m---> 15\u001b[1;33m         \u001b[1;32mreturn\u001b[0m \u001b[0mnext\u001b[0m\u001b[1;33m(\u001b[0m\u001b[0mself\u001b[0m\u001b[1;33m.\u001b[0m\u001b[0memployees_data\u001b[0m\u001b[1;33m)\u001b[0m\u001b[1;33m\u001b[0m\u001b[1;33m\u001b[0m\u001b[0m\n\u001b[0m\u001b[0;32m     16\u001b[0m \u001b[1;33m\u001b[0m\u001b[0m\n",
      "\u001b[1;31mStopIteration\u001b[0m: "
     ]
    }
   ],
   "source": [
    "print(next(employee_details))"
   ]
  },
  {
   "cell_type": "code",
   "execution_count": 51,
   "metadata": {},
   "outputs": [
    {
     "output_type": "error",
     "ename": "TypeError",
     "evalue": "iter() returned non-iterator of type 'type'",
     "traceback": [
      "\u001b[1;31m---------------------------------------------------------------------------\u001b[0m",
      "\u001b[1;31mTypeError\u001b[0m                                 Traceback (most recent call last)",
      "\u001b[1;32m<ipython-input-51-0f1bc76a3ade>\u001b[0m in \u001b[0;36m<module>\u001b[1;34m\u001b[0m\n\u001b[1;32m----> 1\u001b[1;33m \u001b[1;32mfor\u001b[0m \u001b[0mi\u001b[0m \u001b[1;32min\u001b[0m \u001b[0memployee_details\u001b[0m\u001b[1;33m:\u001b[0m\u001b[1;33m\u001b[0m\u001b[1;33m\u001b[0m\u001b[0m\n\u001b[0m\u001b[0;32m      2\u001b[0m     \u001b[0mprint\u001b[0m\u001b[1;33m(\u001b[0m\u001b[0mi\u001b[0m\u001b[1;33m)\u001b[0m\u001b[1;33m\u001b[0m\u001b[1;33m\u001b[0m\u001b[0m\n",
      "\u001b[1;31mTypeError\u001b[0m: iter() returned non-iterator of type 'type'"
     ]
    }
   ],
   "source": [
    "for i in employee_details:\n",
    "    print(i)"
   ]
  },
  {
   "cell_type": "code",
   "execution_count": 60,
   "metadata": {},
   "outputs": [],
   "source": [
    "# Personal Info iterator\n",
    "\n",
    "class iter_pinfo:\n",
    "    def __init__(self):\n",
    "        file_path = r\"assets\\a-1\\personal_info.csv\"\n",
    "        column_types = ['STR','STR', 'STR', 'STR', 'STR']\n",
    "        self.personal_info = get_formatted_data(file_path, column_types, tuple_name= \"PersonalInfo\")\n",
    "\n",
    "        \n",
    "    def __iter__(self):\n",
    "        return personal_info\n",
    "    \n",
    "    def __next__(self):\n",
    "        return next(self.personal_info)"
   ]
  },
  {
   "cell_type": "code",
   "execution_count": 61,
   "metadata": {},
   "outputs": [],
   "source": [
    "employee_details = iter_pinfo()"
   ]
  },
  {
   "cell_type": "code",
   "execution_count": 72,
   "metadata": {},
   "outputs": [
    {
     "output_type": "execute_result",
     "data": {
      "text/plain": [
       "PersonalInfo(ssn='118-21-0357', first_name='Laina', last_name='Bayly', gender='Female', language='Bulgarian')"
      ]
     },
     "metadata": {},
     "execution_count": 72
    }
   ],
   "source": [
    "next(employee_details)"
   ]
  },
  {
   "cell_type": "code",
   "execution_count": 83,
   "metadata": {},
   "outputs": [],
   "source": [
    "class iter_update_status:\n",
    "    def __init__(self, file_path):\n",
    "        self.file_path = file_path\n",
    "        file_path = r\"assets\\a-1\\update_status.csv\"\n",
    "        column_types = ['STR','kATE','DkTE']\n",
    "        self.formatted_data = get_formatted_data(file_path, column_types, tuple_name= \"LastUpdate\")\n",
    "\n",
    "    # def __getitem__():\n",
    "    #     pass\n",
    "        \n",
    "    def __iter__(self):\n",
    "        return personal_info\n",
    "    \n",
    "    def __next__(self):\n",
    "        return next(self.formatted_data)"
   ]
  },
  {
   "cell_type": "code",
   "execution_count": 84,
   "metadata": {},
   "outputs": [],
   "source": [
    "updated_status = iter_update_status()"
   ]
  },
  {
   "cell_type": "code",
   "execution_count": 85,
   "metadata": {},
   "outputs": [
    {
     "output_type": "execute_result",
     "data": {
      "text/plain": [
       "LastUpdate(ssn='101-71-4702', last_updated='2017-01-23T11:23:17Z', created='2016-01-27T04:32:57Z')"
      ]
     },
     "metadata": {},
     "execution_count": 85
    }
   ],
   "source": [
    "next(updated_status)"
   ]
  },
  {
   "cell_type": "code",
   "execution_count": 105,
   "metadata": {},
   "outputs": [],
   "source": [
    "class iter_vehicles:\n",
    "    def __init__(self):\n",
    "        file_path = r\"assets\\a-1\\vehicles.csv\"\n",
    "        column_types = ['STR','STR', 'STR', 'Date']\n",
    "        self.personal_info = get_formatted_data(file_path, column_types, tuple_name= \"VehicleDetails\")\n",
    "        \n",
    "    def __iter__(self):\n",
    "        return self.__class__()\n",
    "    \n",
    "    def __next__(self):\n",
    "        pass\n",
    "    class combined_iterable(self):\n",
    "        self.iter_vehicles"
   ]
  },
  {
   "cell_type": "code",
   "execution_count": 106,
   "metadata": {},
   "outputs": [],
   "source": [
    "vehicle_details = iter_vehicles()"
   ]
  },
  {
   "cell_type": "code",
   "execution_count": 111,
   "metadata": {},
   "outputs": [
    {
     "output_type": "execute_result",
     "data": {
      "text/plain": [
       "type"
      ]
     },
     "metadata": {},
     "execution_count": 111
    }
   ],
   "source": [
    "type(iter_vehicles)"
   ]
  },
  {
   "cell_type": "code",
   "execution_count": 107,
   "metadata": {
    "tags": []
   },
   "outputs": [
    {
     "output_type": "error",
     "ename": "StopIteration",
     "evalue": "",
     "traceback": [
      "\u001b[1;31m---------------------------------------------------------------------------\u001b[0m",
      "\u001b[1;31mStopIteration\u001b[0m                             Traceback (most recent call last)",
      "\u001b[1;32m<ipython-input-107-94ac8f959997>\u001b[0m in \u001b[0;36m<module>\u001b[1;34m\u001b[0m\n\u001b[0;32m      1\u001b[0m \u001b[1;32mfor\u001b[0m \u001b[0mi\u001b[0m \u001b[1;32min\u001b[0m \u001b[0mrange\u001b[0m\u001b[1;33m(\u001b[0m\u001b[1;36m1000\u001b[0m\u001b[1;33m)\u001b[0m\u001b[1;33m:\u001b[0m\u001b[1;33m\u001b[0m\u001b[1;33m\u001b[0m\u001b[0m\n\u001b[1;32m----> 2\u001b[1;33m     \u001b[0mnext\u001b[0m\u001b[1;33m(\u001b[0m\u001b[0mvehicle_details\u001b[0m\u001b[1;33m)\u001b[0m\u001b[1;33m\u001b[0m\u001b[1;33m\u001b[0m\u001b[0m\n\u001b[0m",
      "\u001b[1;32m<ipython-input-105-27b88a532910>\u001b[0m in \u001b[0;36m__next__\u001b[1;34m(self)\u001b[0m\n\u001b[0;32m     12\u001b[0m \u001b[1;33m\u001b[0m\u001b[0m\n\u001b[0;32m     13\u001b[0m     \u001b[1;32mdef\u001b[0m \u001b[0m__next__\u001b[0m\u001b[1;33m(\u001b[0m\u001b[0mself\u001b[0m\u001b[1;33m)\u001b[0m\u001b[1;33m:\u001b[0m\u001b[1;33m\u001b[0m\u001b[1;33m\u001b[0m\u001b[0m\n\u001b[1;32m---> 14\u001b[1;33m         \u001b[1;32mreturn\u001b[0m \u001b[0mnext\u001b[0m\u001b[1;33m(\u001b[0m\u001b[0mself\u001b[0m\u001b[1;33m.\u001b[0m\u001b[0mpersonal_info\u001b[0m\u001b[1;33m)\u001b[0m\u001b[1;33m\u001b[0m\u001b[1;33m\u001b[0m\u001b[0m\n\u001b[0m",
      "\u001b[1;31mStopIteration\u001b[0m: "
     ]
    }
   ],
   "source": [
    "for i in range(1000):\n",
    "    next(vehicle_details)"
   ]
  },
  {
   "source": [
    "Create a single iterable that combines all the columns from all the iterators. The iterable should yield named tuples containing all the columns. Make sure that the SSN's across the files match! All the files are guaranteed to be in SSN sort order, and every SSN is unique, and every SSN appears in every file. Make sure the SSN is not repeated 4 times - one time per row is enough!"
   ],
   "cell_type": "markdown",
   "metadata": {}
  },
  {
   "cell_type": "code",
   "execution_count": 109,
   "metadata": {},
   "outputs": [],
   "source": [
    "    file_path = r\"assets\\a-1\\vehicles.csv\"\n",
    "    column_types = ['STR','STR', 'STR', 'Date']\n",
    "    personal_info = get_formatted_data(file_path, column_types, tuple_name= \"VehicleDetails\")"
   ]
  },
  {
   "cell_type": "code",
   "execution_count": 110,
   "metadata": {},
   "outputs": [
    {
     "output_type": "execute_result",
     "data": {
      "text/plain": [
       "generator"
      ]
     },
     "metadata": {},
     "execution_count": 110
    }
   ],
   "source": [
    "type(personal_info)"
   ]
  },
  {
   "cell_type": "code",
   "execution_count": null,
   "metadata": {},
   "outputs": [],
   "source": [
    "# Iterable that combines columns of all the iterators based on the SSN Numbers\n",
    "\n",
    "class info_iterable:\n",
    "    def __init__(self):\n",
    "        \n",
    "\n",
    "    def __iter__(self):\n",
    "        pass\n",
    "\n",
    "    def __next__(self):\n",
    "        pass\n",
    "\n",
    "    def __getitem__(self):\n",
    "        pass"
   ]
  },
  {
   "source": [
    "## Call open files in the function outside and then send that to iterator, it will combine and throw output"
   ],
   "cell_type": "markdown",
   "metadata": {}
  },
  {
   "source": [
    "# This is the begining"
   ],
   "cell_type": "markdown",
   "metadata": {}
  },
  {
   "cell_type": "code",
   "execution_count": 1,
   "metadata": {},
   "outputs": [],
   "source": [
    "from datetime import datetime\n",
    "from collections import namedtuple, Counter\n",
    "\n",
    "def cast(zipped_obj, date_format=None):\n",
    "    item_list = []\n",
    "    for i in list(zipped_obj):\n",
    "        data_type = i[0]\n",
    "        value = i[1]\n",
    "        if data_type == 'INT':\n",
    "            item_list.append(int(value))\n",
    "        elif data_type == 'DATE':\n",
    "            item_list.append(datetime.strptime(value, date_format)) #'%m/%d/%Y'\n",
    "        else:\n",
    "            item_list.append(str(value))\n",
    "    return item_list\n",
    "\n",
    "def get_formatted_data(file_path:str, list_coltypes:list, tuple_name:str)->int:\n",
    "    '''Returns a namedtuple after casting the content to their appropriate types'''\n",
    "\n",
    "    with open(file_path) as csvfile:\n",
    "        csvreader = iter(csvfile)\n",
    "        # extracting field names through first row \n",
    "        column_names = next(csvreader).strip('\\n').split(',')\n",
    "        car_details = namedtuple(tuple_name, column_names)\n",
    "        \n",
    "        for data in csvreader:\n",
    "            new_details = next(csvreader)\n",
    "            yield(car_details(*cast(zip(list_coltypes,new_details.strip('\\n').split(',')))))"
   ]
  },
  {
   "cell_type": "code",
   "execution_count": 2,
   "metadata": {},
   "outputs": [],
   "source": [
    "class iter_employee:\n",
    "    def __init__(self):\n",
    "        file_path = r\"assets\\a-1\\employment.csv\"\n",
    "        column_types = ['STR','STR', 'STR', 'STR']\n",
    "        self.employees_data = get_formatted_data(file_path, column_types, \"EmployeeDetails\")\n",
    "        print(self.employees_data)\n",
    "        \n",
    "    def __iter__(self):\n",
    "        return self\n",
    "    \n",
    "    def __next__(self):\n",
    "        return next(self.employees_data)\n",
    "        \n",
    "\n",
    "class iter_pinfo:\n",
    "    def __init__(self):\n",
    "        file_path = r\"assets\\a-1\\personal_info.csv\"\n",
    "        column_types = ['STR','STR', 'STR', 'STR', 'STR']\n",
    "        self.personal_info = get_formatted_data(file_path, column_types, tuple_name= \"PersonalInfo\")\n",
    "        \n",
    "    def __iter__(self):\n",
    "        return self\n",
    "    \n",
    "    def __next__(self):\n",
    "        return next(self.personal_info)\n",
    "\n",
    "class iter_vehicles:\n",
    "    def __init__(self):\n",
    "        file_path = r\"assets\\a-1\\vehicles.csv\"\n",
    "        column_types = ['STR','STR', 'STR', 'Date']\n",
    "        self.vehicle_details = get_formatted_data(file_path, column_types, tuple_name= \"VehicleDetails\")\n",
    "        \n",
    "    def __iter__(self):\n",
    "        return self\n",
    "    \n",
    "    def __next__(self):\n",
    "        return next(self.vehicle_details)\n",
    "\n",
    "class iter_update_status:\n",
    "    def __init__(self):\n",
    "        file_path = r\"assets\\a-1\\update_status.csv\"\n",
    "        column_types = ['STR','DATE','DATE']\n",
    "        self.formatted_data = get_formatted_data(file_path, column_types, tuple_name= \"LastUpdate\")\n",
    "        \n",
    "    def __iter__(self):\n",
    "        return self\n",
    "    \n",
    "    def __next__(self):\n",
    "        return next(self.formatted_data)\n",
    "    "
   ]
  },
  {
   "cell_type": "code",
   "execution_count": 59,
   "metadata": {},
   "outputs": [],
   "source": [
    "class MergedIterable:\n",
    "    def __init__(self, iter_employee, iter_pinfo, iter_vehicles, iter_update_status):\n",
    "        self.iter_employee = iter_employee\n",
    "        self.iter_pinfo = iter_pinfo\n",
    "        self.iter_vehicles = iter_vehicles\n",
    "        self.iter_update_status = iter_update_status\n",
    "\n",
    "\n",
    "        self.FinalDetails = namedtuple('FinalDetails', ['ssn','employer', 'department', 'employee_id', \n",
    "        'first_name', 'last_name', 'gender', 'language', \n",
    "        'vehicle_make', 'vehicle_model', 'model_year',\n",
    "        'created', 'last_updated'])\n",
    "\n",
    "        # self.a = self.getdata()\n",
    "\n",
    "    def __iter__(self):\n",
    "        return self.a\n",
    "\n",
    "    def __next__(self):\n",
    "        return next(self.a)\n",
    "        \n",
    "\n",
    "    def getdata(self):\n",
    "\n",
    "        def getmatcheddata(iterator, ssn):\n",
    "            iterator = iterator()\n",
    "            for i in iterator:\n",
    "                if i.ssn == ssn:\n",
    "                    return i\n",
    "            \n",
    "        pemployee = self.iter_employee()\n",
    "        for i in pemployee:\n",
    "            ssn = i.ssn\n",
    "\n",
    "            match_pinfo = getmatcheddata(self.iter_pinfo, ssn)\n",
    "            match_vehicle = getmatcheddata(self.iter_vehicles, ssn)\n",
    "            match_status = getmatcheddata(self.iter_update_status, ssn)\n",
    "\n",
    "            print(i,match_pinfo, match_vehicle, match_status)\n",
    "\n",
    "\n",
    "            yield(self.FinalDetails(i.ssn, i.employer, i.department,i.employee_id,\n",
    "            match_pinfo.first_name, match_pinfo.last_name, match_pinfo.gender, match_pinfo.language,\n",
    "            match_vehicle.vehicle_make, match_vehicle.vehicle_model, match_vehicle.model_year,\n",
    "            match_status.created, match_status.last_updated))"
   ]
  },
  {
   "cell_type": "code",
   "execution_count": 60,
   "metadata": {
    "tags": []
   },
   "outputs": [],
   "source": [
    "a = MergedIterable(iter_employee, iter_pinfo, iter_vehicles ,iter_update_status)"
   ]
  },
  {
   "cell_type": "code",
   "execution_count": 61,
   "metadata": {
    "tags": []
   },
   "outputs": [],
   "source": [
    "b = a.getdata()"
   ]
  },
  {
   "cell_type": "code",
   "execution_count": 64,
   "metadata": {
    "tags": []
   },
   "outputs": [
    {
     "output_type": "stream",
     "name": "stdout",
     "text": [
      "EmployeeDetails(employer='\"Kohler', department=' Bradtke and Davis\"', employee_id='Support', ssn='80-0975518') None None None\n"
     ]
    },
    {
     "output_type": "error",
     "ename": "AttributeError",
     "evalue": "'NoneType' object has no attribute 'first_name'",
     "traceback": [
      "\u001b[1;31m---------------------------------------------------------------------------\u001b[0m",
      "\u001b[1;31mAttributeError\u001b[0m                            Traceback (most recent call last)",
      "\u001b[1;32m<ipython-input-64-adb3e17b0219>\u001b[0m in \u001b[0;36m<module>\u001b[1;34m\u001b[0m\n\u001b[1;32m----> 1\u001b[1;33m \u001b[0mnext\u001b[0m\u001b[1;33m(\u001b[0m\u001b[0mb\u001b[0m\u001b[1;33m)\u001b[0m\u001b[1;33m\u001b[0m\u001b[1;33m\u001b[0m\u001b[0m\n\u001b[0m",
      "\u001b[1;32m<ipython-input-59-06ec3f2333a5>\u001b[0m in \u001b[0;36mgetdata\u001b[1;34m(self)\u001b[0m\n\u001b[0;32m     41\u001b[0m \u001b[1;33m\u001b[0m\u001b[0m\n\u001b[0;32m     42\u001b[0m             yield(self.FinalDetails(i.ssn, i.employer, i.department,i.employee_id,\n\u001b[1;32m---> 43\u001b[1;33m             \u001b[0mmatch_pinfo\u001b[0m\u001b[1;33m.\u001b[0m\u001b[0mfirst_name\u001b[0m\u001b[1;33m,\u001b[0m \u001b[0mmatch_pinfo\u001b[0m\u001b[1;33m.\u001b[0m\u001b[0mlast_name\u001b[0m\u001b[1;33m,\u001b[0m \u001b[0mmatch_pinfo\u001b[0m\u001b[1;33m.\u001b[0m\u001b[0mgender\u001b[0m\u001b[1;33m,\u001b[0m \u001b[0mmatch_pinfo\u001b[0m\u001b[1;33m.\u001b[0m\u001b[0mlanguage\u001b[0m\u001b[1;33m,\u001b[0m\u001b[1;33m\u001b[0m\u001b[1;33m\u001b[0m\u001b[0m\n\u001b[0m\u001b[0;32m     44\u001b[0m             \u001b[0mmatch_vehicle\u001b[0m\u001b[1;33m.\u001b[0m\u001b[0mvehicle_make\u001b[0m\u001b[1;33m,\u001b[0m \u001b[0mmatch_vehicle\u001b[0m\u001b[1;33m.\u001b[0m\u001b[0mvehicle_model\u001b[0m\u001b[1;33m,\u001b[0m \u001b[0mmatch_vehicle\u001b[0m\u001b[1;33m.\u001b[0m\u001b[0mmodel_year\u001b[0m\u001b[1;33m,\u001b[0m\u001b[1;33m\u001b[0m\u001b[1;33m\u001b[0m\u001b[0m\n\u001b[0;32m     45\u001b[0m             match_status.created, match_status.last_updated))\n",
      "\u001b[1;31mAttributeError\u001b[0m: 'NoneType' object has no attribute 'first_name'"
     ]
    }
   ],
   "source": [
    "next(b)  "
   ]
  },
  {
   "cell_type": "code",
   "execution_count": 53,
   "metadata": {
    "tags": [
     "outputPrepend"
    ]
   },
   "outputs": [
    {
     "output_type": "stream",
     "name": "stdout",
     "text": [
      "tment=' Wehner and Mohr\"', employee_id='Legal', ssn='57-0199872')\n<generator object get_formatted_data at 0x0000021FFEF07248>\nEmployeeDetails(employer='\"Treutel', department=' Jerde and Bayer\"', employee_id='Training', ssn='93-8500147')\n<generator object get_formatted_data at 0x0000021FFEF07248>\nEmployeeDetails(employer=\"Rempel-O'Connell\", department='Sales', employee_id='56-9638561', ssn='415-42-0898')\n<generator object get_formatted_data at 0x0000021FFEF07248>\nEmployeeDetails(employer='Metz-Wolf', department='Business Development', employee_id='72-8305549', ssn='416-37-7763')\n<generator object get_formatted_data at 0x0000021FFEF07248>\nEmployeeDetails(employer='Ryan-Schulist', department='Business Development', employee_id='38-2848171', ssn='416-80-6367')\n<generator object get_formatted_data at 0x0000021FFEF07248>\nEmployeeDetails(employer='Heidenreich-Schmitt', department='Training', employee_id='91-4798424', ssn='418-72-1888')\n<generator object get_formatted_data at 0x0000021FFEF07248>\nEmployeeDetails(employer='Schroeder LLC', department='Engineering', employee_id='65-7085477', ssn='420-46-7789')\n<generator object get_formatted_data at 0x0000021FFEF07248>\nEmployeeDetails(employer='Wyman and Sons', department='Support', employee_id='27-4093007', ssn='421-01-2511')\n<generator object get_formatted_data at 0x0000021FFEF07248>\nEmployeeDetails(employer='\"Orn', department=' Willms and Torp\"', employee_id='Support', ssn='25-2477756')\n<generator object get_formatted_data at 0x0000021FFEF07248>\nEmployeeDetails(employer='\"Halvorson', department=' Hammes and Jerde\"', employee_id='Training', ssn='94-6937073')\n<generator object get_formatted_data at 0x0000021FFEF07248>\nEmployeeDetails(employer='Cruickshank-Collins', department='Support', employee_id='19-6964711', ssn='423-88-4721')\n<generator object get_formatted_data at 0x0000021FFEF07248>\nEmployeeDetails(employer='Harvey-Schumm', department='Services', employee_id='68-7788538', ssn='424-91-0692')\n<generator object get_formatted_data at 0x0000021FFEF07248>\nEmployeeDetails(employer='Ondricka LLC', department='Services', employee_id='30-6717008', ssn='426-09-8331')\n<generator object get_formatted_data at 0x0000021FFEF07248>\nEmployeeDetails(employer='Harris-Rau', department='Marketing', employee_id='95-7119223', ssn='426-52-3410')\n<generator object get_formatted_data at 0x0000021FFEF07248>\nEmployeeDetails(employer='Franecki-Block', department='Marketing', employee_id='98-3531089', ssn='427-12-4625')\n<generator object get_formatted_data at 0x0000021FFEF07248>\nEmployeeDetails(employer='\"Casper', department=' Ward and Gleason\"', employee_id='Marketing', ssn='07-5724630')\n<generator object get_formatted_data at 0x0000021FFEF07248>\nEmployeeDetails(employer='\"Heller', department=' Conroy and Ankunding\"', employee_id='Accounting', ssn='80-0769995')\n<generator object get_formatted_data at 0x0000021FFEF07248>\nEmployeeDetails(employer='Rutherford-McCullough', department='Support', employee_id='36-0554843', ssn='430-27-6236')\n<generator object get_formatted_data at 0x0000021FFEF07248>\nEmployeeDetails(employer='Stracke Group', department='Research and Development', employee_id='78-5974454', ssn='432-25-8923')\n<generator object get_formatted_data at 0x0000021FFEF07248>\nEmployeeDetails(employer='Kozey-Prohaska', department='Training', employee_id='05-1069904', ssn='434-41-2365')\n<generator object get_formatted_data at 0x0000021FFEF07248>\nEmployeeDetails(employer='\"Armstrong', department=' Koelpin and Moen\"', employee_id='Business Development', ssn='47-2658940')\n<generator object get_formatted_data at 0x0000021FFEF07248>\nEmployeeDetails(employer='\"Schaefer', department=' McDermott and Bradtke\"', employee_id='Training', ssn='90-8995592')\n<generator object get_formatted_data at 0x0000021FFEF07248>\nEmployeeDetails(employer='Rempel Group', department='Engineering', employee_id='44-0045608', ssn='442-15-1994')\n<generator object get_formatted_data at 0x0000021FFEF07248>\nEmployeeDetails(employer='Bartell-Gerlach', department='Legal', employee_id='84-1354848', ssn='445-49-0727')\n<generator object get_formatted_data at 0x0000021FFEF07248>\nEmployeeDetails(employer='Vandervort-Gutmann', department='Research and Development', employee_id='04-8895735', ssn='446-16-1946')\n<generator object get_formatted_data at 0x0000021FFEF07248>\nEmployeeDetails(employer='Kihn-Cruickshank', department='Human Resources', employee_id='12-3089911', ssn='447-05-5935')\n<generator object get_formatted_data at 0x0000021FFEF07248>\nEmployeeDetails(employer='Grant and Sons', department='Engineering', employee_id='89-8442395', ssn='450-04-1023')\n<generator object get_formatted_data at 0x0000021FFEF07248>\nEmployeeDetails(employer='Reynolds-Balistreri', department='Legal', employee_id='90-5931946', ssn='450-36-4561')\n<generator object get_formatted_data at 0x0000021FFEF07248>\nEmployeeDetails(employer='Frami and Sons', department='Product Management', employee_id='29-7672381', ssn='450-56-7231')\n<generator object get_formatted_data at 0x0000021FFEF07248>\nEmployeeDetails(employer='\"Gutmann', department=' Gibson and Hilpert\"', employee_id='Research and Development', ssn='32-3330955')\n<generator object get_formatted_data at 0x0000021FFEF07248>\nEmployeeDetails(employer='Hagenes Group', department='Sales', employee_id='42-9807742', ssn='452-26-9999')\n<generator object get_formatted_data at 0x0000021FFEF07248>\nEmployeeDetails(employer='\"Jast', department=' Larson and Beer\"', employee_id='Product Management', ssn='91-4250428')\n<generator object get_formatted_data at 0x0000021FFEF07248>\nEmployeeDetails(employer='Berge-Davis', department='Services', employee_id='36-5486054', ssn='455-74-3521')\n<generator object get_formatted_data at 0x0000021FFEF07248>\nEmployeeDetails(employer='\"Wisozk', department=' Ward and Hodkiewicz\"', employee_id='Human Resources', ssn='03-4271568')\n<generator object get_formatted_data at 0x0000021FFEF07248>\nEmployeeDetails(employer='Mueller-Kshlerin', department='Engineering', employee_id='29-7833067', ssn='457-97-6863')\n<generator object get_formatted_data at 0x0000021FFEF07248>\nEmployeeDetails(employer='\"Schowalter', department=' Zemlak and Reinger\"', employee_id='Engineering', ssn='31-0951657')\n<generator object get_formatted_data at 0x0000021FFEF07248>\nEmployeeDetails(employer='McGlynn Inc', department='Legal', employee_id='40-4530675', ssn='461-84-2780')\n<generator object get_formatted_data at 0x0000021FFEF07248>\nEmployeeDetails(employer='Beer Inc', department='Engineering', employee_id='54-3652698', ssn='464-21-1055')\n<generator object get_formatted_data at 0x0000021FFEF07248>\nEmployeeDetails(employer='Kub LLC', department='Business Development', employee_id='45-2091683', ssn='465-96-0362')\n<generator object get_formatted_data at 0x0000021FFEF07248>\nEmployeeDetails(employer='\"Marvin', department=' Christiansen and Roberts\"', employee_id='Legal', ssn='94-2874769')\n<generator object get_formatted_data at 0x0000021FFEF07248>\nEmployeeDetails(employer='Glover Group', department='Business Development', employee_id='82-1905325', ssn='470-34-5693')\n<generator object get_formatted_data at 0x0000021FFEF07248>\nEmployeeDetails(employer='\"McClure', department=' McCullough and Raynor\"', employee_id='Research and Development', ssn='59-7638002')\n<generator object get_formatted_data at 0x0000021FFEF07248>\nEmployeeDetails(employer='\"Leuschke', department=' Sawayn and Hayes\"', employee_id='Business Development', ssn='91-5207907')\n<generator object get_formatted_data at 0x0000021FFEF07248>\nEmployeeDetails(employer='Schneider-Bins', department='Human Resources', employee_id='57-2599249', ssn='474-95-1775')\n<generator object get_formatted_data at 0x0000021FFEF07248>\nEmployeeDetails(employer='\"Pollich', department=' Feil and Collins\"', employee_id='Human Resources', ssn='14-7267200')\n<generator object get_formatted_data at 0x0000021FFEF07248>\nEmployeeDetails(employer='Jast-Gibson', department='Business Development', employee_id='20-0508733', ssn='476-27-0948')\n<generator object get_formatted_data at 0x0000021FFEF07248>\nEmployeeDetails(employer='\"Goldner', department=' Wunsch and Batz\"', employee_id='Accounting', ssn='18-2982615')\n<generator object get_formatted_data at 0x0000021FFEF07248>\nEmployeeDetails(employer='Mueller and Sons', department='Accounting', employee_id='05-6804255', ssn='479-49-8804')\n<generator object get_formatted_data at 0x0000021FFEF07248>\nEmployeeDetails(employer='\"Pagac', department=' Huel and Larson\"', employee_id='Research and Development', ssn='18-6803295')\n<generator object get_formatted_data at 0x0000021FFEF07248>\nEmployeeDetails(employer='Reinger and Sons', department='Services', employee_id='66-5967372', ssn='482-88-7624')\n<generator object get_formatted_data at 0x0000021FFEF07248>\nEmployeeDetails(employer='Sawayn-Weissnat', department='Research and Development', employee_id='24-6330473', ssn='484-36-9255')\n<generator object get_formatted_data at 0x0000021FFEF07248>\nEmployeeDetails(employer='Schamberger-Hirthe', department='Services', employee_id='48-7268338', ssn='485-39-0911')\n<generator object get_formatted_data at 0x0000021FFEF07248>\nEmployeeDetails(employer='Treutel-Lubowitz', department='Services', employee_id='33-5310332', ssn='486-87-1145')\n<generator object get_formatted_data at 0x0000021FFEF07248>\nEmployeeDetails(employer='Turcotte Inc', department='Product Management', employee_id='21-0489175', ssn='488-12-7780')\n<generator object get_formatted_data at 0x0000021FFEF07248>\nEmployeeDetails(employer='Morar-Wisozk', department='Product Management', employee_id='39-0346183', ssn='491-36-8648')\n<generator object get_formatted_data at 0x0000021FFEF07248>\nEmployeeDetails(employer='Lang LLC', department='Training', employee_id='88-1654825', ssn='491-89-4895')\n<generator object get_formatted_data at 0x0000021FFEF07248>\nEmployeeDetails(employer='\"Zemlak', department=' Heathcote and Turner\"', employee_id='Training', ssn='86-5333401')\n<generator object get_formatted_data at 0x0000021FFEF07248>\nEmployeeDetails(employer='Gerlach LLC', department='Services', employee_id='11-5891434', ssn='495-62-6374')\n<generator object get_formatted_data at 0x0000021FFEF07248>\nEmployeeDetails(employer='\"Boyer', department=' Gorczany and Langosh\"', employee_id='Research and Development', ssn='87-9179375')\n<generator object get_formatted_data at 0x0000021FFEF07248>\nEmployeeDetails(employer='\"Bartell', department=' Friesen and Lakin\"', employee_id='Sales', ssn='80-7946674')\n<generator object get_formatted_data at 0x0000021FFEF07248>\nEmployeeDetails(employer='Hickle and Sons', department='Research and Development', employee_id='25-5073339', ssn='499-31-5371')\n<generator object get_formatted_data at 0x0000021FFEF07248>\nEmployeeDetails(employer='Bernier Inc', department='Product Management', employee_id='63-2531739', ssn='499-44-2439')\n<generator object get_formatted_data at 0x0000021FFEF07248>\nEmployeeDetails(employer='Reynolds Group', department='Product Management', employee_id='46-8589624', ssn='500-14-7051')\n<generator object get_formatted_data at 0x0000021FFEF07248>\nEmployeeDetails(employer='Bednar-Stanton', department='Human Resources', employee_id='61-8045719', ssn='500-45-7881')\n<generator object get_formatted_data at 0x0000021FFEF07248>\nEmployeeDetails(employer='Dooley LLC', department='Support', employee_id='52-6171139', ssn='502-07-7030')\n<generator object get_formatted_data at 0x0000021FFEF07248>\nEmployeeDetails(employer='\"Blanda', department=' Yundt and Swaniawski\"', employee_id='Support', ssn='84-0216207')\n<generator object get_formatted_data at 0x0000021FFEF07248>\nEmployeeDetails(employer='Halvorson-Hansen', department='Human Resources', employee_id='67-2670417', ssn='505-88-6030')\n<generator object get_formatted_data at 0x0000021FFEF07248>\nEmployeeDetails(employer='Spinka LLC', department='Training', employee_id='93-5811559', ssn='507-40-9429')\n<generator object get_formatted_data at 0x0000021FFEF07248>\nEmployeeDetails(employer='Treutel and Sons', department='Marketing', employee_id='06-9224510', ssn='507-99-2334')\n<generator object get_formatted_data at 0x0000021FFEF07248>\nEmployeeDetails(employer='Cartwright-Emmerich', department='Marketing', employee_id='33-1047074', ssn='509-39-1128')\n<generator object get_formatted_data at 0x0000021FFEF07248>\nEmployeeDetails(employer=\"O'Conner-Smith\", department='Support', employee_id='06-3287177', ssn='510-34-4633')\n<generator object get_formatted_data at 0x0000021FFEF07248>\nEmployeeDetails(employer='Ebert-Carter', department='Sales', employee_id='03-0999485', ssn='511-95-4867')\n<generator object get_formatted_data at 0x0000021FFEF07248>\nEmployeeDetails(employer='Batz-Effertz', department='Marketing', employee_id='47-6735310', ssn='515-47-1848')\n<generator object get_formatted_data at 0x0000021FFEF07248>\nEmployeeDetails(employer='Osinski-Willms', department='Research and Development', employee_id='92-9925821', ssn='519-15-9299')\n<generator object get_formatted_data at 0x0000021FFEF07248>\nEmployeeDetails(employer='Breitenberg-Wiza', department='Accounting', employee_id='55-6401615', ssn='520-81-0974')\n<generator object get_formatted_data at 0x0000021FFEF07248>\nEmployeeDetails(employer='Boyle LLC', department='Engineering', employee_id='98-6205708', ssn='522-54-3565')\n<generator object get_formatted_data at 0x0000021FFEF07248>\nEmployeeDetails(employer='Bartoletti-Cole', department='Training', employee_id='89-1531099', ssn='523-44-3601')\n<generator object get_formatted_data at 0x0000021FFEF07248>\nEmployeeDetails(employer='Fisher Inc', department='Marketing', employee_id='75-7751638', ssn='523-85-4846')\n<generator object get_formatted_data at 0x0000021FFEF07248>\nEmployeeDetails(employer='Hammes-Mueller', department='Research and Development', employee_id='46-8358553', ssn='524-28-4450')\n<generator object get_formatted_data at 0x0000021FFEF07248>\nEmployeeDetails(employer='Mitchell-Kovacek', department='Product Management', employee_id='98-3030999', ssn='526-98-9361')\n<generator object get_formatted_data at 0x0000021FFEF07248>\nEmployeeDetails(employer='\"Fritsch', department=' Hammes and Treutel\"', employee_id='Legal', ssn='23-7507091')\n<generator object get_formatted_data at 0x0000021FFEF07248>\nEmployeeDetails(employer='Lubowitz-Denesik', department='Product Management', employee_id='39-5211495', ssn='528-26-2803')\n<generator object get_formatted_data at 0x0000021FFEF07248>\nEmployeeDetails(employer='\"Bartoletti', department=' Rice and Conn\"', employee_id='Support', ssn='60-5481083')\n<generator object get_formatted_data at 0x0000021FFEF07248>\nEmployeeDetails(employer='\"Kuhn', department=' Beahan and Yost\"', employee_id='Legal', ssn='65-8117050')\n<generator object get_formatted_data at 0x0000021FFEF07248>\nEmployeeDetails(employer='\"Mills', department=' Schmidt and Orn\"', employee_id='Training', ssn='99-4129786')\n<generator object get_formatted_data at 0x0000021FFEF07248>\nEmployeeDetails(employer='\"Fay', department=' Mayert and Howe\"', employee_id='Services', ssn='10-4744999')\n<generator object get_formatted_data at 0x0000021FFEF07248>\nEmployeeDetails(employer='Lang-Kris', department='Accounting', employee_id='22-8560347', ssn='536-23-6599')\n<generator object get_formatted_data at 0x0000021FFEF07248>\nEmployeeDetails(employer='Miller Inc', department='Training', employee_id='25-0536089', ssn='538-46-6131')\n<generator object get_formatted_data at 0x0000021FFEF07248>\nEmployeeDetails(employer='\"O\\'Kon', department=' Ortiz and Cassin\"', employee_id='Engineering', ssn='00-8992736')\n<generator object get_formatted_data at 0x0000021FFEF07248>\nEmployeeDetails(employer='Erdman-Kulas', department='Marketing', employee_id='39-3672759', ssn='543-38-7657')\n<generator object get_formatted_data at 0x0000021FFEF07248>\nEmployeeDetails(employer='\"Wisoky', department=' Fritsch and Turcotte\"', employee_id='Legal', ssn='82-2479792')\n<generator object get_formatted_data at 0x0000021FFEF07248>\nEmployeeDetails(employer='\"Jacobson', department=' Blick and Balistreri\"', employee_id='Services', ssn='70-8467527')\n<generator object get_formatted_data at 0x0000021FFEF07248>\nEmployeeDetails(employer='\"Gorczany', department=' Green and VonRueden\"', employee_id='Sales', ssn='82-8312036')\n<generator object get_formatted_data at 0x0000021FFEF07248>\nEmployeeDetails(employer='Wilderman-Champlin', department='Research and Development', employee_id='56-2381195', ssn='551-92-2534')\n<generator object get_formatted_data at 0x0000021FFEF07248>\nEmployeeDetails(employer='Heller-Mueller', department='Legal', employee_id='26-3330397', ssn='553-77-2419')\n<generator object get_formatted_data at 0x0000021FFEF07248>\nEmployeeDetails(employer='Gutmann-Rau', department='Accounting', employee_id='83-2806591', ssn='556-13-4040')\n<generator object get_formatted_data at 0x0000021FFEF07248>\nEmployeeDetails(employer='Gibson-Harvey', department='Support', employee_id='64-2696828', ssn='557-33-7476')\n<generator object get_formatted_data at 0x0000021FFEF07248>\nEmployeeDetails(employer='Sipes Group', department='Product Management', employee_id='22-8032150', ssn='558-37-7838')\n<generator object get_formatted_data at 0x0000021FFEF07248>\nEmployeeDetails(employer='Upton and Sons', department='Business Development', employee_id='99-8821201', ssn='559-54-7102')\n<generator object get_formatted_data at 0x0000021FFEF07248>\nEmployeeDetails(employer='Mohr and Sons', department='Marketing', employee_id='12-5612981', ssn='561-96-2313')\n<generator object get_formatted_data at 0x0000021FFEF07248>\nEmployeeDetails(employer='Jakubowski and Sons', department='Legal', employee_id='13-2448573', ssn='562-62-6370')\n<generator object get_formatted_data at 0x0000021FFEF07248>\nEmployeeDetails(employer='\"Ernser', department=' Schmidt and Borer\"', employee_id='Human Resources', ssn='58-3232657')\n<generator object get_formatted_data at 0x0000021FFEF07248>\nEmployeeDetails(employer='\"Mueller', department=' Schuppe and Rempel\"', employee_id='Sales', ssn='76-9375903')\n<generator object get_formatted_data at 0x0000021FFEF07248>\nEmployeeDetails(employer='Brown-Greenfelder', department='Services', employee_id='30-4548148', ssn='567-02-8700')\n<generator object get_formatted_data at 0x0000021FFEF07248>\nEmployeeDetails(employer='Gorczany Group', department='Training', employee_id='99-8156485', ssn='569-26-2487')\n<generator object get_formatted_data at 0x0000021FFEF07248>\nEmployeeDetails(employer='Stroman Group', department='Product Management', employee_id='90-1208918', ssn='570-01-5640')\n<generator object get_formatted_data at 0x0000021FFEF07248>\nEmployeeDetails(employer='\"Bergnaum', department=' Thiel and Kihn\"', employee_id='Training', ssn='45-9507418')\n<generator object get_formatted_data at 0x0000021FFEF07248>\nEmployeeDetails(employer='Marks-Jenkins', department='Marketing', employee_id='76-3583426', ssn='573-94-0348')\n<generator object get_formatted_data at 0x0000021FFEF07248>\nEmployeeDetails(employer='Hoppe Inc', department='Services', employee_id='34-4940732', ssn='574-60-0475')\n<generator object get_formatted_data at 0x0000021FFEF07248>\nEmployeeDetails(employer='McDermott-Hettinger', department='Marketing', employee_id='89-5009277', ssn='576-18-1075')\n<generator object get_formatted_data at 0x0000021FFEF07248>\nEmployeeDetails(employer='Keeling-Gleason', department='Human Resources', employee_id='66-3328204', ssn='578-02-0932')\n<generator object get_formatted_data at 0x0000021FFEF07248>\nEmployeeDetails(employer='\"Walsh', department=' Jast and Hessel\"', employee_id='Engineering', ssn='81-1485490')\n<generator object get_formatted_data at 0x0000021FFEF07248>\nEmployeeDetails(employer='Little and Sons', department='Engineering', employee_id='72-2113419', ssn='581-95-7591')\n<generator object get_formatted_data at 0x0000021FFEF07248>\nEmployeeDetails(employer='Romaguera-Gibson', department='Sales', employee_id='72-7686176', ssn='583-61-3519')\n<generator object get_formatted_data at 0x0000021FFEF07248>\nEmployeeDetails(employer='Will-Auer', department='Support', employee_id='41-7214465', ssn='585-03-2819')\n<generator object get_formatted_data at 0x0000021FFEF07248>\nEmployeeDetails(employer='Hodkiewicz and Sons', department='Training', employee_id='15-1367840', ssn='586-85-4199')\n<generator object get_formatted_data at 0x0000021FFEF07248>\nEmployeeDetails(employer='Romaguera Inc', department='Marketing', employee_id='29-5064089', ssn='588-48-7326')\n<generator object get_formatted_data at 0x0000021FFEF07248>\nEmployeeDetails(employer='Graham Group', department='Accounting', employee_id='10-3700930', ssn='591-02-4614')\n<generator object get_formatted_data at 0x0000021FFEF07248>\nEmployeeDetails(employer='Braun Inc', department='Engineering', employee_id='74-7470747', ssn='591-34-2920')\n<generator object get_formatted_data at 0x0000021FFEF07248>\nEmployeeDetails(employer='Ritchie LLC', department='Sales', employee_id='40-1830316', ssn='594-37-6620')\n<generator object get_formatted_data at 0x0000021FFEF07248>\nEmployeeDetails(employer='Stehr Inc', department='Human Resources', employee_id='61-2533957', ssn='595-51-3047')\n<generator object get_formatted_data at 0x0000021FFEF07248>\nEmployeeDetails(employer='Kozey LLC', department='Marketing', employee_id='81-3779691', ssn='597-45-6867')\n<generator object get_formatted_data at 0x0000021FFEF07248>\nEmployeeDetails(employer='\"Farrell', department=' Schumm and Ullrich\"', employee_id='Support', ssn='81-5994216')\n<generator object get_formatted_data at 0x0000021FFEF07248>\nEmployeeDetails(employer='Koss-Windler', department='Human Resources', employee_id='06-5801036', ssn='599-56-9050')\n<generator object get_formatted_data at 0x0000021FFEF07248>\nEmployeeDetails(employer='\"Bartell', department=' Brakus and Considine\"', employee_id='Marketing', ssn='76-3802991')\n<generator object get_formatted_data at 0x0000021FFEF07248>\nEmployeeDetails(employer='Kohler Inc', department='Product Management', employee_id='91-7839303', ssn='601-01-2163')\n<generator object get_formatted_data at 0x0000021FFEF07248>\nEmployeeDetails(employer='Stiedemann LLC', department='Marketing', employee_id='09-6765955', ssn='601-06-5384')\n<generator object get_formatted_data at 0x0000021FFEF07248>\nEmployeeDetails(employer='\"Romaguera', department=' Torp and Bode\"', employee_id='Human Resources', ssn='07-7590960')\n<generator object get_formatted_data at 0x0000021FFEF07248>\nEmployeeDetails(employer='Hoppe-Gerhold', department='Product Management', employee_id='59-2791586', ssn='604-19-5709')\n<generator object get_formatted_data at 0x0000021FFEF07248>\nEmployeeDetails(employer='\"Rice', department=' Lakin and Bernier\"', employee_id='Human Resources', ssn='87-0668803')\n<generator object get_formatted_data at 0x0000021FFEF07248>\nEmployeeDetails(employer='Reichel-Will', department='Sales', employee_id='03-5313601', ssn='608-13-9301')\n<generator object get_formatted_data at 0x0000021FFEF07248>\nEmployeeDetails(employer='\"Parker', department=' Ritchie and Emard\"', employee_id='Marketing', ssn='79-8311854')\n<generator object get_formatted_data at 0x0000021FFEF07248>\nEmployeeDetails(employer='Schuppe-Lynch', department='Training', employee_id='55-0503985', ssn='617-38-3504')\n<generator object get_formatted_data at 0x0000021FFEF07248>\nEmployeeDetails(employer='\"Gaylord', department=' Leannon and Spinka\"', employee_id='Business Development', ssn='56-7604343')\n<generator object get_formatted_data at 0x0000021FFEF07248>\nEmployeeDetails(employer='Von LLC', department='Services', employee_id='34-5851307', ssn='623-98-4252')\n<generator object get_formatted_data at 0x0000021FFEF07248>\nEmployeeDetails(employer='\"Witting', department=' Hartmann and Leffler\"', employee_id='Engineering', ssn='77-9709375')\n<generator object get_formatted_data at 0x0000021FFEF07248>\nEmployeeDetails(employer=\"Ryan-O'Conner\", department='Business Development', employee_id='82-9396689', ssn='627-91-0537')\n<generator object get_formatted_data at 0x0000021FFEF07248>\nEmployeeDetails(employer='Waters Group', department='Training', employee_id='16-3965633', ssn='629-13-0131')\n<generator object get_formatted_data at 0x0000021FFEF07248>\nEmployeeDetails(employer='Schumm-Cormier', department='Marketing', employee_id='17-9714426', ssn='629-91-9506')\n<generator object get_formatted_data at 0x0000021FFEF07248>\nEmployeeDetails(employer='Ratke Group', department='Training', employee_id='24-0238488', ssn='631-44-9168')\n<generator object get_formatted_data at 0x0000021FFEF07248>\nEmployeeDetails(employer='Murazik-Dickens', department='Product Management', employee_id='62-2635707', ssn='633-96-5921')\n<generator object get_formatted_data at 0x0000021FFEF07248>\nEmployeeDetails(employer='Nicolas-Sipes', department='Research and Development', employee_id='63-5364094', ssn='634-90-4851')\n<generator object get_formatted_data at 0x0000021FFEF07248>\nEmployeeDetails(employer='\"Prosacco', department=' Carter and Collier\"', employee_id='Training', ssn='38-0324761')\n<generator object get_formatted_data at 0x0000021FFEF07248>\nEmployeeDetails(employer='\"Wolf', department=' Hermann and Frami\"', employee_id='Training', ssn='88-4502070')\n<generator object get_formatted_data at 0x0000021FFEF07248>\nEmployeeDetails(employer='Miller Inc', department='Human Resources', employee_id='48-9699715', ssn='643-10-4736')\n<generator object get_formatted_data at 0x0000021FFEF07248>\nEmployeeDetails(employer='\"Parisian', department=' Kutch and Boyle\"', employee_id='Services', ssn='65-6774148')\n<generator object get_formatted_data at 0x0000021FFEF07248>\nEmployeeDetails(employer='\"Ankunding', department=' Hintz and Kling\"', employee_id='Legal', ssn='71-7182616')\n<generator object get_formatted_data at 0x0000021FFEF07248>\nEmployeeDetails(employer='\"Conroy', department=' Strosin and Champlin\"', employee_id='Product Management', ssn='55-8329618')\n<generator object get_formatted_data at 0x0000021FFEF07248>\nEmployeeDetails(employer='Gorczany-Friesen', department='Sales', employee_id='74-1585533', ssn='648-92-3395')\n<generator object get_formatted_data at 0x0000021FFEF07248>\nEmployeeDetails(employer='Becker Inc', department='Product Management', employee_id='91-8337873', ssn='650-73-2431')\n<generator object get_formatted_data at 0x0000021FFEF07248>\nEmployeeDetails(employer='\"Stoltenberg', department=' Ruecker and Simonis\"', employee_id='Accounting', ssn='89-3666606')\n<generator object get_formatted_data at 0x0000021FFEF07248>\nEmployeeDetails(employer='\"Walker', department=' Simonis and Fahey\"', employee_id='Human Resources', ssn='41-5772335')\n<generator object get_formatted_data at 0x0000021FFEF07248>\nEmployeeDetails(employer='\"Gerlach', department=' Leffler and Bartoletti\"', employee_id='Accounting', ssn='52-5955794')\n<generator object get_formatted_data at 0x0000021FFEF07248>\nEmployeeDetails(employer='Nikolaus-Gorczany', department='Engineering', employee_id='67-3043440', ssn='654-68-3903')\n<generator object get_formatted_data at 0x0000021FFEF07248>\nEmployeeDetails(employer='Nitzsche Group', department='Support', employee_id='50-8669060', ssn='655-98-7788')\n<generator object get_formatted_data at 0x0000021FFEF07248>\nEmployeeDetails(employer='Bauch Group', department='Legal', employee_id='14-7760557', ssn='658-21-3014')\n<generator object get_formatted_data at 0x0000021FFEF07248>\nEmployeeDetails(employer='Gleichner Group', department='Marketing', employee_id='82-8849267', ssn='658-97-8544')\n<generator object get_formatted_data at 0x0000021FFEF07248>\nEmployeeDetails(employer='Grimes-Emard', department='Marketing', employee_id='76-1285894', ssn='667-57-3442')\n<generator object get_formatted_data at 0x0000021FFEF07248>\nEmployeeDetails(employer='Stark-Runte', department='Support', employee_id='62-6777890', ssn='669-12-9323')\n<generator object get_formatted_data at 0x0000021FFEF07248>\nEmployeeDetails(employer='\"Bahringer', department=' Jacobs and Schimmel\"', employee_id='Marketing', ssn='93-0656725')\n<generator object get_formatted_data at 0x0000021FFEF07248>\nEmployeeDetails(employer='\"Hoeger', department=' Gleason and Steuber\"', employee_id='Services', ssn='25-5267392')\n<generator object get_formatted_data at 0x0000021FFEF07248>\nEmployeeDetails(employer='Rath Inc', department='Sales', employee_id='26-2704393', ssn='671-16-1411')\n<generator object get_formatted_data at 0x0000021FFEF07248>\nEmployeeDetails(employer='Ruecker Inc', department='Accounting', employee_id='73-9942988', ssn='671-76-8792')\n<generator object get_formatted_data at 0x0000021FFEF07248>\nEmployeeDetails(employer='McKenzie and Sons', department='Product Management', employee_id='64-5521094', ssn='673-83-5713')\n<generator object get_formatted_data at 0x0000021FFEF07248>\nEmployeeDetails(employer='\"Fay', department=' Becker and Purdy\"', employee_id='Training', ssn='00-6483056')\n<generator object get_formatted_data at 0x0000021FFEF07248>\nEmployeeDetails(employer='Kling Group', department='Accounting', employee_id='01-6053786', ssn='678-60-4630')\n<generator object get_formatted_data at 0x0000021FFEF07248>\nEmployeeDetails(employer='\"Satterfield', department=' Wolf and Thiel\"', employee_id='Research and Development', ssn='63-4901321')\n<generator object get_formatted_data at 0x0000021FFEF07248>\nEmployeeDetails(employer='\"Wisozk', department=' Bergnaum and Fahey\"', employee_id='Accounting', ssn='08-3337151')\n<generator object get_formatted_data at 0x0000021FFEF07248>\nEmployeeDetails(employer='Jaskolski-Cremin', department='Services', employee_id='12-9736485', ssn='682-73-2035')\n<generator object get_formatted_data at 0x0000021FFEF07248>\nEmployeeDetails(employer='Ankunding and Sons', department='Engineering', employee_id='50-0020034', ssn='684-95-5429')\n<generator object get_formatted_data at 0x0000021FFEF07248>\nEmployeeDetails(employer='Klocko LLC', department='Human Resources', employee_id='30-6205049', ssn='687-27-5241')\n<generator object get_formatted_data at 0x0000021FFEF07248>\nEmployeeDetails(employer='\"Volkman', department=' Weber and Hilll\"', employee_id='Engineering', ssn='37-7570212')\n<generator object get_formatted_data at 0x0000021FFEF07248>\nEmployeeDetails(employer='Smith-Boehm', department='Training', employee_id='58-0730098', ssn='692-31-0697')\n<generator object get_formatted_data at 0x0000021FFEF07248>\nEmployeeDetails(employer='\"Gleason', department=' Thompson and Adams\"', employee_id='Legal', ssn='96-7179738')\n<generator object get_formatted_data at 0x0000021FFEF07248>\nEmployeeDetails(employer='Hoppe Inc', department='Sales', employee_id='14-6526397', ssn='696-10-4037')\n<generator object get_formatted_data at 0x0000021FFEF07248>\nEmployeeDetails(employer='Cremin-Pollich', department='Product Management', employee_id='97-9912317', ssn='698-76-6576')\n<generator object get_formatted_data at 0x0000021FFEF07248>\nEmployeeDetails(employer='Heller-Price', department='Engineering', employee_id='46-1230529', ssn='699-17-4497')\n<generator object get_formatted_data at 0x0000021FFEF07248>\nEmployeeDetails(employer='Orn-Ritchie', department='Legal', employee_id='93-8453365', ssn='700-73-0102')\n<generator object get_formatted_data at 0x0000021FFEF07248>\nEmployeeDetails(employer='Ledner-Hane', department='Sales', employee_id='32-2514606', ssn='701-53-6262')\n<generator object get_formatted_data at 0x0000021FFEF07248>\nEmployeeDetails(employer='\"Wunsch', department=' Johnson and Kiehn\"', employee_id='Marketing', ssn='47-6501802')\n<generator object get_formatted_data at 0x0000021FFEF07248>\nEmployeeDetails(employer=\"O'Connell-Lehner\", department='Legal', employee_id='98-3357063', ssn='705-15-6989')\n<generator object get_formatted_data at 0x0000021FFEF07248>\nEmployeeDetails(employer='Swaniawski-Goodwin', department='Training', employee_id='37-6864505', ssn='709-73-6600')\n<generator object get_formatted_data at 0x0000021FFEF07248>\nEmployeeDetails(employer='\"Hoeger', department=' Kessler and Feeney\"', employee_id='Legal', ssn='12-0015419')\n<generator object get_formatted_data at 0x0000021FFEF07248>\nEmployeeDetails(employer='\"Zieme', department=' Beatty and Hintz\"', employee_id='Engineering', ssn='26-1194300')\n<generator object get_formatted_data at 0x0000021FFEF07248>\nEmployeeDetails(employer='Wintheiser-Dach', department='Research and Development', employee_id='23-7767142', ssn='719-05-6621')\n<generator object get_formatted_data at 0x0000021FFEF07248>\nEmployeeDetails(employer='Carter-Parker', department='Support', employee_id='40-5571895', ssn='720-63-4381')\n<generator object get_formatted_data at 0x0000021FFEF07248>\nEmployeeDetails(employer='Kub Group', department='Legal', employee_id='93-9415580', ssn='722-64-9283')\n<generator object get_formatted_data at 0x0000021FFEF07248>\nEmployeeDetails(employer='Keebler Inc', department='Sales', employee_id='03-2791013', ssn='724-90-0728')\n<generator object get_formatted_data at 0x0000021FFEF07248>\nEmployeeDetails(employer='Dickens Group', department='Training', employee_id='35-2878417', ssn='727-48-6769')\n<generator object get_formatted_data at 0x0000021FFEF07248>\nEmployeeDetails(employer='Hahn and Sons', department='Services', employee_id='14-2928154', ssn='728-54-5322')\n<generator object get_formatted_data at 0x0000021FFEF07248>\nEmployeeDetails(employer='Becker-Bogisich', department='Research and Development', employee_id='02-3341550', ssn='731-22-8474')\n<generator object get_formatted_data at 0x0000021FFEF07248>\nEmployeeDetails(employer='Hills-Pagac', department='Legal', employee_id='61-8685762', ssn='733-78-5243')\n<generator object get_formatted_data at 0x0000021FFEF07248>\nEmployeeDetails(employer='Grady and Sons', department='Engineering', employee_id='65-1059165', ssn='736-60-2127')\n<generator object get_formatted_data at 0x0000021FFEF07248>\nEmployeeDetails(employer='Nolan-Jacobs', department='Sales', employee_id='33-0137869', ssn='738-38-4091')\n<generator object get_formatted_data at 0x0000021FFEF07248>\nEmployeeDetails(employer='Feeney-Heller', department='Marketing', employee_id='93-2814874', ssn='740-64-7874')\n<generator object get_formatted_data at 0x0000021FFEF07248>\nEmployeeDetails(employer='Koepp-Kutch', department='Sales', employee_id='82-3219784', ssn='741-56-7694')\n<generator object get_formatted_data at 0x0000021FFEF07248>\nEmployeeDetails(employer='Hand Group', department='Business Development', employee_id='69-3955011', ssn='743-75-2371')\n<generator object get_formatted_data at 0x0000021FFEF07248>\nEmployeeDetails(employer='Barrows-Schroeder', department='Engineering', employee_id='50-3503684', ssn='744-87-2990')\n<generator object get_formatted_data at 0x0000021FFEF07248>\nEmployeeDetails(employer='Cruickshank Group', department='Sales', employee_id='12-6803384', ssn='746-55-1405')\n<generator object get_formatted_data at 0x0000021FFEF07248>\nEmployeeDetails(employer='Miller-Kuhic', department='Sales', employee_id='75-1235886', ssn='749-85-8879')\n<generator object get_formatted_data at 0x0000021FFEF07248>\nEmployeeDetails(employer='\"Lowe', department=' Johnston and Zemlak\"', employee_id='Legal', ssn='34-6530835')\n<generator object get_formatted_data at 0x0000021FFEF07248>\nEmployeeDetails(employer='Deckow LLC', department='Product Management', employee_id='30-6030632', ssn='754-49-4659')\n<generator object get_formatted_data at 0x0000021FFEF07248>\nEmployeeDetails(employer='Simonis-Donnelly', department='Product Management', employee_id='66-6961911', ssn='756-40-2283')\n<generator object get_formatted_data at 0x0000021FFEF07248>\nEmployeeDetails(employer='Moore and Sons', department='Accounting', employee_id='34-6680531', ssn='761-01-2227')\n<generator object get_formatted_data at 0x0000021FFEF07248>\nEmployeeDetails(employer='\"Sipes', department=' Kovacek and McDermott\"', employee_id='Legal', ssn='76-4780191')\n<generator object get_formatted_data at 0x0000021FFEF07248>\nEmployeeDetails(employer='\"Olson', department=' McClure and Schiller\"', employee_id='Marketing', ssn='38-2550412')\n<generator object get_formatted_data at 0x0000021FFEF07248>\nEmployeeDetails(employer='\"Fay', department=' Streich and Prohaska\"', employee_id='Training', ssn='29-9795573')\n<generator object get_formatted_data at 0x0000021FFEF07248>\nEmployeeDetails(employer='Little-Dooley', department='Training', employee_id='28-2944796', ssn='767-05-4859')\n<generator object get_formatted_data at 0x0000021FFEF07248>\nEmployeeDetails(employer='Waelchi Inc', department='Support', employee_id='23-9048118', ssn='768-54-5764')\n<generator object get_formatted_data at 0x0000021FFEF07248>\nEmployeeDetails(employer='Greenholt Inc', department='Business Development', employee_id='97-5181434', ssn='770-61-8252')\n<generator object get_formatted_data at 0x0000021FFEF07248>\nEmployeeDetails(employer='Crooks LLC', department='Human Resources', employee_id='71-1703061', ssn='771-71-0505')\n<generator object get_formatted_data at 0x0000021FFEF07248>\nEmployeeDetails(employer='\"Boyer', department=' Mueller and Boyer\"', employee_id='Engineering', ssn='19-9999045')\n<generator object get_formatted_data at 0x0000021FFEF07248>\nEmployeeDetails(employer='\"Wisozk', department=' Daniel and Becker\"', employee_id='Research and Development', ssn='04-6398608')\n<generator object get_formatted_data at 0x0000021FFEF07248>\nEmployeeDetails(employer='Hartmann-Schaden', department='Accounting', employee_id='38-2823318', ssn='777-05-1491')\n<generator object get_formatted_data at 0x0000021FFEF07248>\nEmployeeDetails(employer='Mohr-Tromp', department='Services', employee_id='22-3680088', ssn='777-94-4586')\n<generator object get_formatted_data at 0x0000021FFEF07248>\nEmployeeDetails(employer='\"Emmerich', department=' Auer and Howe\"', employee_id='Accounting', ssn='41-1699228')\n<generator object get_formatted_data at 0x0000021FFEF07248>\nEmployeeDetails(employer='\"Gulgowski', department=' Carroll and Sauer\"', employee_id='Training', ssn='27-6046833')\n<generator object get_formatted_data at 0x0000021FFEF07248>\nEmployeeDetails(employer='\"Murray', department=' Boyle and Bashirian\"', employee_id='Sales', ssn='83-5303621')\n<generator object get_formatted_data at 0x0000021FFEF07248>\nEmployeeDetails(employer='Fisher-Collier', department='Marketing', employee_id='58-3884885', ssn='784-88-0730')\n<generator object get_formatted_data at 0x0000021FFEF07248>\nEmployeeDetails(employer='Cruickshank-Bechtelar', department='Research and Development', employee_id='09-8549621', ssn='786-56-3561')\n<generator object get_formatted_data at 0x0000021FFEF07248>\nEmployeeDetails(employer='Funk Inc', department='Accounting', employee_id='60-3943212', ssn='787-05-9008')\n<generator object get_formatted_data at 0x0000021FFEF07248>\nEmployeeDetails(employer='\"Collins', department=' Blick and Rippin\"', employee_id='Marketing', ssn='09-1706408')\n<generator object get_formatted_data at 0x0000021FFEF07248>\nEmployeeDetails(employer='Hayes-Rutherford', department='Product Management', employee_id='94-7076951', ssn='789-70-1821')\n<generator object get_formatted_data at 0x0000021FFEF07248>\nEmployeeDetails(employer='Rempel-Weissnat', department='Business Development', employee_id='02-0335898', ssn='792-71-8046')\n<generator object get_formatted_data at 0x0000021FFEF07248>\nEmployeeDetails(employer='Rau-Schmidt', department='Legal', employee_id='39-8891615', ssn='795-56-6486')\n<generator object get_formatted_data at 0x0000021FFEF07248>\nEmployeeDetails(employer='Jerde-Nitzsche', department='Engineering', employee_id='76-5567281', ssn='797-05-2289')\n<generator object get_formatted_data at 0x0000021FFEF07248>\nEmployeeDetails(employer='Walker-Lemke', department='Research and Development', employee_id='52-0032929', ssn='797-65-2382')\n<generator object get_formatted_data at 0x0000021FFEF07248>\nEmployeeDetails(employer='Hartmann Group', department='Services', employee_id='92-8673485', ssn='798-34-1082')\n<generator object get_formatted_data at 0x0000021FFEF07248>\nEmployeeDetails(employer='Schuppe LLC', department='Training', employee_id='09-5823092', ssn='800-06-9721')\n<generator object get_formatted_data at 0x0000021FFEF07248>\nEmployeeDetails(employer='Lesch LLC', department='Support', employee_id='66-9572760', ssn='801-92-6460')\n<generator object get_formatted_data at 0x0000021FFEF07248>\nEmployeeDetails(employer='\"Nitzsche', department=' Kilback and Abernathy\"', employee_id='Services', ssn='79-2655397')\n<generator object get_formatted_data at 0x0000021FFEF07248>\nEmployeeDetails(employer='King Inc', department='Marketing', employee_id='28-4538440', ssn='807-24-6202')\n<generator object get_formatted_data at 0x0000021FFEF07248>\nEmployeeDetails(employer='Schneider-Effertz', department='Product Management', employee_id='53-4269406', ssn='807-35-8936')\n<generator object get_formatted_data at 0x0000021FFEF07248>\nEmployeeDetails(employer='\"Mayert', department=' Mueller and Stamm\"', employee_id='Sales', ssn='23-5127432')\n<generator object get_formatted_data at 0x0000021FFEF07248>\nEmployeeDetails(employer='\"Cronin', department=' Reilly and Wilderman\"', employee_id='Legal', ssn='03-8800554')\n<generator object get_formatted_data at 0x0000021FFEF07248>\nEmployeeDetails(employer='\"Nienow', department=' Gaylord and Hartmann\"', employee_id='Services', ssn='41-2452184')\n<generator object get_formatted_data at 0x0000021FFEF07248>\nEmployeeDetails(employer='Schultz LLC', department='Product Management', employee_id='58-2106819', ssn='813-47-5215')\n<generator object get_formatted_data at 0x0000021FFEF07248>\nEmployeeDetails(employer='Hilll Inc', department='Product Management', employee_id='13-3299629', ssn='816-31-3858')\n<generator object get_formatted_data at 0x0000021FFEF07248>\nEmployeeDetails(employer='Waelchi-MacGyver', department='Training', employee_id='17-3761486', ssn='816-90-2049')\n<generator object get_formatted_data at 0x0000021FFEF07248>\nEmployeeDetails(employer='Kilback Group', department='Training', employee_id='00-0438990', ssn='817-25-7437')\n<generator object get_formatted_data at 0x0000021FFEF07248>\nEmployeeDetails(employer='\"Kovacek', department=' Effertz and Kihn\"', employee_id='Business Development', ssn='49-0909555')\n<generator object get_formatted_data at 0x0000021FFEF07248>\nEmployeeDetails(employer='Reichel and Sons', department='Human Resources', employee_id='15-1566614', ssn='819-64-1414')\n<generator object get_formatted_data at 0x0000021FFEF07248>\nEmployeeDetails(employer='\"Crona', department=' Bogan and Beatty\"', employee_id='Business Development', ssn='00-3394171')\n<generator object get_formatted_data at 0x0000021FFEF07248>\nEmployeeDetails(employer='\"Kemmer', department=' Rolfson and Marquardt\"', employee_id='Sales', ssn='60-7054525')\n<generator object get_formatted_data at 0x0000021FFEF07248>\nEmployeeDetails(employer='Marquardt Group', department='Human Resources', employee_id='30-1833919', ssn='824-89-4169')\n<generator object get_formatted_data at 0x0000021FFEF07248>\nEmployeeDetails(employer='\"Marquardt', department=' Wehner and Heathcote\"', employee_id='Legal', ssn='00-8910869')\n<generator object get_formatted_data at 0x0000021FFEF07248>\nEmployeeDetails(employer='\"Bashirian', department=' Beer and Bailey\"', employee_id='Engineering', ssn='38-3479804')\n<generator object get_formatted_data at 0x0000021FFEF07248>\nEmployeeDetails(employer='Johnson Group', department='Sales', employee_id='67-3262618', ssn='835-54-3785')\n<generator object get_formatted_data at 0x0000021FFEF07248>\nEmployeeDetails(employer='Moore-Funk', department='Research and Development', employee_id='04-9339587', ssn='836-99-3309')\n<generator object get_formatted_data at 0x0000021FFEF07248>\nEmployeeDetails(employer='Hermann and Sons', department='Training', employee_id='60-8507863', ssn='838-69-1351')\n<generator object get_formatted_data at 0x0000021FFEF07248>\nEmployeeDetails(employer='Walsh and Sons', department='Legal', employee_id='43-4857392', ssn='841-64-8517')\n<generator object get_formatted_data at 0x0000021FFEF07248>\nEmployeeDetails(employer='Rohan-Nicolas', department='Support', employee_id='75-3856459', ssn='844-15-4668')\n<generator object get_formatted_data at 0x0000021FFEF07248>\nEmployeeDetails(employer='Lesch LLC', department='Marketing', employee_id='65-3499297', ssn='846-07-1407')\n<generator object get_formatted_data at 0x0000021FFEF07248>\nEmployeeDetails(employer='Rolfson and Sons', department='Product Management', employee_id='59-8318028', ssn='846-59-9961')\n<generator object get_formatted_data at 0x0000021FFEF07248>\nEmployeeDetails(employer='Dibbert LLC', department='Support', employee_id='03-7617020', ssn='847-61-7656')\n<generator object get_formatted_data at 0x0000021FFEF07248>\nEmployeeDetails(employer='Macejkovic and Sons', department='Support', employee_id='52-0638791', ssn='848-74-2886')\n<generator object get_formatted_data at 0x0000021FFEF07248>\nEmployeeDetails(employer='\"Yundt', department=' Wehner and Brown\"', employee_id='Legal', ssn='55-0777439')\n<generator object get_formatted_data at 0x0000021FFEF07248>\nEmployeeDetails(employer='Flatley-Huel', department='Sales', employee_id='59-0940865', ssn='849-98-2973')\n<generator object get_formatted_data at 0x0000021FFEF07248>\nEmployeeDetails(employer='Conn Group', department='Training', employee_id='09-7105416', ssn='852-15-7707')\n<generator object get_formatted_data at 0x0000021FFEF07248>\nEmployeeDetails(employer='Barrows Inc', department='Product Management', employee_id='06-3741043', ssn='853-47-3648')\n<generator object get_formatted_data at 0x0000021FFEF07248>\nEmployeeDetails(employer='Blanda-Ferry', department='Product Management', employee_id='74-9087432', ssn='854-71-2983')\n<generator object get_formatted_data at 0x0000021FFEF07248>\nEmployeeDetails(employer='\"Baumbach', department=' Jenkins and Russel\"', employee_id='Product Management', ssn='39-4882068')\n<generator object get_formatted_data at 0x0000021FFEF07248>\nEmployeeDetails(employer='\"Kassulke', department=' Ritchie and Braun\"', employee_id='Accounting', ssn='06-1382466')\n<generator object get_formatted_data at 0x0000021FFEF07248>\nEmployeeDetails(employer='Stark-Pouros', department='Training', employee_id='53-7456817', ssn='858-03-7735')\n<generator object get_formatted_data at 0x0000021FFEF07248>\nEmployeeDetails(employer='Williamson-Lemke', department='Accounting', employee_id='80-9563373', ssn='860-67-0256')\n<generator object get_formatted_data at 0x0000021FFEF07248>\nEmployeeDetails(employer='Stokes Inc', department='Training', employee_id='12-6635955', ssn='861-50-6716')\n<generator object get_formatted_data at 0x0000021FFEF07248>\nEmployeeDetails(employer='\"Thiel', department=' Parker and Hilpert\"', employee_id='Marketing', ssn='20-2324966')\n<generator object get_formatted_data at 0x0000021FFEF07248>\nEmployeeDetails(employer='Bartoletti Inc', department='Support', employee_id='77-7239839', ssn='866-18-1440')\n<generator object get_formatted_data at 0x0000021FFEF07248>\nEmployeeDetails(employer='Nitzsche-Walker', department='Engineering', employee_id='50-5681388', ssn='867-11-6007')\n<generator object get_formatted_data at 0x0000021FFEF07248>\nEmployeeDetails(employer='Emard Inc', department='Business Development', employee_id='49-2589434', ssn='867-88-2360')\n<generator object get_formatted_data at 0x0000021FFEF07248>\nEmployeeDetails(employer='\"Thompson', department=' Parker and Moen\"', employee_id='Research and Development', ssn='46-1484106')\n<generator object get_formatted_data at 0x0000021FFEF07248>\nEmployeeDetails(employer='\"Lueilwitz', department=' Stokes and Kassulke\"', employee_id='Marketing', ssn='16-1937114')\n<generator object get_formatted_data at 0x0000021FFEF07248>\nEmployeeDetails(employer='Cummings-Mertz', department='Sales', employee_id='78-2291834', ssn='872-49-1288')\n<generator object get_formatted_data at 0x0000021FFEF07248>\nEmployeeDetails(employer='Schultz-Medhurst', department='Support', employee_id='56-6050344', ssn='875-18-9454')\n<generator object get_formatted_data at 0x0000021FFEF07248>\nEmployeeDetails(employer='\"Witting', department=' Schuster and Barton\"', employee_id='Research and Development', ssn='54-4161357')\n<generator object get_formatted_data at 0x0000021FFEF07248>\nEmployeeDetails(employer='\"Daugherty', department=' Gislason and Kreiger\"', employee_id='Training', ssn='25-5973403')\n<generator object get_formatted_data at 0x0000021FFEF07248>\nEmployeeDetails(employer='Schumm Inc', department='Services', employee_id='18-8360445', ssn='881-95-7180')\n<generator object get_formatted_data at 0x0000021FFEF07248>\nEmployeeDetails(employer='\"Stanton', department=' Price and Wehner\"', employee_id='Services', ssn='16-5769119')\n<generator object get_formatted_data at 0x0000021FFEF07248>\nEmployeeDetails(employer='Terry and Sons', department='Research and Development', employee_id='06-9390159', ssn='887-83-9002')\n<generator object get_formatted_data at 0x0000021FFEF07248>\nEmployeeDetails(employer='\"Collier', department=' Hilll and Hagenes\"', employee_id='Training', ssn='15-6651242')\n<generator object get_formatted_data at 0x0000021FFEF07248>\nEmployeeDetails(employer='\"Heller', department=' Kihn and Bartoletti\"', employee_id='Research and Development', ssn='56-9393666')\n<generator object get_formatted_data at 0x0000021FFEF07248>\nEmployeeDetails(employer='Orn Inc', department='Human Resources', employee_id='38-4356300', ssn='893-17-7318')\n<generator object get_formatted_data at 0x0000021FFEF07248>\nEmployeeDetails(employer='\"Hilll', department=' Kunze and Beer\"', employee_id='Human Resources', ssn='90-4168298')\n<generator object get_formatted_data at 0x0000021FFEF07248>\nEmployeeDetails(employer='Reilly-Jakubowski', department='Marketing', employee_id='77-6363112', ssn='897-76-7070')\n<generator object get_formatted_data at 0x0000021FFEF07248>\nEmployeeDetails(employer='Olson-Johnson', department='Support', employee_id='36-7761827', ssn='898-86-8860')\n<generator object get_formatted_data at 0x0000021FFEF07248>\nEmployeeDetails(employer='Little-Hansen', department='Business Development', employee_id='45-8154226', ssn='899-39-7179')\n<generator object get_formatted_data at 0x0000021FFEF07248>\nEmployeeDetails(employer='Bednar LLC', department='Support', employee_id='16-6342889', ssn='899-47-6116')\n<generator object get_formatted_data at 0x0000021FFEF07248>\n"
     ]
    }
   ],
   "source": [
    "pemployee = iter_employee()\n",
    "for i in pemployee:\n",
    "    print(i)"
   ]
  }
 ]
}