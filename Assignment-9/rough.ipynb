{
 "metadata": {
  "language_info": {
   "codemirror_mode": {
    "name": "ipython",
    "version": 3
   },
   "file_extension": ".py",
   "mimetype": "text/x-python",
   "name": "python",
   "nbconvert_exporter": "python",
   "pygments_lexer": "ipython3",
   "version": "3.7.6-final"
  },
  "orig_nbformat": 2,
  "kernelspec": {
   "name": "python3",
   "display_name": "Python 3"
  }
 },
 "nbformat": 4,
 "nbformat_minor": 2,
 "cells": [
  {
   "cell_type": "code",
   "execution_count": 1,
   "metadata": {},
   "outputs": [
    {
     "output_type": "execute_result",
     "data": {
      "text/plain": "'Write separate decorators that:\\n1. allows a function to run only on odd seconds - 100pts\\n2. log - 100pts\\n3. authenticate - 300pts\\n4. timed (n times) - 100pts\\n5. Provides privilege access (has 4 parameters, based on privileges (high, mid, low, no), gives access to all 4, 3, 2 or 1 params) - 200pts\\nWrite our htmlize code using inbuild singledispatch - 100pts'"
     },
     "metadata": {},
     "execution_count": 1
    }
   ],
   "source": [
    "\"\"\"Write separate decorators that:\n",
    "1. allows a function to run only on odd seconds - 100pts\n",
    "2. log - 100pts\n",
    "3. authenticate - 300pts\n",
    "4. timed (n times) - 100pts\n",
    "5. Provides privilege access (has 4 parameters, based on privileges (high, mid, low, no), gives access to all 4, 3, 2 or 1 params) - 200pts\n",
    "Write our htmlize code using inbuild singledispatch - 100pts\"\"\""
   ]
  },
  {
   "cell_type": "code",
   "execution_count": 73,
   "metadata": {},
   "outputs": [],
   "source": [
    "import time\n",
    "from time import perf_counter\n",
    "import pandas as pd\n",
    "from functools import wraps\n",
    "from datetime import datetime\n",
    "from numbers import Integral\n",
    "from collections.abc import Sequence, Set \n",
    "from decimal import Decimal\n",
    "from functools import singledispatch\n",
    "from html import escape\n",
    "import time\n",
    "\n",
    "\n",
    "def run_oddsec(fn):\n",
    "\n",
    "    def check_run(*args, sec = None, **kwargs):\n",
    "        if sec is None:\n",
    "            sec = datetime.now().second\n",
    "        print('time checknow', sec)\n",
    "        if sec % 2 != 0:\n",
    "            print(\"Func runs now - odd sec\")\n",
    "            return fn(*args, **kwargs)\n",
    "        else:\n",
    "            print('Even second, not running now')\n",
    "    return check_run\n",
    "\n",
    "@run_oddsec\n",
    "def add(*args):\n",
    "    return sum(args)\n",
    "\n",
    "# HTMLIZE\n",
    "\n",
    "@singledispatch\n",
    "def htmlize(obj):\n",
    "    return escape(str(obj))\n",
    "\n",
    "@htmlize.register(Integral)\n",
    "def html_real(a):\n",
    "    return f'{round(a, 2)}'\n",
    "\n",
    "@htmlize.register(float)\n",
    "def html_real(a):\n",
    "    return f'{round(a, 2)}'\n",
    "\n",
    "@htmlize.register(Decimal)\n",
    "def html_real(a):\n",
    "    return f'{round(a, 2)}'\n",
    "\n",
    "@htmlize.register(str)\n",
    "def html_str(s):\n",
    "    return escape(s).replace('\\n', '<br/>\\n')\n",
    "\n",
    "@htmlize.register(tuple)\n",
    "@htmlize.register(list)\n",
    "def html_sequence(l):\n",
    "    items = (f'<li>{htmlize(item)}</li>' for item in l)\n",
    "    return '<ul>\\n' + '\\n'.join(items) + '\\n</ul>'\n",
    "\n",
    "@htmlize.register(dict)\n",
    "def html_dict(d):\n",
    "    items = (f'<li>{k}={v}</li>' for k, v in d.items())\n",
    "    return '<ul>\\n' + '\\n'.join(items) + '\\n</ul>'\n",
    "\n",
    "# Log of functions\n",
    "\n",
    "def logger(fn):\n",
    "    '''Decorator takes care of function stats'''\n",
    "\n",
    "    stats_dict = dict()\n",
    "\n",
    "    @wraps(fn)\n",
    "    def store_stats(*args, **kwargs):\n",
    "        func_started = time.perf_counter()\n",
    "        stats_dict[\"func_started\"] = datetime.now()\n",
    "        fn(*args, **kwargs)\n",
    "        stats_dict[\"func_ended\"] = datetime.now()\n",
    "        func_ended = time.perf_counter()\n",
    "        stats_dict[\"run_time\"] = func_ended - func_started\n",
    "        stats_dict[\"func_name\"] = fn.__name__\n",
    "        stats_dict[\"func_docstr\"] = fn.__doc__\n",
    "\n",
    "        return stats_dict\n",
    "\n",
    "    return store_stats\n",
    "\n",
    "@logger\n",
    "def check_logger():\n",
    "    a = 1\n",
    "    for i in range(1000):\n",
    "        a = a**i\n",
    "        \n",
    "\n",
    "# Authenticate\n",
    "def set_password(password=None):\n",
    "    '''Sets the default password if no values are supplied\n",
    "    :args password: str\n",
    "    :returns inner: closure function\n",
    "    '''\n",
    "    def inner():\n",
    "        nonlocal password\n",
    "        if password == None:\n",
    "            password = 'tsaiRocks123'\n",
    "        return hash(password)\n",
    "    return inner\n",
    "\n",
    "@authenticate\n",
    "def add_auth(*args):\n",
    "    return sum(args)\n",
    "\n",
    "def authenticate(fn):\n",
    "    '''Decorator to check for the authentication before accessing any functions'''\n",
    "\n",
    "    def check_creds(user_password, in_password, *args, **kwargs):\n",
    "        if user_password() != hash(in_password):\n",
    "            print('Bhai isko hack karke kya hi achive kar lega life mai')\n",
    "\n",
    "        else:\n",
    "            print('suer Authenticated')\n",
    "            print(f\"Function {fn.__name__} is called\")\n",
    "            return fn(*args)\n",
    "    return check_creds\n",
    "\n",
    "\n",
    "\n",
    "# Admin stuff\n",
    "\n",
    "def sod(fn):\n",
    "    '''Maps the user's and returns information applicable to him'''\n",
    "    dict_priv = {\n",
    "\n",
    "    1: [\"Emp_Names\"],\n",
    "    2: [\"Emp_Names\", \"Priviledge\", \"Money\"],\n",
    "    3: [\"Emp_Names\", \"Priviledge\", \"Money\", \"ID\"],\n",
    "    4: [\"Emp_Names\", \"Priviledge\", \"ID\", \"Useless_Info\"]\n",
    "    }\n",
    "    \n",
    "    @wraps(fn)\n",
    "    def check_priv(emp_name, df):\n",
    "        '''Returns dataframe output based on user's priviledges'''\n",
    "        if emp_name in df.values:\n",
    "            priv_no = df.loc[df['Emp_Names'] == emp_name][\"Priviledge\"]\n",
    "            priv_no = (priv_no.item())\n",
    "            return df[dict_priv[priv_no]]\n",
    "        else:\n",
    "            print('Employee data not in system, please double check')\n",
    "    return check_priv\n",
    "\n",
    "@sod\n",
    "def check_userdata(emp_name):\n",
    "    return None\n",
    "\n",
    "\n",
    "def timed(n_times: int):\n",
    "    '''Logs the function for n times'''\n",
    "    def outer(fn):\n",
    "        \n",
    "        def inner(*args, **kwargs):\n",
    "            total_elapsed = 0\n",
    "            for i in range(n_times):\n",
    "                timer_start  = perf_counter()\n",
    "                fn(*args, **kwargs)\n",
    "                total_elapsed  += (perf_counter() - timer_start)\n",
    "            \n",
    "            avg_time = total_elapsed/n_times\n",
    "            print('Avg Run time: {0:.6f}s ({1} reps)'.format(avg_time, n_times))\n",
    "            return avg_time\n",
    "        return inner\n",
    "    return outer\n",
    "\n",
    "@timed(100)\n",
    "def square(a):\n",
    "    '''Tests timed funtion by squaring a no n times'''\n",
    "    a = a**2"
   ]
  },
  {
   "cell_type": "code",
   "execution_count": 2,
   "metadata": {},
   "outputs": [],
   "source": [
    "from time import perf_counter\n",
    "def timed(n_times: int):\n",
    "    '''Logs the function for n times'''\n",
    "    def outer(fn):\n",
    "        \n",
    "\n",
    "        def inner(*args, **kwargs):\n",
    "            total_elapsed = 0\n",
    "            for i in range(n_times):\n",
    "                timer_start  = perf_counter()\n",
    "                fn(*args, **kwargs)\n",
    "                total_elapsed  += (perf_counter() - timer_start)\n",
    "            \n",
    "            avg_time = total_elapsed/n_times\n",
    "            print('Avg Run time: {0:.6f}s ({1} reps)'.format(avg_time, n_times))\n",
    "            return avg_time\n",
    "        return inner\n",
    "    return outer\n",
    "\n",
    "@timed(100)\n",
    "def square(a):\n",
    "    '''Tests timed funtion by squaring a no n times'''\n",
    "    a = a**2"
   ]
  },
  {
   "cell_type": "code",
   "execution_count": 22,
   "metadata": {},
   "outputs": [],
   "source": [
    "@timed(100)\n",
    "def square(a):\n",
    "    a = a**2"
   ]
  },
  {
   "cell_type": "code",
   "execution_count": 3,
   "metadata": {
    "tags": []
   },
   "outputs": [
    {
     "output_type": "stream",
     "name": "stdout",
     "text": "Avg Run time: 0.000001s (100 reps)\n"
    }
   ],
   "source": [
    "def check_timed():\n",
    "    total = 0\n",
    "    assert type(square(2)) == float, \"Checks the return value of avg time taken for 100 reps\"\n",
    "check_timed()"
   ]
  },
  {
   "cell_type": "code",
   "execution_count": 25,
   "metadata": {
    "tags": []
   },
   "outputs": [
    {
     "output_type": "execute_result",
     "data": {
      "text/plain": "float"
     },
     "metadata": {},
     "execution_count": 25
    }
   ],
   "source": [
    "type(a)"
   ]
  },
  {
   "cell_type": "code",
   "execution_count": 59,
   "metadata": {
    "tags": []
   },
   "outputs": [
    {
     "output_type": "stream",
     "name": "stdout",
     "text": "time checknow 34\nEven second, not running now\ntime checknow 33\nFunc runs now - odd sec\ntime checknow 0\nEven second, not running now\ntime checknow 0\nEven second, not running now\nsuer Authenticated\nFunction add_auth is called\nBhai isko hack karke kya hi achive kar lega life mai\n"
    }
   ],
   "source": [
    "def test_add_evensec():\n",
    "    assert add(1,3, sec=34) == None, \"Function runs at even second, not cool\"\n",
    "    assert add(1,3, sec=33) == 4, \"Function runs at odd second, so cool\"\n",
    "    assert add(1,2,3) == 6 or add(1,2,3) == None, \"Function works perfectly fine\"\n",
    "\n",
    "def test_logger():\n",
    "    '''Checks if logger function returns a dictionary'''\n",
    "    assert type(check_logger()) == dict, \"No logging dictionary returned\"\n",
    "\n",
    "\n",
    "def test_sod():\n",
    "    '''Creates a dataframe that follows the template and adds data to check sod function'''\n",
    "\n",
    "    data = { \"Emp_Names\":['Nikhil','Naman', 'Ad', 'SupAd'],\n",
    "            \"ID\": [1,2,3,4],\n",
    "            \"Priviledge\": [1,2,3,4], \n",
    "            \"Money\": [\"Bohotkam\", \"Bohotzada\", \"Mat hi poocho\", \"Paisa kya hota hai\"],\n",
    "            \"Useless_Info\": ['sdfsadg', 'srtwtrew', 'kyukuiuy', 'gjkgjh']}\n",
    "\n",
    "    df = pd.DataFrame(data, columns = ['Emp_Names', \"Priviledge\", \"Money\", \"ID\", \"Useless_Info\"])\n",
    "    assert check_userdata('Nikhil', df).equals(df[['Emp_Names']]) == True\n",
    "    assert check_userdata('Naman', df).equals(df[['Emp_Names',\"Priviledge\", \"Money\"]]) == True\n",
    "    assert check_userdata('Ad', df).equals(df[['Emp_Names',\"Priviledge\", \"Money\", \"ID\"]]) == True\n",
    "    assert check_userdata('SupAd', df).equals(df[['Emp_Names',\"Priviledge\", \"ID\",  \"Useless_Info\"]]) == True\n",
    "    \n",
    "\n",
    "def test_authentication():\n",
    "    '''Checks the authentication by setting a password and calling the function'''\n",
    "    user_password = set_password()\n",
    "    assert add_auth(user_password, 'tsaiRocks123', 1,2) == 3\n",
    "    assert add_auth(user_password, 'dfdssdf', 1,2) == None\n",
    "\n",
    "\n",
    "def test_htmlize():\n",
    "    '''Validates different html syntax implementations of htmlize functions'''\n",
    "    assert htmlize([2,3]) == '<ul>\\n<li>2</li>\\n<li>3</li>\\n</ul>'\n",
    "    assert htmlize(1/3) == str(round(1/3,2))\n",
    "    assert htmlize({1:1,2:2}) == '<ul>\\n<li>1=1</li>\\n<li>2=2</li>\\n</ul>'\n",
    "\n",
    "\n",
    "def check_timed():\n",
    "    '''Checks the returned values of timed function'''\n",
    "    assert type(square(2)) == float, \"Checks the return value of avg time taken for 100 reps\"\n"
   ]
  },
  {
   "cell_type": "code",
   "execution_count": 71,
   "metadata": {},
   "outputs": [],
   "source": [
    "def test_htmlize():\n",
    "    '''Validates different html syntax implementations of htmlize functions'''\n",
    "    assert htmlize([2,3]) == '<ul>\\n<li>2</li>\\n<li>3</li>\\n</ul>'\n",
    "    assert htmlize(1/3) == str(round(1/3,2))\n",
    "    assert htmlize({1:1,2:2}) == '<ul>\\n<li>1=1</li>\\n<li>2=2</li>\\n</ul>'\n",
    "\n",
    "test_htmlize()"
   ]
  },
  {
   "cell_type": "code",
   "execution_count": 69,
   "metadata": {},
   "outputs": [
    {
     "output_type": "execute_result",
     "data": {
      "text/plain": "'<ul>\\n<li>1=1</li>\\n<li>2=2</li>\\n</ul>'"
     },
     "metadata": {},
     "execution_count": 69
    }
   ],
   "source": [
    "htmlize({1:1,2:2})"
   ]
  }
 ]
}