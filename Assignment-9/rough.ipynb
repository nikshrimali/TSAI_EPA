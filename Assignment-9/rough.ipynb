{
 "metadata": {
  "language_info": {
   "codemirror_mode": {
    "name": "ipython",
    "version": 3
   },
   "file_extension": ".py",
   "mimetype": "text/x-python",
   "name": "python",
   "nbconvert_exporter": "python",
   "pygments_lexer": "ipython3",
   "version": "3.7.6-final"
  },
  "orig_nbformat": 2,
  "kernelspec": {
   "name": "python_defaultSpec_1600664557037",
   "display_name": "Python 3.7.6 64-bit ('pytorch': conda)"
  }
 },
 "nbformat": 4,
 "nbformat_minor": 2,
 "cells": [
  {
   "cell_type": "code",
   "execution_count": 1,
   "metadata": {},
   "outputs": [
    {
     "output_type": "execute_result",
     "data": {
      "text/plain": "'Write separate decorators that:\\n1. allows a function to run only on odd seconds - 100pts\\n2. log - 100pts\\n3. authenticate - 300pts\\n4. timed (n times) - 100pts\\n5. Provides privilege access (has 4 parameters, based on privileges (high, mid, low, no), gives access to all 4, 3, 2 or 1 params) - 200pts\\nWrite our htmlize code using inbuild singledispatch - 100pts'"
     },
     "metadata": {},
     "execution_count": 1
    }
   ],
   "source": [
    "\"\"\"Write separate decorators that:\n",
    "1. allows a function to run only on odd seconds - 100pts\n",
    "2. log - 100pts\n",
    "3. authenticate - 300pts\n",
    "4. timed (n times) - 100pts\n",
    "5. Provides privilege access (has 4 parameters, based on privileges (high, mid, low, no), gives access to all 4, 3, 2 or 1 params) - 200pts\n",
    "Write our htmlize code using inbuild singledispatch - 100pts\"\"\""
   ]
  },
  {
   "cell_type": "code",
   "execution_count": 156,
   "metadata": {},
   "outputs": [],
   "source": [
    "import time\n",
    "from time import perf_counter\n",
    "\n",
    "def run_oddsec(fn):\n",
    "\n",
    "    def check_run():\n",
    "        check_timenow = round(perf_counter(),0)\n",
    "        print('time checknow' ,check_timenow)\n",
    "\n",
    "        if check_timenow % 2 == 0:\n",
    "            print(\"Func runs now - even sec\")\n",
    "            fn()\n",
    "    \n",
    "    return check_run"
   ]
  },
  {
   "cell_type": "code",
   "execution_count": 160,
   "metadata": {
    "tags": []
   },
   "outputs": [],
   "source": [
    "@run_oddsec\n",
    "def add():\n",
    "    print (1+2)"
   ]
  },
  {
   "cell_type": "code",
   "execution_count": 161,
   "metadata": {
    "tags": []
   },
   "outputs": [
    {
     "output_type": "stream",
     "name": "stdout",
     "text": "time checknow 1292.0\nFunc runs now - even sec\n3\n"
    },
    {
     "output_type": "execute_result",
     "data": {
      "text/plain": "NoneType"
     },
     "metadata": {},
     "execution_count": 161
    }
   ],
   "source": [
    "type(add())"
   ]
  },
  {
   "cell_type": "code",
   "execution_count": 168,
   "metadata": {},
   "outputs": [],
   "source": [
    "# Log of functions\n",
    "\n",
    "def logger(fn):\n",
    "    '''Decorator takes care of function stats'''\n",
    "\n",
    "    from functools import wraps\n",
    "    stats_dict = dict()\n",
    "\n",
    "    @wraps(fn)\n",
    "    def store_stats():\n",
    "        stats_dict[\"func_started\"] = time.perf_counter()\n",
    "        fn()\n",
    "        stats_dict[\"func_ended\"] = time.perf_counter()\n",
    "        stats_dict[\"run_time\"] = stats_dict[\"func_ended\"]  - stats_dict[\"func_started\"]\n",
    "        stats_dict[\"func_name\"] = fn.__name__\n",
    "        stats_dict[\"func_docstr\"] = fn.__doc__\n",
    "\n",
    "        return stats_dict\n",
    "\n",
    "    return store_stats"
   ]
  },
  {
   "cell_type": "code",
   "execution_count": 169,
   "metadata": {},
   "outputs": [],
   "source": [
    "@logger\n",
    "def add():\n",
    "    print (1+2)"
   ]
  },
  {
   "cell_type": "code",
   "execution_count": 170,
   "metadata": {
    "tags": []
   },
   "outputs": [
    {
     "output_type": "stream",
     "name": "stdout",
     "text": "3\n"
    },
    {
     "output_type": "execute_result",
     "data": {
      "text/plain": "{'func_started': 1843.1067292,\n 'func_ended': 1843.1067681,\n 'run_time': 3.889999993589299e-05,\n 'func_name': 'add',\n 'func_docstr': None}"
     },
     "metadata": {},
     "execution_count": 170
    }
   ],
   "source": [
    "add()"
   ]
  },
  {
   "cell_type": "code",
   "execution_count": 193,
   "metadata": {},
   "outputs": [],
   "source": [
    "# authenticate - 300pts\n",
    "\n",
    "def authenticate(fn):\n",
    "    '''Decorator to check for the authentication before accessing any functions'''\n",
    "\n",
    "    def check_creds(*, user_password, in_password:str):\n",
    "        if user_password() != hash(in_password):\n",
    "            print('Bhai isko hack karke kya hi achive kar lega life mai')\n",
    "\n",
    "        else:\n",
    "            print('suer Authenticated')\n",
    "            print(f\"Function {fn.__name__} is called\")\n",
    "            return fn()\n",
    "    return check_creds"
   ]
  },
  {
   "cell_type": "code",
   "execution_count": 198,
   "metadata": {},
   "outputs": [
    {
     "output_type": "error",
     "ename": "TypeError",
     "evalue": "authenticate() takes 1 positional argument but 2 were given",
     "traceback": [
      "\u001b[1;31m---------------------------------------------------------------------------\u001b[0m",
      "\u001b[1;31mTypeError\u001b[0m                                 Traceback (most recent call last)",
      "\u001b[1;32m<ipython-input-198-88eba8e21950>\u001b[0m in \u001b[0;36m<module>\u001b[1;34m\u001b[0m\n\u001b[1;32m----> 1\u001b[1;33m \u001b[0mauthenticate\u001b[0m\u001b[1;33m(\u001b[0m\u001b[0mprint\u001b[0m\u001b[1;33m,\u001b[0m \u001b[0muser_password\u001b[0m\u001b[1;33m)\u001b[0m\u001b[1;33m\u001b[0m\u001b[1;33m\u001b[0m\u001b[0m\n\u001b[0m",
      "\u001b[1;31mTypeError\u001b[0m: authenticate() takes 1 positional argument but 2 were given"
     ]
    }
   ],
   "source": [
    "authenticate(print, user_password)"
   ]
  },
  {
   "cell_type": "code",
   "execution_count": 192,
   "metadata": {},
   "outputs": [],
   "source": [
    "def set_password(password=None):\n",
    "    def inner():\n",
    "        nonlocal password\n",
    "        if password == None:\n",
    "            password = input()\n",
    "        return hash(password)\n",
    "    return inner"
   ]
  },
  {
   "cell_type": "code",
   "execution_count": null,
   "metadata": {},
   "outputs": [],
   "source": []
  },
  {
   "cell_type": "code",
   "execution_count": 197,
   "metadata": {},
   "outputs": [],
   "source": [
    "user_password = set_password()"
   ]
  },
  {
   "cell_type": "code",
   "execution_count": 190,
   "metadata": {},
   "outputs": [
    {
     "output_type": "execute_result",
     "data": {
      "text/plain": "-361540255091132360"
     },
     "metadata": {},
     "execution_count": 190
    }
   ],
   "source": [
    "set_password()"
   ]
  },
  {
   "cell_type": "code",
   "execution_count": 172,
   "metadata": {},
   "outputs": [
    {
     "output_type": "execute_result",
     "data": {
      "text/plain": "-6481112204484497659"
     },
     "metadata": {},
     "execution_count": 172
    }
   ],
   "source": [
    "def random_adminstuff():\n",
    "    '''Provides privilege access (has 4 parameters, based on privileges (high, mid, low, no), gives access to all 4, 3, 2 or 1 params) - 200pts'''\n",
    "\n",
    "    privilege = {\"User\":1, \"Manager\":2, \"Admin\":3, \"SuperAdmin\":4}\n"
   ]
  },
  {
   "cell_type": "code",
   "execution_count": 32,
   "metadata": {},
   "outputs": [],
   "source": [
    "import pandas as pd\n",
    "data = { \"Emp_Names\":['Nikhil','Naman', 'Ad', 'SupAd'],\n",
    "        \"ID\": [1,2,3,4],\n",
    "        \"Priviledge\": [1,2,3,4 ], \n",
    "        \"Money\": [\"Bohotkam\", \"Bohotzada\", \"Mat hi poocho\", \"Paisa kya hota hai\"],\n",
    "        \"Useless_Info\": ['sdfsadg', 'srtwtrew', 'kyukuiuy', 'gjkgjh']}"
   ]
  },
  {
   "cell_type": "code",
   "execution_count": 33,
   "metadata": {},
   "outputs": [],
   "source": [
    "df = pd.DataFrame(data, columns = ['Emp_Names', \"Priviledge\", \"Money\", \"ID\", \"Useless_Info\"])"
   ]
  },
  {
   "cell_type": "code",
   "execution_count": 37,
   "metadata": {},
   "outputs": [
    {
     "output_type": "execute_result",
     "data": {
      "text/plain": "  Emp_Names  Priviledge     Money  ID Useless_Info\n0    Nikhil           1  Bohotkam   1      sdfsadg",
      "text/html": "<div>\n<style scoped>\n    .dataframe tbody tr th:only-of-type {\n        vertical-align: middle;\n    }\n\n    .dataframe tbody tr th {\n        vertical-align: top;\n    }\n\n    .dataframe thead th {\n        text-align: right;\n    }\n</style>\n<table border=\"1\" class=\"dataframe\">\n  <thead>\n    <tr style=\"text-align: right;\">\n      <th></th>\n      <th>Emp_Names</th>\n      <th>Priviledge</th>\n      <th>Money</th>\n      <th>ID</th>\n      <th>Useless_Info</th>\n    </tr>\n  </thead>\n  <tbody>\n    <tr>\n      <th>0</th>\n      <td>Nikhil</td>\n      <td>1</td>\n      <td>Bohotkam</td>\n      <td>1</td>\n      <td>sdfsadg</td>\n    </tr>\n  </tbody>\n</table>\n</div>"
     },
     "metadata": {},
     "execution_count": 37
    }
   ],
   "source": [
    "df.loc[df['Emp_Names'] == \"Nikhil\"]"
   ]
  },
  {
   "cell_type": "code",
   "execution_count": 98,
   "metadata": {},
   "outputs": [],
   "source": [
    "from functools import wraps\n",
    "def sod(fn):\n",
    "    '''Maps the user's and returns information applicable to him'''\n",
    "    dict_priv = {\n",
    "    1: [\"Emp_Names\"],\n",
    "    2: [\"Emp_Names\", \"Priviledge\", \"Money\"],\n",
    "    3: [\"Emp_Names\", \"Priviledge\", \"Money\", \"ID\"],\n",
    "    4: [\"Emp_Names\", \"Priviledge\", \"ID\", \"Useless_Info\"]}\n",
    "    \n",
    "    @wraps(fn)\n",
    "    def check_priv(emp_name):\n",
    "        '''Returns dataframe output based on user's priviledges'''\n",
    "        if emp_name in df.values:\n",
    "            priv_no = df.loc[df['Emp_Names'] == emp_name][\"Priviledge\"]\n",
    "            priv_no = (priv_no.item())\n",
    "            return df[dict_priv[priv_no]]\n",
    "        else:\n",
    "            print('Employee data not in system, please double check')\n",
    "    return check_priv"
   ]
  },
  {
   "cell_type": "code",
   "execution_count": 99,
   "metadata": {},
   "outputs": [],
   "source": [
    "@sod\n",
    "def check_userdata(emp_name):\n",
    "    print(\"abc\")"
   ]
  },
  {
   "cell_type": "code",
   "execution_count": 100,
   "metadata": {
    "tags": []
   },
   "outputs": [
    {
     "output_type": "stream",
     "name": "stdout",
     "text": "Employee data not in system, please double check\n"
    }
   ],
   "source": [
    "check_userdata(\"Nikil\")"
   ]
  },
  {
   "cell_type": "code",
   "execution_count": 91,
   "metadata": {},
   "outputs": [
    {
     "output_type": "execute_result",
     "data": {
      "text/plain": "False"
     },
     "metadata": {},
     "execution_count": 91
    }
   ],
   "source": [
    "# Timed function ( n times )\n",
    "\n",
    "def timed(reps):\n",
    "    "
   ]
  },
  {
   "cell_type": "code",
   "execution_count": 30,
   "metadata": {},
   "outputs": [
    {
     "output_type": "error",
     "ename": "NameError",
     "evalue": "name 'Emp_Names' is not defined",
     "traceback": [
      "\u001b[1;31m---------------------------------------------------------------------------\u001b[0m",
      "\u001b[1;31mNameError\u001b[0m                                 Traceback (most recent call last)",
      "\u001b[1;32m<ipython-input-30-8b52718b806e>\u001b[0m in \u001b[0;36m<module>\u001b[1;34m\u001b[0m\n\u001b[1;32m----> 1\u001b[1;33m \u001b[0mdf\u001b[0m\u001b[1;33m[\u001b[0m\u001b[0mEmp_Names\u001b[0m\u001b[1;33m]\u001b[0m \u001b[1;33m=\u001b[0m \u001b[1;34m\"Nikhil\"\u001b[0m\u001b[1;33m\u001b[0m\u001b[1;33m\u001b[0m\u001b[0m\n\u001b[0m",
      "\u001b[1;31mNameError\u001b[0m: name 'Emp_Names' is not defined"
     ]
    }
   ],
   "source": [
    "@htmlize.register(float)\n",
    "def html_real(a):\n",
    "    return f'{round(a, 2)}'\n",
    "\n",
    "from decimal import Decimal\n",
    "@htmlize.register(Decimal)\n",
    "def html_real(a):\n",
    "    return f'{round(a, 2)}'\n",
    "\n",
    "def html_escape(arg):\n",
    "    return escape(str(arg))\n",
    "\n",
    "@htmlize.register(str)\n",
    "def html_str(s):\n",
    "    return html_escape(s).replace('\\n', '<br/>\\n')\n",
    "\n",
    "@htmlize.register(tuple)\n",
    "@htmlize.register(list)\n",
    "def html_sequence(l):\n",
    "    items = (f'<li>{html_escape(item)}</li>' for item in l)\n",
    "    return '<ul>\\n' + '\\n'.join(items) + '\\n</ul>'\n",
    "\n",
    "@htmlize.register(dict)\n",
    "def html_dict(d):\n",
    "    items = (f'<li>{k}={v}</li>' for k, v in d.items())\n",
    "    return '<ul>\\n' + '\\n'.join(items) + '\\n</ul>'"
   ]
  }
 ]
}